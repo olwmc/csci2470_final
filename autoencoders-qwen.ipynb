{
 "cells": [
  {
   "cell_type": "markdown",
   "id": "ea55baec-0cab-4dbc-8958-7c43c287f470",
   "metadata": {},
   "source": [
    "Hypothesis: We might be representation bottlenecked and that might be contributing to our less than ideal performance. What if we start by pretraining our network to do autoencoding, chop off the decoder, and then do our metric learning on that"
   ]
  },
  {
   "cell_type": "code",
   "execution_count": 1,
   "id": "4219dad1-3960-4a7c-a817-8cbae0a95aae",
   "metadata": {},
   "outputs": [],
   "source": [
    "import transformer_lens\n",
    "from datasets import load_dataset\n",
    "import torch\n",
    "import matplotlib.pyplot as plt\n",
    "import pandas as pd\n",
    "import torch.nn as nn\n",
    "import numpy as np\n",
    "\n",
    "import torch.nn.functional as F\n",
    "\n",
    "from tqdm import tqdm\n",
    "\n",
    "import random"
   ]
  },
  {
   "cell_type": "code",
   "execution_count": 2,
   "id": "6df28cd2-1819-4efa-a7dc-7170952551e4",
   "metadata": {},
   "outputs": [],
   "source": [
    "seed = 42\n",
    "torch.manual_seed(42)\n",
    "random.seed(42)\n",
    "np.random.seed(42)"
   ]
  },
  {
   "cell_type": "code",
   "execution_count": 3,
   "id": "5f3a0b97-4219-4ed2-b83c-568c7e6d77aa",
   "metadata": {},
   "outputs": [],
   "source": [
    "# Load datasets\n",
    "train_set = load_dataset(\"sentence-transformers/stsb\", split=\"train\")\n",
    "val_set   = load_dataset(\"sentence-transformers/stsb\", split=\"validation\")\n",
    "test_set  = load_dataset(\"sentence-transformers/stsb\", split=\"test\")\n",
    "\n",
    "first_train  = torch.load('qwen2_05b_hook_resid_post_train_acts_1.npy')\n",
    "second_train = torch.load('qwen2_05b_hook_resid_post_train_acts_2.npy')\n",
    "\n",
    "first_test = torch.load('qwen2_05b_hook_resid_post_test_acts_1.npy')\n",
    "second_test = torch.load('qwen2_05b_hook_resid_post_test_acts_2.npy')\n",
    "\n",
    "wikitext_acts = torch.load('qwen2_20k_11162024.npy')\n",
    "\n",
    "train_scores = torch.Tensor(train_set['score'])\n",
    "test_scores = torch.Tensor(test_set['score'])"
   ]
  },
  {
   "cell_type": "code",
   "execution_count": 4,
   "id": "345b02cd-8fad-45a7-a04b-95c83e0689e9",
   "metadata": {},
   "outputs": [
    {
     "data": {
      "text/plain": [
       "(torch.Size([5749, 24, 896]),\n",
       " torch.Size([5749, 24, 896]),\n",
       " torch.Size([1379, 24, 896]),\n",
       " torch.Size([1379, 24, 896]),\n",
       " torch.Size([20000, 24, 896]))"
      ]
     },
     "execution_count": 4,
     "metadata": {},
     "output_type": "execute_result"
    }
   ],
   "source": [
    "first_train.shape, second_train.shape, first_test.shape, second_test.shape, wikitext_acts.shape"
   ]
  },
  {
   "cell_type": "code",
   "execution_count": 5,
   "id": "cee80f3b-034e-4c1b-99fc-cbec4583920e",
   "metadata": {},
   "outputs": [
    {
     "name": "stderr",
     "output_type": "stream",
     "text": [
      " 10%|█████████████████▌                                                                                                                                                             | 10/100 [02:03<18:36, 12.41s/it]"
     ]
    },
    {
     "name": "stdout",
     "output_type": "stream",
     "text": [
      "\n",
      "Epoch 10\n",
      "Train Losses - Early: 0.004, Mid: 0.015, Late: 0.131\n",
      "Test Losses  - Early: 0.026, Mid: 0.071, Late: 0.423\n"
     ]
    },
    {
     "name": "stderr",
     "output_type": "stream",
     "text": [
      " 20%|███████████████████████████████████                                                                                                                                            | 20/100 [04:06<16:20, 12.25s/it]"
     ]
    },
    {
     "name": "stdout",
     "output_type": "stream",
     "text": [
      "\n",
      "Epoch 20\n",
      "Train Losses - Early: 0.004, Mid: 0.013, Late: 0.112\n",
      "Test Losses  - Early: 0.023, Mid: 0.064, Late: 0.380\n"
     ]
    },
    {
     "name": "stderr",
     "output_type": "stream",
     "text": [
      " 30%|████████████████████████████████████████████████████▌                                                                                                                          | 30/100 [06:08<14:15, 12.22s/it]"
     ]
    },
    {
     "name": "stdout",
     "output_type": "stream",
     "text": [
      "\n",
      "Epoch 30\n",
      "Train Losses - Early: 0.003, Mid: 0.013, Late: 0.104\n",
      "Test Losses  - Early: 0.022, Mid: 0.062, Late: 0.362\n"
     ]
    },
    {
     "name": "stderr",
     "output_type": "stream",
     "text": [
      " 40%|██████████████████████████████████████████████████████████████████████                                                                                                         | 40/100 [08:10<12:17, 12.29s/it]"
     ]
    },
    {
     "name": "stdout",
     "output_type": "stream",
     "text": [
      "\n",
      "Epoch 40\n",
      "Train Losses - Early: 0.003, Mid: 0.012, Late: 0.100\n",
      "Test Losses  - Early: 0.022, Mid: 0.060, Late: 0.347\n"
     ]
    },
    {
     "name": "stderr",
     "output_type": "stream",
     "text": [
      " 50%|███████████████████████████████████████████████████████████████████████████████████████▌                                                                                       | 50/100 [10:13<10:13, 12.27s/it]"
     ]
    },
    {
     "name": "stdout",
     "output_type": "stream",
     "text": [
      "\n",
      "Epoch 50\n",
      "Train Losses - Early: 0.003, Mid: 0.012, Late: 0.097\n",
      "Test Losses  - Early: 0.021, Mid: 0.060, Late: 0.343\n"
     ]
    },
    {
     "name": "stderr",
     "output_type": "stream",
     "text": [
      " 60%|█████████████████████████████████████████████████████████████████████████████████████████████████████████                                                                      | 60/100 [12:17<08:13, 12.34s/it]"
     ]
    },
    {
     "name": "stdout",
     "output_type": "stream",
     "text": [
      "\n",
      "Epoch 60\n",
      "Train Losses - Early: 0.003, Mid: 0.012, Late: 0.095\n",
      "Test Losses  - Early: 0.021, Mid: 0.059, Late: 0.339\n"
     ]
    },
    {
     "name": "stderr",
     "output_type": "stream",
     "text": [
      " 70%|██████████████████████████████████████████████████████████████████████████████████████████████████████████████████████████▍                                                    | 70/100 [14:21<06:13, 12.44s/it]"
     ]
    },
    {
     "name": "stdout",
     "output_type": "stream",
     "text": [
      "\n",
      "Epoch 70\n",
      "Train Losses - Early: 0.003, Mid: 0.011, Late: 0.094\n",
      "Test Losses  - Early: 0.021, Mid: 0.059, Late: 0.335\n"
     ]
    },
    {
     "name": "stderr",
     "output_type": "stream",
     "text": [
      " 80%|████████████████████████████████████████████████████████████████████████████████████████████████████████████████████████████████████████████                                   | 80/100 [16:25<04:06, 12.34s/it]"
     ]
    },
    {
     "name": "stdout",
     "output_type": "stream",
     "text": [
      "\n",
      "Epoch 80\n",
      "Train Losses - Early: 0.003, Mid: 0.011, Late: 0.092\n",
      "Test Losses  - Early: 0.021, Mid: 0.059, Late: 0.335\n"
     ]
    },
    {
     "name": "stderr",
     "output_type": "stream",
     "text": [
      " 90%|█████████████████████████████████████████████████████████████████████████████████████████████████████████████████████████████████████████████████████████████▌                 | 90/100 [18:28<02:03, 12.38s/it]"
     ]
    },
    {
     "name": "stdout",
     "output_type": "stream",
     "text": [
      "\n",
      "Epoch 90\n",
      "Train Losses - Early: 0.003, Mid: 0.011, Late: 0.091\n",
      "Test Losses  - Early: 0.021, Mid: 0.058, Late: 0.330\n"
     ]
    },
    {
     "name": "stderr",
     "output_type": "stream",
     "text": [
      "100%|██████████████████████████████████████████████████████████████████████████████████████████████████████████████████████████████████████████████████████████████████████████████| 100/100 [20:33<00:00, 12.33s/it]"
     ]
    },
    {
     "name": "stdout",
     "output_type": "stream",
     "text": [
      "\n",
      "Epoch 100\n",
      "Train Losses - Early: 0.003, Mid: 0.011, Late: 0.091\n",
      "Test Losses  - Early: 0.021, Mid: 0.058, Late: 0.329\n"
     ]
    },
    {
     "name": "stderr",
     "output_type": "stream",
     "text": [
      "\n"
     ]
    },
    {
     "data": {
      "image/png": "[encoded data removed]",
      "text/plain": [
       "<Figure size 1200x400 with 1 Axes>"
      ]
     },
     "metadata": {},
     "output_type": "display_data"
    }
   ],
   "source": [
    "# We probably need to scale the hidden dimension based on how deep you are\n",
    "def get_hidden(i):\n",
    "    if i < 12:\n",
    "        return 1\n",
    "    else:\n",
    "        return 2\n",
    "\n",
    "class Autoencoder(nn.Module):\n",
    "    def __init__(self, layer_idx, d_in=896, base_width=256, dropout_rate=0.1):\n",
    "        super().__init__()\n",
    "        # Scale hidden dim based on layer position\n",
    "        # Later layers get progressively larger capacity\n",
    "        hidden_mult = get_hidden(layer_idx)\n",
    "        d_hidden = int(base_width * hidden_mult)\n",
    "        \n",
    "        # Gradual dimension reduction\n",
    "        d_mid = (d_in + d_hidden) // 2\n",
    "        \n",
    "        self.encode = nn.Sequential(\n",
    "            nn.Linear(d_in, d_mid),\n",
    "            nn.LayerNorm(d_mid),\n",
    "            nn.Dropout(dropout_rate),  # After normalization, before activation\n",
    "            nn.SiLU(),\n",
    "            nn.Linear(d_mid, d_hidden),\n",
    "            nn.LayerNorm(d_hidden),\n",
    "            nn.Dropout(dropout_rate),  # After normalization, before activation\n",
    "            nn.SiLU(),\n",
    "        )\n",
    "        \n",
    "        self.decode = nn.Sequential(\n",
    "            nn.Linear(d_hidden, d_mid),\n",
    "            nn.LayerNorm(d_mid),\n",
    "            nn.Dropout(dropout_rate),  # After normalization, before activation\n",
    "            nn.SiLU(),\n",
    "            nn.Linear(d_mid, d_in),\n",
    "            # No dropout before final output layer\n",
    "        )\n",
    "        \n",
    "        # Initialize with smaller weights for stability\n",
    "        for m in self.modules():\n",
    "            if isinstance(m, nn.Linear):\n",
    "                nn.init.xavier_uniform_(m.weight, gain=0.5)\n",
    "                \n",
    "    def forward(self, x):\n",
    "        h = self.encode(x)\n",
    "        return self.decode(h)\n",
    "\n",
    "n_layers = 24\n",
    "# Create layer-specific autoencoders\n",
    "encoders = [Autoencoder(i).cuda() for i in range(n_layers)]\n",
    "\n",
    "# Use different learning rates for different layers\n",
    "lrs = [3e-4 * (1 + i/24) for i in range(n_layers)]  # Higher lr for harder layers. From 3e-4 -> 3e-4*3\n",
    "optimizers = [torch.optim.AdamW(ae.parameters(), lr=lr, weight_decay=0.01) for ae, lr in zip(encoders, lrs)]\n",
    "\n",
    "# Modified training loop with layer-specific logging\n",
    "def train_epoch(models, acts, optimizers, batch_size=64):\n",
    "    indices = torch.randperm(acts.shape[0])\n",
    "    shuffled_acts = acts[indices]\n",
    "    \n",
    "    losses = []\n",
    "    n_batches = shuffled_acts.shape[0] // batch_size\n",
    "    \n",
    "    for batch in range(n_batches):\n",
    "        start_idx = batch * batch_size\n",
    "        end_idx = (batch + 1) * batch_size\n",
    "        \n",
    "        batch_losses = []\n",
    "        for i, (model, optimizer) in enumerate(zip(models, optimizers)):\n",
    "            model.train()\n",
    "            batch_i = shuffled_acts[start_idx:end_idx, i].cuda()\n",
    "            \n",
    "            optimizer.zero_grad()\n",
    "            loss = F.mse_loss(model(batch_i), batch_i)\n",
    "            loss.backward()\n",
    "            optimizer.step()\n",
    "            \n",
    "            batch_losses.append(loss.item())\n",
    "        \n",
    "        losses.append(batch_losses)\n",
    "    \n",
    "    return np.mean(losses, axis=0)\n",
    "\n",
    "# Training with more detailed monitoring\n",
    "early_layers_history = []\n",
    "mid_layers_history = []\n",
    "late_layers_history = []\n",
    "\n",
    "all_acts = wikitext_acts\n",
    "all_test_acts = torch.concat((first_test, second_test), axis=0)\n",
    "\n",
    "for epoch in tqdm(range(100)):\n",
    "    losses = train_epoch(encoders, all_acts, optimizers)\n",
    "    \n",
    "    # Track different layer groups\n",
    "    early_layers_history.append(np.mean(losses[:8]))\n",
    "    mid_layers_history.append(np.mean(losses[8:16]))\n",
    "    late_layers_history.append(np.mean(losses[16:]))\n",
    "    \n",
    "    if (epoch+1) % 10 == 0:\n",
    "        with torch.no_grad():\n",
    "            [model.eval() for model in encoders]\n",
    "            \n",
    "            # Test losses by layer group\n",
    "            test_preds = [encoders[i](all_test_acts[:, i].cuda()).cpu() for i in range(n_layers)]\n",
    "            test_losses = [F.mse_loss(pred, all_test_acts[:, i]).item() for i, pred in enumerate(test_preds)]\n",
    "            \n",
    "            print(f\"\\nEpoch {epoch+1}\")\n",
    "            print(f\"Train Losses - Early: {early_layers_history[-1]:.3f}, \"\n",
    "                  f\"Mid: {mid_layers_history[-1]:.3f}, \"\n",
    "                  f\"Late: {late_layers_history[-1]:.3f}\")\n",
    "            print(f\"Test Losses  - Early: {np.mean(test_losses[:8]):.3f}, \"\n",
    "                  f\"Mid: {np.mean(test_losses[8:16]):.3f}, \"\n",
    "                  f\"Late: {np.mean(test_losses[16:]):.3f}\")\n",
    "\n",
    "# Plot training curves\n",
    "plt.figure(figsize=(12, 4))\n",
    "plt.plot(early_layers_history, label='Early Layers (0-7)')\n",
    "plt.plot(mid_layers_history, label='Mid Layers (8-15)')\n",
    "plt.plot(late_layers_history, label='Late Layers (16-23)')\n",
    "plt.title('Reconstruction Loss by Layer Group')\n",
    "plt.xlabel('Epoch')\n",
    "plt.ylabel('MSE Loss')\n",
    "plt.legend()\n",
    "plt.yscale('log')\n",
    "plt.grid(True)\n",
    "plt.show()"
   ]
  },
  {
   "cell_type": "code",
   "execution_count": 6,
   "id": "2d589c0c-05f9-48ef-8058-58082132e0b2",
   "metadata": {},
   "outputs": [],
   "source": [
    "class SiameseNetwork(nn.Module):\n",
    "    def __init__(self, mlp):\n",
    "        super().__init__()\n",
    "        self.mlp = mlp\n",
    "\n",
    "    def forward(self, x1, x2):\n",
    "        h1 = self.mlp(x1)\n",
    "        h2 = self.mlp(x2)\n",
    "        return F.cosine_similarity(h1, h2, dim=-1)\n",
    "\n",
    "class LayerwiseSiameseNetworks(nn.Module):\n",
    "    def __init__(self, encoders, n_layers=24, d_in=1024, d_hidden=256):\n",
    "        super().__init__()\n",
    "        self.n_layers = n_layers\n",
    "        self.layer_nets = nn.ModuleList([SiameseNetwork(encoders[i]) for i in range(n_layers)])\n",
    "\n",
    "    def forward(self, x1, x2):\n",
    "        similarities = []\n",
    "        for layer in range(self.n_layers):\n",
    "            net_at_layer = self.layer_nets[layer].cuda()\n",
    "            # Get the activations at the given layer\n",
    "            x1_l = x1[:, layer].cuda()\n",
    "            x2_l = x2[:, layer].cuda()\n",
    "\n",
    "            sim_at_layer = net_at_layer(x1_l, x2_l)\n",
    "            # print(sim_at_layer.shape)\n",
    "            similarities.append(sim_at_layer)\n",
    "\n",
    "        return torch.stack(similarities, dim=-1)\n",
    "\n",
    "class SimilarityLearner(nn.Module):\n",
    "    def __init__(self, encoders, n_layers=24, d_in=1024, d_hidden=256, d_out_hidden=512, dropout=0.1):\n",
    "        super().__init__()\n",
    "        self.layer_nets = LayerwiseSiameseNetworks(encoders, n_layers, d_in, d_hidden)\n",
    "\n",
    "        self.mlp = nn.Sequential(\n",
    "            nn.Linear(n_layers, d_out_hidden),\n",
    "            nn.LayerNorm(d_out_hidden),\n",
    "            nn.Dropout(dropout),  # Add dropout after normalization\n",
    "            nn.SiLU(),\n",
    "            nn.Linear(d_out_hidden, d_out_hidden),\n",
    "            nn.LayerNorm(d_out_hidden),\n",
    "            nn.Dropout(dropout),  # Add dropout after normalization\n",
    "            nn.SiLU(),\n",
    "            nn.Linear(d_out_hidden, d_out_hidden),\n",
    "            nn.LayerNorm(d_out_hidden),\n",
    "            nn.Dropout(dropout),  # Add dropout after normalization\n",
    "            nn.SiLU(),\n",
    "            nn.Linear(d_out_hidden, 1),\n",
    "            nn.Hardsigmoid()\n",
    "        )\n",
    "\n",
    "    def forward(self, x1, x2, training=True):\n",
    "        layerwise_similarities = self.layer_nets(x1, x2)\n",
    "        similarity = self.mlp(layerwise_similarities)\n",
    "        return similarity.squeeze()"
   ]
  },
  {
   "cell_type": "code",
   "execution_count": 7,
   "id": "a063e5c1-9a3b-4e26-a27a-19b54a6c1adf",
   "metadata": {},
   "outputs": [
    {
     "name": "stderr",
     "output_type": "stream",
     "text": [
      "  7%|███████████▋                                                                                                                                                                   | 10/150 [01:03<15:08,  6.49s/it]"
     ]
    },
    {
     "name": "stdout",
     "output_type": "stream",
     "text": [
      "Epoch 10\n",
      "Loss: 0.0220\n",
      "Train correlation: 0.8947\n",
      "Test correlation: 0.7374\n",
      "\n"
     ]
    },
    {
     "name": "stderr",
     "output_type": "stream",
     "text": [
      " 13%|███████████████████████▎                                                                                                                                                       | 20/150 [02:08<13:58,  6.45s/it]"
     ]
    },
    {
     "name": "stdout",
     "output_type": "stream",
     "text": [
      "Epoch 20\n",
      "Loss: 0.0135\n",
      "Train correlation: 0.9360\n",
      "Test correlation: 0.7521\n",
      "\n"
     ]
    },
    {
     "name": "stderr",
     "output_type": "stream",
     "text": [
      " 20%|███████████████████████████████████                                                                                                                                            | 30/150 [03:14<13:19,  6.66s/it]"
     ]
    },
    {
     "name": "stdout",
     "output_type": "stream",
     "text": [
      "Epoch 30\n",
      "Loss: 0.0091\n",
      "Train correlation: 0.9624\n",
      "Test correlation: 0.7612\n",
      "\n"
     ]
    },
    {
     "name": "stderr",
     "output_type": "stream",
     "text": [
      " 27%|██████████████████████████████████████████████▋                                                                                                                                | 40/150 [04:20<12:09,  6.63s/it]"
     ]
    },
    {
     "name": "stdout",
     "output_type": "stream",
     "text": [
      "Epoch 40\n",
      "Loss: 0.0067\n",
      "Train correlation: 0.9725\n",
      "Test correlation: 0.7664\n",
      "\n"
     ]
    },
    {
     "name": "stderr",
     "output_type": "stream",
     "text": [
      " 33%|██████████████████████████████████████████████████████████▎                                                                                                                    | 50/150 [05:25<10:48,  6.48s/it]"
     ]
    },
    {
     "name": "stdout",
     "output_type": "stream",
     "text": [
      "Epoch 50\n",
      "Loss: 0.0049\n",
      "Train correlation: 0.9778\n",
      "Test correlation: 0.7696\n",
      "\n"
     ]
    },
    {
     "name": "stderr",
     "output_type": "stream",
     "text": [
      " 40%|██████████████████████████████████████████████████████████████████████                                                                                                         | 60/150 [06:29<09:45,  6.50s/it]"
     ]
    },
    {
     "name": "stdout",
     "output_type": "stream",
     "text": [
      "Epoch 60\n",
      "Loss: 0.0039\n",
      "Train correlation: 0.9833\n",
      "Test correlation: 0.7659\n",
      "\n"
     ]
    },
    {
     "name": "stderr",
     "output_type": "stream",
     "text": [
      " 47%|█████████████████████████████████████████████████████████████████████████████████▋                                                                                             | 70/150 [07:36<09:06,  6.83s/it]"
     ]
    },
    {
     "name": "stdout",
     "output_type": "stream",
     "text": [
      "Epoch 70\n",
      "Loss: 0.0033\n",
      "Train correlation: 0.9845\n",
      "Test correlation: 0.7627\n",
      "\n"
     ]
    },
    {
     "name": "stderr",
     "output_type": "stream",
     "text": [
      " 53%|█████████████████████████████████████████████████████████████████████████████████████████████▎                                                                                 | 80/150 [08:41<07:55,  6.79s/it]"
     ]
    },
    {
     "name": "stdout",
     "output_type": "stream",
     "text": [
      "Epoch 80\n",
      "Loss: 0.0028\n",
      "Train correlation: 0.9861\n",
      "Test correlation: 0.7633\n",
      "\n"
     ]
    },
    {
     "name": "stderr",
     "output_type": "stream",
     "text": [
      " 60%|█████████████████████████████████████████████████████████████████████████████████████████████████████████                                                                      | 90/150 [09:48<06:42,  6.70s/it]"
     ]
    },
    {
     "name": "stdout",
     "output_type": "stream",
     "text": [
      "Epoch 90\n",
      "Loss: 0.0024\n",
      "Train correlation: 0.9828\n",
      "Test correlation: 0.7657\n",
      "\n"
     ]
    },
    {
     "name": "stderr",
     "output_type": "stream",
     "text": [
      " 67%|████████████████████████████████████████████████████████████████████████████████████████████████████████████████████                                                          | 100/150 [10:51<05:11,  6.24s/it]"
     ]
    },
    {
     "name": "stdout",
     "output_type": "stream",
     "text": [
      "Epoch 100\n",
      "Loss: 0.0021\n",
      "Train correlation: 0.9877\n",
      "Test correlation: 0.7646\n",
      "\n"
     ]
    },
    {
     "name": "stderr",
     "output_type": "stream",
     "text": [
      " 73%|███████████████████████████████████████████████████████████████████████████████████████████████████████████████████████████████▌                                              | 110/150 [11:56<04:12,  6.32s/it]"
     ]
    },
    {
     "name": "stdout",
     "output_type": "stream",
     "text": [
      "Epoch 110\n",
      "Loss: 0.0019\n",
      "Train correlation: 0.9897\n",
      "Test correlation: 0.7628\n",
      "\n"
     ]
    },
    {
     "name": "stderr",
     "output_type": "stream",
     "text": [
      " 80%|███████████████████████████████████████████████████████████████████████████████████████████████████████████████████████████████████████████▏                                  | 120/150 [13:02<03:20,  6.67s/it]"
     ]
    },
    {
     "name": "stdout",
     "output_type": "stream",
     "text": [
      "Epoch 120\n",
      "Loss: 0.0017\n",
      "Train correlation: 0.9909\n",
      "Test correlation: 0.7632\n",
      "\n"
     ]
    },
    {
     "name": "stderr",
     "output_type": "stream",
     "text": [
      " 87%|██████████████████████████████████████████████████████████████████████████████████████████████████████████████████████████████████████████████████████▊                       | 130/150 [14:09<02:16,  6.80s/it]"
     ]
    },
    {
     "name": "stdout",
     "output_type": "stream",
     "text": [
      "Epoch 130\n",
      "Loss: 0.0016\n",
      "Train correlation: 0.9887\n",
      "Test correlation: 0.7639\n",
      "\n"
     ]
    },
    {
     "name": "stderr",
     "output_type": "stream",
     "text": [
      " 93%|██████████████████████████████████████████████████████████████████████████████████████████████████████████████████████████████████████████████████████████████████▍           | 140/150 [15:14<01:07,  6.71s/it]"
     ]
    },
    {
     "name": "stdout",
     "output_type": "stream",
     "text": [
      "Epoch 140\n",
      "Loss: 0.0013\n",
      "Train correlation: 0.9883\n",
      "Test correlation: 0.7643\n",
      "\n"
     ]
    },
    {
     "name": "stderr",
     "output_type": "stream",
     "text": [
      "100%|██████████████████████████████████████████████████████████████████████████████████████████████████████████████████████████████████████████████████████████████████████████████| 150/150 [16:21<00:00,  6.55s/it]"
     ]
    },
    {
     "name": "stdout",
     "output_type": "stream",
     "text": [
      "Epoch 150\n",
      "Loss: 0.0013\n",
      "Train correlation: 0.9890\n",
      "Test correlation: 0.7664\n",
      "\n"
     ]
    },
    {
     "name": "stderr",
     "output_type": "stream",
     "text": [
      "\n"
     ]
    }
   ],
   "source": [
    "from copy import deepcopy\n",
    "cloned_encoders = [deepcopy(e).encode for e in encoders]\n",
    "\n",
    "similarity_learner = SimilarityLearner(cloned_encoders, d_hidden=512).to('cuda:0')\n",
    "# similarity_learner = SimilarityLearner([Autoencoder(i) for i in range(24)], d_hidden=512).to('cuda:0')\n",
    "optimizer = torch.optim.Adam(similarity_learner.parameters(), lr=3e-5)\n",
    "\n",
    "def train_epoch(model, first_acts, second_acts, scores, optimizer, batch_size=32):\n",
    "    indices = torch.randperm(first_acts.shape[0])\n",
    "    shuffled_first = first_acts[indices]\n",
    "    shuffled_second = second_acts[indices]\n",
    "    shuffled_scores = scores[indices]\n",
    "\n",
    "    model.train()\n",
    "    total_loss = 0\n",
    "    n_batches = first_acts.shape[0] // batch_size\n",
    "    \n",
    "    for batch in range(n_batches):\n",
    "        start_idx = batch * batch_size\n",
    "        end_idx = (batch + 1) * batch_size\n",
    "        \n",
    "        x1_batch = shuffled_first[start_idx:end_idx].cuda()\n",
    "        x2_batch = shuffled_second[start_idx:end_idx].cuda()\n",
    "        scores_batch = shuffled_scores[start_idx:end_idx].cuda()\n",
    "        \n",
    "        optimizer.zero_grad()\n",
    "        \n",
    "        sims = model(x1_batch, x2_batch)\n",
    "        \n",
    "        loss = F.mse_loss(sims, scores_batch)        \n",
    "        \n",
    "        loss.backward()\n",
    "        optimizer.step()\n",
    "        \n",
    "        total_loss += loss.item()\n",
    "    \n",
    "    return total_loss / n_batches\n",
    "\n",
    "best_test_corr = 0\n",
    "best_model = None\n",
    "\n",
    "for epoch in tqdm(range(150)):\n",
    "    # Training\n",
    "    loss = train_epoch(similarity_learner, first_train, second_train, train_scores, optimizer)\n",
    "    \n",
    "    # Evaluation\n",
    "    similarity_learner.eval()\n",
    "    with torch.no_grad():\n",
    "        # Print progress every 10 epochs\n",
    "        if (epoch + 1) % 10 == 0:\n",
    "            # Get training correlations\n",
    "            train_preds = similarity_learner(first_train.cuda(), second_train.cuda(), training=False)\n",
    "            train_corr = torch.corrcoef(torch.stack([train_preds.cpu(), train_scores]))[0,1]\n",
    "            \n",
    "            # Get test correlations\n",
    "            test_preds = similarity_learner(first_test.cuda(), second_test.cuda(), training=False)\n",
    "            test_corr = torch.corrcoef(torch.stack([test_preds.cpu(), test_scores]))[0,1]\n",
    "\n",
    "            if test_corr > best_test_corr:\n",
    "                best_test_corr = test_corr\n",
    "                best_model = deepcopy(similarity_learner)\n",
    "\n",
    "            print(f\"Epoch {epoch+1}\")\n",
    "            print(f\"Loss: {loss:.4f}\")\n",
    "            print(f\"Train correlation: {train_corr:.4f}\")\n",
    "            print(f\"Test correlation: {test_corr:.4f}\\n\")"
   ]
  },
  {
   "cell_type": "code",
   "execution_count": 8,
   "id": "65e39a24-e14a-41b2-a421-d79971788a4a",
   "metadata": {},
   "outputs": [
    {
     "name": "stdout",
     "output_type": "stream",
     "text": [
      "tensor(0.7696, grad_fn=<SelectBackward0>)\n"
     ]
    }
   ],
   "source": [
    "test_preds = best_model(first_test.cuda(), second_test.cuda(), training=False)\n",
    "test_corr = torch.corrcoef(torch.stack([test_preds.cpu(), test_scores]))[0,1]\n",
    "print(test_corr)"
   ]
  },
  {
   "cell_type": "code",
   "execution_count": 9,
   "id": "f260b692-7a26-42cd-8782-8c8ab09e0f07",
   "metadata": {},
   "outputs": [
    {
     "data": {
      "text/plain": [
       "'This model has 20472833 parameters!'"
      ]
     },
     "execution_count": 9,
     "metadata": {},
     "output_type": "execute_result"
    }
   ],
   "source": [
    "param_count = sum([w.numel() for w in similarity_learner.parameters()])\n",
    "f\"This model has {param_count} parameters!\""
   ]
  },
  {
   "cell_type": "code",
   "execution_count": 10,
   "id": "7917646f-ec5a-431e-94fc-894ca2707cb8",
   "metadata": {},
   "outputs": [
    {
     "data": {
      "text/plain": [
       "SignificanceResult(statistic=0.7561689032241065, pvalue=7.051240594054795e-256)"
      ]
     },
     "execution_count": 10,
     "metadata": {},
     "output_type": "execute_result"
    }
   ],
   "source": [
    "from scipy.stats import spearmanr\n",
    "\n",
    "spearmanr(test_preds.detach().cpu(), test_scores.detach().cpu())"
   ]
  }
 ],
 "metadata": {
  "kernelspec": {
   "display_name": "venv",
   "language": "python",
   "name": "venv"
  },
  "language_info": {
   "codemirror_mode": {
    "name": "ipython",
    "version": 3
   },
   "file_extension": ".py",
   "mimetype": "text/x-python",
   "name": "python",
   "nbconvert_exporter": "python",
   "pygments_lexer": "ipython3",
   "version": "3.11.9"
  }
 },
 "nbformat": 4,
 "nbformat_minor": 5
}
