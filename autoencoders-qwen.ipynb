{
 "cells": [
  {
   "cell_type": "markdown",
   "id": "ea55baec-0cab-4dbc-8958-7c43c287f470",
   "metadata": {},
   "source": [
    "Hypothesis: We might be representation bottlenecked and that might be contributing to our less than ideal performance. What if we start by pretraining our network to do autoencoding, chop off the decoder, and then do our metric learning on that"
   ]
  },
  {
   "cell_type": "code",
   "execution_count": 1,
   "id": "4219dad1-3960-4a7c-a817-8cbae0a95aae",
   "metadata": {},
   "outputs": [],
   "source": [
    "import transformer_lens\n",
    "from datasets import load_dataset\n",
    "import torch\n",
    "import matplotlib.pyplot as plt\n",
    "import pandas as pd\n",
    "import torch.nn as nn\n",
    "import numpy as np\n",
    "\n",
    "import torch.nn.functional as F\n",
    "\n",
    "from tqdm import tqdm\n",
    "\n",
    "import random"
   ]
  },
  {
   "cell_type": "code",
   "execution_count": 2,
   "id": "6df28cd2-1819-4efa-a7dc-7170952551e4",
   "metadata": {},
   "outputs": [],
   "source": [
    "seed = 42\n",
    "torch.manual_seed(42)\n",
    "random.seed(42)\n",
    "np.random.seed(42)"
   ]
  },
  {
   "cell_type": "code",
   "execution_count": 3,
   "id": "5f3a0b97-4219-4ed2-b83c-568c7e6d77aa",
   "metadata": {},
   "outputs": [],
   "source": [
    "# Load datasets\n",
    "train_set = load_dataset(\"sentence-transformers/stsb\", split=\"train\")\n",
    "val_set   = load_dataset(\"sentence-transformers/stsb\", split=\"validation\")\n",
    "test_set  = load_dataset(\"sentence-transformers/stsb\", split=\"test\")\n",
    "\n",
    "first_train  = torch.load('qwen2_05b_hook_resid_post_train_acts_1.npy')\n",
    "second_train = torch.load('qwen2_05b_hook_resid_post_train_acts_2.npy')\n",
    "\n",
    "first_test = torch.load('qwen2_05b_hook_resid_post_test_acts_1.npy')\n",
    "second_test = torch.load('qwen2_05b_hook_resid_post_test_acts_2.npy')\n",
    "\n",
    "wikitext_acts = torch.load('qwen2_20k_11162024.npy')\n",
    "\n",
    "train_scores = torch.Tensor(train_set['score'])\n",
    "test_scores = torch.Tensor(test_set['score'])"
   ]
  },
  {
   "cell_type": "code",
   "execution_count": 4,
   "id": "345b02cd-8fad-45a7-a04b-95c83e0689e9",
   "metadata": {},
   "outputs": [
    {
     "data": {
      "text/plain": [
       "(torch.Size([5749, 24, 896]),\n",
       " torch.Size([5749, 24, 896]),\n",
       " torch.Size([1379, 24, 896]),\n",
       " torch.Size([1379, 24, 896]),\n",
       " torch.Size([20000, 24, 896]))"
      ]
     },
     "execution_count": 4,
     "metadata": {},
     "output_type": "execute_result"
    }
   ],
   "source": [
    "first_train.shape, second_train.shape, first_test.shape, second_test.shape, wikitext_acts.shape"
   ]
  },
  {
   "cell_type": "code",
   "execution_count": 5,
   "id": "cee80f3b-034e-4c1b-99fc-cbec4583920e",
   "metadata": {},
   "outputs": [
    {
     "name": "stderr",
     "output_type": "stream",
     "text": [
      " 10%|███████                                                                | 10/100 [02:04<18:35, 12.39s/it]"
     ]
    },
    {
     "name": "stdout",
     "output_type": "stream",
     "text": [
      "\n",
      "Epoch 10\n",
      "Train Losses - Early: 0.004, Mid: 0.015, Late: 0.131\n",
      "Test Losses  - Early: 0.026, Mid: 0.071, Late: 0.423\n"
     ]
    },
    {
     "name": "stderr",
     "output_type": "stream",
     "text": [
      " 20%|██████████████▏                                                        | 20/100 [04:04<15:48, 11.86s/it]"
     ]
    },
    {
     "name": "stdout",
     "output_type": "stream",
     "text": [
      "\n",
      "Epoch 20\n",
      "Train Losses - Early: 0.004, Mid: 0.013, Late: 0.112\n",
      "Test Losses  - Early: 0.023, Mid: 0.064, Late: 0.380\n"
     ]
    },
    {
     "name": "stderr",
     "output_type": "stream",
     "text": [
      " 30%|█████████████████████▎                                                 | 30/100 [06:02<13:48, 11.83s/it]"
     ]
    },
    {
     "name": "stdout",
     "output_type": "stream",
     "text": [
      "\n",
      "Epoch 30\n",
      "Train Losses - Early: 0.003, Mid: 0.013, Late: 0.104\n",
      "Test Losses  - Early: 0.022, Mid: 0.062, Late: 0.362\n"
     ]
    },
    {
     "name": "stderr",
     "output_type": "stream",
     "text": [
      " 40%|████████████████████████████▍                                          | 40/100 [08:00<11:48, 11.81s/it]"
     ]
    },
    {
     "name": "stdout",
     "output_type": "stream",
     "text": [
      "\n",
      "Epoch 40\n",
      "Train Losses - Early: 0.003, Mid: 0.012, Late: 0.100\n",
      "Test Losses  - Early: 0.022, Mid: 0.060, Late: 0.347\n"
     ]
    },
    {
     "name": "stderr",
     "output_type": "stream",
     "text": [
      " 50%|███████████████████████████████████▌                                   | 50/100 [09:58<09:50, 11.81s/it]"
     ]
    },
    {
     "name": "stdout",
     "output_type": "stream",
     "text": [
      "\n",
      "Epoch 50\n",
      "Train Losses - Early: 0.003, Mid: 0.012, Late: 0.097\n",
      "Test Losses  - Early: 0.021, Mid: 0.060, Late: 0.343\n"
     ]
    },
    {
     "name": "stderr",
     "output_type": "stream",
     "text": [
      " 60%|██████████████████████████████████████████▌                            | 60/100 [11:56<07:51, 11.78s/it]"
     ]
    },
    {
     "name": "stdout",
     "output_type": "stream",
     "text": [
      "\n",
      "Epoch 60\n",
      "Train Losses - Early: 0.003, Mid: 0.012, Late: 0.095\n",
      "Test Losses  - Early: 0.021, Mid: 0.059, Late: 0.339\n"
     ]
    },
    {
     "name": "stderr",
     "output_type": "stream",
     "text": [
      " 70%|█████████████████████████████████████████████████▋                     | 70/100 [13:53<05:53, 11.77s/it]"
     ]
    },
    {
     "name": "stdout",
     "output_type": "stream",
     "text": [
      "\n",
      "Epoch 70\n",
      "Train Losses - Early: 0.003, Mid: 0.011, Late: 0.094\n",
      "Test Losses  - Early: 0.021, Mid: 0.059, Late: 0.335\n"
     ]
    },
    {
     "name": "stderr",
     "output_type": "stream",
     "text": [
      " 80%|████████████████████████████████████████████████████████▊              | 80/100 [15:51<03:55, 11.78s/it]"
     ]
    },
    {
     "name": "stdout",
     "output_type": "stream",
     "text": [
      "\n",
      "Epoch 80\n",
      "Train Losses - Early: 0.003, Mid: 0.011, Late: 0.092\n",
      "Test Losses  - Early: 0.021, Mid: 0.059, Late: 0.335\n"
     ]
    },
    {
     "name": "stderr",
     "output_type": "stream",
     "text": [
      " 90%|███████████████████████████████████████████████████████████████▉       | 90/100 [17:48<01:57, 11.77s/it]"
     ]
    },
    {
     "name": "stdout",
     "output_type": "stream",
     "text": [
      "\n",
      "Epoch 90\n",
      "Train Losses - Early: 0.003, Mid: 0.011, Late: 0.091\n",
      "Test Losses  - Early: 0.021, Mid: 0.058, Late: 0.330\n"
     ]
    },
    {
     "name": "stderr",
     "output_type": "stream",
     "text": [
      "100%|██████████████████████████████████████████████████████████████████████| 100/100 [19:45<00:00, 11.85s/it]"
     ]
    },
    {
     "name": "stdout",
     "output_type": "stream",
     "text": [
      "\n",
      "Epoch 100\n",
      "Train Losses - Early: 0.003, Mid: 0.011, Late: 0.091\n",
      "Test Losses  - Early: 0.021, Mid: 0.058, Late: 0.329\n"
     ]
    },
    {
     "name": "stderr",
     "output_type": "stream",
     "text": [
      "\n"
     ]
    },
    {
     "data": {
      "image/png": "[encoded data removed]",
      "text/plain": [
       "<Figure size 1200x400 with 1 Axes>"
      ]
     },
     "metadata": {},
     "output_type": "display_data"
    }
   ],
   "source": [
    "# We probably need to scale the hidden dimension based on how deep you are\n",
    "def get_hidden(i):\n",
    "    if i < 12:\n",
    "        return 1\n",
    "    else:\n",
    "        return 2\n",
    "\n",
    "class Autoencoder(nn.Module):\n",
    "    def __init__(self, layer_idx, d_in=896, base_width=256, dropout_rate=0.1):\n",
    "        super().__init__()\n",
    "        # Scale hidden dim based on layer position\n",
    "        # Later layers get progressively larger capacity\n",
    "        hidden_mult = get_hidden(layer_idx)\n",
    "        d_hidden = int(base_width * hidden_mult)\n",
    "        \n",
    "        # Gradual dimension reduction\n",
    "        d_mid = (d_in + d_hidden) // 2\n",
    "        \n",
    "        self.encode = nn.Sequential(\n",
    "            nn.Linear(d_in, d_mid),\n",
    "            nn.LayerNorm(d_mid),\n",
    "            nn.Dropout(dropout_rate),  # After normalization, before activation\n",
    "            nn.SiLU(),\n",
    "            nn.Linear(d_mid, d_hidden),\n",
    "            nn.LayerNorm(d_hidden),\n",
    "            nn.Dropout(dropout_rate),  # After normalization, before activation\n",
    "            nn.SiLU(),\n",
    "        )\n",
    "        \n",
    "        self.decode = nn.Sequential(\n",
    "            nn.Linear(d_hidden, d_mid),\n",
    "            nn.LayerNorm(d_mid),\n",
    "            nn.Dropout(dropout_rate),  # After normalization, before activation\n",
    "            nn.SiLU(),\n",
    "            nn.Linear(d_mid, d_in),\n",
    "            # No dropout before final output layer\n",
    "        )\n",
    "        \n",
    "        # Initialize with smaller weights for stability\n",
    "        for m in self.modules():\n",
    "            if isinstance(m, nn.Linear):\n",
    "                nn.init.xavier_uniform_(m.weight, gain=0.5)\n",
    "                \n",
    "    def forward(self, x):\n",
    "        h = self.encode(x)\n",
    "        return self.decode(h)\n",
    "\n",
    "n_layers = 24\n",
    "# Create layer-specific autoencoders\n",
    "encoders = [Autoencoder(i).cuda() for i in range(n_layers)]\n",
    "\n",
    "# Use different learning rates for different layers\n",
    "lrs = [3e-4 * (1 + i/24) for i in range(n_layers)]  # Higher lr for harder layers. From 3e-4 -> 3e-4*3\n",
    "optimizers = [torch.optim.AdamW(ae.parameters(), lr=lr, weight_decay=0.01) for ae, lr in zip(encoders, lrs)]\n",
    "\n",
    "# Modified training loop with layer-specific logging\n",
    "def train_epoch(models, acts, optimizers, batch_size=64):\n",
    "    indices = torch.randperm(acts.shape[0])\n",
    "    shuffled_acts = acts[indices]\n",
    "    \n",
    "    losses = []\n",
    "    n_batches = shuffled_acts.shape[0] // batch_size\n",
    "    \n",
    "    for batch in range(n_batches):\n",
    "        start_idx = batch * batch_size\n",
    "        end_idx = (batch + 1) * batch_size\n",
    "        \n",
    "        batch_losses = []\n",
    "        for i, (model, optimizer) in enumerate(zip(models, optimizers)):\n",
    "            model.train()\n",
    "            batch_i = shuffled_acts[start_idx:end_idx, i].cuda()\n",
    "            \n",
    "            optimizer.zero_grad()\n",
    "            loss = F.mse_loss(model(batch_i), batch_i)\n",
    "            loss.backward()\n",
    "            optimizer.step()\n",
    "            \n",
    "            batch_losses.append(loss.item())\n",
    "        \n",
    "        losses.append(batch_losses)\n",
    "    \n",
    "    return np.mean(losses, axis=0)\n",
    "\n",
    "# Training with more detailed monitoring\n",
    "early_layers_history = []\n",
    "mid_layers_history = []\n",
    "late_layers_history = []\n",
    "\n",
    "all_acts = wikitext_acts\n",
    "all_test_acts = torch.concat((first_test, second_test), axis=0)\n",
    "\n",
    "for epoch in tqdm(range(100)):\n",
    "    losses = train_epoch(encoders, all_acts, optimizers)\n",
    "    \n",
    "    # Track different layer groups\n",
    "    early_layers_history.append(np.mean(losses[:8]))\n",
    "    mid_layers_history.append(np.mean(losses[8:16]))\n",
    "    late_layers_history.append(np.mean(losses[16:]))\n",
    "    \n",
    "    if (epoch+1) % 10 == 0:\n",
    "        with torch.no_grad():\n",
    "            [model.eval() for model in encoders]\n",
    "            \n",
    "            # Test losses by layer group\n",
    "            test_preds = [encoders[i](all_test_acts[:, i].cuda()).cpu() for i in range(n_layers)]\n",
    "            test_losses = [F.mse_loss(pred, all_test_acts[:, i]).item() for i, pred in enumerate(test_preds)]\n",
    "            \n",
    "            print(f\"\\nEpoch {epoch+1}\")\n",
    "            print(f\"Train Losses - Early: {early_layers_history[-1]:.3f}, \"\n",
    "                  f\"Mid: {mid_layers_history[-1]:.3f}, \"\n",
    "                  f\"Late: {late_layers_history[-1]:.3f}\")\n",
    "            print(f\"Test Losses  - Early: {np.mean(test_losses[:8]):.3f}, \"\n",
    "                  f\"Mid: {np.mean(test_losses[8:16]):.3f}, \"\n",
    "                  f\"Late: {np.mean(test_losses[16:]):.3f}\")\n",
    "\n",
    "# Plot training curves\n",
    "plt.figure(figsize=(12, 4))\n",
    "plt.plot(early_layers_history, label='Early Layers (0-7)')\n",
    "plt.plot(mid_layers_history, label='Mid Layers (8-15)')\n",
    "plt.plot(late_layers_history, label='Late Layers (16-23)')\n",
    "plt.title('Reconstruction Loss by Layer Group')\n",
    "plt.xlabel('Epoch')\n",
    "plt.ylabel('MSE Loss')\n",
    "plt.legend()\n",
    "plt.yscale('log')\n",
    "plt.grid(True)\n",
    "plt.show()"
   ]
  },
  {
   "cell_type": "code",
   "execution_count": 6,
   "id": "2d589c0c-05f9-48ef-8058-58082132e0b2",
   "metadata": {},
   "outputs": [],
   "source": [
    "class SiameseNetwork(nn.Module):\n",
    "    def __init__(self, mlp):\n",
    "        super().__init__()\n",
    "        self.mlp = mlp\n",
    "\n",
    "    def forward(self, x1, x2):\n",
    "        h1 = self.mlp(x1)\n",
    "        h2 = self.mlp(x2)\n",
    "        return F.cosine_similarity(h1, h2, dim=-1)\n",
    "\n",
    "class LayerwiseSiameseNetworks(nn.Module):\n",
    "    def __init__(self, encoders, n_layers=24, d_in=1024, d_hidden=256):\n",
    "        super().__init__()\n",
    "        self.n_layers = n_layers\n",
    "        self.layer_nets = nn.ModuleList([SiameseNetwork(encoders[i]) for i in range(n_layers)])\n",
    "\n",
    "    def forward(self, x1, x2):\n",
    "        similarities = []\n",
    "        for layer in range(self.n_layers):\n",
    "            net_at_layer = self.layer_nets[layer].cuda()\n",
    "            # Get the activations at the given layer\n",
    "            x1_l = x1[:, layer].cuda()\n",
    "            x2_l = x2[:, layer].cuda()\n",
    "\n",
    "            sim_at_layer = net_at_layer(x1_l, x2_l)\n",
    "            # print(sim_at_layer.shape)\n",
    "            similarities.append(sim_at_layer)\n",
    "\n",
    "        return torch.stack(similarities, dim=-1)\n",
    "\n",
    "class SimilarityLearner(nn.Module):\n",
    "    def __init__(self, encoders, n_layers=24, d_in=1024, d_hidden=256, d_out_hidden=512, dropout=0.1):\n",
    "        super().__init__()\n",
    "        self.layer_nets = LayerwiseSiameseNetworks(encoders, n_layers, d_in, d_hidden)\n",
    "\n",
    "        self.mlp = nn.Sequential(\n",
    "            nn.Linear(n_layers, d_out_hidden),\n",
    "            nn.LayerNorm(d_out_hidden),\n",
    "            nn.Dropout(dropout),  # Add dropout after normalization\n",
    "            nn.SiLU(),\n",
    "            nn.Linear(d_out_hidden, d_out_hidden),\n",
    "            nn.LayerNorm(d_out_hidden),\n",
    "            nn.Dropout(dropout),  # Add dropout after normalization\n",
    "            nn.SiLU(),\n",
    "            nn.Linear(d_out_hidden, d_out_hidden),\n",
    "            nn.LayerNorm(d_out_hidden),\n",
    "            nn.Dropout(dropout),  # Add dropout after normalization\n",
    "            nn.SiLU(),\n",
    "            nn.Linear(d_out_hidden, 1),\n",
    "            nn.Hardsigmoid()\n",
    "        )\n",
    "\n",
    "    def forward(self, x1, x2, training=True):\n",
    "        layerwise_similarities = self.layer_nets(x1, x2)\n",
    "        similarity = self.mlp(layerwise_similarities)\n",
    "        return similarity.squeeze()"
   ]
  },
  {
   "cell_type": "code",
   "execution_count": 7,
   "id": "a063e5c1-9a3b-4e26-a27a-19b54a6c1adf",
   "metadata": {},
   "outputs": [
    {
     "name": "stderr",
     "output_type": "stream",
     "text": [
      "  7%|████▋                                                                  | 10/150 [00:18<04:29,  1.92s/it]"
     ]
    },
    {
     "name": "stdout",
     "output_type": "stream",
     "text": [
      "Epoch 10\n",
      "Loss: -4.7205\n",
      "Train correlation: 0.9644\n",
      "Test correlation: 0.7682\n",
      "\n"
     ]
    },
    {
     "name": "stderr",
     "output_type": "stream",
     "text": [
      " 13%|█████████▍                                                             | 20/150 [00:37<04:01,  1.86s/it]"
     ]
    },
    {
     "name": "stdout",
     "output_type": "stream",
     "text": [
      "Epoch 20\n",
      "Loss: -5.5378\n",
      "Train correlation: 0.9779\n",
      "Test correlation: 0.7654\n",
      "\n"
     ]
    },
    {
     "name": "stderr",
     "output_type": "stream",
     "text": [
      " 20%|██████████████▏                                                        | 30/150 [00:55<03:49,  1.92s/it]"
     ]
    },
    {
     "name": "stdout",
     "output_type": "stream",
     "text": [
      "Epoch 30\n",
      "Loss: -6.0068\n",
      "Train correlation: 0.9838\n",
      "Test correlation: 0.7684\n",
      "\n"
     ]
    },
    {
     "name": "stderr",
     "output_type": "stream",
     "text": [
      " 27%|██████████████████▉                                                    | 40/150 [01:14<03:29,  1.90s/it]"
     ]
    },
    {
     "name": "stdout",
     "output_type": "stream",
     "text": [
      "Epoch 40\n",
      "Loss: -6.2991\n",
      "Train correlation: 0.9879\n",
      "Test correlation: 0.7670\n",
      "\n"
     ]
    },
    {
     "name": "stderr",
     "output_type": "stream",
     "text": [
      " 33%|███████████████████████▋                                               | 50/150 [01:33<03:12,  1.93s/it]"
     ]
    },
    {
     "name": "stdout",
     "output_type": "stream",
     "text": [
      "Epoch 50\n",
      "Loss: -6.5328\n",
      "Train correlation: 0.9894\n",
      "Test correlation: 0.7686\n",
      "\n"
     ]
    },
    {
     "name": "stderr",
     "output_type": "stream",
     "text": [
      " 40%|████████████████████████████▍                                          | 60/150 [01:51<02:52,  1.92s/it]"
     ]
    },
    {
     "name": "stdout",
     "output_type": "stream",
     "text": [
      "Epoch 60\n",
      "Loss: -6.7217\n",
      "Train correlation: 0.9885\n",
      "Test correlation: 0.7676\n",
      "\n"
     ]
    },
    {
     "name": "stderr",
     "output_type": "stream",
     "text": [
      " 47%|█████████████████████████████████▏                                     | 70/150 [02:10<02:33,  1.92s/it]"
     ]
    },
    {
     "name": "stdout",
     "output_type": "stream",
     "text": [
      "Epoch 70\n",
      "Loss: -6.8675\n",
      "Train correlation: 0.9892\n",
      "Test correlation: 0.7654\n",
      "\n"
     ]
    },
    {
     "name": "stderr",
     "output_type": "stream",
     "text": [
      " 53%|█████████████████████████████████████▊                                 | 80/150 [02:29<02:13,  1.91s/it]"
     ]
    },
    {
     "name": "stdout",
     "output_type": "stream",
     "text": [
      "Epoch 80\n",
      "Loss: -6.9922\n",
      "Train correlation: 0.9911\n",
      "Test correlation: 0.7635\n",
      "\n"
     ]
    },
    {
     "name": "stderr",
     "output_type": "stream",
     "text": [
      " 60%|██████████████████████████████████████████▌                            | 90/150 [02:48<01:55,  1.92s/it]"
     ]
    },
    {
     "name": "stdout",
     "output_type": "stream",
     "text": [
      "Epoch 90\n",
      "Loss: -7.1294\n",
      "Train correlation: 0.9900\n",
      "Test correlation: 0.7610\n",
      "\n"
     ]
    },
    {
     "name": "stderr",
     "output_type": "stream",
     "text": [
      " 67%|██████████████████████████████████████████████▋                       | 100/150 [03:06<01:35,  1.92s/it]"
     ]
    },
    {
     "name": "stdout",
     "output_type": "stream",
     "text": [
      "Epoch 100\n",
      "Loss: -7.1960\n",
      "Train correlation: 0.9902\n",
      "Test correlation: 0.7610\n",
      "\n"
     ]
    },
    {
     "name": "stderr",
     "output_type": "stream",
     "text": [
      " 73%|███████████████████████████████████████████████████▎                  | 110/150 [03:25<01:16,  1.91s/it]"
     ]
    },
    {
     "name": "stdout",
     "output_type": "stream",
     "text": [
      "Epoch 110\n",
      "Loss: -7.3223\n",
      "Train correlation: 0.9942\n",
      "Test correlation: 0.7575\n",
      "\n"
     ]
    },
    {
     "name": "stderr",
     "output_type": "stream",
     "text": [
      " 80%|████████████████████████████████████████████████████████              | 120/150 [03:44<00:57,  1.92s/it]"
     ]
    },
    {
     "name": "stdout",
     "output_type": "stream",
     "text": [
      "Epoch 120\n",
      "Loss: -7.3692\n",
      "Train correlation: 0.9922\n",
      "Test correlation: 0.7601\n",
      "\n"
     ]
    },
    {
     "name": "stderr",
     "output_type": "stream",
     "text": [
      " 87%|████████████████████████████████████████████████████████████▋         | 130/150 [04:03<00:38,  1.92s/it]"
     ]
    },
    {
     "name": "stdout",
     "output_type": "stream",
     "text": [
      "Epoch 130\n",
      "Loss: -7.4307\n",
      "Train correlation: 0.9942\n",
      "Test correlation: 0.7608\n",
      "\n"
     ]
    },
    {
     "name": "stderr",
     "output_type": "stream",
     "text": [
      " 93%|█████████████████████████████████████████████████████████████████▎    | 140/150 [04:21<00:18,  1.87s/it]"
     ]
    },
    {
     "name": "stdout",
     "output_type": "stream",
     "text": [
      "Epoch 140\n",
      "Loss: -7.5271\n",
      "Train correlation: 0.9938\n",
      "Test correlation: 0.7574\n",
      "\n"
     ]
    },
    {
     "name": "stderr",
     "output_type": "stream",
     "text": [
      "100%|██████████████████████████████████████████████████████████████████████| 150/150 [04:40<00:00,  1.87s/it]"
     ]
    },
    {
     "name": "stdout",
     "output_type": "stream",
     "text": [
      "Epoch 150\n",
      "Loss: -7.5392\n",
      "Train correlation: 0.9936\n",
      "Test correlation: 0.7566\n",
      "\n"
     ]
    },
    {
     "name": "stderr",
     "output_type": "stream",
     "text": [
      "\n"
     ]
    }
   ],
   "source": [
    "from copy import deepcopy\n",
    "cloned_encoders = [deepcopy(e).encode for e in encoders]\n",
    "\n",
    "similarity_learner = SimilarityLearner(cloned_encoders, d_hidden=512).to('cuda:0')\n",
    "# similarity_learner = SimilarityLearner([Autoencoder(i) for i in range(24)], d_hidden=512).to('cuda:0')\n",
    "optimizer = torch.optim.Adam(similarity_learner.parameters(), lr=3e-4)\n",
    "\n",
    "def train_epoch(model, first_acts, second_acts, scores, optimizer, batch_size=128):\n",
    "    indices = torch.randperm(first_acts.shape[0])\n",
    "    shuffled_first = first_acts[indices]\n",
    "    shuffled_second = second_acts[indices]\n",
    "    shuffled_scores = scores[indices]\n",
    "\n",
    "    model.train()\n",
    "    total_loss = 0\n",
    "    n_batches = first_acts.shape[0] // batch_size\n",
    "    \n",
    "    for batch in range(n_batches):\n",
    "        start_idx = batch * batch_size\n",
    "        end_idx = (batch + 1) * batch_size\n",
    "        \n",
    "        x1_batch = shuffled_first[start_idx:end_idx].cuda()\n",
    "        x2_batch = shuffled_second[start_idx:end_idx].cuda()\n",
    "        scores_batch = shuffled_scores[start_idx:end_idx].cuda()\n",
    "        \n",
    "        optimizer.zero_grad()\n",
    "        \n",
    "        sims = model(x1_batch, x2_batch)\n",
    "        \n",
    "        # loss = F.mse_loss(sims, scores_batch)        \n",
    "        loss = torch.log((sims - scores_batch).var())\n",
    "        \n",
    "        loss.backward()\n",
    "        optimizer.step()\n",
    "        \n",
    "        total_loss += loss.item()\n",
    "    \n",
    "    return total_loss / n_batches\n",
    "\n",
    "best_test_corr = 0\n",
    "best_model = None\n",
    "\n",
    "for epoch in tqdm(range(150)):\n",
    "    # Training\n",
    "    loss = train_epoch(similarity_learner, first_train, second_train, train_scores, optimizer)\n",
    "    \n",
    "    # Evaluation\n",
    "    similarity_learner.eval()\n",
    "    with torch.no_grad():\n",
    "        # Print progress every 10 epochs\n",
    "        if (epoch + 1) % 10 == 0:\n",
    "            # Get training correlations\n",
    "            train_preds = similarity_learner(first_train.cuda(), second_train.cuda(), training=False)\n",
    "            train_corr = torch.corrcoef(torch.stack([train_preds.cpu(), train_scores]))[0,1]\n",
    "            \n",
    "            # Get test correlations\n",
    "            test_preds = similarity_learner(first_test.cuda(), second_test.cuda(), training=False)\n",
    "            test_corr = torch.corrcoef(torch.stack([test_preds.cpu(), test_scores]))[0,1]\n",
    "\n",
    "            if test_corr > best_test_corr:\n",
    "                best_test_corr = test_corr\n",
    "                best_model = deepcopy(similarity_learner)\n",
    "\n",
    "            print(f\"Epoch {epoch+1}\")\n",
    "            print(f\"Loss: {loss:.4f}\")\n",
    "            print(f\"Train correlation: {train_corr:.4f}\")\n",
    "            print(f\"Test correlation: {test_corr:.4f}\\n\")"
   ]
  },
  {
   "cell_type": "code",
   "execution_count": 8,
   "id": "65e39a24-e14a-41b2-a421-d79971788a4a",
   "metadata": {},
   "outputs": [
    {
     "name": "stdout",
     "output_type": "stream",
     "text": [
      "tensor(0.7686, grad_fn=<SelectBackward0>)\n"
     ]
    }
   ],
   "source": [
    "test_preds = best_model(first_test.cuda(), second_test.cuda(), training=False)\n",
    "test_corr = torch.corrcoef(torch.stack([test_preds.cpu(), test_scores]))[0,1]\n",
    "print(test_corr)"
   ]
  },
  {
   "cell_type": "code",
   "execution_count": 9,
   "id": "f260b692-7a26-42cd-8782-8c8ab09e0f07",
   "metadata": {},
   "outputs": [
    {
     "data": {
      "text/plain": [
       "'This model has 20472833 parameters!'"
      ]
     },
     "execution_count": 9,
     "metadata": {},
     "output_type": "execute_result"
    }
   ],
   "source": [
    "param_count = sum([w.numel() for w in similarity_learner.parameters()])\n",
    "f\"This model has {param_count} parameters!\""
   ]
  },
  {
   "cell_type": "code",
   "execution_count": 10,
   "id": "7917646f-ec5a-431e-94fc-894ca2707cb8",
   "metadata": {},
   "outputs": [
    {
     "data": {
      "text/plain": [
       "SignificanceResult(statistic=0.7566382936066482, pvalue=2.2476813536653645e-256)"
      ]
     },
     "execution_count": 10,
     "metadata": {},
     "output_type": "execute_result"
    }
   ],
   "source": [
    "from scipy.stats import spearmanr\n",
    "\n",
    "spearmanr(test_preds.detach().cpu(), test_scores.detach().cpu())"
   ]
  },
  {
   "cell_type": "markdown",
   "id": "a8683b93-d839-4bcb-9a5f-b1fe2055d82e",
   "metadata": {},
   "source": [
    "## Residual histogram and qq plot"
   ]
  },
  {
   "cell_type": "code",
   "execution_count": 11,
   "id": "5ec6186e-6b55-4ef1-b9b8-0326461d6dd0",
   "metadata": {},
   "outputs": [
    {
     "data": {
      "text/plain": [
       "(0.0532148, 0.19822747)"
      ]
     },
     "execution_count": 11,
     "metadata": {},
     "output_type": "execute_result"
    }
   ],
   "source": [
    "residuals = (test_preds.cpu().detach().numpy() - test_scores.numpy())\n",
    "residuals.mean(), residuals.std()"
   ]
  },
  {
   "cell_type": "code",
   "execution_count": 12,
   "id": "e00d8419-65a8-499c-8b92-9e0b8475dc55",
   "metadata": {},
   "outputs": [
    {
     "data": {
      "image/png": "[encoded data removed]",
      "text/plain": [
       "<Figure size 1000x400 with 2 Axes>"
      ]
     },
     "metadata": {},
     "output_type": "display_data"
    },
    {
     "name": "stdout",
     "output_type": "stream",
     "text": [
      "ShapiroResult(statistic=0.9916509457919356, pvalue=4.7551988298556567e-07)\n"
     ]
    }
   ],
   "source": [
    "import matplotlib.pyplot as plt\n",
    "import scipy.stats as stats\n",
    "\n",
    "def plot_qq(residuals):\n",
    "   fig = plt.figure(figsize=(10, 4))\n",
    "   \n",
    "   # Left plot: Histogram of residuals\n",
    "   plt.subplot(121)\n",
    "   plt.hist(residuals, bins=30, density=True, range=[-1,1])\n",
    "   plt.title('Distribution of Residuals')\n",
    "   \n",
    "   # Right plot: Q-Q plot\n",
    "   plt.subplot(122)\n",
    "   stats.probplot(residuals, dist=\"norm\", plot=plt)\n",
    "   plt.title('Q-Q Plot')\n",
    "   \n",
    "   plt.tight_layout()\n",
    "   plt.show()\n",
    "\n",
    "# Usage:\n",
    "plot_qq(residuals)\n",
    "print(stats.shapiro(residuals))"
   ]
  },
  {
   "cell_type": "code",
   "execution_count": 13,
   "id": "64193258-f1ea-4f67-b20d-054daa61e71a",
   "metadata": {},
   "outputs": [],
   "source": [
    "worst_overdone = np.absolute(residuals).argsort()[-25:]"
   ]
  },
  {
   "cell_type": "code",
   "execution_count": 14,
   "id": "65c832c9-5a63-4668-93e9-cd19c2d63472",
   "metadata": {},
   "outputs": [
    {
     "data": {
      "text/plain": [
       "[('Sunderland 2-2 Bolton: Davies double gets Trotters a point but they stay in bottom three',\n",
       "  'Sunderland 2-2 Bolton: Davies in at the double',\n",
       "  tensor(0.8000),\n",
       "  tensor(0.2760, device='cuda:0', grad_fn=<UnbindBackward0>)),\n",
       " ('Jaguar to create 1,100 jobs in UK',\n",
       "  'Royal Mail to create 1,000 jobs',\n",
       "  tensor(0.2500),\n",
       "  tensor(0.7817, device='cuda:0', grad_fn=<UnbindBackward0>)),\n",
       " ('You just have to base your answer on what you do know, which is what you want.',\n",
       "  'It is his job to see that you have what you need to do your job.',\n",
       "  tensor(0.),\n",
       "  tensor(0.5332, device='cuda:0', grad_fn=<UnbindBackward0>)),\n",
       " ('Most powerful typhoon of 2013 hits the Philippines',\n",
       "  '23 Missing as Typhoon Utor Hits Philippines',\n",
       "  tensor(0.4400),\n",
       "  tensor(0.9740, device='cuda:0', grad_fn=<UnbindBackward0>)),\n",
       " ('Navistar shares were down 44 cents, or 1.1 percent, at $41.19 on the New York Stock Exchange after falling as low as $39.93.',\n",
       "  'Navistar shares rose a penny to $41.64 at late afternoon on the New York Stock Exchange after earlier falling as low as $39.93.',\n",
       "  tensor(0.4000),\n",
       "  tensor(0.9344, device='cuda:0', grad_fn=<UnbindBackward0>)),\n",
       " (\"Taiwan's economy grows 2.27% in April-June quarter\",\n",
       "  \"China's economic growth rebounds to 7.8% in latest quarter\",\n",
       "  tensor(0.2000),\n",
       "  tensor(0.7467, device='cuda:0', grad_fn=<UnbindBackward0>)),\n",
       " ('Hawaii passes gay marriage bill',\n",
       "  'US Senate passes gay workers bill',\n",
       "  tensor(0.2000),\n",
       "  tensor(0.7493, device='cuda:0', grad_fn=<UnbindBackward0>)),\n",
       " ('It depends on what they are.',\n",
       "  \"It depends on how it's used.\",\n",
       "  tensor(0.2000),\n",
       "  tensor(0.7532, device='cuda:0', grad_fn=<UnbindBackward0>)),\n",
       " (\"Georgian PM's ally to become president - exit poll\",\n",
       "  \"Ally of Georgia's billionaire PM to be president -exit polls\",\n",
       "  tensor(0.9200),\n",
       "  tensor(0.3662, device='cuda:0', grad_fn=<UnbindBackward0>)),\n",
       " ('Funeral of Ian Paisley to take place in Belfast',\n",
       "  'Funeral of MH17 victim Liam Sweeney takes place in Newcastle',\n",
       "  tensor(0.),\n",
       "  tensor(0.5554, device='cuda:0', grad_fn=<UnbindBackward0>)),\n",
       " ('Take a look at these:',\n",
       "  'Take a look at this: ',\n",
       "  tensor(1.),\n",
       "  tensor(0.4263, device='cuda:0', grad_fn=<UnbindBackward0>)),\n",
       " ('MIER ups 2012 growth forecast to 4.2pc',\n",
       "  'CMIE cuts 2012-13 growth forecast to 6.3%',\n",
       "  tensor(0.1600),\n",
       "  tensor(0.7345, device='cuda:0', grad_fn=<UnbindBackward0>)),\n",
       " ('Prince Harry pays tribute to US war dead',\n",
       "  'US presidents pay tribute to Mandela',\n",
       "  tensor(0.0800),\n",
       "  tensor(0.6594, device='cuda:0', grad_fn=<UnbindBackward0>)),\n",
       " ('Some of what you can do:',\n",
       "  'Not much you can do besides:',\n",
       "  tensor(0.2000),\n",
       "  tensor(0.7809, device='cuda:0', grad_fn=<UnbindBackward0>)),\n",
       " ('KL shares higher at mid-afternoon',\n",
       "  'KL shares lower at mid-morning',\n",
       "  tensor(0.3200),\n",
       "  tensor(0.9074, device='cuda:0', grad_fn=<UnbindBackward0>)),\n",
       " ('There are a few things you can do: ',\n",
       "  'There are a couple things you can try.',\n",
       "  tensor(1.),\n",
       "  tensor(0.4093, device='cuda:0', grad_fn=<UnbindBackward0>)),\n",
       " (\"You need to read a lot to know what you like and what you don't.\",\n",
       "  'You should tell a good story and sometimes you have to tweak reality/history to do so.',\n",
       "  tensor(0.),\n",
       "  tensor(0.6135, device='cuda:0', grad_fn=<UnbindBackward0>)),\n",
       " ('There is a cook preparing food.',\n",
       "  'A cook is making food.',\n",
       "  tensor(1.),\n",
       "  tensor(0.3836, device='cuda:0', grad_fn=<UnbindBackward0>)),\n",
       " ('The best thing you can do is to know your stuff.',\n",
       "  'My recommendation is not to say anything, and do the best you can.',\n",
       "  tensor(0.),\n",
       "  tensor(0.6307, device='cuda:0', grad_fn=<UnbindBackward0>)),\n",
       " ('Trade newspaper Variety up for sale',\n",
       "  'Hollywood trade publication Variety put up for sale',\n",
       "  tensor(0.8000),\n",
       "  tensor(0.1319, device='cuda:0', grad_fn=<UnbindBackward0>)),\n",
       " ('It is more deciding what you should do and what you should get others to do.',\n",
       "  \"Point is: know what you want and don't be afraid to ask for it.\",\n",
       "  tensor(0.),\n",
       "  tensor(0.6943, device='cuda:0', grad_fn=<UnbindBackward0>)),\n",
       " ('Supreme Court to Hear Voting Rights Act Case',\n",
       "  'Supreme Court to hear corporate human rights case',\n",
       "  tensor(0.2800),\n",
       "  tensor(0.9765, device='cuda:0', grad_fn=<UnbindBackward0>)),\n",
       " (\"Not 'hiding the ball' on Russia: Obama\",\n",
       "  \"Obama says he's not 'hiding the ball' on Russia\",\n",
       "  tensor(0.8800),\n",
       "  tensor(0.1664, device='cuda:0', grad_fn=<UnbindBackward0>)),\n",
       " ('On War Criminals and Heroes: The Whitewashing of Ariel Sharon ŔÄ',\n",
       "  'On war criminals and heroes: The whitewashing of Ariel Sharon',\n",
       "  tensor(1.),\n",
       "  tensor(0.2333, device='cuda:0', grad_fn=<UnbindBackward0>)),\n",
       " (\"Hassan Rouhani wins Iran's presidential election\",\n",
       "  'Maduro wins Venezuelan presidential vote',\n",
       "  tensor(0.0400),\n",
       "  tensor(0.8306, device='cuda:0', grad_fn=<UnbindBackward0>))]"
      ]
     },
     "execution_count": 14,
     "metadata": {},
     "output_type": "execute_result"
    }
   ],
   "source": [
    "list(zip(test_set.select(worst_overdone)['sentence1'], test_set.select(worst_overdone)['sentence2'], test_scores[worst_overdone], test_preds[worst_overdone]))"
   ]
  }
 ],
 "metadata": {
  "kernelspec": {
   "display_name": "venv",
   "language": "python",
   "name": "venv"
  },
  "language_info": {
   "codemirror_mode": {
    "name": "ipython",
    "version": 3
   },
   "file_extension": ".py",
   "mimetype": "text/x-python",
   "name": "python",
   "nbconvert_exporter": "python",
   "pygments_lexer": "ipython3",
   "version": "3.11.9"
  }
 },
 "nbformat": 4,
 "nbformat_minor": 5
}
