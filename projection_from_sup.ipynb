{
 "cells": [
  {
   "cell_type": "markdown",
   "id": "ea55baec-0cab-4dbc-8958-7c43c287f470",
   "metadata": {},
   "source": [
    "### Hypothesis: What if we instead project all of the encoder vectors into some high dimensional space, add them together, and train THAT as our embedding vector?"
   ]
  },
  {
   "cell_type": "code",
   "execution_count": 1,
   "id": "4219dad1-3960-4a7c-a817-8cbae0a95aae",
   "metadata": {},
   "outputs": [],
   "source": [
    "import transformer_lens\n",
    "from datasets import load_dataset\n",
    "import torch\n",
    "import matplotlib.pyplot as plt\n",
    "import pandas as pd\n",
    "import torch.nn as nn\n",
    "import numpy as np\n",
    "\n",
    "import torch.nn.functional as F\n",
    "\n",
    "from tqdm import tqdm\n",
    "\n",
    "import random"
   ]
  },
  {
   "cell_type": "code",
   "execution_count": 2,
   "id": "6df28cd2-1819-4efa-a7dc-7170952551e4",
   "metadata": {},
   "outputs": [],
   "source": [
    "seed = 42\n",
    "torch.manual_seed(42)\n",
    "random.seed(42)\n",
    "np.random.seed(42)"
   ]
  },
  {
   "cell_type": "code",
   "execution_count": 3,
   "id": "5f3a0b97-4219-4ed2-b83c-568c7e6d77aa",
   "metadata": {},
   "outputs": [],
   "source": [
    "# Load datasets\n",
    "train_set = load_dataset(\"sentence-transformers/stsb\", split=\"train\")\n",
    "val_set   = load_dataset(\"sentence-transformers/stsb\", split=\"validation\")\n",
    "test_set  = load_dataset(\"sentence-transformers/stsb\", split=\"test\")\n",
    "\n",
    "first_train  = torch.load('gpt2_medium_train_acts_1.npy')\n",
    "second_train = torch.load('gpt2_medium_train_acts_2.npy')\n",
    "\n",
    "first_test = torch.load('gpt2_medium_test_acts_1.npy')\n",
    "second_test = torch.load('gpt2_medium_test_acts_2.npy')\n",
    "\n",
    "wikitext_acts = torch.load('generics_kb_50k_11132024.npy')\n",
    "\n",
    "train_scores = torch.Tensor(train_set['score'])\n",
    "test_scores = torch.Tensor(test_set['score'])"
   ]
  },
  {
   "cell_type": "markdown",
   "id": "6c93ce50-8417-4630-9730-639254771ad5",
   "metadata": {},
   "source": [
    "## Pretrain as normal"
   ]
  },
  {
   "cell_type": "code",
   "execution_count": 4,
   "id": "cee80f3b-034e-4c1b-99fc-cbec4583920e",
   "metadata": {},
   "outputs": [
    {
     "name": "stderr",
     "output_type": "stream",
     "text": [
      " 10%|████████▏                                                                         | 10/100 [06:16<56:48, 37.87s/it]"
     ]
    },
    {
     "name": "stdout",
     "output_type": "stream",
     "text": [
      "\n",
      "Epoch 10\n",
      "Train Losses - Early: 0.184, Mid: 0.898, Late: 5.714\n",
      "Test Losses  - Early: 1.204, Mid: 4.414, Late: 19.348\n"
     ]
    },
    {
     "name": "stderr",
     "output_type": "stream",
     "text": [
      " 20%|████████████████▍                                                                 | 20/100 [12:41<50:50, 38.13s/it]"
     ]
    },
    {
     "name": "stdout",
     "output_type": "stream",
     "text": [
      "\n",
      "Epoch 20\n",
      "Train Losses - Early: 0.152, Mid: 0.795, Late: 4.869\n",
      "Test Losses  - Early: 1.127, Mid: 4.224, Late: 17.565\n"
     ]
    },
    {
     "name": "stderr",
     "output_type": "stream",
     "text": [
      " 30%|████████████████████████▌                                                         | 30/100 [19:00<44:48, 38.41s/it]"
     ]
    },
    {
     "name": "stdout",
     "output_type": "stream",
     "text": [
      "\n",
      "Epoch 30\n",
      "Train Losses - Early: 0.138, Mid: 0.743, Late: 4.449\n",
      "Test Losses  - Early: 1.100, Mid: 4.059, Late: 16.621\n"
     ]
    },
    {
     "name": "stderr",
     "output_type": "stream",
     "text": [
      " 40%|████████████████████████████████▊                                                 | 40/100 [25:07<36:33, 36.56s/it]"
     ]
    },
    {
     "name": "stdout",
     "output_type": "stream",
     "text": [
      "\n",
      "Epoch 40\n",
      "Train Losses - Early: 0.129, Mid: 0.708, Late: 4.165\n",
      "Test Losses  - Early: 1.085, Mid: 3.957, Late: 15.596\n"
     ]
    },
    {
     "name": "stderr",
     "output_type": "stream",
     "text": [
      " 50%|█████████████████████████████████████████                                         | 50/100 [31:20<31:38, 37.97s/it]"
     ]
    },
    {
     "name": "stdout",
     "output_type": "stream",
     "text": [
      "\n",
      "Epoch 50\n",
      "Train Losses - Early: 0.123, Mid: 0.679, Late: 3.955\n",
      "Test Losses  - Early: 1.065, Mid: 3.873, Late: 15.075\n"
     ]
    },
    {
     "name": "stderr",
     "output_type": "stream",
     "text": [
      " 60%|█████████████████████████████████████████████████▏                                | 60/100 [37:30<24:21, 36.54s/it]"
     ]
    },
    {
     "name": "stdout",
     "output_type": "stream",
     "text": [
      "\n",
      "Epoch 60\n",
      "Train Losses - Early: 0.119, Mid: 0.657, Late: 3.793\n",
      "Test Losses  - Early: 1.058, Mid: 3.792, Late: 14.724\n"
     ]
    },
    {
     "name": "stderr",
     "output_type": "stream",
     "text": [
      " 70%|█████████████████████████████████████████████████████████▍                        | 70/100 [43:31<18:04, 36.16s/it]"
     ]
    },
    {
     "name": "stdout",
     "output_type": "stream",
     "text": [
      "\n",
      "Epoch 70\n",
      "Train Losses - Early: 0.115, Mid: 0.639, Late: 3.665\n",
      "Test Losses  - Early: 1.059, Mid: 3.743, Late: 14.318\n"
     ]
    },
    {
     "name": "stderr",
     "output_type": "stream",
     "text": [
      " 80%|█████████████████████████████████████████████████████████████████▌                | 80/100 [49:49<12:49, 38.50s/it]"
     ]
    },
    {
     "name": "stdout",
     "output_type": "stream",
     "text": [
      "\n",
      "Epoch 80\n",
      "Train Losses - Early: 0.113, Mid: 0.624, Late: 3.564\n",
      "Test Losses  - Early: 1.045, Mid: 3.692, Late: 14.070\n"
     ]
    },
    {
     "name": "stderr",
     "output_type": "stream",
     "text": [
      " 90%|█████████████████████████████████████████████████████████████████████████▊        | 90/100 [56:17<06:25, 38.55s/it]"
     ]
    },
    {
     "name": "stdout",
     "output_type": "stream",
     "text": [
      "\n",
      "Epoch 90\n",
      "Train Losses - Early: 0.111, Mid: 0.611, Late: 3.480\n",
      "Test Losses  - Early: 1.043, Mid: 3.667, Late: 13.804\n"
     ]
    },
    {
     "name": "stderr",
     "output_type": "stream",
     "text": [
      "100%|███████████████████████████████████████████████████████████████████████████████| 100/100 [1:02:25<00:00, 37.46s/it]"
     ]
    },
    {
     "name": "stdout",
     "output_type": "stream",
     "text": [
      "\n",
      "Epoch 100\n",
      "Train Losses - Early: 0.109, Mid: 0.600, Late: 3.406\n",
      "Test Losses  - Early: 1.040, Mid: 3.630, Late: 13.662\n"
     ]
    },
    {
     "name": "stderr",
     "output_type": "stream",
     "text": [
      "\n"
     ]
    },
    {
     "data": {
      "image/png": "[encoded data removed]",
      "text/plain": [
       "<Figure size 1200x400 with 1 Axes>"
      ]
     },
     "metadata": {},
     "output_type": "display_data"
    }
   ],
   "source": [
    "# We probably need to scale the hidden dimension based on how deep you are\n",
    "def get_hidden(i):\n",
    "    if i < 12:\n",
    "        return 1\n",
    "    else:\n",
    "        return 2\n",
    "\n",
    "class Autoencoder(nn.Module):\n",
    "    def __init__(self, layer_idx, d_in=1024, base_width=512, dropout_rate=0.1):\n",
    "        super().__init__()\n",
    "        hidden_mult = get_hidden(layer_idx)\n",
    "        d_hidden = int(base_width * hidden_mult)\n",
    "        d_mid = (d_in + d_hidden) // 2\n",
    "        \n",
    "        self.encode = nn.Sequential(\n",
    "            nn.LayerNorm(d_in),  # Add normalization\n",
    "            nn.Linear(d_in, d_mid),\n",
    "            nn.ReLU(),\n",
    "            nn.Dropout(dropout_rate),  # Move dropout after activation\n",
    "            nn.LayerNorm(d_mid),\n",
    "            nn.Linear(d_mid, d_hidden),\n",
    "            nn.ReLU(),\n",
    "            # Remove final dropout before bottleneck\n",
    "        )\n",
    "        \n",
    "        self.decode = nn.Sequential(\n",
    "            nn.LayerNorm(d_hidden),\n",
    "            nn.Linear(d_hidden, d_mid),\n",
    "            nn.ReLU(),\n",
    "            nn.Dropout(dropout_rate),\n",
    "            nn.LayerNorm(d_mid),\n",
    "            nn.Linear(d_mid, d_in)\n",
    "        )\n",
    "\n",
    "    def forward(self, x):\n",
    "        h = self.encode(x)\n",
    "        return self.decode(h)\n",
    "    \n",
    "\n",
    "n_layers = 24\n",
    "# Create layer-specific autoencoders\n",
    "encoders = [Autoencoder(i).cuda() for i in range(n_layers)]\n",
    "\n",
    "# Use different learning rates for different layers\n",
    "lrs = [3e-4 * (1 + (i/24)**2) for i in range(n_layers)]  \n",
    "optimizers = [torch.optim.AdamW(ae.parameters(), lr=lr, weight_decay=0.01) for ae, lr in zip(encoders, lrs)]\n",
    "\n",
    "# Modified training loop with layer-specific logging\n",
    "def train_epoch(models, acts, optimizers, batch_size=64):\n",
    "    indices = torch.randperm(acts.shape[0])\n",
    "    shuffled_acts = acts[indices]\n",
    "    \n",
    "    losses = []\n",
    "    n_batches = shuffled_acts.shape[0] // batch_size\n",
    "    \n",
    "    for batch in range(n_batches):\n",
    "        start_idx = batch * batch_size\n",
    "        end_idx = (batch + 1) * batch_size\n",
    "        \n",
    "        batch_losses = []\n",
    "        for i, (model, optimizer) in enumerate(zip(models, optimizers)):\n",
    "            model.train()\n",
    "            batch_i = shuffled_acts[start_idx:end_idx, i].cuda()\n",
    "            \n",
    "            optimizer.zero_grad()\n",
    "            loss = F.mse_loss(model(batch_i), batch_i)\n",
    "            loss.backward()\n",
    "            optimizer.step()\n",
    "            \n",
    "            batch_losses.append(loss.item())\n",
    "        \n",
    "        losses.append(batch_losses)\n",
    "    \n",
    "    return np.mean(losses, axis=0)\n",
    "\n",
    "# Training with more detailed monitoring\n",
    "early_layers_history = []\n",
    "mid_layers_history = []\n",
    "late_layers_history = []\n",
    "\n",
    "all_acts = wikitext_acts\n",
    "all_test_acts = torch.concat((first_test, second_test), axis=0)\n",
    "\n",
    "for epoch in tqdm(range(100)):\n",
    "    losses = train_epoch(encoders, all_acts, optimizers)\n",
    "    \n",
    "    # Track different layer groups\n",
    "    early_layers_history.append(np.mean(losses[:8]))\n",
    "    mid_layers_history.append(np.mean(losses[8:16]))\n",
    "    late_layers_history.append(np.mean(losses[16:]))\n",
    "    \n",
    "    if (epoch+1) % 10 == 0:\n",
    "        with torch.no_grad():\n",
    "            [model.eval() for model in encoders]\n",
    "            \n",
    "            # Test losses by layer group\n",
    "            test_preds = [encoders[i](all_test_acts[:, i].cuda()).cpu() for i in range(n_layers)]\n",
    "            test_losses = [F.mse_loss(pred, all_test_acts[:, i]).item() for i, pred in enumerate(test_preds)]\n",
    "            \n",
    "            print(f\"\\nEpoch {epoch+1}\")\n",
    "            print(f\"Train Losses - Early: {early_layers_history[-1]:.3f}, \"\n",
    "                  f\"Mid: {mid_layers_history[-1]:.3f}, \"\n",
    "                  f\"Late: {late_layers_history[-1]:.3f}\")\n",
    "            print(f\"Test Losses  - Early: {np.mean(test_losses[:8]):.3f}, \"\n",
    "                  f\"Mid: {np.mean(test_losses[8:16]):.3f}, \"\n",
    "                  f\"Late: {np.mean(test_losses[16:]):.3f}\")\n",
    "\n",
    "# Plot training curves\n",
    "plt.figure(figsize=(12, 4))\n",
    "plt.plot(early_layers_history, label='Early Layers (0-7)')\n",
    "plt.plot(mid_layers_history, label='Mid Layers (8-15)')\n",
    "plt.plot(late_layers_history, label='Late Layers (16-23)')\n",
    "plt.title('Reconstruction Loss by Layer Group')\n",
    "plt.xlabel('Epoch')\n",
    "plt.ylabel('MSE Loss')\n",
    "plt.legend()\n",
    "plt.yscale('log')\n",
    "plt.grid(True)\n",
    "plt.show()"
   ]
  },
  {
   "cell_type": "code",
   "execution_count": 5,
   "id": "762b6647-3f29-4b2d-80f6-c1dff5204849",
   "metadata": {},
   "outputs": [
    {
     "data": {
      "image/png": "[encoded data removed]",
      "text/plain": [
       "<Figure size 640x480 with 1 Axes>"
      ]
     },
     "metadata": {},
     "output_type": "display_data"
    },
    {
     "data": {
      "text/plain": [
       "[0.10625996440649033,\n",
       " 0.10733399540185928,\n",
       " 0.12654103338718414,\n",
       " 0.1328340470790863,\n",
       " 0.16723349690437317,\n",
       " 0.19336193799972534,\n",
       " 0.1940738558769226,\n",
       " 0.18620836734771729,\n",
       " 0.21352900564670563,\n",
       " 0.1972704380750656,\n",
       " 0.20632071793079376,\n",
       " 0.19440458714962006,\n",
       " 0.19204546511173248,\n",
       " 0.1936216503381729,\n",
       " 0.21976599097251892,\n",
       " 0.2071915715932846,\n",
       " 0.24008356034755707,\n",
       " 0.25145423412323,\n",
       " 0.2622762620449066,\n",
       " 0.2862793505191803,\n",
       " 0.3163154423236847,\n",
       " 0.3226962685585022,\n",
       " 0.3417021632194519,\n",
       " 0.2912500500679016]"
      ]
     },
     "execution_count": 5,
     "metadata": {},
     "output_type": "execute_result"
    }
   ],
   "source": [
    "from copy import deepcopy\n",
    "from torch.nn.functional import cosine_similarity\n",
    "def plot_autoencoder_corr(encs):\n",
    "    [m.eval() for m in encs]\n",
    "    \n",
    "    # Do a forward pass on each encoder for each pair of training sentences and collect the cosine distances\n",
    "    batch_size = 32\n",
    "    n_batches = first_test.shape[0] // batch_size\n",
    "    \n",
    "    corrs = []\n",
    "    for l in range(n_layers):\n",
    "        distances = []\n",
    "        for i in range(n_batches+1):\n",
    "            f = first_test[i*batch_size: (i+1)*batch_size, l,:]\n",
    "            s = second_test[i*batch_size: (i+1)*batch_size, l, :]\n",
    "        \n",
    "            f_embed = encs[l](f.cuda())\n",
    "            s_embed = encs[l](s.cuda())\n",
    "        \n",
    "            sims = cosine_similarity(f_embed, s_embed, dim=-1)\n",
    "        \n",
    "            distances.append(sims)\n",
    "    \n",
    "        corr = torch.corrcoef(torch.stack([torch.cat(distances).cpu(), test_scores]))[1][0]\n",
    "        corrs.append(corr.item())\n",
    "    \n",
    "    plt.title(\"Autoencoder distance correlation by layer\")\n",
    "    plt.plot(corrs)\n",
    "    plt.show()\n",
    "\n",
    "    return corrs\n",
    "\n",
    "encs = [deepcopy(ae.encode).cuda() for ae in encoders]\n",
    "plot_autoencoder_corr(encs)"
   ]
  },
  {
   "cell_type": "code",
   "execution_count": 6,
   "id": "3f592b4a-4fe5-4477-a17e-5d3f2c399040",
   "metadata": {},
   "outputs": [
    {
     "data": {
      "image/png": "[encoded data removed]",
      "text/plain": [
       "<Figure size 640x480 with 1 Axes>"
      ]
     },
     "metadata": {},
     "output_type": "display_data"
    }
   ],
   "source": [
    "# Use different learning rates for different layers\n",
    "lrs = [3e-4 * (1 + i/24) for i in range(n_layers)]  # Higher lr for harder layers. From 3e-4 -> 3e-4*3\n",
    "\n",
    "sup_encs = [deepcopy(ae.encode).cuda() for ae in encoders]\n",
    "\n",
    "optimizers = [torch.optim.AdamW(ae.parameters(), lr=lr, weight_decay=0.01) for ae, lr in zip(sup_encs, lrs)]\n",
    "\n",
    "# Modified training loop with layer-specific logging\n",
    "def train_epoch(models, first, second, scores, optimizers, batch_size=64):\n",
    "    indices = torch.randperm(first.shape[0])\n",
    "    first_shuffled = first[indices]\n",
    "    second_shuffled = second[indices]\n",
    "    scores_shuffled = scores[indices]\n",
    "    \n",
    "    losses = []\n",
    "    n_batches = first_shuffled.shape[0] // batch_size\n",
    "    \n",
    "    for batch in range(n_batches):\n",
    "        start_idx = batch * batch_size\n",
    "        end_idx = (batch + 1) * batch_size\n",
    "        \n",
    "        batch_losses = []\n",
    "        for i, (model, optimizer) in enumerate(zip(models, optimizers)):\n",
    "            model.train()\n",
    "            first_batch = first_shuffled[start_idx:end_idx, i].cuda()\n",
    "            second_batch = second_shuffled[start_idx:end_idx, i].cuda()\n",
    "            scores_batch = scores_shuffled[start_idx:end_idx].cuda()\n",
    "            \n",
    "            optimizer.zero_grad()\n",
    "            \n",
    "            f = model(first_batch)\n",
    "            s = model(second_batch)\n",
    "\n",
    "            sims = F.cosine_similarity(f, s, dim=-1)\n",
    "            \n",
    "            loss = F.mse_loss(sims, scores_batch)\n",
    "            loss.backward()\n",
    "            optimizer.step()\n",
    "            \n",
    "            batch_losses.append(loss.item())\n",
    "        \n",
    "        losses.append(batch_losses)\n",
    "    \n",
    "    return np.mean(losses, axis=0)\n",
    "\n",
    "losses = train_epoch(sup_encs, first_train, second_train, train_scores, optimizers)\n",
    "\n",
    "# Track different layer groups\n",
    "early_layers_history.append(np.mean(losses[:8]))\n",
    "mid_layers_history.append(np.mean(losses[8:16]))\n",
    "late_layers_history.append(np.mean(losses[16:]))\n",
    "\n",
    "with torch.no_grad():\n",
    "    plot_autoencoder_corr(sup_encs)"
   ]
  },
  {
   "cell_type": "code",
   "execution_count": 11,
   "id": "1eb8ee7b-17d1-4699-bdee-c6faf918c7d7",
   "metadata": {},
   "outputs": [],
   "source": [
    "class LayerwiseSiameseNetworks(nn.Module):\n",
    "    def __init__(self, encoders,n_layers=24, d_in=1024, d_hidden=256, final_embed=2048, dropout=0.2):\n",
    "        super().__init__()\n",
    "        self.n_layers = n_layers\n",
    "        self.layer_nets = nn.ModuleList([\n",
    "            nn.Sequential(\n",
    "                encoders[i],\n",
    "                nn.Linear(get_hidden(i) * 512, d_hidden),\n",
    "                nn.Dropout(dropout),  # After normalization, before activation\n",
    "                nn.ReLU(),\n",
    "                nn.Linear(d_hidden, d_hidden),\n",
    "                nn.Dropout(dropout),  # After normalization, before activation\n",
    "                nn.ReLU(),\n",
    "                nn.Linear(d_hidden, final_embed),\n",
    "            ) for i in range(n_layers)])\n",
    "\n",
    "        self.layer_weights = nn.Parameter(torch.ones(n_layers), requires_grad = True)\n",
    "        \n",
    "    def forward(self, x):\n",
    "        embeds = []\n",
    "        for layer in range(self.n_layers):\n",
    "            net_at_layer = self.layer_nets[layer].cuda()\n",
    "            # Get the activations at the given layer\n",
    "            x_l = x[:, layer].cuda()\n",
    "\n",
    "            embed_at_layer = net_at_layer(x_l)\n",
    "            embeds.append(embed_at_layer)\n",
    "\n",
    "        weights = F.softmax(self.layer_weights, dim=0).view(-1, 1, 1) \n",
    "        stacked = torch.stack(embeds, dim=0)         # Shape: (n_layers, batch_size, embedding_dim)\n",
    "        summed = (stacked * weights).sum(dim=0)      # Shape: (batch_size, embedding_dim)\n",
    "        return summed\n",
    "        \n",
    "class SimilarityLearner(nn.Module):\n",
    "    def __init__(self, encoders, n_layers=24, d_in=1024, d_hidden=256, final_embed=2048, dropout=0.1):\n",
    "        super().__init__()\n",
    "        self.layer_nets = LayerwiseSiameseNetworks(encoders, n_layers, d_in, d_hidden, final_embed)\n",
    "\n",
    "        self.mlp = nn.Sequential(\n",
    "            nn.Linear(final_embed, final_embed),\n",
    "            nn.Dropout(dropout),  # Add dropout after normalization\n",
    "            nn.GELU(),\n",
    "        )\n",
    "\n",
    "    def forward(self, x1, x2, training=True):\n",
    "        x_1_embed = self.mlp(self.layer_nets(x1))\n",
    "        x_2_embed = self.mlp(self.layer_nets(x2))\n",
    "\n",
    "        similarity = F.cosine_similarity(x_1_embed, x_2_embed, dim=-1)        \n",
    "        return similarity.squeeze()"
   ]
  },
  {
   "cell_type": "code",
   "execution_count": 12,
   "id": "d6cd9a7c-6a3b-4ff4-bbdb-b538b3763cf9",
   "metadata": {},
   "outputs": [
    {
     "name": "stderr",
     "output_type": "stream",
     "text": [
      " 20%|████████████████▌                                                                  | 10/50 [01:53<07:40, 11.51s/it]"
     ]
    },
    {
     "name": "stdout",
     "output_type": "stream",
     "text": [
      "Epoch 10\n",
      "Loss: 0.1168\n",
      "Train correlation: 0.8818\n",
      "Test correlation: 0.5868\n",
      "\n"
     ]
    },
    {
     "name": "stderr",
     "output_type": "stream",
     "text": [
      " 20%|████████████████▌                                                                  | 10/50 [02:02<08:09, 12.23s/it]\n"
     ]
    },
    {
     "ename": "KeyboardInterrupt",
     "evalue": "",
     "output_type": "error",
     "traceback": [
      "\u001b[0;31m---------------------------------------------------------------------------\u001b[0m",
      "\u001b[0;31mKeyboardInterrupt\u001b[0m                         Traceback (most recent call last)",
      "Cell \u001b[0;32mIn[12], line 43\u001b[0m\n\u001b[1;32m     39\u001b[0m best_model \u001b[38;5;241m=\u001b[39m \u001b[38;5;28;01mNone\u001b[39;00m\n\u001b[1;32m     41\u001b[0m \u001b[38;5;28;01mfor\u001b[39;00m epoch \u001b[38;5;129;01min\u001b[39;00m tqdm(\u001b[38;5;28mrange\u001b[39m(\u001b[38;5;241m50\u001b[39m)):\n\u001b[1;32m     42\u001b[0m     \u001b[38;5;66;03m# Training\u001b[39;00m\n\u001b[0;32m---> 43\u001b[0m     loss \u001b[38;5;241m=\u001b[39m \u001b[43mtrain_epoch\u001b[49m\u001b[43m(\u001b[49m\u001b[43msimilarity_learner\u001b[49m\u001b[43m,\u001b[49m\u001b[43m \u001b[49m\u001b[43mfirst_train\u001b[49m\u001b[43m,\u001b[49m\u001b[43m \u001b[49m\u001b[43msecond_train\u001b[49m\u001b[43m,\u001b[49m\u001b[43m \u001b[49m\u001b[43mtrain_scores\u001b[49m\u001b[43m,\u001b[49m\u001b[43m \u001b[49m\u001b[43moptimizer\u001b[49m\u001b[43m)\u001b[49m\n\u001b[1;32m     45\u001b[0m     \u001b[38;5;66;03m# Evaluation\u001b[39;00m\n\u001b[1;32m     46\u001b[0m     similarity_learner\u001b[38;5;241m.\u001b[39meval()\n",
      "Cell \u001b[0;32mIn[12], line 31\u001b[0m, in \u001b[0;36mtrain_epoch\u001b[0;34m(model, first_acts, second_acts, scores, optimizer, batch_size)\u001b[0m\n\u001b[1;32m     28\u001b[0m sims \u001b[38;5;241m=\u001b[39m model(x1_batch, x2_batch)\n\u001b[1;32m     30\u001b[0m loss \u001b[38;5;241m=\u001b[39m F\u001b[38;5;241m.\u001b[39ml1_loss(sims, scores_batch)        \n\u001b[0;32m---> 31\u001b[0m \u001b[43mloss\u001b[49m\u001b[38;5;241;43m.\u001b[39;49m\u001b[43mbackward\u001b[49m\u001b[43m(\u001b[49m\u001b[43m)\u001b[49m\n\u001b[1;32m     32\u001b[0m optimizer\u001b[38;5;241m.\u001b[39mstep()\n\u001b[1;32m     34\u001b[0m total_loss \u001b[38;5;241m+\u001b[39m\u001b[38;5;241m=\u001b[39m loss\u001b[38;5;241m.\u001b[39mitem()\n",
      "File \u001b[0;32m/nix/store/d8vwnsiywsszv6lvz24bk1447pjlzfwa-python3.11-torch-2.3.0/lib/python3.11/site-packages/torch/_tensor.py:525\u001b[0m, in \u001b[0;36mTensor.backward\u001b[0;34m(self, gradient, retain_graph, create_graph, inputs)\u001b[0m\n\u001b[1;32m    515\u001b[0m \u001b[38;5;28;01mif\u001b[39;00m has_torch_function_unary(\u001b[38;5;28mself\u001b[39m):\n\u001b[1;32m    516\u001b[0m     \u001b[38;5;28;01mreturn\u001b[39;00m handle_torch_function(\n\u001b[1;32m    517\u001b[0m         Tensor\u001b[38;5;241m.\u001b[39mbackward,\n\u001b[1;32m    518\u001b[0m         (\u001b[38;5;28mself\u001b[39m,),\n\u001b[0;32m   (...)\u001b[0m\n\u001b[1;32m    523\u001b[0m         inputs\u001b[38;5;241m=\u001b[39minputs,\n\u001b[1;32m    524\u001b[0m     )\n\u001b[0;32m--> 525\u001b[0m \u001b[43mtorch\u001b[49m\u001b[38;5;241;43m.\u001b[39;49m\u001b[43mautograd\u001b[49m\u001b[38;5;241;43m.\u001b[39;49m\u001b[43mbackward\u001b[49m\u001b[43m(\u001b[49m\n\u001b[1;32m    526\u001b[0m \u001b[43m    \u001b[49m\u001b[38;5;28;43mself\u001b[39;49m\u001b[43m,\u001b[49m\u001b[43m \u001b[49m\u001b[43mgradient\u001b[49m\u001b[43m,\u001b[49m\u001b[43m \u001b[49m\u001b[43mretain_graph\u001b[49m\u001b[43m,\u001b[49m\u001b[43m \u001b[49m\u001b[43mcreate_graph\u001b[49m\u001b[43m,\u001b[49m\u001b[43m \u001b[49m\u001b[43minputs\u001b[49m\u001b[38;5;241;43m=\u001b[39;49m\u001b[43minputs\u001b[49m\n\u001b[1;32m    527\u001b[0m \u001b[43m\u001b[49m\u001b[43m)\u001b[49m\n",
      "File \u001b[0;32m/nix/store/d8vwnsiywsszv6lvz24bk1447pjlzfwa-python3.11-torch-2.3.0/lib/python3.11/site-packages/torch/autograd/__init__.py:267\u001b[0m, in \u001b[0;36mbackward\u001b[0;34m(tensors, grad_tensors, retain_graph, create_graph, grad_variables, inputs)\u001b[0m\n\u001b[1;32m    262\u001b[0m     retain_graph \u001b[38;5;241m=\u001b[39m create_graph\n\u001b[1;32m    264\u001b[0m \u001b[38;5;66;03m# The reason we repeat the same comment below is that\u001b[39;00m\n\u001b[1;32m    265\u001b[0m \u001b[38;5;66;03m# some Python versions print out the first line of a multi-line function\u001b[39;00m\n\u001b[1;32m    266\u001b[0m \u001b[38;5;66;03m# calls in the traceback and some print out the last line\u001b[39;00m\n\u001b[0;32m--> 267\u001b[0m \u001b[43m_engine_run_backward\u001b[49m\u001b[43m(\u001b[49m\n\u001b[1;32m    268\u001b[0m \u001b[43m    \u001b[49m\u001b[43mtensors\u001b[49m\u001b[43m,\u001b[49m\n\u001b[1;32m    269\u001b[0m \u001b[43m    \u001b[49m\u001b[43mgrad_tensors_\u001b[49m\u001b[43m,\u001b[49m\n\u001b[1;32m    270\u001b[0m \u001b[43m    \u001b[49m\u001b[43mretain_graph\u001b[49m\u001b[43m,\u001b[49m\n\u001b[1;32m    271\u001b[0m \u001b[43m    \u001b[49m\u001b[43mcreate_graph\u001b[49m\u001b[43m,\u001b[49m\n\u001b[1;32m    272\u001b[0m \u001b[43m    \u001b[49m\u001b[43minputs\u001b[49m\u001b[43m,\u001b[49m\n\u001b[1;32m    273\u001b[0m \u001b[43m    \u001b[49m\u001b[43mallow_unreachable\u001b[49m\u001b[38;5;241;43m=\u001b[39;49m\u001b[38;5;28;43;01mTrue\u001b[39;49;00m\u001b[43m,\u001b[49m\n\u001b[1;32m    274\u001b[0m \u001b[43m    \u001b[49m\u001b[43maccumulate_grad\u001b[49m\u001b[38;5;241;43m=\u001b[39;49m\u001b[38;5;28;43;01mTrue\u001b[39;49;00m\u001b[43m,\u001b[49m\n\u001b[1;32m    275\u001b[0m \u001b[43m\u001b[49m\u001b[43m)\u001b[49m\n",
      "File \u001b[0;32m/nix/store/d8vwnsiywsszv6lvz24bk1447pjlzfwa-python3.11-torch-2.3.0/lib/python3.11/site-packages/torch/autograd/graph.py:744\u001b[0m, in \u001b[0;36m_engine_run_backward\u001b[0;34m(t_outputs, *args, **kwargs)\u001b[0m\n\u001b[1;32m    742\u001b[0m     unregister_hooks \u001b[38;5;241m=\u001b[39m _register_logging_hooks_on_whole_graph(t_outputs)\n\u001b[1;32m    743\u001b[0m \u001b[38;5;28;01mtry\u001b[39;00m:\n\u001b[0;32m--> 744\u001b[0m     \u001b[38;5;28;01mreturn\u001b[39;00m \u001b[43mVariable\u001b[49m\u001b[38;5;241;43m.\u001b[39;49m\u001b[43m_execution_engine\u001b[49m\u001b[38;5;241;43m.\u001b[39;49m\u001b[43mrun_backward\u001b[49m\u001b[43m(\u001b[49m\u001b[43m  \u001b[49m\u001b[38;5;66;43;03m# Calls into the C++ engine to run the backward pass\u001b[39;49;00m\n\u001b[1;32m    745\u001b[0m \u001b[43m        \u001b[49m\u001b[43mt_outputs\u001b[49m\u001b[43m,\u001b[49m\u001b[43m \u001b[49m\u001b[38;5;241;43m*\u001b[39;49m\u001b[43margs\u001b[49m\u001b[43m,\u001b[49m\u001b[43m \u001b[49m\u001b[38;5;241;43m*\u001b[39;49m\u001b[38;5;241;43m*\u001b[39;49m\u001b[43mkwargs\u001b[49m\n\u001b[1;32m    746\u001b[0m \u001b[43m    \u001b[49m\u001b[43m)\u001b[49m  \u001b[38;5;66;03m# Calls into the C++ engine to run the backward pass\u001b[39;00m\n\u001b[1;32m    747\u001b[0m \u001b[38;5;28;01mfinally\u001b[39;00m:\n\u001b[1;32m    748\u001b[0m     \u001b[38;5;28;01mif\u001b[39;00m attach_logging_hooks:\n",
      "\u001b[0;31mKeyboardInterrupt\u001b[0m: "
     ]
    }
   ],
   "source": [
    "from copy import deepcopy\n",
    "cloned_encoders = deepcopy(sup_encs)\n",
    "\n",
    "similarity_learner = SimilarityLearner(cloned_encoders, d_hidden=256).to('cuda:0')\n",
    "# similarity_learner = SimilarityLearner([Autoencoder(i).encode for i in range(24)], d_hidden=512).to('cuda:0')\n",
    "optimizer = torch.optim.Adam(similarity_learner.parameters(), lr=3e-4)\n",
    "\n",
    "def train_epoch(model, first_acts, second_acts, scores, optimizer, batch_size=32):\n",
    "    indices = torch.randperm(first_acts.shape[0])\n",
    "    shuffled_first = first_acts[indices]\n",
    "    shuffled_second = second_acts[indices]\n",
    "    shuffled_scores = scores[indices]\n",
    "\n",
    "    model.train()\n",
    "    total_loss = 0\n",
    "    n_batches = first_acts.shape[0] // batch_size\n",
    "    \n",
    "    for batch in range(n_batches):\n",
    "        start_idx = batch * batch_size\n",
    "        end_idx = (batch + 1) * batch_size\n",
    "        \n",
    "        x1_batch = shuffled_first[start_idx:end_idx].cuda()\n",
    "        x2_batch = shuffled_second[start_idx:end_idx].cuda()\n",
    "        scores_batch = shuffled_scores[start_idx:end_idx].cuda()\n",
    "        \n",
    "        optimizer.zero_grad()\n",
    "        \n",
    "        sims = model(x1_batch, x2_batch)\n",
    "        \n",
    "        loss = F.l1_loss(sims, scores_batch)        \n",
    "        loss.backward()\n",
    "        optimizer.step()\n",
    "        \n",
    "        total_loss += loss.item()\n",
    "    \n",
    "    return total_loss / n_batches\n",
    "\n",
    "best_test_corr = 0\n",
    "best_model = None\n",
    "\n",
    "for epoch in tqdm(range(50)):\n",
    "    # Training\n",
    "    loss = train_epoch(similarity_learner, first_train, second_train, train_scores, optimizer)\n",
    "    \n",
    "    # Evaluation\n",
    "    similarity_learner.eval()\n",
    "    with torch.no_grad():\n",
    "        # Print progress every 10 epochs\n",
    "        if (epoch + 1) % 10 == 0:\n",
    "            # Get training correlations\n",
    "            train_preds = similarity_learner(first_train.cuda(), second_train.cuda(), training=False)\n",
    "            train_corr = torch.corrcoef(torch.stack([train_preds.cpu(), train_scores]))[0,1]\n",
    "            \n",
    "            # Get test correlations\n",
    "            test_preds = similarity_learner(first_test.cuda(), second_test.cuda(), training=False)\n",
    "            test_corr = torch.corrcoef(torch.stack([test_preds.cpu(), test_scores]))[0,1]\n",
    "\n",
    "            if test_corr > best_test_corr:\n",
    "                best_test_corr = test_corr\n",
    "                best_model = deepcopy(similarity_learner)\n",
    "\n",
    "            print(f\"Epoch {epoch+1}\")\n",
    "            print(f\"Loss: {loss:.4f}\")\n",
    "            print(f\"Train correlation: {train_corr:.4f}\")\n",
    "            print(f\"Test correlation: {test_corr:.4f}\\n\")"
   ]
  },
  {
   "cell_type": "code",
   "execution_count": null,
   "id": "a2a928ad-c5c7-458e-af87-58eb87629c8d",
   "metadata": {},
   "outputs": [],
   "source": [
    "sum([w.numel() for w in best_model.parameters()])"
   ]
  }
 ],
 "metadata": {
  "kernelspec": {
   "display_name": "venv",
   "language": "python",
   "name": "venv"
  },
  "language_info": {
   "codemirror_mode": {
    "name": "ipython",
    "version": 3
   },
   "file_extension": ".py",
   "mimetype": "text/x-python",
   "name": "python",
   "nbconvert_exporter": "python",
   "pygments_lexer": "ipython3",
   "version": "3.11.9"
  }
 },
 "nbformat": 4,
 "nbformat_minor": 5
}
