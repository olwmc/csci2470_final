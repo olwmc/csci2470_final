{
 "cells": [
  {
   "cell_type": "code",
   "execution_count": 1,
   "id": "23b1fb6b-31e3-459f-9850-7c6b05b285f1",
   "metadata": {},
   "outputs": [],
   "source": [
    "import transformer_lens\n",
    "from datasets import load_dataset\n",
    "import torch\n",
    "import matplotlib.pyplot as plt\n",
    "import pandas as pd\n",
    "import torch.nn as nn\n",
    "from sklearn.decomposition import PCA\n",
    "import numpy as np\n",
    "\n",
    "import torch.nn.functional as F\n",
    "\n",
    "from tqdm import tqdm\n",
    "from scipy.stats import spearmanr"
   ]
  },
  {
   "cell_type": "code",
   "execution_count": 2,
   "id": "08b365b4-6b67-478e-a913-77052638838d",
   "metadata": {},
   "outputs": [],
   "source": [
    "# Load datasets\n",
    "train_set = load_dataset(\"sentence-transformers/stsb\", split=\"train\")\n",
    "test_set  = load_dataset(\"sentence-transformers/stsb\", split=\"test\")\n",
    "\n",
    "first_train  = torch.load('gpt2_medium_train_acts_1.npy')\n",
    "second_train = torch.load('gpt2_medium_train_acts_2.npy')\n",
    "\n",
    "first_test = torch.load('gpt2_medium_test_acts_1.npy')\n",
    "second_test = torch.load('gpt2_medium_test_acts_2.npy')\n",
    "\n",
    "train_scores = torch.Tensor(train_set['score'])\n",
    "test_scores = torch.Tensor(test_set['score'])"
   ]
  },
  {
   "cell_type": "code",
   "execution_count": 3,
   "id": "a9ad84a8-45f8-4880-b749-7f149ed74964",
   "metadata": {},
   "outputs": [
    {
     "name": "stderr",
     "output_type": "stream",
     "text": [
      "100%|██████████████████████████████████████████████████████████████████████████████████████████████████████████████████████████████████████████████████████████████████████████████| 100/100 [00:11<00:00,  8.87it/s]"
     ]
    },
    {
     "name": "stdout",
     "output_type": "stream",
     "text": [
      "tensor([[1.0000, 0.3868],\n",
      "        [0.3868, 1.0000]], grad_fn=<ClampBackward1>)\n",
      "tensor([[1.0000, 0.3651],\n",
      "        [0.3651, 1.0000]], grad_fn=<ClampBackward1>)\n"
     ]
    },
    {
     "name": "stderr",
     "output_type": "stream",
     "text": [
      "\n"
     ]
    }
   ],
   "source": [
    "# Calculate layerwise cosine distance\n",
    "def calculate_cosine_distance(first, second):\n",
    "    cos = torch.nn.functional.cosine_similarity\n",
    "    \n",
    "    sims = []\n",
    "    bn, n_layers, d_model = first.shape\n",
    "    \n",
    "    for f, s in zip(first, second):\n",
    "        sims.append(cos(f,s))\n",
    "\n",
    "    sims_t = torch.stack(sims)\n",
    "    return (sims_t - sims_t.mean()) / sims_t.std()\n",
    "\n",
    "train_cosines = calculate_cosine_distance(first_train, second_train)\n",
    "test_cosines = calculate_cosine_distance(first_test, second_test)\n",
    "\n",
    "# Obvious simple model\n",
    "class CosineWeighter(nn.Module):\n",
    "    def __init__(self, n_layers=24, d_hidden=128):\n",
    "        super().__init__()\n",
    "        self.fc1 = nn.Linear(n_layers, d_hidden)\n",
    "        self.out = nn.Linear(d_hidden, 1)\n",
    "\n",
    "    def forward(self, x):\n",
    "        h = F.relu(self.fc1(x))\n",
    "        h = F.sigmoid(self.out(h))\n",
    "        \n",
    "        return h.squeeze()\n",
    "\n",
    "cw = CosineWeighter().to('cuda:0')\n",
    "\n",
    "optimizer = torch.optim.AdamW(cw.parameters(), lr=3e-4)\n",
    "loss_fn = torch.nn.MSELoss()\n",
    "\n",
    "def epoch(model, sim_data, scores, batch_size=32):\n",
    "    model.train()\n",
    "\n",
    "    n_batches = sim_data.shape[0] // batch_size\n",
    "\n",
    "    for batch in range(n_batches):\n",
    "        data_batch   = sim_data[batch*batch_size: (batch+1) * batch_size].to('cuda:0')\n",
    "        scores_batch = torch.Tensor(scores[batch*batch_size: (batch+1) * batch_size]).to('cuda:0')\n",
    "\n",
    "        optimizer.zero_grad()\n",
    "\n",
    "        outputs = model(data_batch)\n",
    "        loss = loss_fn(outputs, scores_batch)\n",
    "\n",
    "        loss.backward()\n",
    "\n",
    "        optimizer.step()\n",
    "\n",
    "    return loss.item()\n",
    "\n",
    "# Train obvious simple model\n",
    "for _ in tqdm(range(100)):\n",
    "    epoch(cw, train_cosines, train_scores)\n",
    "\n",
    "print(torch.corrcoef(torch.stack([cw.to('cpu')(test_cosines), test_scores])))\n",
    "print(torch.corrcoef(torch.stack([cw.to('cpu')(train_cosines), train_scores])))"
   ]
  }
 ],
 "metadata": {
  "kernelspec": {
   "display_name": "venv",
   "language": "python",
   "name": "venv"
  },
  "language_info": {
   "codemirror_mode": {
    "name": "ipython",
    "version": 3
   },
   "file_extension": ".py",
   "mimetype": "text/x-python",
   "name": "python",
   "nbconvert_exporter": "python",
   "pygments_lexer": "ipython3",
   "version": "3.11.9"
  }
 },
 "nbformat": 4,
 "nbformat_minor": 5
}
