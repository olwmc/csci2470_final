{
 "cells": [
  {
   "cell_type": "code",
   "execution_count": 1,
   "id": "40ce0354-469d-48d5-bad3-efaf15719e66",
   "metadata": {},
   "outputs": [],
   "source": [
    "import transformer_lens\n",
    "from datasets import load_dataset\n",
    "import torch\n",
    "import matplotlib.pyplot as plt\n",
    "import pandas as pd\n",
    "import torch.nn as nn\n",
    "from sklearn.decomposition import PCA\n",
    "import numpy as np\n",
    "\n",
    "import torch.nn.functional as F\n",
    "\n",
    "from tqdm import tqdm\n",
    "from scipy.stats import spearmanr\n",
    "\n",
    "import random\n",
    "\n",
    "from copy import deepcopy"
   ]
  },
  {
   "cell_type": "code",
   "execution_count": 2,
   "id": "c68f3810-66e8-4c3e-ac8e-46bd1ab88ca8",
   "metadata": {},
   "outputs": [],
   "source": [
    "torch.manual_seed(42)\n",
    "random.seed(42)\n",
    "np.random.seed(42)"
   ]
  },
  {
   "cell_type": "code",
   "execution_count": 3,
   "id": "d08f78e6-bd56-47fd-8134-cb462c46ec32",
   "metadata": {},
   "outputs": [],
   "source": [
    "# Load datasets\n",
    "train_set = load_dataset(\"sentence-transformers/stsb\", split=\"train\")\n",
    "test_set  = load_dataset(\"sentence-transformers/stsb\", split=\"test\")\n",
    "\n",
    "first_train  = torch.load('gpt2_medium_train_acts_1.npy')\n",
    "second_train = torch.load('gpt2_medium_train_acts_2.npy')\n",
    "\n",
    "first_test = torch.load('gpt2_medium_test_acts_1.npy')\n",
    "second_test = torch.load('gpt2_medium_test_acts_2.npy')\n",
    "\n",
    "train_scores = torch.Tensor(train_set['score'])\n",
    "test_scores = torch.Tensor(test_set['score'])"
   ]
  },
  {
   "cell_type": "code",
   "execution_count": 4,
   "id": "6b1a5c33-3aa2-4500-a23e-d90d3c0fc2c3",
   "metadata": {},
   "outputs": [],
   "source": [
    "class SiameseNetwork(nn.Module):\n",
    "    def __init__(self, d_in=1024, d_hidden=256):\n",
    "        super().__init__()\n",
    "        self.mlp = nn.Sequential(\n",
    "            nn.Linear(d_in, d_hidden),\n",
    "            nn.LayerNorm(d_hidden),\n",
    "            nn.GELU(),\n",
    "            nn.Linear(d_hidden, d_hidden),\n",
    "            nn.GELU(),\n",
    "            nn.Linear(d_hidden, d_hidden)\n",
    "        )\n",
    "\n",
    "    def forward(self, x1, x2):\n",
    "        h1 = self.mlp(x1)\n",
    "        h2 = self.mlp(x2)\n",
    "        return F.cosine_similarity(h1, h2, dim=-1)\n",
    "\n",
    "class LayerwiseSiameseNetworks(nn.Module):\n",
    "    def __init__(self, n_layers=24, d_in=1024, d_hidden=256):\n",
    "        super().__init__()\n",
    "        self.n_layers = n_layers\n",
    "        self.layer_nets = nn.ModuleList([SiameseNetwork(d_in, d_hidden) for _ in range(n_layers)])\n",
    "\n",
    "    def forward(self, x1, x2):\n",
    "        similarities = []\n",
    "        for layer in range(self.n_layers):\n",
    "            net_at_layer = self.layer_nets[layer].cuda()\n",
    "            # Get the activations at the given layer\n",
    "            x1_l = x1[:, layer].cuda()\n",
    "            x2_l = x2[:, layer].cuda()\n",
    "\n",
    "            sim_at_layer = net_at_layer(x1_l, x2_l)\n",
    "            # print(sim_at_layer.shape)\n",
    "            similarities.append(sim_at_layer)\n",
    "\n",
    "        return torch.stack(similarities, dim=-1)\n",
    "\n",
    "class SimilarityLearner(nn.Module):\n",
    "    def __init__(self, n_layers=24, d_in=1024, d_hidden=256, d_out_hidden=512):\n",
    "        super().__init__()\n",
    "        # This is going to output a set of cosine sims. The tensor is of shape\n",
    "        # [bn, n_layers]\n",
    "        self.layer_nets = LayerwiseSiameseNetworks(n_layers, d_in, d_hidden)\n",
    "\n",
    "        self.mlp = nn.Sequential(\n",
    "            nn.Linear(n_layers, d_out_hidden),\n",
    "            nn.LayerNorm(d_out_hidden),\n",
    "            nn.GELU(),\n",
    "            nn.Linear(d_out_hidden, 1),\n",
    "            nn.Hardsigmoid()\n",
    "        )\n",
    "\n",
    "    def forward(self, x1, x2):\n",
    "        layerwise_similarities = self.layer_nets(x1, x2)\n",
    "        similarity = self.mlp(layerwise_similarities)\n",
    "\n",
    "        return similarity.squeeze()"
   ]
  },
  {
   "cell_type": "code",
   "execution_count": 5,
   "id": "9b27dc88-fdf1-497d-8969-f99b4cb455c3",
   "metadata": {},
   "outputs": [],
   "source": [
    "similarity_learner = SimilarityLearner(d_hidden=512).to('cuda:0')"
   ]
  },
  {
   "cell_type": "code",
   "execution_count": 6,
   "id": "d651e6ea-8429-4f74-aff8-e1d77d6f1f95",
   "metadata": {},
   "outputs": [
    {
     "name": "stderr",
     "output_type": "stream",
     "text": [
      " 10%|█████████████████▌                                                                                                                                                             | 10/100 [00:57<08:47,  5.86s/it]"
     ]
    },
    {
     "name": "stdout",
     "output_type": "stream",
     "text": [
      "Epoch 10\n",
      "Loss: 0.0128\n",
      "Train correlation: 0.9107\n",
      "Test correlation: 0.6449\n",
      "\n"
     ]
    },
    {
     "name": "stderr",
     "output_type": "stream",
     "text": [
      " 20%|███████████████████████████████████                                                                                                                                            | 20/100 [02:00<08:08,  6.10s/it]"
     ]
    },
    {
     "name": "stdout",
     "output_type": "stream",
     "text": [
      "Epoch 20\n",
      "Loss: 0.0065\n",
      "Train correlation: 0.9297\n",
      "Test correlation: 0.6664\n",
      "\n"
     ]
    },
    {
     "name": "stderr",
     "output_type": "stream",
     "text": [
      " 30%|████████████████████████████████████████████████████▌                                                                                                                          | 30/100 [02:57<06:37,  5.67s/it]"
     ]
    },
    {
     "name": "stdout",
     "output_type": "stream",
     "text": [
      "Epoch 30\n",
      "Loss: 0.0023\n",
      "Train correlation: 0.9318\n",
      "Test correlation: 0.6707\n",
      "\n"
     ]
    },
    {
     "name": "stderr",
     "output_type": "stream",
     "text": [
      " 40%|██████████████████████████████████████████████████████████████████████                                                                                                         | 40/100 [03:56<06:20,  6.35s/it]"
     ]
    },
    {
     "name": "stdout",
     "output_type": "stream",
     "text": [
      "Epoch 40\n",
      "Loss: 0.0022\n",
      "Train correlation: 0.9578\n",
      "Test correlation: 0.6799\n",
      "\n"
     ]
    },
    {
     "name": "stderr",
     "output_type": "stream",
     "text": [
      " 50%|███████████████████████████████████████████████████████████████████████████████████████▌                                                                                       | 50/100 [04:53<04:42,  5.66s/it]"
     ]
    },
    {
     "name": "stdout",
     "output_type": "stream",
     "text": [
      "Epoch 50\n",
      "Loss: 0.0024\n",
      "Train correlation: 0.9386\n",
      "Test correlation: 0.6508\n",
      "\n"
     ]
    },
    {
     "name": "stderr",
     "output_type": "stream",
     "text": [
      " 60%|█████████████████████████████████████████████████████████████████████████████████████████████████████████                                                                      | 60/100 [05:56<04:11,  6.30s/it]"
     ]
    },
    {
     "name": "stdout",
     "output_type": "stream",
     "text": [
      "Epoch 60\n",
      "Loss: 0.0014\n",
      "Train correlation: 0.9874\n",
      "Test correlation: 0.7114\n",
      "\n"
     ]
    },
    {
     "name": "stderr",
     "output_type": "stream",
     "text": [
      " 70%|██████████████████████████████████████████████████████████████████████████████████████████████████████████████████████████▍                                                    | 70/100 [06:56<02:58,  5.94s/it]"
     ]
    },
    {
     "name": "stdout",
     "output_type": "stream",
     "text": [
      "Epoch 70\n",
      "Loss: 0.0010\n",
      "Train correlation: 0.9869\n",
      "Test correlation: 0.6972\n",
      "\n"
     ]
    },
    {
     "name": "stderr",
     "output_type": "stream",
     "text": [
      " 80%|████████████████████████████████████████████████████████████████████████████████████████████████████████████████████████████████████████████                                   | 80/100 [07:58<02:06,  6.34s/it]"
     ]
    },
    {
     "name": "stdout",
     "output_type": "stream",
     "text": [
      "Epoch 80\n",
      "Loss: 0.0013\n",
      "Train correlation: 0.9692\n",
      "Test correlation: 0.6773\n",
      "\n"
     ]
    },
    {
     "name": "stderr",
     "output_type": "stream",
     "text": [
      " 90%|█████████████████████████████████████████████████████████████████████████████████████████████████████████████████████████████████████████████████████████████▌                 | 90/100 [08:59<01:02,  6.23s/it]"
     ]
    },
    {
     "name": "stdout",
     "output_type": "stream",
     "text": [
      "Epoch 90\n",
      "Loss: 0.0009\n",
      "Train correlation: 0.9877\n",
      "Test correlation: 0.7014\n",
      "\n"
     ]
    },
    {
     "name": "stderr",
     "output_type": "stream",
     "text": [
      "100%|██████████████████████████████████████████████████████████████████████████████████████████████████████████████████████████████████████████████████████████████████████████████| 100/100 [10:01<00:00,  6.02s/it]"
     ]
    },
    {
     "name": "stdout",
     "output_type": "stream",
     "text": [
      "Epoch 100\n",
      "Loss: 0.0010\n",
      "Train correlation: 0.9871\n",
      "Test correlation: 0.7082\n",
      "\n"
     ]
    },
    {
     "name": "stderr",
     "output_type": "stream",
     "text": [
      "\n"
     ]
    }
   ],
   "source": [
    "def train_epoch(model, first_acts, second_acts, scores, optimizer, batch_size=32):\n",
    "    model.train()\n",
    "    total_loss = 0\n",
    "    n_batches = first_acts.shape[0] // batch_size\n",
    "    \n",
    "    for batch in range(n_batches):\n",
    "        start_idx = batch * batch_size\n",
    "        end_idx = (batch + 1) * batch_size\n",
    "        \n",
    "        x1_batch = first_acts[start_idx:end_idx].cuda()\n",
    "        x2_batch = second_acts[start_idx:end_idx].cuda()\n",
    "        scores_batch = scores[start_idx:end_idx].cuda()\n",
    "        \n",
    "        optimizer.zero_grad()\n",
    "        \n",
    "        sims = model(x1_batch, x2_batch)\n",
    "        \n",
    "        loss = F.mse_loss(sims, scores_batch)        \n",
    "        \n",
    "        loss.backward()\n",
    "        optimizer.step()\n",
    "        \n",
    "        total_loss += loss.item()\n",
    "    \n",
    "    return total_loss / n_batches\n",
    "\n",
    "best_score = 0\n",
    "best_model = None\n",
    "optimizer = torch.optim.AdamW(similarity_learner.parameters(), lr=3e-5)\n",
    "for epoch in tqdm(range(100)):\n",
    "    # Training\n",
    "    loss = train_epoch(similarity_learner, first_train, second_train, train_scores, optimizer)\n",
    "    \n",
    "    # Evaluation\n",
    "    similarity_learner.eval()\n",
    "    with torch.no_grad():\n",
    "        # Get test correlations\n",
    "        test_preds = similarity_learner(first_test.cuda(), second_test.cuda())\n",
    "        test_corr = torch.corrcoef(torch.stack([test_preds.cpu(), test_scores]))[0,1]\n",
    "\n",
    "        if test_corr.item() > best_score:\n",
    "            best_score = test_corr.item()\n",
    "            best_model = deepcopy(similarity_learner)\n",
    "        \n",
    "        # Print progress every 10 epochs\n",
    "        if (epoch + 1) % 10 == 0:\n",
    "            # Get training correlations\n",
    "            train_preds = similarity_learner(first_train.cuda(), second_train.cuda())\n",
    "            train_corr = torch.corrcoef(torch.stack([train_preds.cpu(), train_scores]))[0,1]\n",
    "            \n",
    "\n",
    "            print(f\"Epoch {epoch+1}\")\n",
    "            print(f\"Loss: {loss:.4f}\")\n",
    "            print(f\"Train correlation: {train_corr:.4f}\")\n",
    "            print(f\"Test correlation: {test_corr:.4f}\\n\")"
   ]
  },
  {
   "cell_type": "code",
   "execution_count": 7,
   "id": "4f691566-9660-42ff-b15f-4aa321e00fe9",
   "metadata": {},
   "outputs": [
    {
     "name": "stdout",
     "output_type": "stream",
     "text": [
      "tensor([[1.0000, 0.7163],\n",
      "        [0.7163, 1.0000]])\n",
      "SignificanceResult(statistic=0.6972712637102803, pvalue=2.3869221388570265e-201)\n",
      "tensor([[1.0000, 0.9775],\n",
      "        [0.9775, 1.0000]])\n",
      "SignificanceResult(statistic=0.976859642602135, pvalue=0.0)\n"
     ]
    }
   ],
   "source": [
    "test_preds = best_model.cuda()(first_test.cuda(), second_test.cuda()).detach().to('cpu')\n",
    "                          \n",
    "print(torch.corrcoef(torch.stack([test_preds, test_scores])))\n",
    "print(spearmanr(test_preds, test_scores))\n",
    "\n",
    "train_preds = best_model.cuda()(first_train.cuda(), second_train.cuda()).detach().to('cpu')\n",
    "\n",
    "print(torch.corrcoef(torch.stack([train_preds, train_scores])))\n",
    "print(spearmanr(train_preds, train_scores))"
   ]
  },
  {
   "cell_type": "code",
   "execution_count": 8,
   "id": "02ad6ec7-e64d-479b-9078-66f5bf377caf",
   "metadata": {},
   "outputs": [
    {
     "data": {
      "text/plain": [
       "25241601"
      ]
     },
     "execution_count": 8,
     "metadata": {},
     "output_type": "execute_result"
    }
   ],
   "source": [
    "sum([w.numel() for w in similarity_learner.parameters()])"
   ]
  }
 ],
 "metadata": {
  "kernelspec": {
   "display_name": "venv",
   "language": "python",
   "name": "venv"
  },
  "language_info": {
   "codemirror_mode": {
    "name": "ipython",
    "version": 3
   },
   "file_extension": ".py",
   "mimetype": "text/x-python",
   "name": "python",
   "nbconvert_exporter": "python",
   "pygments_lexer": "ipython3",
   "version": "3.11.9"
  }
 },
 "nbformat": 4,
 "nbformat_minor": 5
}
