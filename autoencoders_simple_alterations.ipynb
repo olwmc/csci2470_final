{
 "cells": [
  {
   "cell_type": "markdown",
   "id": "4c83e540",
   "metadata": {},
   "source": [
    "The purpose of this notebook is to run tests on the hyperparameters of autoencoding mixed with the Siamese network to have improved downstream performance."
   ]
  },
  {
   "cell_type": "markdown",
   "id": "55031395",
   "metadata": {},
   "source": [
    "### TLDR: hyperparameter tweaking yields no significant downstream performance improvement."
   ]
  },
  {
   "cell_type": "markdown",
   "id": "39341502",
   "metadata": {},
   "source": [
    "# Baseline"
   ]
  },
  {
   "cell_type": "markdown",
   "id": "ea55baec-0cab-4dbc-8958-7c43c287f470",
   "metadata": {},
   "source": [
    "Hypothesis: We might be representation bottlenecked and that might be contributing to our less than ideal performance. What if we start by pretraining our network to do autoencoding, chop off the decoder, and then do our metric learning on that"
   ]
  },
  {
   "cell_type": "code",
   "execution_count": 2,
   "id": "4219dad1-3960-4a7c-a817-8cbae0a95aae",
   "metadata": {},
   "outputs": [],
   "source": [
    "import transformer_lens\n",
    "from datasets import load_dataset\n",
    "import torch\n",
    "import matplotlib.pyplot as plt\n",
    "import pandas as pd\n",
    "import torch.nn as nn\n",
    "from sklearn.decomposition import PCA\n",
    "import numpy as np\n",
    "\n",
    "import torch.nn.functional as F\n",
    "\n",
    "from tqdm import tqdm\n",
    "\n",
    "import random"
   ]
  },
  {
   "cell_type": "code",
   "execution_count": 3,
   "id": "6df28cd2-1819-4efa-a7dc-7170952551e4",
   "metadata": {},
   "outputs": [],
   "source": [
    "seed = 42\n",
    "torch.manual_seed(42)\n",
    "random.seed(42)\n",
    "np.random.seed(42)"
   ]
  },
  {
   "cell_type": "code",
   "execution_count": 4,
   "id": "5f3a0b97-4219-4ed2-b83c-568c7e6d77aa",
   "metadata": {},
   "outputs": [
    {
     "name": "stderr",
     "output_type": "stream",
     "text": [
      "C:\\Users\\hayde\\AppData\\Local\\Temp\\ipykernel_36724\\167593289.py:6: FutureWarning: You are using `torch.load` with `weights_only=False` (the current default value), which uses the default pickle module implicitly. It is possible to construct malicious pickle data which will execute arbitrary code during unpickling (See https://github.com/pytorch/pytorch/blob/main/SECURITY.md#untrusted-models for more details). In a future release, the default value for `weights_only` will be flipped to `True`. This limits the functions that could be executed during unpickling. Arbitrary objects will no longer be allowed to be loaded via this mode unless they are explicitly allowlisted by the user via `torch.serialization.add_safe_globals`. We recommend you start setting `weights_only=True` for any use case where you don't have full control of the loaded file. Please open an issue on GitHub for any issues related to this experimental feature.\n",
      "  first_train  = torch.load('gpt2_medium_train_acts_1.npy')\n",
      "C:\\Users\\hayde\\AppData\\Local\\Temp\\ipykernel_36724\\167593289.py:7: FutureWarning: You are using `torch.load` with `weights_only=False` (the current default value), which uses the default pickle module implicitly. It is possible to construct malicious pickle data which will execute arbitrary code during unpickling (See https://github.com/pytorch/pytorch/blob/main/SECURITY.md#untrusted-models for more details). In a future release, the default value for `weights_only` will be flipped to `True`. This limits the functions that could be executed during unpickling. Arbitrary objects will no longer be allowed to be loaded via this mode unless they are explicitly allowlisted by the user via `torch.serialization.add_safe_globals`. We recommend you start setting `weights_only=True` for any use case where you don't have full control of the loaded file. Please open an issue on GitHub for any issues related to this experimental feature.\n",
      "  second_train = torch.load('gpt2_medium_train_acts_2.npy')\n",
      "C:\\Users\\hayde\\AppData\\Local\\Temp\\ipykernel_36724\\167593289.py:9: FutureWarning: You are using `torch.load` with `weights_only=False` (the current default value), which uses the default pickle module implicitly. It is possible to construct malicious pickle data which will execute arbitrary code during unpickling (See https://github.com/pytorch/pytorch/blob/main/SECURITY.md#untrusted-models for more details). In a future release, the default value for `weights_only` will be flipped to `True`. This limits the functions that could be executed during unpickling. Arbitrary objects will no longer be allowed to be loaded via this mode unless they are explicitly allowlisted by the user via `torch.serialization.add_safe_globals`. We recommend you start setting `weights_only=True` for any use case where you don't have full control of the loaded file. Please open an issue on GitHub for any issues related to this experimental feature.\n",
      "  first_test = torch.load('gpt2_medium_test_acts_1.npy')\n",
      "C:\\Users\\hayde\\AppData\\Local\\Temp\\ipykernel_36724\\167593289.py:10: FutureWarning: You are using `torch.load` with `weights_only=False` (the current default value), which uses the default pickle module implicitly. It is possible to construct malicious pickle data which will execute arbitrary code during unpickling (See https://github.com/pytorch/pytorch/blob/main/SECURITY.md#untrusted-models for more details). In a future release, the default value for `weights_only` will be flipped to `True`. This limits the functions that could be executed during unpickling. Arbitrary objects will no longer be allowed to be loaded via this mode unless they are explicitly allowlisted by the user via `torch.serialization.add_safe_globals`. We recommend you start setting `weights_only=True` for any use case where you don't have full control of the loaded file. Please open an issue on GitHub for any issues related to this experimental feature.\n",
      "  second_test = torch.load('gpt2_medium_test_acts_2.npy')\n",
      "C:\\Users\\hayde\\AppData\\Local\\Temp\\ipykernel_36724\\167593289.py:12: FutureWarning: You are using `torch.load` with `weights_only=False` (the current default value), which uses the default pickle module implicitly. It is possible to construct malicious pickle data which will execute arbitrary code during unpickling (See https://github.com/pytorch/pytorch/blob/main/SECURITY.md#untrusted-models for more details). In a future release, the default value for `weights_only` will be flipped to `True`. This limits the functions that could be executed during unpickling. Arbitrary objects will no longer be allowed to be loaded via this mode unless they are explicitly allowlisted by the user via `torch.serialization.add_safe_globals`. We recommend you start setting `weights_only=True` for any use case where you don't have full control of the loaded file. Please open an issue on GitHub for any issues related to this experimental feature.\n",
      "  wikitext_acts = torch.load('generics_kb_10k_10272024.npy')\n"
     ]
    }
   ],
   "source": [
    "# Load datasets\n",
    "train_set = load_dataset(\"sentence-transformers/stsb\", split=\"train\")\n",
    "val_set   = load_dataset(\"sentence-transformers/stsb\", split=\"validation\")\n",
    "test_set  = load_dataset(\"sentence-transformers/stsb\", split=\"test\")\n",
    "\n",
    "first_train  = torch.load('gpt2_medium_train_acts_1.npy')\n",
    "second_train = torch.load('gpt2_medium_train_acts_2.npy')\n",
    "\n",
    "first_test = torch.load('gpt2_medium_test_acts_1.npy')\n",
    "second_test = torch.load('gpt2_medium_test_acts_2.npy')\n",
    "\n",
    "wikitext_acts = torch.load('generics_kb_10k_10272024.npy')\n",
    "\n",
    "train_scores = torch.Tensor(train_set['score'])\n",
    "test_scores = torch.Tensor(test_set['score'])"
   ]
  },
  {
   "cell_type": "code",
   "execution_count": 4,
   "id": "cee80f3b-034e-4c1b-99fc-cbec4583920e",
   "metadata": {},
   "outputs": [
    {
     "name": "stderr",
     "output_type": "stream",
     "text": [
      " 10%|██████▊                                                             | 10/100 [01:02<09:29,  6.32s/it]"
     ]
    },
    {
     "name": "stdout",
     "output_type": "stream",
     "text": [
      "\n",
      "Epoch 10\n",
      "Train Losses - Early: 0.214, Mid: 0.853, Late: 8.338\n",
      "Test Losses  - Early: 1.163, Mid: 4.034, Late: 22.649\n"
     ]
    },
    {
     "name": "stderr",
     "output_type": "stream",
     "text": [
      " 20%|█████████████▌                                                      | 20/100 [02:06<08:37,  6.47s/it]"
     ]
    },
    {
     "name": "stdout",
     "output_type": "stream",
     "text": [
      "\n",
      "Epoch 20\n",
      "Train Losses - Early: 0.150, Mid: 0.580, Late: 4.964\n",
      "Test Losses  - Early: 1.034, Mid: 3.464, Late: 16.784\n"
     ]
    },
    {
     "name": "stderr",
     "output_type": "stream",
     "text": [
      " 30%|████████████████████▍                                               | 30/100 [03:10<07:29,  6.43s/it]"
     ]
    },
    {
     "name": "stdout",
     "output_type": "stream",
     "text": [
      "\n",
      "Epoch 30\n",
      "Train Losses - Early: 0.115, Mid: 0.459, Late: 3.769\n",
      "Test Losses  - Early: 0.966, Mid: 3.196, Late: 14.704\n"
     ]
    },
    {
     "name": "stderr",
     "output_type": "stream",
     "text": [
      " 40%|███████████████████████████▏                                        | 40/100 [04:15<06:28,  6.47s/it]"
     ]
    },
    {
     "name": "stdout",
     "output_type": "stream",
     "text": [
      "\n",
      "Epoch 40\n",
      "Train Losses - Early: 0.089, Mid: 0.374, Late: 3.151\n",
      "Test Losses  - Early: 0.933, Mid: 3.050, Late: 13.833\n"
     ]
    },
    {
     "name": "stderr",
     "output_type": "stream",
     "text": [
      " 50%|██████████████████████████████████                                  | 50/100 [05:19<05:20,  6.42s/it]"
     ]
    },
    {
     "name": "stdout",
     "output_type": "stream",
     "text": [
      "\n",
      "Epoch 50\n",
      "Train Losses - Early: 0.071, Mid: 0.319, Late: 2.604\n",
      "Test Losses  - Early: 0.922, Mid: 2.971, Late: 12.995\n"
     ]
    },
    {
     "name": "stderr",
     "output_type": "stream",
     "text": [
      " 60%|████████████████████████████████████████▊                           | 60/100 [06:22<04:14,  6.37s/it]"
     ]
    },
    {
     "name": "stdout",
     "output_type": "stream",
     "text": [
      "\n",
      "Epoch 60\n",
      "Train Losses - Early: 0.058, Mid: 0.276, Late: 2.341\n",
      "Test Losses  - Early: 0.912, Mid: 2.915, Late: 12.481\n"
     ]
    },
    {
     "name": "stderr",
     "output_type": "stream",
     "text": [
      " 70%|███████████████████████████████████████████████▌                    | 70/100 [07:26<03:09,  6.30s/it]"
     ]
    },
    {
     "name": "stdout",
     "output_type": "stream",
     "text": [
      "\n",
      "Epoch 70\n",
      "Train Losses - Early: 0.049, Mid: 0.248, Late: 2.023\n",
      "Test Losses  - Early: 0.912, Mid: 2.883, Late: 11.994\n"
     ]
    },
    {
     "name": "stderr",
     "output_type": "stream",
     "text": [
      " 80%|██████████████████████████████████████████████████████▍             | 80/100 [08:28<02:07,  6.38s/it]"
     ]
    },
    {
     "name": "stdout",
     "output_type": "stream",
     "text": [
      "\n",
      "Epoch 80\n",
      "Train Losses - Early: 0.044, Mid: 0.231, Late: 1.835\n",
      "Test Losses  - Early: 0.913, Mid: 2.867, Late: 11.715\n"
     ]
    },
    {
     "name": "stderr",
     "output_type": "stream",
     "text": [
      " 90%|█████████████████████████████████████████████████████████████▏      | 90/100 [09:31<01:04,  6.43s/it]"
     ]
    },
    {
     "name": "stdout",
     "output_type": "stream",
     "text": [
      "\n",
      "Epoch 90\n",
      "Train Losses - Early: 0.040, Mid: 0.218, Late: 1.710\n",
      "Test Losses  - Early: 0.917, Mid: 2.854, Late: 11.548\n"
     ]
    },
    {
     "name": "stderr",
     "output_type": "stream",
     "text": [
      "100%|███████████████████████████████████████████████████████████████████| 100/100 [10:34<00:00,  6.35s/it]"
     ]
    },
    {
     "name": "stdout",
     "output_type": "stream",
     "text": [
      "\n",
      "Epoch 100\n",
      "Train Losses - Early: 0.037, Mid: 0.200, Late: 1.496\n",
      "Test Losses  - Early: 0.917, Mid: 2.821, Late: 11.178\n"
     ]
    },
    {
     "name": "stderr",
     "output_type": "stream",
     "text": [
      "\n"
     ]
    },
    {
     "data": {
      "image/png": "[encoded data removed]",
      "text/plain": [
       "<Figure size 1200x400 with 1 Axes>"
      ]
     },
     "metadata": {},
     "output_type": "display_data"
    }
   ],
   "source": [
    "# We probably need to scale the hidden dimension based on how deep you are\n",
    "def get_hidden(i):\n",
    "    if i <= 8:\n",
    "        return 1\n",
    "    elif i <= 16:\n",
    "        return 2\n",
    "    elif i <= 20:\n",
    "        return 3\n",
    "    else:\n",
    "        return 4\n",
    "\n",
    "class Autoencoder(nn.Module):\n",
    "    def __init__(self, layer_idx, d_in=1024, base_width=256):\n",
    "        super().__init__()\n",
    "        # Scale hidden dim based on layer position\n",
    "        # Later layers get progressively larger capacity\n",
    "        hidden_mult = get_hidden(layer_idx)\n",
    "        d_hidden = int(base_width * hidden_mult)\n",
    "        \n",
    "        # Gradual dimension reduction\n",
    "        d_mid = (d_in + d_hidden) // 2\n",
    "        \n",
    "        self.encode = nn.Sequential(\n",
    "            nn.Linear(d_in, d_mid),\n",
    "            nn.LayerNorm(d_mid),\n",
    "            nn.GELU(),\n",
    "            nn.Linear(d_mid, d_hidden),\n",
    "            nn.LayerNorm(d_hidden),\n",
    "            nn.GELU(),\n",
    "        )\n",
    "        \n",
    "        self.decode = nn.Sequential(\n",
    "            nn.Linear(d_hidden, d_mid),\n",
    "            nn.LayerNorm(d_mid),\n",
    "            nn.GELU(),\n",
    "            nn.Linear(d_mid, d_in),\n",
    "        )\n",
    "        \n",
    "        # Initialize with smaller weights for stability\n",
    "        for m in self.modules():\n",
    "            if isinstance(m, nn.Linear):\n",
    "                nn.init.xavier_uniform_(m.weight, gain=0.5)\n",
    "                \n",
    "    def forward(self, x):\n",
    "        h = self.encode(x)\n",
    "        # Add residual connection for easier learning\n",
    "        return self.decode(h) + 0.1 * x  # Scaled residual to start mostly from identity\n",
    "\n",
    "n_layers = 24\n",
    "# Create layer-specific autoencoders\n",
    "encoders = [Autoencoder(i).cuda() for i in range(n_layers)]\n",
    "\n",
    "# Use different learning rates for different layers\n",
    "lrs = [3e-4 * (1 + i/24) for i in range(n_layers)]  # Higher lr for harder layers. From 3e-4 -> 3e-4*3\n",
    "optimizers = [torch.optim.AdamW(ae.parameters(), lr=lr, weight_decay=0.01) for ae, lr in zip(encoders, lrs)]\n",
    "\n",
    "# Modified training loop with layer-specific logging\n",
    "def train_epoch(models, acts, optimizers, batch_size=64):\n",
    "    losses = []\n",
    "    n_batches = acts.shape[0] // batch_size\n",
    "    \n",
    "    for batch in range(n_batches):\n",
    "        start_idx = batch * batch_size\n",
    "        end_idx = (batch + 1) * batch_size\n",
    "        \n",
    "        batch_losses = []\n",
    "        for i, (model, optimizer) in enumerate(zip(models, optimizers)):\n",
    "            model.train()\n",
    "            batch_i = acts[start_idx:end_idx, i].cuda()\n",
    "            \n",
    "            optimizer.zero_grad()\n",
    "            loss = F.mse_loss(model(batch_i), batch_i)\n",
    "            loss.backward()\n",
    "            optimizer.step()\n",
    "            \n",
    "            batch_losses.append(loss.item())\n",
    "        \n",
    "        losses.append(batch_losses)\n",
    "    \n",
    "    return np.mean(losses, axis=0)\n",
    "\n",
    "# Training with more detailed monitoring\n",
    "early_layers_history = []\n",
    "mid_layers_history = []\n",
    "late_layers_history = []\n",
    "\n",
    "all_acts = wikitext_acts\n",
    "all_test_acts = torch.concat((first_test, second_test), axis=0)\n",
    "\n",
    "for epoch in tqdm(range(100)):\n",
    "    losses = train_epoch(encoders, all_acts, optimizers)\n",
    "    \n",
    "    # Track different layer groups\n",
    "    early_layers_history.append(np.mean(losses[:8]))\n",
    "    mid_layers_history.append(np.mean(losses[8:16]))\n",
    "    late_layers_history.append(np.mean(losses[16:]))\n",
    "    \n",
    "    if (epoch+1) % 10 == 0:\n",
    "        with torch.no_grad():\n",
    "            [model.eval() for model in encoders]\n",
    "            \n",
    "            # Test losses by layer group\n",
    "            test_preds = [encoders[i](all_test_acts[:, i].cuda()).cpu() for i in range(n_layers)]\n",
    "            test_losses = [F.mse_loss(pred, all_test_acts[:, i]).item() for i, pred in enumerate(test_preds)]\n",
    "            \n",
    "            print(f\"\\nEpoch {epoch+1}\")\n",
    "            print(f\"Train Losses - Early: {early_layers_history[-1]:.3f}, \"\n",
    "                  f\"Mid: {mid_layers_history[-1]:.3f}, \"\n",
    "                  f\"Late: {late_layers_history[-1]:.3f}\")\n",
    "            print(f\"Test Losses  - Early: {np.mean(test_losses[:8]):.3f}, \"\n",
    "                  f\"Mid: {np.mean(test_losses[8:16]):.3f}, \"\n",
    "                  f\"Late: {np.mean(test_losses[16:]):.3f}\")\n",
    "\n",
    "# Plot training curves\n",
    "plt.figure(figsize=(12, 4))\n",
    "plt.plot(early_layers_history, label='Early Layers (0-7)')\n",
    "plt.plot(mid_layers_history, label='Mid Layers (8-15)')\n",
    "plt.plot(late_layers_history, label='Late Layers (16-23)')\n",
    "plt.title('Reconstruction Loss by Layer Group')\n",
    "plt.xlabel('Epoch')\n",
    "plt.ylabel('MSE Loss')\n",
    "plt.legend()\n",
    "plt.yscale('log')\n",
    "plt.grid(True)\n",
    "plt.show()"
   ]
  },
  {
   "cell_type": "markdown",
   "id": "222c9e40",
   "metadata": {},
   "source": [
    "# Experimentation at All Layers"
   ]
  },
  {
   "cell_type": "markdown",
   "id": "053b3d27",
   "metadata": {},
   "source": [
    "The experiment here is to see if creating a more complex architecture for later layers can help decrease the major loss discrepany we are currently seeing. First off, this will require a simple modification to the init for Autoencoder to create a more complex architecture for late layers. Second, if that shows promise, the complexity of late can be \"hand me downed\" to the mid layers and the late layers become even more complex. If either situations look like they need even more help, in the get_hidden function the return of the scaling of how many hidden layers to use can be amped to be even larger for later ones. Also, the learning rate is being increase naively for each layer, we could instead introduce a system of a learning rate scheduler, eg. ReduceLROnPlateau, which would decrease the learning rate upon plateaued loss. Or, in general the starting point and alteration of learning rate between layers should be explored, stored, and analyzed in isolation after trying the architecture changes."
   ]
  },
  {
   "cell_type": "markdown",
   "id": "b0e5a40f",
   "metadata": {},
   "source": [
    "There is also the possibility that GELU is not appropriate for later layers since some activation functions might have better feature represenations at deeper layers. A potential thought here is to replace the Gaussian Error Linear Unit (GELU) for later layers with ReLU or LeakyReLU."
   ]
  },
  {
   "cell_type": "markdown",
   "id": "ae8a61cc",
   "metadata": {},
   "source": [
    "## Increasingly complex architecture implementation and results"
   ]
  },
  {
   "cell_type": "markdown",
   "id": "b0fde744",
   "metadata": {},
   "source": [
    "The only difference here is in the init of the Autoencoder class"
   ]
  },
  {
   "cell_type": "code",
   "execution_count": 6,
   "id": "212507d4",
   "metadata": {},
   "outputs": [
    {
     "name": "stderr",
     "output_type": "stream",
     "text": [
      " 10%|█         | 10/100 [01:57<17:56, 11.96s/it]"
     ]
    },
    {
     "name": "stdout",
     "output_type": "stream",
     "text": [
      "\n",
      "Epoch 10\n",
      "Train Losses - Early: 0.215, Mid: 0.852, Late: 10.183\n",
      "Test Losses  - Early: 1.165, Mid: 4.037, Late: 24.971\n"
     ]
    },
    {
     "name": "stderr",
     "output_type": "stream",
     "text": [
      " 20%|██        | 20/100 [03:52<15:20, 11.51s/it]"
     ]
    },
    {
     "name": "stdout",
     "output_type": "stream",
     "text": [
      "\n",
      "Epoch 20\n",
      "Train Losses - Early: 0.151, Mid: 0.578, Late: 6.229\n",
      "Test Losses  - Early: 1.037, Mid: 3.463, Late: 19.165\n"
     ]
    },
    {
     "name": "stderr",
     "output_type": "stream",
     "text": [
      " 30%|███       | 30/100 [05:48<13:29, 11.56s/it]"
     ]
    },
    {
     "name": "stdout",
     "output_type": "stream",
     "text": [
      "\n",
      "Epoch 30\n",
      "Train Losses - Early: 0.116, Mid: 0.454, Late: 4.890\n",
      "Test Losses  - Early: 0.967, Mid: 3.194, Late: 17.540\n"
     ]
    },
    {
     "name": "stderr",
     "output_type": "stream",
     "text": [
      " 40%|████      | 40/100 [07:43<11:28, 11.48s/it]"
     ]
    },
    {
     "name": "stdout",
     "output_type": "stream",
     "text": [
      "\n",
      "Epoch 40\n",
      "Train Losses - Early: 0.090, Mid: 0.375, Late: 4.116\n",
      "Test Losses  - Early: 0.932, Mid: 3.062, Late: 16.564\n"
     ]
    },
    {
     "name": "stderr",
     "output_type": "stream",
     "text": [
      " 50%|█████     | 50/100 [09:37<09:32, 11.44s/it]"
     ]
    },
    {
     "name": "stdout",
     "output_type": "stream",
     "text": [
      "\n",
      "Epoch 50\n",
      "Train Losses - Early: 0.071, Mid: 0.314, Late: 3.588\n",
      "Test Losses  - Early: 0.913, Mid: 2.967, Late: 16.852\n"
     ]
    },
    {
     "name": "stderr",
     "output_type": "stream",
     "text": [
      " 60%|██████    | 60/100 [11:31<07:39, 11.50s/it]"
     ]
    },
    {
     "name": "stdout",
     "output_type": "stream",
     "text": [
      "\n",
      "Epoch 60\n",
      "Train Losses - Early: 0.058, Mid: 0.280, Late: 3.226\n",
      "Test Losses  - Early: 0.910, Mid: 2.940, Late: 15.874\n"
     ]
    },
    {
     "name": "stderr",
     "output_type": "stream",
     "text": [
      " 70%|███████   | 70/100 [13:25<05:43, 11.46s/it]"
     ]
    },
    {
     "name": "stdout",
     "output_type": "stream",
     "text": [
      "\n",
      "Epoch 70\n",
      "Train Losses - Early: 0.050, Mid: 0.248, Late: 2.939\n",
      "Test Losses  - Early: 0.913, Mid: 2.895, Late: 16.096\n"
     ]
    },
    {
     "name": "stderr",
     "output_type": "stream",
     "text": [
      " 80%|████████  | 80/100 [15:19<03:49, 11.45s/it]"
     ]
    },
    {
     "name": "stdout",
     "output_type": "stream",
     "text": [
      "\n",
      "Epoch 80\n",
      "Train Losses - Early: 0.044, Mid: 0.228, Late: 2.686\n",
      "Test Losses  - Early: 0.908, Mid: 2.871, Late: 15.818\n"
     ]
    },
    {
     "name": "stderr",
     "output_type": "stream",
     "text": [
      " 90%|█████████ | 90/100 [17:16<01:59, 11.99s/it]"
     ]
    },
    {
     "name": "stdout",
     "output_type": "stream",
     "text": [
      "\n",
      "Epoch 90\n",
      "Train Losses - Early: 0.040, Mid: 0.215, Late: 2.454\n",
      "Test Losses  - Early: 0.912, Mid: 2.867, Late: 16.603\n"
     ]
    },
    {
     "name": "stderr",
     "output_type": "stream",
     "text": [
      "100%|██████████| 100/100 [19:11<00:00, 11.51s/it]"
     ]
    },
    {
     "name": "stdout",
     "output_type": "stream",
     "text": [
      "\n",
      "Epoch 100\n",
      "Train Losses - Early: 0.038, Mid: 0.202, Late: 2.312\n",
      "Test Losses  - Early: 0.918, Mid: 2.859, Late: 15.784\n"
     ]
    },
    {
     "name": "stderr",
     "output_type": "stream",
     "text": [
      "\n"
     ]
    },
    {
     "data": {
      "image/png": "[encoded data removed]",
      "text/plain": [
       "<Figure size 1200x400 with 1 Axes>"
      ]
     },
     "metadata": {},
     "output_type": "display_data"
    }
   ],
   "source": [
    "# We probably need to scale the hidden dimension based on how deep you are\n",
    "def get_hidden(i):\n",
    "    if i <= 8:\n",
    "        return 1\n",
    "    elif i <= 16:\n",
    "        return 2\n",
    "    elif i <= 20:\n",
    "        return 3\n",
    "    else:\n",
    "        return 4\n",
    "\n",
    "class Autoencoder(nn.Module):\n",
    "    def __init__(self, layer_idx, d_in=1024, base_width=256):\n",
    "        super().__init__()\n",
    "        # Scale hidden dim based on layer position\n",
    "        # Later layers get progressively larger capacity\n",
    "        hidden_mult = get_hidden(layer_idx)\n",
    "        d_hidden = int(base_width * hidden_mult)\n",
    "        \n",
    "        # Gradual dimension reduction for early and middle layers\n",
    "        d_mid = (d_in + d_hidden) // 2\n",
    "\n",
    "        # More gradual dimension reduction for late layers, also affords more layers\n",
    "        # this is the one third point, this is closer to d_in\n",
    "        d_onethird_to_hidden = (2 * d_in + d_hidden) // 3 \n",
    "        # this is the two third point, this is closer to d_hidden\n",
    "        d_twothird_to_hidden = (d_in + 2 * d_hidden) // 3\n",
    "        \n",
    "        # This is a modest enhancement of complexity\n",
    "        if layer_idx >= 16:\n",
    "            self.encode = nn.Sequential(\n",
    "                nn.Linear(d_in, d_onethird_to_hidden),\n",
    "                nn.LayerNorm(d_onethird_to_hidden),\n",
    "                nn.GELU(),\n",
    "                nn.Linear(d_onethird_to_hidden, d_twothird_to_hidden),\n",
    "                nn.LayerNorm(d_twothird_to_hidden),\n",
    "                nn.GELU(),\n",
    "                nn.Linear(d_twothird_to_hidden, d_hidden),\n",
    "                nn.LayerNorm(d_hidden),\n",
    "                nn.GELU()\n",
    "            )\n",
    "            \n",
    "            self.decode = nn.Sequential(\n",
    "                nn.Linear(d_hidden, d_twothird_to_hidden),\n",
    "                nn.LayerNorm(d_twothird_to_hidden),\n",
    "                nn.GELU(),\n",
    "                nn.Linear(d_twothird_to_hidden, d_onethird_to_hidden),\n",
    "                nn.LayerNorm(d_onethird_to_hidden),\n",
    "                nn.GELU(),\n",
    "                nn.Linear(d_onethird_to_hidden, d_in)\n",
    "            )\n",
    "        # For early and mid keep the original architecture\n",
    "        else:\n",
    "            self.encode = nn.Sequential(\n",
    "                nn.Linear(d_in, d_mid),\n",
    "                nn.LayerNorm(d_mid),\n",
    "                nn.GELU(),\n",
    "                nn.Linear(d_mid, d_hidden),\n",
    "                nn.LayerNorm(d_hidden),\n",
    "                nn.GELU()\n",
    "            )\n",
    "            \n",
    "            self.decode = nn.Sequential(\n",
    "                nn.Linear(d_hidden, d_mid),\n",
    "                nn.LayerNorm(d_mid),\n",
    "                nn.GELU(),\n",
    "                nn.Linear(d_mid, d_in)\n",
    "            )\n",
    "        \n",
    "        # Initialize with smaller weights for stability\n",
    "        for m in self.modules():\n",
    "            if isinstance(m, nn.Linear):\n",
    "                nn.init.xavier_uniform_(m.weight, gain=0.5)\n",
    "                \n",
    "    def forward(self, x):\n",
    "        h = self.encode(x)\n",
    "        # Add residual connection for easier learning\n",
    "        return self.decode(h) + 0.1 * x  # Scaled residual to start mostly from identity\n",
    "\n",
    "n_layers = 24\n",
    "# Create layer-specific autoencoders\n",
    "encoders = [Autoencoder(i).cuda() for i in range(n_layers)]\n",
    "\n",
    "# Use different learning rates for different layers\n",
    "lrs = [3e-4 * (1 + i/24) for i in range(n_layers)]  # Higher lr for harder layers. From 3e-4 -> 3e-4*3\n",
    "optimizers = [torch.optim.AdamW(ae.parameters(), lr=lr, weight_decay=0.01) for ae, lr in zip(encoders, lrs)]\n",
    "\n",
    "# Modified training loop with layer-specific logging\n",
    "def train_epoch(models, acts, optimizers, batch_size=64):\n",
    "    losses = []\n",
    "    n_batches = acts.shape[0] // batch_size\n",
    "    \n",
    "    for batch in range(n_batches):\n",
    "        start_idx = batch * batch_size\n",
    "        end_idx = (batch + 1) * batch_size\n",
    "        \n",
    "        batch_losses = []\n",
    "        for i, (model, optimizer) in enumerate(zip(models, optimizers)):\n",
    "            model.train()\n",
    "            batch_i = acts[start_idx:end_idx, i].cuda()\n",
    "            \n",
    "            optimizer.zero_grad()\n",
    "            loss = F.mse_loss(model(batch_i), batch_i)\n",
    "            loss.backward()\n",
    "            optimizer.step()\n",
    "            \n",
    "            batch_losses.append(loss.item())\n",
    "        \n",
    "        losses.append(batch_losses)\n",
    "    \n",
    "    return np.mean(losses, axis=0)\n",
    "\n",
    "# Training with more detailed monitoring\n",
    "early_layers_history = []\n",
    "mid_layers_history = []\n",
    "late_layers_history = []\n",
    "\n",
    "all_acts = wikitext_acts\n",
    "all_test_acts = torch.concat((first_test, second_test), axis=0)\n",
    "\n",
    "for epoch in tqdm(range(100)):\n",
    "    losses = train_epoch(encoders, all_acts, optimizers)\n",
    "    \n",
    "    # Track different layer groups\n",
    "    early_layers_history.append(np.mean(losses[:8]))\n",
    "    mid_layers_history.append(np.mean(losses[8:16]))\n",
    "    late_layers_history.append(np.mean(losses[16:]))\n",
    "    \n",
    "    if (epoch+1) % 10 == 0:\n",
    "        with torch.no_grad():\n",
    "            [model.eval() for model in encoders]\n",
    "            \n",
    "            # Test losses by layer group\n",
    "            test_preds = [encoders[i](all_test_acts[:, i].cuda()).cpu() for i in range(n_layers)]\n",
    "            test_losses = [F.mse_loss(pred, all_test_acts[:, i]).item() for i, pred in enumerate(test_preds)]\n",
    "            \n",
    "            print(f\"\\nEpoch {epoch+1}\")\n",
    "            print(f\"Train Losses - Early: {early_layers_history[-1]:.3f}, \"\n",
    "                  f\"Mid: {mid_layers_history[-1]:.3f}, \"\n",
    "                  f\"Late: {late_layers_history[-1]:.3f}\")\n",
    "            print(f\"Test Losses  - Early: {np.mean(test_losses[:8]):.3f}, \"\n",
    "                  f\"Mid: {np.mean(test_losses[8:16]):.3f}, \"\n",
    "                  f\"Late: {np.mean(test_losses[16:]):.3f}\")\n",
    "\n",
    "# Plot training curves\n",
    "plt.figure(figsize=(12, 4))\n",
    "plt.plot(early_layers_history, label='Early Layers (0-7)')\n",
    "plt.plot(mid_layers_history, label='Mid Layers (8-15)')\n",
    "plt.plot(late_layers_history, label='Late Layers (16-23)')\n",
    "plt.title('Reconstruction Loss by Layer Group')\n",
    "plt.xlabel('Epoch')\n",
    "plt.ylabel('MSE Loss')\n",
    "plt.legend()\n",
    "plt.yscale('log')\n",
    "plt.grid(True)\n",
    "plt.show()"
   ]
  },
  {
   "cell_type": "markdown",
   "id": "945c7f92",
   "metadata": {},
   "source": [
    "### Result: Marginally worse"
   ]
  },
  {
   "cell_type": "markdown",
   "id": "a0792081",
   "metadata": {},
   "source": [
    "## Hidden layer increase"
   ]
  },
  {
   "cell_type": "markdown",
   "id": "f48391d7",
   "metadata": {},
   "source": [
    "The only different here is in the get_hidden function."
   ]
  },
  {
   "cell_type": "code",
   "execution_count": 4,
   "id": "bf738597",
   "metadata": {},
   "outputs": [
    {
     "name": "stderr",
     "output_type": "stream",
     "text": [
      " 10%|█         | 10/100 [01:49<16:24, 10.94s/it]"
     ]
    },
    {
     "name": "stdout",
     "output_type": "stream",
     "text": [
      "\n",
      "Epoch 10\n",
      "Train Losses - Early: 0.214, Mid: 0.853, Late: 7.543\n",
      "Test Losses  - Early: 1.163, Mid: 4.037, Late: 21.336\n"
     ]
    },
    {
     "name": "stderr",
     "output_type": "stream",
     "text": [
      " 20%|██        | 20/100 [03:38<14:34, 10.93s/it]"
     ]
    },
    {
     "name": "stdout",
     "output_type": "stream",
     "text": [
      "\n",
      "Epoch 20\n",
      "Train Losses - Early: 0.150, Mid: 0.583, Late: 4.481\n",
      "Test Losses  - Early: 1.037, Mid: 3.477, Late: 16.006\n"
     ]
    },
    {
     "name": "stderr",
     "output_type": "stream",
     "text": [
      " 30%|███       | 30/100 [05:27<12:42, 10.90s/it]"
     ]
    },
    {
     "name": "stdout",
     "output_type": "stream",
     "text": [
      "\n",
      "Epoch 30\n",
      "Train Losses - Early: 0.115, Mid: 0.458, Late: 3.446\n",
      "Test Losses  - Early: 0.964, Mid: 3.198, Late: 14.206\n"
     ]
    },
    {
     "name": "stderr",
     "output_type": "stream",
     "text": [
      " 40%|████      | 40/100 [07:15<10:49, 10.83s/it]"
     ]
    },
    {
     "name": "stdout",
     "output_type": "stream",
     "text": [
      "\n",
      "Epoch 40\n",
      "Train Losses - Early: 0.090, Mid: 0.375, Late: 2.662\n",
      "Test Losses  - Early: 0.936, Mid: 3.050, Late: 13.263\n"
     ]
    },
    {
     "name": "stderr",
     "output_type": "stream",
     "text": [
      " 50%|█████     | 50/100 [09:06<09:33, 11.47s/it]"
     ]
    },
    {
     "name": "stdout",
     "output_type": "stream",
     "text": [
      "\n",
      "Epoch 50\n",
      "Train Losses - Early: 0.071, Mid: 0.314, Late: 2.274\n",
      "Test Losses  - Early: 0.919, Mid: 2.961, Late: 12.524\n"
     ]
    },
    {
     "name": "stderr",
     "output_type": "stream",
     "text": [
      " 60%|██████    | 60/100 [11:02<07:49, 11.74s/it]"
     ]
    },
    {
     "name": "stdout",
     "output_type": "stream",
     "text": [
      "\n",
      "Epoch 60\n",
      "Train Losses - Early: 0.059, Mid: 0.280, Late: 1.861\n",
      "Test Losses  - Early: 0.915, Mid: 2.915, Late: 11.927\n"
     ]
    },
    {
     "name": "stderr",
     "output_type": "stream",
     "text": [
      " 70%|███████   | 70/100 [12:56<05:44, 11.49s/it]"
     ]
    },
    {
     "name": "stdout",
     "output_type": "stream",
     "text": [
      "\n",
      "Epoch 70\n",
      "Train Losses - Early: 0.050, Mid: 0.247, Late: 1.640\n",
      "Test Losses  - Early: 0.914, Mid: 2.875, Late: 11.224\n"
     ]
    },
    {
     "name": "stderr",
     "output_type": "stream",
     "text": [
      " 80%|████████  | 80/100 [14:50<03:51, 11.57s/it]"
     ]
    },
    {
     "name": "stdout",
     "output_type": "stream",
     "text": [
      "\n",
      "Epoch 80\n",
      "Train Losses - Early: 0.045, Mid: 0.230, Late: 1.445\n",
      "Test Losses  - Early: 0.913, Mid: 2.866, Late: 11.006\n"
     ]
    },
    {
     "name": "stderr",
     "output_type": "stream",
     "text": [
      " 90%|█████████ | 90/100 [16:45<01:55, 11.50s/it]"
     ]
    },
    {
     "name": "stdout",
     "output_type": "stream",
     "text": [
      "\n",
      "Epoch 90\n",
      "Train Losses - Early: 0.041, Mid: 0.213, Late: 1.260\n",
      "Test Losses  - Early: 0.915, Mid: 2.836, Late: 10.563\n"
     ]
    },
    {
     "name": "stderr",
     "output_type": "stream",
     "text": [
      "100%|██████████| 100/100 [18:41<00:00, 11.21s/it]"
     ]
    },
    {
     "name": "stdout",
     "output_type": "stream",
     "text": [
      "\n",
      "Epoch 100\n",
      "Train Losses - Early: 0.038, Mid: 0.202, Late: 1.130\n",
      "Test Losses  - Early: 0.913, Mid: 2.833, Late: 10.381\n"
     ]
    },
    {
     "name": "stderr",
     "output_type": "stream",
     "text": [
      "\n"
     ]
    },
    {
     "data": {
      "image/png": "[encoded data removed]",
      "text/plain": [
       "<Figure size 1200x400 with 1 Axes>"
      ]
     },
     "metadata": {},
     "output_type": "display_data"
    }
   ],
   "source": [
    "# We probably need to scale the hidden dimension based on how deep you are\n",
    "def get_hidden(i):\n",
    "    if i <= 8:\n",
    "        return 1\n",
    "    elif i <= 16:\n",
    "        return 2\n",
    "    elif i <= 20:\n",
    "        return 5  # Increased from 3 to 5\n",
    "    else:\n",
    "        return 6  # Increased from 4 to 6\n",
    "\n",
    "class Autoencoder(nn.Module):\n",
    "    def __init__(self, layer_idx, d_in=1024, base_width=256):\n",
    "        super().__init__()\n",
    "        # Scale hidden dim based on layer position\n",
    "        # Later layers get progressively larger capacity\n",
    "        hidden_mult = get_hidden(layer_idx)\n",
    "        d_hidden = int(base_width * hidden_mult)\n",
    "        \n",
    "        # Gradual dimension reduction for early and middle layers\n",
    "        d_mid = (d_in + d_hidden) // 2\n",
    "\n",
    "        self.encode = nn.Sequential(\n",
    "            nn.Linear(d_in, d_mid),\n",
    "            nn.LayerNorm(d_mid),\n",
    "            nn.GELU(),\n",
    "            nn.Linear(d_mid, d_hidden),\n",
    "            nn.LayerNorm(d_hidden),\n",
    "            nn.GELU()\n",
    "        )\n",
    "            \n",
    "        self.decode = nn.Sequential(\n",
    "            nn.Linear(d_hidden, d_mid),\n",
    "            nn.LayerNorm(d_mid),\n",
    "            nn.GELU(),\n",
    "            nn.Linear(d_mid, d_in)\n",
    "        )\n",
    "        \n",
    "        # Initialize with smaller weights for stability\n",
    "        for m in self.modules():\n",
    "            if isinstance(m, nn.Linear):\n",
    "                nn.init.xavier_uniform_(m.weight, gain=0.5)\n",
    "                \n",
    "    def forward(self, x):\n",
    "        h = self.encode(x)\n",
    "        # Add residual connection for easier learning\n",
    "        return self.decode(h) + 0.1 * x  # Scaled residual to start mostly from identity\n",
    "\n",
    "n_layers = 24\n",
    "# Create layer-specific autoencoders\n",
    "encoders = [Autoencoder(i).cuda() for i in range(n_layers)]\n",
    "\n",
    "# Use different learning rates for different layers\n",
    "lrs = [3e-4 * (1 + i/24) for i in range(n_layers)]  # Higher lr for harder layers. From 3e-4 -> 3e-4*3\n",
    "optimizers = [torch.optim.AdamW(ae.parameters(), lr=lr, weight_decay=0.01) for ae, lr in zip(encoders, lrs)]\n",
    "\n",
    "# Modified training loop with layer-specific logging\n",
    "def train_epoch(models, acts, optimizers, batch_size=64):\n",
    "    losses = []\n",
    "    n_batches = acts.shape[0] // batch_size\n",
    "    \n",
    "    for batch in range(n_batches):\n",
    "        start_idx = batch * batch_size\n",
    "        end_idx = (batch + 1) * batch_size\n",
    "        \n",
    "        batch_losses = []\n",
    "        for i, (model, optimizer) in enumerate(zip(models, optimizers)):\n",
    "            model.train()\n",
    "            batch_i = acts[start_idx:end_idx, i].cuda()\n",
    "            \n",
    "            optimizer.zero_grad()\n",
    "            loss = F.mse_loss(model(batch_i), batch_i)\n",
    "            loss.backward()\n",
    "            optimizer.step()\n",
    "            \n",
    "            batch_losses.append(loss.item())\n",
    "        \n",
    "        losses.append(batch_losses)\n",
    "    \n",
    "    return np.mean(losses, axis=0)\n",
    "\n",
    "# Training with more detailed monitoring\n",
    "early_layers_history = []\n",
    "mid_layers_history = []\n",
    "late_layers_history = []\n",
    "\n",
    "all_acts = wikitext_acts\n",
    "all_test_acts = torch.concat((first_test, second_test), axis=0)\n",
    "\n",
    "for epoch in tqdm(range(100)):\n",
    "    losses = train_epoch(encoders, all_acts, optimizers)\n",
    "    \n",
    "    # Track different layer groups\n",
    "    early_layers_history.append(np.mean(losses[:8]))\n",
    "    mid_layers_history.append(np.mean(losses[8:16]))\n",
    "    late_layers_history.append(np.mean(losses[16:]))\n",
    "    \n",
    "    if (epoch+1) % 10 == 0:\n",
    "        with torch.no_grad():\n",
    "            [model.eval() for model in encoders]\n",
    "            \n",
    "            # Test losses by layer group\n",
    "            test_preds = [encoders[i](all_test_acts[:, i].cuda()).cpu() for i in range(n_layers)]\n",
    "            test_losses = [F.mse_loss(pred, all_test_acts[:, i]).item() for i, pred in enumerate(test_preds)]\n",
    "            \n",
    "            print(f\"\\nEpoch {epoch+1}\")\n",
    "            print(f\"Train Losses - Early: {early_layers_history[-1]:.3f}, \"\n",
    "                  f\"Mid: {mid_layers_history[-1]:.3f}, \"\n",
    "                  f\"Late: {late_layers_history[-1]:.3f}\")\n",
    "            print(f\"Test Losses  - Early: {np.mean(test_losses[:8]):.3f}, \"\n",
    "                  f\"Mid: {np.mean(test_losses[8:16]):.3f}, \"\n",
    "                  f\"Late: {np.mean(test_losses[16:]):.3f}\")\n",
    "\n",
    "# Plot training curves\n",
    "plt.figure(figsize=(12, 4))\n",
    "plt.plot(early_layers_history, label='Early Layers (0-7)')\n",
    "plt.plot(mid_layers_history, label='Mid Layers (8-15)')\n",
    "plt.plot(late_layers_history, label='Late Layers (16-23)')\n",
    "plt.title('Reconstruction Loss by Layer Group')\n",
    "plt.xlabel('Epoch')\n",
    "plt.ylabel('MSE Loss')\n",
    "plt.legend()\n",
    "plt.yscale('log')\n",
    "plt.grid(True)\n",
    "plt.show()"
   ]
  },
  {
   "cell_type": "markdown",
   "id": "6c8bad3e",
   "metadata": {},
   "source": [
    "### Result: Marginally better"
   ]
  },
  {
   "cell_type": "markdown",
   "id": "8eebd0d2",
   "metadata": {},
   "source": [
    "# Experimentation on the Final Four Layers"
   ]
  },
  {
   "cell_type": "markdown",
   "id": "a45af823",
   "metadata": {},
   "source": [
    "The final four layers have the highest loss and are capturing the most complex information, so apply hyperparameter experimentation to improve their loss."
   ]
  },
  {
   "cell_type": "markdown",
   "id": "6946a356",
   "metadata": {},
   "source": [
    "## Baseline"
   ]
  },
  {
   "cell_type": "code",
   "execution_count": 4,
   "id": "7e174b19",
   "metadata": {},
   "outputs": [
    {
     "name": "stderr",
     "output_type": "stream",
     "text": [
      " 10%|█         | 10/100 [01:50<16:27, 10.97s/it]"
     ]
    },
    {
     "name": "stdout",
     "output_type": "stream",
     "text": [
      "\n",
      "Epoch 10\n",
      "Train Losses - Early: 0.214, Mid: 0.853, Mid Late: 2.979, Final Four: 13.695\n",
      "Test Losses  - Early: 1.163, Mid: 4.037, Mid Late: 11.082, Final Four: 34.228\n"
     ]
    },
    {
     "name": "stderr",
     "output_type": "stream",
     "text": [
      " 20%|██        | 20/100 [03:37<14:35, 10.95s/it]"
     ]
    },
    {
     "name": "stdout",
     "output_type": "stream",
     "text": [
      "\n",
      "Epoch 20\n",
      "Train Losses - Early: 0.150, Mid: 0.583, Mid Late: 1.957, Final Four: 7.951\n",
      "Test Losses  - Early: 1.037, Mid: 3.477, Mid Late: 9.405, Final Four: 24.093\n"
     ]
    },
    {
     "name": "stderr",
     "output_type": "stream",
     "text": [
      " 30%|███       | 30/100 [05:21<12:15, 10.50s/it]"
     ]
    },
    {
     "name": "stdout",
     "output_type": "stream",
     "text": [
      "\n",
      "Epoch 30\n",
      "Train Losses - Early: 0.115, Mid: 0.458, Mid Late: 1.543, Final Four: 5.990\n",
      "Test Losses  - Early: 0.964, Mid: 3.198, Mid Late: 8.584, Final Four: 20.930\n"
     ]
    },
    {
     "name": "stderr",
     "output_type": "stream",
     "text": [
      " 40%|████      | 40/100 [07:05<10:25, 10.43s/it]"
     ]
    },
    {
     "name": "stdout",
     "output_type": "stream",
     "text": [
      "\n",
      "Epoch 40\n",
      "Train Losses - Early: 0.090, Mid: 0.375, Mid Late: 1.274, Final Four: 4.957\n",
      "Test Losses  - Early: 0.936, Mid: 3.050, Mid Late: 8.087, Final Four: 19.399\n"
     ]
    },
    {
     "name": "stderr",
     "output_type": "stream",
     "text": [
      " 50%|█████     | 50/100 [08:49<08:40, 10.40s/it]"
     ]
    },
    {
     "name": "stdout",
     "output_type": "stream",
     "text": [
      "\n",
      "Epoch 50\n",
      "Train Losses - Early: 0.071, Mid: 0.314, Mid Late: 1.100, Final Four: 4.224\n",
      "Test Losses  - Early: 0.919, Mid: 2.961, Mid Late: 7.807, Final Four: 18.560\n"
     ]
    },
    {
     "name": "stderr",
     "output_type": "stream",
     "text": [
      " 60%|██████    | 60/100 [10:33<06:59, 10.48s/it]"
     ]
    },
    {
     "name": "stdout",
     "output_type": "stream",
     "text": [
      "\n",
      "Epoch 60\n",
      "Train Losses - Early: 0.059, Mid: 0.280, Mid Late: 0.958, Final Four: 3.664\n",
      "Test Losses  - Early: 0.915, Mid: 2.915, Mid Late: 7.587, Final Four: 17.448\n"
     ]
    },
    {
     "name": "stderr",
     "output_type": "stream",
     "text": [
      " 70%|███████   | 70/100 [12:17<05:13, 10.44s/it]"
     ]
    },
    {
     "name": "stdout",
     "output_type": "stream",
     "text": [
      "\n",
      "Epoch 70\n",
      "Train Losses - Early: 0.050, Mid: 0.247, Mid Late: 0.874, Final Four: 3.230\n",
      "Test Losses  - Early: 0.914, Mid: 2.875, Mid Late: 7.495, Final Four: 16.945\n"
     ]
    },
    {
     "name": "stderr",
     "output_type": "stream",
     "text": [
      " 80%|████████  | 80/100 [14:01<03:29, 10.46s/it]"
     ]
    },
    {
     "name": "stdout",
     "output_type": "stream",
     "text": [
      "\n",
      "Epoch 80\n",
      "Train Losses - Early: 0.045, Mid: 0.230, Mid Late: 0.775, Final Four: 2.957\n",
      "Test Losses  - Early: 0.913, Mid: 2.866, Mid Late: 7.368, Final Four: 16.461\n"
     ]
    },
    {
     "name": "stderr",
     "output_type": "stream",
     "text": [
      " 90%|█████████ | 90/100 [15:45<01:44, 10.42s/it]"
     ]
    },
    {
     "name": "stdout",
     "output_type": "stream",
     "text": [
      "\n",
      "Epoch 90\n",
      "Train Losses - Early: 0.041, Mid: 0.213, Mid Late: 0.724, Final Four: 2.712\n",
      "Test Losses  - Early: 0.915, Mid: 2.836, Mid Late: 7.317, Final Four: 15.881\n"
     ]
    },
    {
     "name": "stderr",
     "output_type": "stream",
     "text": [
      "100%|██████████| 100/100 [17:31<00:00, 10.51s/it]"
     ]
    },
    {
     "name": "stdout",
     "output_type": "stream",
     "text": [
      "\n",
      "Epoch 100\n",
      "Train Losses - Early: 0.038, Mid: 0.202, Mid Late: 0.667, Final Four: 2.362\n",
      "Test Losses  - Early: 0.913, Mid: 2.833, Mid Late: 7.277, Final Four: 15.251\n"
     ]
    },
    {
     "name": "stderr",
     "output_type": "stream",
     "text": [
      "\n"
     ]
    },
    {
     "data": {
      "image/png": "[encoded data removed]",
      "text/plain": [
       "<Figure size 1200x400 with 1 Axes>"
      ]
     },
     "metadata": {},
     "output_type": "display_data"
    }
   ],
   "source": [
    "# We probably need to scale the hidden dimension based on how deep you are\n",
    "def get_hidden(i):\n",
    "    if i <= 8:\n",
    "        return 1\n",
    "    elif i <= 16:\n",
    "        return 2\n",
    "    elif i <= 20:\n",
    "        return 3\n",
    "    else:\n",
    "        return 4\n",
    "\n",
    "class Autoencoder(nn.Module):\n",
    "    def __init__(self, layer_idx, d_in=1024, base_width=256):\n",
    "        super().__init__()\n",
    "        # Scale hidden dim based on layer position\n",
    "        # Later layers get progressively larger capacity\n",
    "        hidden_mult = get_hidden(layer_idx)\n",
    "        d_hidden = int(base_width * hidden_mult)\n",
    "        \n",
    "        # Gradual dimension reduction\n",
    "        d_mid = (d_in + d_hidden) // 2\n",
    "        \n",
    "        self.encode = nn.Sequential(\n",
    "            nn.Linear(d_in, d_mid),\n",
    "            nn.LayerNorm(d_mid),\n",
    "            nn.GELU(),\n",
    "            nn.Linear(d_mid, d_hidden),\n",
    "            nn.LayerNorm(d_hidden),\n",
    "            nn.GELU(),\n",
    "        )\n",
    "        \n",
    "        self.decode = nn.Sequential(\n",
    "            nn.Linear(d_hidden, d_mid),\n",
    "            nn.LayerNorm(d_mid),\n",
    "            nn.GELU(),\n",
    "            nn.Linear(d_mid, d_in),\n",
    "        )\n",
    "        \n",
    "        # Initialize with smaller weights for stability\n",
    "        for m in self.modules():\n",
    "            if isinstance(m, nn.Linear):\n",
    "                nn.init.xavier_uniform_(m.weight, gain=0.5)\n",
    "                \n",
    "    def forward(self, x):\n",
    "        h = self.encode(x)\n",
    "        # Add residual connection for easier learning\n",
    "        return self.decode(h) + 0.1 * x  # Scaled residual to start mostly from identity\n",
    "\n",
    "n_layers = 24\n",
    "# Create layer-specific autoencoders\n",
    "encoders = [Autoencoder(i).cuda() for i in range(n_layers)]\n",
    "\n",
    "# Use different learning rates for different layers\n",
    "lrs = [3e-4 * (1 + i/24) for i in range(n_layers)]  # Higher lr for harder layers. From 3e-4 -> 3e-4*3\n",
    "optimizers = [torch.optim.AdamW(ae.parameters(), lr=lr, weight_decay=0.01) for ae, lr in zip(encoders, lrs)]\n",
    "\n",
    "# Modified training loop with layer-specific logging\n",
    "def train_epoch(models, acts, optimizers, batch_size=64):\n",
    "    losses = []\n",
    "    n_batches = acts.shape[0] // batch_size\n",
    "    \n",
    "    for batch in range(n_batches):\n",
    "        start_idx = batch * batch_size\n",
    "        end_idx = (batch + 1) * batch_size\n",
    "        \n",
    "        batch_losses = []\n",
    "        for i, (model, optimizer) in enumerate(zip(models, optimizers)):\n",
    "            model.train()\n",
    "            batch_i = acts[start_idx:end_idx, i].cuda()\n",
    "            \n",
    "            optimizer.zero_grad()\n",
    "            loss = F.mse_loss(model(batch_i), batch_i)\n",
    "            loss.backward()\n",
    "            optimizer.step()\n",
    "            \n",
    "            batch_losses.append(loss.item())\n",
    "        \n",
    "        losses.append(batch_losses)\n",
    "    \n",
    "    return np.mean(losses, axis=0)\n",
    "\n",
    "# Training with more detailed monitoring\n",
    "early_layers_history = []\n",
    "mid_layers_history = []\n",
    "mid_late_layers_history = []\n",
    "final_four_layers_history = []\n",
    "\n",
    "all_acts = wikitext_acts\n",
    "all_test_acts = torch.concat((first_test, second_test), axis=0)\n",
    "\n",
    "for epoch in tqdm(range(100)):\n",
    "    losses = train_epoch(encoders, all_acts, optimizers)\n",
    "    \n",
    "    # Track different layer groups\n",
    "    early_layers_history.append(np.mean(losses[:8]))\n",
    "    mid_layers_history.append(np.mean(losses[8:16]))\n",
    "    mid_late_layers_history.append(np.mean(losses[16:20]))\n",
    "    final_four_layers_history.append(np.mean(losses[20:]))\n",
    "    \n",
    "    if (epoch+1) % 10 == 0:\n",
    "        with torch.no_grad():\n",
    "            [model.eval() for model in encoders]\n",
    "            \n",
    "            # Test losses by layer group\n",
    "            test_preds = [encoders[i](all_test_acts[:, i].cuda()).cpu() for i in range(n_layers)]\n",
    "            test_losses = [F.mse_loss(pred, all_test_acts[:, i]).item() for i, pred in enumerate(test_preds)]\n",
    "            \n",
    "            print(f\"\\nEpoch {epoch+1}\")\n",
    "            print(f\"Train Losses - Early: {early_layers_history[-1]:.3f}, \"\n",
    "                  f\"Mid: {mid_layers_history[-1]:.3f}, \"\n",
    "                  f\"Mid Late: {mid_late_layers_history[-1]:.3f}, \"\n",
    "                  f\"Final Four: {final_four_layers_history[-1]:.3f}\")\n",
    "            print(f\"Test Losses  - Early: {np.mean(test_losses[:8]):.3f}, \"\n",
    "                  f\"Mid: {np.mean(test_losses[8:16]):.3f}, \"\n",
    "                  f\"Mid Late: {np.mean(test_losses[16:20]):.3f}, \"\n",
    "                  f\"Final Four: {np.mean(test_losses[20:]):.3f}\")\n",
    "\n",
    "# Plot training curves\n",
    "plt.figure(figsize=(12, 4))\n",
    "plt.plot(early_layers_history, label='Early Layers (0-7)')\n",
    "plt.plot(mid_layers_history, label='Mid Layers (8-15)')\n",
    "plt.plot(mid_late_layers_history, label='Mid Late Layers (16-19)')\n",
    "plt.plot(final_four_layers_history, label='Final Four Layers (20-23)')\n",
    "plt.title('Reconstruction Loss by Layer Group')\n",
    "plt.xlabel('Epoch')\n",
    "plt.ylabel('MSE Loss')\n",
    "plt.legend()\n",
    "plt.yscale('log')\n",
    "plt.grid(True)\n",
    "plt.show()"
   ]
  },
  {
   "cell_type": "markdown",
   "id": "60e84cac",
   "metadata": {},
   "source": [
    "## Increase Hidden Layers for Final Four"
   ]
  },
  {
   "cell_type": "markdown",
   "id": "b2a6a184",
   "metadata": {},
   "source": [
    "The change here is in get_hidden"
   ]
  },
  {
   "cell_type": "code",
   "execution_count": 4,
   "id": "62f04d3f",
   "metadata": {},
   "outputs": [
    {
     "name": "stderr",
     "output_type": "stream",
     "text": [
      " 10%|█         | 10/100 [01:50<16:15, 10.84s/it]"
     ]
    },
    {
     "name": "stdout",
     "output_type": "stream",
     "text": [
      "\n",
      "Epoch 10\n",
      "Train Losses - Early: 0.214, Mid: 0.853, Mid Late: 2.979, Final Four: 12.149\n",
      "Test Losses  - Early: 1.163, Mid: 4.037, Mid Late: 11.082, Final Four: 31.184\n"
     ]
    },
    {
     "name": "stderr",
     "output_type": "stream",
     "text": [
      " 20%|██        | 20/100 [03:37<14:20, 10.75s/it]"
     ]
    },
    {
     "name": "stdout",
     "output_type": "stream",
     "text": [
      "\n",
      "Epoch 20\n",
      "Train Losses - Early: 0.150, Mid: 0.583, Mid Late: 1.957, Final Four: 7.240\n",
      "Test Losses  - Early: 1.037, Mid: 3.477, Mid Late: 9.405, Final Four: 22.921\n"
     ]
    },
    {
     "name": "stderr",
     "output_type": "stream",
     "text": [
      " 30%|███       | 30/100 [05:25<12:33, 10.76s/it]"
     ]
    },
    {
     "name": "stdout",
     "output_type": "stream",
     "text": [
      "\n",
      "Epoch 30\n",
      "Train Losses - Early: 0.115, Mid: 0.458, Mid Late: 1.543, Final Four: 5.547\n",
      "Test Losses  - Early: 0.964, Mid: 3.198, Mid Late: 8.584, Final Four: 20.175\n"
     ]
    },
    {
     "name": "stderr",
     "output_type": "stream",
     "text": [
      " 40%|████      | 40/100 [07:12<10:43, 10.72s/it]"
     ]
    },
    {
     "name": "stdout",
     "output_type": "stream",
     "text": [
      "\n",
      "Epoch 40\n",
      "Train Losses - Early: 0.090, Mid: 0.375, Mid Late: 1.274, Final Four: 4.467\n",
      "Test Losses  - Early: 0.936, Mid: 3.050, Mid Late: 8.087, Final Four: 19.346\n"
     ]
    },
    {
     "name": "stderr",
     "output_type": "stream",
     "text": [
      " 50%|█████     | 50/100 [08:59<08:55, 10.70s/it]"
     ]
    },
    {
     "name": "stdout",
     "output_type": "stream",
     "text": [
      "\n",
      "Epoch 50\n",
      "Train Losses - Early: 0.071, Mid: 0.314, Mid Late: 1.100, Final Four: 3.720\n",
      "Test Losses  - Early: 0.919, Mid: 2.961, Mid Late: 7.807, Final Four: 17.664\n"
     ]
    },
    {
     "name": "stderr",
     "output_type": "stream",
     "text": [
      " 60%|██████    | 60/100 [10:46<07:08, 10.72s/it]"
     ]
    },
    {
     "name": "stdout",
     "output_type": "stream",
     "text": [
      "\n",
      "Epoch 60\n",
      "Train Losses - Early: 0.059, Mid: 0.280, Mid Late: 0.958, Final Four: 3.195\n",
      "Test Losses  - Early: 0.915, Mid: 2.915, Mid Late: 7.587, Final Four: 17.122\n"
     ]
    },
    {
     "name": "stderr",
     "output_type": "stream",
     "text": [
      " 70%|███████   | 70/100 [12:33<05:20, 10.69s/it]"
     ]
    },
    {
     "name": "stdout",
     "output_type": "stream",
     "text": [
      "\n",
      "Epoch 70\n",
      "Train Losses - Early: 0.050, Mid: 0.247, Mid Late: 0.874, Final Four: 2.749\n",
      "Test Losses  - Early: 0.914, Mid: 2.875, Mid Late: 7.495, Final Four: 16.343\n"
     ]
    },
    {
     "name": "stderr",
     "output_type": "stream",
     "text": [
      " 80%|████████  | 80/100 [14:20<03:33, 10.68s/it]"
     ]
    },
    {
     "name": "stdout",
     "output_type": "stream",
     "text": [
      "\n",
      "Epoch 80\n",
      "Train Losses - Early: 0.045, Mid: 0.230, Mid Late: 0.775, Final Four: 2.389\n",
      "Test Losses  - Early: 0.913, Mid: 2.866, Mid Late: 7.368, Final Four: 15.701\n"
     ]
    },
    {
     "name": "stderr",
     "output_type": "stream",
     "text": [
      " 90%|█████████ | 90/100 [16:09<01:47, 10.71s/it]"
     ]
    },
    {
     "name": "stdout",
     "output_type": "stream",
     "text": [
      "\n",
      "Epoch 90\n",
      "Train Losses - Early: 0.041, Mid: 0.213, Mid Late: 0.724, Final Four: 2.099\n",
      "Test Losses  - Early: 0.915, Mid: 2.836, Mid Late: 7.317, Final Four: 14.821\n"
     ]
    },
    {
     "name": "stderr",
     "output_type": "stream",
     "text": [
      "100%|██████████| 100/100 [17:54<00:00, 10.74s/it]"
     ]
    },
    {
     "name": "stdout",
     "output_type": "stream",
     "text": [
      "\n",
      "Epoch 100\n",
      "Train Losses - Early: 0.038, Mid: 0.202, Mid Late: 0.667, Final Four: 1.897\n",
      "Test Losses  - Early: 0.913, Mid: 2.833, Mid Late: 7.277, Final Four: 14.352\n"
     ]
    },
    {
     "name": "stderr",
     "output_type": "stream",
     "text": [
      "\n"
     ]
    },
    {
     "data": {
      "image/png": "[encoded data removed]",
      "text/plain": [
       "<Figure size 1200x400 with 1 Axes>"
      ]
     },
     "metadata": {},
     "output_type": "display_data"
    }
   ],
   "source": [
    "# We probably need to scale the hidden dimension based on how deep you are\n",
    "def get_hidden(i):\n",
    "    if i <= 8:\n",
    "        return 1\n",
    "    elif i <= 16:\n",
    "        return 2\n",
    "    elif i <= 19:\n",
    "        return 3\n",
    "    elif i == 20:\n",
    "        return 4\n",
    "    elif i == 21:\n",
    "        return 5\n",
    "    elif i == 22:\n",
    "        return 6\n",
    "    else:\n",
    "        return 7\n",
    "\n",
    "class Autoencoder(nn.Module):\n",
    "    def __init__(self, layer_idx, d_in=1024, base_width=256):\n",
    "        super().__init__()\n",
    "        # Scale hidden dim based on layer position\n",
    "        # Later layers get progressively larger capacity\n",
    "        hidden_mult = get_hidden(layer_idx)\n",
    "        d_hidden = int(base_width * hidden_mult)\n",
    "        \n",
    "        # Gradual dimension reduction\n",
    "        d_mid = (d_in + d_hidden) // 2\n",
    "        \n",
    "        self.encode = nn.Sequential(\n",
    "            nn.Linear(d_in, d_mid),\n",
    "            nn.LayerNorm(d_mid),\n",
    "            nn.GELU(),\n",
    "            nn.Linear(d_mid, d_hidden),\n",
    "            nn.LayerNorm(d_hidden),\n",
    "            nn.GELU(),\n",
    "        )\n",
    "        \n",
    "        self.decode = nn.Sequential(\n",
    "            nn.Linear(d_hidden, d_mid),\n",
    "            nn.LayerNorm(d_mid),\n",
    "            nn.GELU(),\n",
    "            nn.Linear(d_mid, d_in),\n",
    "        )\n",
    "        \n",
    "        # Initialize with smaller weights for stability\n",
    "        for m in self.modules():\n",
    "            if isinstance(m, nn.Linear):\n",
    "                nn.init.xavier_uniform_(m.weight, gain=0.5)\n",
    "                \n",
    "    def forward(self, x):\n",
    "        h = self.encode(x)\n",
    "        # Add residual connection for easier learning\n",
    "        return self.decode(h) + 0.1 * x  # Scaled residual to start mostly from identity\n",
    "\n",
    "n_layers = 24\n",
    "# Create layer-specific autoencoders\n",
    "encoders = [Autoencoder(i).cuda() for i in range(n_layers)]\n",
    "\n",
    "# Use different learning rates for different layers\n",
    "lrs = [3e-4 * (1 + i/24) for i in range(n_layers)]  # Higher lr for harder layers. From 3e-4 -> 3e-4*3\n",
    "optimizers = [torch.optim.AdamW(ae.parameters(), lr=lr, weight_decay=0.01) for ae, lr in zip(encoders, lrs)]\n",
    "\n",
    "# Modified training loop with layer-specific logging\n",
    "def train_epoch(models, acts, optimizers, batch_size=64):\n",
    "    losses = []\n",
    "    n_batches = acts.shape[0] // batch_size\n",
    "    \n",
    "    for batch in range(n_batches):\n",
    "        start_idx = batch * batch_size\n",
    "        end_idx = (batch + 1) * batch_size\n",
    "        \n",
    "        batch_losses = []\n",
    "        for i, (model, optimizer) in enumerate(zip(models, optimizers)):\n",
    "            model.train()\n",
    "            batch_i = acts[start_idx:end_idx, i].cuda()\n",
    "            \n",
    "            optimizer.zero_grad()\n",
    "            loss = F.mse_loss(model(batch_i), batch_i)\n",
    "            loss.backward()\n",
    "            optimizer.step()\n",
    "            \n",
    "            batch_losses.append(loss.item())\n",
    "        \n",
    "        losses.append(batch_losses)\n",
    "    \n",
    "    return np.mean(losses, axis=0)\n",
    "\n",
    "# Training with more detailed monitoring\n",
    "early_layers_history = []\n",
    "mid_layers_history = []\n",
    "mid_late_layers_history = []\n",
    "final_four_layers_history = []\n",
    "\n",
    "all_acts = wikitext_acts\n",
    "all_test_acts = torch.concat((first_test, second_test), axis=0)\n",
    "\n",
    "for epoch in tqdm(range(100)):\n",
    "    losses = train_epoch(encoders, all_acts, optimizers)\n",
    "    \n",
    "    # Track different layer groups\n",
    "    early_layers_history.append(np.mean(losses[:8]))\n",
    "    mid_layers_history.append(np.mean(losses[8:16]))\n",
    "    mid_late_layers_history.append(np.mean(losses[16:20]))\n",
    "    final_four_layers_history.append(np.mean(losses[20:]))\n",
    "    \n",
    "    if (epoch+1) % 10 == 0:\n",
    "        with torch.no_grad():\n",
    "            [model.eval() for model in encoders]\n",
    "            \n",
    "            # Test losses by layer group\n",
    "            test_preds = [encoders[i](all_test_acts[:, i].cuda()).cpu() for i in range(n_layers)]\n",
    "            test_losses = [F.mse_loss(pred, all_test_acts[:, i]).item() for i, pred in enumerate(test_preds)]\n",
    "            \n",
    "            print(f\"\\nEpoch {epoch+1}\")\n",
    "            print(f\"Train Losses - Early: {early_layers_history[-1]:.3f}, \"\n",
    "                  f\"Mid: {mid_layers_history[-1]:.3f}, \"\n",
    "                  f\"Mid Late: {mid_late_layers_history[-1]:.3f}, \"\n",
    "                  f\"Final Four: {final_four_layers_history[-1]:.3f}\")\n",
    "            print(f\"Test Losses  - Early: {np.mean(test_losses[:8]):.3f}, \"\n",
    "                  f\"Mid: {np.mean(test_losses[8:16]):.3f}, \"\n",
    "                  f\"Mid Late: {np.mean(test_losses[16:20]):.3f}, \"\n",
    "                  f\"Final Four: {np.mean(test_losses[20:]):.3f}\")\n",
    "\n",
    "# Plot training curves\n",
    "plt.figure(figsize=(12, 4))\n",
    "plt.plot(early_layers_history, label='Early Layers (0-7)')\n",
    "plt.plot(mid_layers_history, label='Mid Layers (8-15)')\n",
    "plt.plot(mid_late_layers_history, label='Mid Late Layers (16-19)')\n",
    "plt.plot(final_four_layers_history, label='Final Four Layers (20-23)')\n",
    "plt.title('Reconstruction Loss by Layer Group')\n",
    "plt.xlabel('Epoch')\n",
    "plt.ylabel('MSE Loss')\n",
    "plt.legend()\n",
    "plt.yscale('log')\n",
    "plt.grid(True)\n",
    "plt.show()"
   ]
  },
  {
   "cell_type": "markdown",
   "id": "2bb24424",
   "metadata": {},
   "source": [
    "### Result: marginal improvement"
   ]
  },
  {
   "cell_type": "markdown",
   "id": "8d83b0ac",
   "metadata": {},
   "source": [
    "## Increase Activation Layers for Final Four"
   ]
  },
  {
   "cell_type": "markdown",
   "id": "ee06a7ab",
   "metadata": {},
   "source": [
    "The change here is in the init of Autoencoder"
   ]
  },
  {
   "cell_type": "code",
   "execution_count": 5,
   "id": "e6629e31",
   "metadata": {},
   "outputs": [
    {
     "name": "stderr",
     "output_type": "stream",
     "text": [
      " 10%|█         | 10/100 [01:49<16:28, 10.98s/it]"
     ]
    },
    {
     "name": "stdout",
     "output_type": "stream",
     "text": [
      "\n",
      "Epoch 10\n",
      "Train Losses - Early: 0.214, Mid: 0.852, Mid Late: 3.000, Final Four: 17.412\n",
      "Test Losses  - Early: 1.164, Mid: 4.035, Mid Late: 11.103, Final Four: 38.309\n"
     ]
    },
    {
     "name": "stderr",
     "output_type": "stream",
     "text": [
      " 20%|██        | 20/100 [03:38<14:35, 10.94s/it]"
     ]
    },
    {
     "name": "stdout",
     "output_type": "stream",
     "text": [
      "\n",
      "Epoch 20\n",
      "Train Losses - Early: 0.151, Mid: 0.582, Mid Late: 1.982, Final Four: 10.352\n",
      "Test Losses  - Early: 1.033, Mid: 3.468, Mid Late: 9.473, Final Four: 28.240\n"
     ]
    },
    {
     "name": "stderr",
     "output_type": "stream",
     "text": [
      " 30%|███       | 30/100 [05:30<13:18, 11.41s/it]"
     ]
    },
    {
     "name": "stdout",
     "output_type": "stream",
     "text": [
      "\n",
      "Epoch 30\n",
      "Train Losses - Early: 0.116, Mid: 0.458, Mid Late: 1.555, Final Four: 7.999\n",
      "Test Losses  - Early: 0.963, Mid: 3.201, Mid Late: 8.594, Final Four: 25.132\n"
     ]
    },
    {
     "name": "stderr",
     "output_type": "stream",
     "text": [
      " 40%|████      | 40/100 [07:22<11:18, 11.30s/it]"
     ]
    },
    {
     "name": "stdout",
     "output_type": "stream",
     "text": [
      "\n",
      "Epoch 40\n",
      "Train Losses - Early: 0.090, Mid: 0.381, Mid Late: 1.276, Final Four: 6.821\n",
      "Test Losses  - Early: 0.930, Mid: 3.063, Mid Late: 8.045, Final Four: 24.229\n"
     ]
    },
    {
     "name": "stderr",
     "output_type": "stream",
     "text": [
      " 50%|█████     | 50/100 [09:15<09:24, 11.30s/it]"
     ]
    },
    {
     "name": "stdout",
     "output_type": "stream",
     "text": [
      "\n",
      "Epoch 50\n",
      "Train Losses - Early: 0.071, Mid: 0.319, Mid Late: 1.070, Final Four: 6.055\n",
      "Test Losses  - Early: 0.914, Mid: 2.975, Mid Late: 7.666, Final Four: 23.911\n"
     ]
    },
    {
     "name": "stderr",
     "output_type": "stream",
     "text": [
      " 60%|██████    | 60/100 [11:07<07:30, 11.27s/it]"
     ]
    },
    {
     "name": "stdout",
     "output_type": "stream",
     "text": [
      "\n",
      "Epoch 60\n",
      "Train Losses - Early: 0.059, Mid: 0.283, Mid Late: 0.972, Final Four: 5.273\n",
      "Test Losses  - Early: 0.906, Mid: 2.921, Mid Late: 7.543, Final Four: 23.016\n"
     ]
    },
    {
     "name": "stderr",
     "output_type": "stream",
     "text": [
      " 70%|███████   | 70/100 [13:00<05:38, 11.27s/it]"
     ]
    },
    {
     "name": "stdout",
     "output_type": "stream",
     "text": [
      "\n",
      "Epoch 70\n",
      "Train Losses - Early: 0.050, Mid: 0.250, Mid Late: 0.851, Final Four: 4.859\n",
      "Test Losses  - Early: 0.906, Mid: 2.876, Mid Late: 7.343, Final Four: 22.854\n"
     ]
    },
    {
     "name": "stderr",
     "output_type": "stream",
     "text": [
      " 80%|████████  | 80/100 [14:52<03:44, 11.24s/it]"
     ]
    },
    {
     "name": "stdout",
     "output_type": "stream",
     "text": [
      "\n",
      "Epoch 80\n",
      "Train Losses - Early: 0.044, Mid: 0.232, Mid Late: 0.782, Final Four: 4.492\n",
      "Test Losses  - Early: 0.904, Mid: 2.858, Mid Late: 7.226, Final Four: 23.093\n"
     ]
    },
    {
     "name": "stderr",
     "output_type": "stream",
     "text": [
      " 90%|█████████ | 90/100 [16:44<01:52, 11.24s/it]"
     ]
    },
    {
     "name": "stdout",
     "output_type": "stream",
     "text": [
      "\n",
      "Epoch 90\n",
      "Train Losses - Early: 0.041, Mid: 0.215, Mid Late: 0.717, Final Four: 4.064\n",
      "Test Losses  - Early: 0.909, Mid: 2.845, Mid Late: 7.145, Final Four: 22.488\n"
     ]
    },
    {
     "name": "stderr",
     "output_type": "stream",
     "text": [
      "100%|██████████| 100/100 [18:36<00:00, 11.17s/it]"
     ]
    },
    {
     "name": "stdout",
     "output_type": "stream",
     "text": [
      "\n",
      "Epoch 100\n",
      "Train Losses - Early: 0.038, Mid: 0.203, Mid Late: 0.689, Final Four: 3.814\n",
      "Test Losses  - Early: 0.916, Mid: 2.835, Mid Late: 7.205, Final Four: 23.091\n"
     ]
    },
    {
     "name": "stderr",
     "output_type": "stream",
     "text": [
      "\n"
     ]
    },
    {
     "data": {
      "image/png": "[encoded data removed]",
      "text/plain": [
       "<Figure size 1200x400 with 1 Axes>"
      ]
     },
     "metadata": {},
     "output_type": "display_data"
    }
   ],
   "source": [
    "# We probably need to scale the hidden dimension based on how deep you are\n",
    "def get_hidden(i):\n",
    "    if i <= 8:\n",
    "        return 1\n",
    "    elif i <= 16:\n",
    "        return 2\n",
    "    elif i <= 20:\n",
    "        return 3\n",
    "    else:\n",
    "        return 4\n",
    "\n",
    "class Autoencoder(nn.Module):\n",
    "    def __init__(self, layer_idx, d_in=1024, base_width=256):\n",
    "        super().__init__()\n",
    "        # Scale hidden dim based on layer position\n",
    "        # Later layers get progressively larger capacity\n",
    "        hidden_mult = get_hidden(layer_idx)\n",
    "        d_hidden = int(base_width * hidden_mult)\n",
    "        \n",
    "        # Gradual dimension reduction for early and middle layers\n",
    "        d_mid = (d_in + d_hidden) // 2\n",
    "\n",
    "        # More gradual dimension reduction for late layers, also affords more layers\n",
    "        # this is the one third point, this is closer to d_in\n",
    "        d_onethird_to_hidden = (2 * d_in + d_hidden) // 3 \n",
    "        # this is the two third point, this is closer to d_hidden\n",
    "        d_twothird_to_hidden = (d_in + 2 * d_hidden) // 3\n",
    "        \n",
    "        # This is a modest enhancement of complexity\n",
    "        if layer_idx >= 20:\n",
    "            self.encode = nn.Sequential(\n",
    "                nn.Linear(d_in, d_onethird_to_hidden),\n",
    "                nn.LayerNorm(d_onethird_to_hidden),\n",
    "                nn.GELU(),\n",
    "                nn.Linear(d_onethird_to_hidden, d_twothird_to_hidden),\n",
    "                nn.LayerNorm(d_twothird_to_hidden),\n",
    "                nn.GELU(),\n",
    "                nn.Linear(d_twothird_to_hidden, d_hidden),\n",
    "                nn.LayerNorm(d_hidden),\n",
    "                nn.GELU()\n",
    "            )\n",
    "            \n",
    "            self.decode = nn.Sequential(\n",
    "                nn.Linear(d_hidden, d_twothird_to_hidden),\n",
    "                nn.LayerNorm(d_twothird_to_hidden),\n",
    "                nn.GELU(),\n",
    "                nn.Linear(d_twothird_to_hidden, d_onethird_to_hidden),\n",
    "                nn.LayerNorm(d_onethird_to_hidden),\n",
    "                nn.GELU(),\n",
    "                nn.Linear(d_onethird_to_hidden, d_in)\n",
    "            )\n",
    "        # For early and mid keep the original architecture\n",
    "        else:\n",
    "            self.encode = nn.Sequential(\n",
    "                nn.Linear(d_in, d_mid),\n",
    "                nn.LayerNorm(d_mid),\n",
    "                nn.GELU(),\n",
    "                nn.Linear(d_mid, d_hidden),\n",
    "                nn.LayerNorm(d_hidden),\n",
    "                nn.GELU()\n",
    "            )\n",
    "            \n",
    "            self.decode = nn.Sequential(\n",
    "                nn.Linear(d_hidden, d_mid),\n",
    "                nn.LayerNorm(d_mid),\n",
    "                nn.GELU(),\n",
    "                nn.Linear(d_mid, d_in)\n",
    "            )\n",
    "        \n",
    "        # Initialize with smaller weights for stability\n",
    "        for m in self.modules():\n",
    "            if isinstance(m, nn.Linear):\n",
    "                nn.init.xavier_uniform_(m.weight, gain=0.5)\n",
    "                \n",
    "    def forward(self, x):\n",
    "        h = self.encode(x)\n",
    "        # Add residual connection for easier learning\n",
    "        return self.decode(h) + 0.1 * x  # Scaled residual to start mostly from identity\n",
    "\n",
    "n_layers = 24\n",
    "# Create layer-specific autoencoders\n",
    "encoders = [Autoencoder(i).cuda() for i in range(n_layers)]\n",
    "\n",
    "# Use different learning rates for different layers\n",
    "lrs = [3e-4 * (1 + i/24) for i in range(n_layers)]  # Higher lr for harder layers. From 3e-4 -> 3e-4*3\n",
    "optimizers = [torch.optim.AdamW(ae.parameters(), lr=lr, weight_decay=0.01) for ae, lr in zip(encoders, lrs)]\n",
    "\n",
    "# Modified training loop with layer-specific logging\n",
    "def train_epoch(models, acts, optimizers, batch_size=64):\n",
    "    losses = []\n",
    "    n_batches = acts.shape[0] // batch_size\n",
    "    \n",
    "    for batch in range(n_batches):\n",
    "        start_idx = batch * batch_size\n",
    "        end_idx = (batch + 1) * batch_size\n",
    "        \n",
    "        batch_losses = []\n",
    "        for i, (model, optimizer) in enumerate(zip(models, optimizers)):\n",
    "            model.train()\n",
    "            batch_i = acts[start_idx:end_idx, i].cuda()\n",
    "            \n",
    "            optimizer.zero_grad()\n",
    "            loss = F.mse_loss(model(batch_i), batch_i)\n",
    "            loss.backward()\n",
    "            optimizer.step()\n",
    "            \n",
    "            batch_losses.append(loss.item())\n",
    "        \n",
    "        losses.append(batch_losses)\n",
    "    \n",
    "    return np.mean(losses, axis=0)\n",
    "\n",
    "# Training with more detailed monitoring\n",
    "early_layers_history = []\n",
    "mid_layers_history = []\n",
    "mid_late_layers_history = []\n",
    "final_four_layers_history = []\n",
    "\n",
    "all_acts = wikitext_acts\n",
    "all_test_acts = torch.concat((first_test, second_test), axis=0)\n",
    "\n",
    "for epoch in tqdm(range(100)):\n",
    "    losses = train_epoch(encoders, all_acts, optimizers)\n",
    "    \n",
    "    # Track different layer groups\n",
    "    early_layers_history.append(np.mean(losses[:8]))\n",
    "    mid_layers_history.append(np.mean(losses[8:16]))\n",
    "    mid_late_layers_history.append(np.mean(losses[16:20]))\n",
    "    final_four_layers_history.append(np.mean(losses[20:]))\n",
    "    \n",
    "    if (epoch+1) % 10 == 0:\n",
    "        with torch.no_grad():\n",
    "            [model.eval() for model in encoders]\n",
    "            \n",
    "            # Test losses by layer group\n",
    "            test_preds = [encoders[i](all_test_acts[:, i].cuda()).cpu() for i in range(n_layers)]\n",
    "            test_losses = [F.mse_loss(pred, all_test_acts[:, i]).item() for i, pred in enumerate(test_preds)]\n",
    "            \n",
    "            print(f\"\\nEpoch {epoch+1}\")\n",
    "            print(f\"Train Losses - Early: {early_layers_history[-1]:.3f}, \"\n",
    "                  f\"Mid: {mid_layers_history[-1]:.3f}, \"\n",
    "                  f\"Mid Late: {mid_late_layers_history[-1]:.3f}, \"\n",
    "                  f\"Final Four: {final_four_layers_history[-1]:.3f}\")\n",
    "            print(f\"Test Losses  - Early: {np.mean(test_losses[:8]):.3f}, \"\n",
    "                  f\"Mid: {np.mean(test_losses[8:16]):.3f}, \"\n",
    "                  f\"Mid Late: {np.mean(test_losses[16:20]):.3f}, \"\n",
    "                  f\"Final Four: {np.mean(test_losses[20:]):.3f}\")\n",
    "\n",
    "# Plot training curves\n",
    "plt.figure(figsize=(12, 4))\n",
    "plt.plot(early_layers_history, label='Early Layers (0-7)')\n",
    "plt.plot(mid_layers_history, label='Mid Layers (8-15)')\n",
    "plt.plot(mid_late_layers_history, label='Mid Late Layers (16-19)')\n",
    "plt.plot(final_four_layers_history, label='Final Four Layers (20-23)')\n",
    "plt.title('Reconstruction Loss by Layer Group')\n",
    "plt.xlabel('Epoch')\n",
    "plt.ylabel('MSE Loss')\n",
    "plt.legend()\n",
    "plt.yscale('log')\n",
    "plt.grid(True)\n",
    "plt.show()"
   ]
  },
  {
   "cell_type": "markdown",
   "id": "ef9af055",
   "metadata": {},
   "source": [
    "### Result: Significantly worse"
   ]
  },
  {
   "cell_type": "markdown",
   "id": "e01d8592",
   "metadata": {},
   "source": [
    "## Modify Learning Rate for Final Four"
   ]
  },
  {
   "cell_type": "markdown",
   "id": "93dbbf1a",
   "metadata": {},
   "source": [
    "The change here is in the definition of lrs"
   ]
  },
  {
   "cell_type": "code",
   "execution_count": 6,
   "id": "63577102",
   "metadata": {},
   "outputs": [
    {
     "name": "stderr",
     "output_type": "stream",
     "text": [
      " 10%|█         | 10/100 [01:43<15:39, 10.44s/it]"
     ]
    },
    {
     "name": "stdout",
     "output_type": "stream",
     "text": [
      "\n",
      "Epoch 10\n",
      "Train Losses - Early: 0.214, Mid: 0.850, Mid Late: 2.993, Final Four: 10.546\n",
      "Test Losses  - Early: 1.163, Mid: 4.027, Mid Late: 11.117, Final Four: 27.455\n"
     ]
    },
    {
     "name": "stderr",
     "output_type": "stream",
     "text": [
      " 20%|██        | 20/100 [03:25<13:36, 10.21s/it]"
     ]
    },
    {
     "name": "stdout",
     "output_type": "stream",
     "text": [
      "\n",
      "Epoch 20\n",
      "Train Losses - Early: 0.150, Mid: 0.578, Mid Late: 1.944, Final Four: 6.810\n",
      "Test Losses  - Early: 1.035, Mid: 3.471, Mid Late: 9.350, Final Four: 22.033\n"
     ]
    },
    {
     "name": "stderr",
     "output_type": "stream",
     "text": [
      " 30%|███       | 30/100 [05:07<11:54, 10.21s/it]"
     ]
    },
    {
     "name": "stdout",
     "output_type": "stream",
     "text": [
      "\n",
      "Epoch 30\n",
      "Train Losses - Early: 0.116, Mid: 0.459, Mid Late: 1.527, Final Four: 5.188\n",
      "Test Losses  - Early: 0.967, Mid: 3.213, Mid Late: 8.533, Final Four: 19.682\n"
     ]
    },
    {
     "name": "stderr",
     "output_type": "stream",
     "text": [
      " 40%|████      | 40/100 [06:48<10:08, 10.15s/it]"
     ]
    },
    {
     "name": "stdout",
     "output_type": "stream",
     "text": [
      "\n",
      "Epoch 40\n",
      "Train Losses - Early: 0.090, Mid: 0.381, Mid Late: 1.284, Final Four: 4.195\n",
      "Test Losses  - Early: 0.933, Mid: 3.078, Mid Late: 8.103, Final Four: 18.337\n"
     ]
    },
    {
     "name": "stderr",
     "output_type": "stream",
     "text": [
      " 50%|█████     | 50/100 [08:31<08:53, 10.67s/it]"
     ]
    },
    {
     "name": "stdout",
     "output_type": "stream",
     "text": [
      "\n",
      "Epoch 50\n",
      "Train Losses - Early: 0.072, Mid: 0.321, Mid Late: 1.108, Final Four: 3.522\n",
      "Test Losses  - Early: 0.916, Mid: 2.980, Mid Late: 7.783, Final Four: 17.848\n"
     ]
    },
    {
     "name": "stderr",
     "output_type": "stream",
     "text": [
      " 60%|██████    | 60/100 [10:13<06:51, 10.28s/it]"
     ]
    },
    {
     "name": "stdout",
     "output_type": "stream",
     "text": [
      "\n",
      "Epoch 60\n",
      "Train Losses - Early: 0.058, Mid: 0.273, Mid Late: 0.966, Final Four: 2.975\n",
      "Test Losses  - Early: 0.915, Mid: 2.905, Mid Late: 7.568, Final Four: 16.503\n"
     ]
    },
    {
     "name": "stderr",
     "output_type": "stream",
     "text": [
      " 70%|███████   | 70/100 [11:55<05:07, 10.24s/it]"
     ]
    },
    {
     "name": "stdout",
     "output_type": "stream",
     "text": [
      "\n",
      "Epoch 70\n",
      "Train Losses - Early: 0.050, Mid: 0.253, Mid Late: 0.852, Final Four: 2.566\n",
      "Test Losses  - Early: 0.910, Mid: 2.885, Mid Late: 7.401, Final Four: 15.694\n"
     ]
    },
    {
     "name": "stderr",
     "output_type": "stream",
     "text": [
      " 80%|████████  | 80/100 [13:37<03:23, 10.19s/it]"
     ]
    },
    {
     "name": "stdout",
     "output_type": "stream",
     "text": [
      "\n",
      "Epoch 80\n",
      "Train Losses - Early: 0.044, Mid: 0.227, Mid Late: 0.805, Final Four: 2.319\n",
      "Test Losses  - Early: 0.909, Mid: 2.862, Mid Late: 7.387, Final Four: 15.502\n"
     ]
    },
    {
     "name": "stderr",
     "output_type": "stream",
     "text": [
      " 90%|█████████ | 90/100 [15:19<01:42, 10.21s/it]"
     ]
    },
    {
     "name": "stdout",
     "output_type": "stream",
     "text": [
      "\n",
      "Epoch 90\n",
      "Train Losses - Early: 0.041, Mid: 0.212, Mid Late: 0.713, Final Four: 2.103\n",
      "Test Losses  - Early: 0.914, Mid: 2.835, Mid Late: 7.212, Final Four: 15.320\n"
     ]
    },
    {
     "name": "stderr",
     "output_type": "stream",
     "text": [
      "100%|██████████| 100/100 [17:01<00:00, 10.22s/it]"
     ]
    },
    {
     "name": "stdout",
     "output_type": "stream",
     "text": [
      "\n",
      "Epoch 100\n",
      "Train Losses - Early: 0.037, Mid: 0.206, Mid Late: 0.673, Final Four: 1.901\n",
      "Test Losses  - Early: 0.911, Mid: 2.832, Mid Late: 7.175, Final Four: 15.171\n"
     ]
    },
    {
     "name": "stderr",
     "output_type": "stream",
     "text": [
      "\n"
     ]
    },
    {
     "data": {
      "image/png": "[encoded data removed]",
      "text/plain": [
       "<Figure size 1200x400 with 1 Axes>"
      ]
     },
     "metadata": {},
     "output_type": "display_data"
    }
   ],
   "source": [
    "# We probably need to scale the hidden dimension based on how deep you are\n",
    "def get_hidden(i):\n",
    "    if i <= 8:\n",
    "        return 1\n",
    "    elif i <= 16:\n",
    "        return 2\n",
    "    elif i <= 20:\n",
    "        return 3\n",
    "    else:\n",
    "        return 4\n",
    "\n",
    "class Autoencoder(nn.Module):\n",
    "    def __init__(self, layer_idx, d_in=1024, base_width=256):\n",
    "        super().__init__()\n",
    "        # Scale hidden dim based on layer position\n",
    "        # Later layers get progressively larger capacity\n",
    "        hidden_mult = get_hidden(layer_idx)\n",
    "        d_hidden = int(base_width * hidden_mult)\n",
    "        \n",
    "        # Gradual dimension reduction\n",
    "        d_mid = (d_in + d_hidden) // 2\n",
    "        \n",
    "        self.encode = nn.Sequential(\n",
    "            nn.Linear(d_in, d_mid),\n",
    "            nn.LayerNorm(d_mid),\n",
    "            nn.GELU(),\n",
    "            nn.Linear(d_mid, d_hidden),\n",
    "            nn.LayerNorm(d_hidden),\n",
    "            nn.GELU(),\n",
    "        )\n",
    "        \n",
    "        self.decode = nn.Sequential(\n",
    "            nn.Linear(d_hidden, d_mid),\n",
    "            nn.LayerNorm(d_mid),\n",
    "            nn.GELU(),\n",
    "            nn.Linear(d_mid, d_in),\n",
    "        )\n",
    "        \n",
    "        # Initialize with smaller weights for stability\n",
    "        for m in self.modules():\n",
    "            if isinstance(m, nn.Linear):\n",
    "                nn.init.xavier_uniform_(m.weight, gain=0.5)\n",
    "                \n",
    "    def forward(self, x):\n",
    "        h = self.encode(x)\n",
    "        # Add residual connection for easier learning\n",
    "        return self.decode(h) + 0.1 * x  # Scaled residual to start mostly from identity\n",
    "\n",
    "n_layers = 24\n",
    "# Create layer-specific autoencoders\n",
    "encoders = [Autoencoder(i).cuda() for i in range(n_layers)]\n",
    "\n",
    "# Use different learning rates for different layers\n",
    "lrs = [3e-4 * (1 + i / 24) for i in range(n_layers)]\n",
    "lrs[20:] = [lr * 2 for lr in lrs[20:]]  # Double the learning rate for the final four layers\n",
    "optimizers = [torch.optim.AdamW(ae.parameters(), lr=lr, weight_decay=0.01) for ae, lr in zip(encoders, lrs)]\n",
    "\n",
    "# Modified training loop with layer-specific logging\n",
    "def train_epoch(models, acts, optimizers, batch_size=64):\n",
    "    losses = []\n",
    "    n_batches = acts.shape[0] // batch_size\n",
    "    \n",
    "    for batch in range(n_batches):\n",
    "        start_idx = batch * batch_size\n",
    "        end_idx = (batch + 1) * batch_size\n",
    "        \n",
    "        batch_losses = []\n",
    "        for i, (model, optimizer) in enumerate(zip(models, optimizers)):\n",
    "            model.train()\n",
    "            batch_i = acts[start_idx:end_idx, i].cuda()\n",
    "            \n",
    "            optimizer.zero_grad()\n",
    "            loss = F.mse_loss(model(batch_i), batch_i)\n",
    "            loss.backward()\n",
    "            optimizer.step()\n",
    "            \n",
    "            batch_losses.append(loss.item())\n",
    "        \n",
    "        losses.append(batch_losses)\n",
    "    \n",
    "    return np.mean(losses, axis=0)\n",
    "\n",
    "# Training with more detailed monitoring\n",
    "early_layers_history = []\n",
    "mid_layers_history = []\n",
    "mid_late_layers_history = []\n",
    "final_four_layers_history = []\n",
    "\n",
    "all_acts = wikitext_acts\n",
    "all_test_acts = torch.concat((first_test, second_test), axis=0)\n",
    "\n",
    "for epoch in tqdm(range(100)):\n",
    "    losses = train_epoch(encoders, all_acts, optimizers)\n",
    "    \n",
    "    # Track different layer groups\n",
    "    early_layers_history.append(np.mean(losses[:8]))\n",
    "    mid_layers_history.append(np.mean(losses[8:16]))\n",
    "    mid_late_layers_history.append(np.mean(losses[16:20]))\n",
    "    final_four_layers_history.append(np.mean(losses[20:]))\n",
    "    \n",
    "    if (epoch+1) % 10 == 0:\n",
    "        with torch.no_grad():\n",
    "            [model.eval() for model in encoders]\n",
    "            \n",
    "            # Test losses by layer group\n",
    "            test_preds = [encoders[i](all_test_acts[:, i].cuda()).cpu() for i in range(n_layers)]\n",
    "            test_losses = [F.mse_loss(pred, all_test_acts[:, i]).item() for i, pred in enumerate(test_preds)]\n",
    "            \n",
    "            print(f\"\\nEpoch {epoch+1}\")\n",
    "            print(f\"Train Losses - Early: {early_layers_history[-1]:.3f}, \"\n",
    "                  f\"Mid: {mid_layers_history[-1]:.3f}, \"\n",
    "                  f\"Mid Late: {mid_late_layers_history[-1]:.3f}, \"\n",
    "                  f\"Final Four: {final_four_layers_history[-1]:.3f}\")\n",
    "            print(f\"Test Losses  - Early: {np.mean(test_losses[:8]):.3f}, \"\n",
    "                  f\"Mid: {np.mean(test_losses[8:16]):.3f}, \"\n",
    "                  f\"Mid Late: {np.mean(test_losses[16:20]):.3f}, \"\n",
    "                  f\"Final Four: {np.mean(test_losses[20:]):.3f}\")\n",
    "\n",
    "# Plot training curves\n",
    "plt.figure(figsize=(12, 4))\n",
    "plt.plot(early_layers_history, label='Early Layers (0-7)')\n",
    "plt.plot(mid_layers_history, label='Mid Layers (8-15)')\n",
    "plt.plot(mid_late_layers_history, label='Mid Late Layers (16-19)')\n",
    "plt.plot(final_four_layers_history, label='Final Four Layers (20-23)')\n",
    "plt.title('Reconstruction Loss by Layer Group')\n",
    "plt.xlabel('Epoch')\n",
    "plt.ylabel('MSE Loss')\n",
    "plt.legend()\n",
    "plt.yscale('log')\n",
    "plt.grid(True)\n",
    "plt.show()"
   ]
  },
  {
   "cell_type": "markdown",
   "id": "d5907e22",
   "metadata": {},
   "source": [
    "### Result: Marginal improvement"
   ]
  },
  {
   "cell_type": "markdown",
   "id": "a08ba1f0",
   "metadata": {},
   "source": [
    "## Add More Dropout for Final Four"
   ]
  },
  {
   "cell_type": "markdown",
   "id": "73a3cac3",
   "metadata": {},
   "source": [
    "The change here is in the init of Autoencoder"
   ]
  },
  {
   "cell_type": "code",
   "execution_count": 7,
   "id": "ef2921f5",
   "metadata": {},
   "outputs": [
    {
     "name": "stderr",
     "output_type": "stream",
     "text": [
      " 10%|█         | 10/100 [01:44<15:41, 10.46s/it]"
     ]
    },
    {
     "name": "stdout",
     "output_type": "stream",
     "text": [
      "\n",
      "Epoch 10\n",
      "Train Losses - Early: 0.214, Mid: 0.851, Mid Late: 2.971, Final Four: 19.604\n",
      "Test Losses  - Early: 1.163, Mid: 4.035, Mid Late: 11.055, Final Four: 39.000\n"
     ]
    },
    {
     "name": "stderr",
     "output_type": "stream",
     "text": [
      " 20%|██        | 20/100 [03:28<13:57, 10.47s/it]"
     ]
    },
    {
     "name": "stdout",
     "output_type": "stream",
     "text": [
      "\n",
      "Epoch 20\n",
      "Train Losses - Early: 0.150, Mid: 0.582, Mid Late: 1.960, Final Four: 15.000\n",
      "Test Losses  - Early: 1.032, Mid: 3.456, Mid Late: 9.381, Final Four: 30.837\n"
     ]
    },
    {
     "name": "stderr",
     "output_type": "stream",
     "text": [
      " 30%|███       | 30/100 [05:12<12:12, 10.46s/it]"
     ]
    },
    {
     "name": "stdout",
     "output_type": "stream",
     "text": [
      "\n",
      "Epoch 30\n",
      "Train Losses - Early: 0.115, Mid: 0.460, Mid Late: 1.535, Final Four: 13.687\n",
      "Test Losses  - Early: 0.965, Mid: 3.192, Mid Late: 8.574, Final Four: 28.539\n"
     ]
    },
    {
     "name": "stderr",
     "output_type": "stream",
     "text": [
      " 40%|████      | 40/100 [06:58<10:43, 10.73s/it]"
     ]
    },
    {
     "name": "stdout",
     "output_type": "stream",
     "text": [
      "\n",
      "Epoch 40\n",
      "Train Losses - Early: 0.089, Mid: 0.382, Mid Late: 1.277, Final Four: 12.996\n",
      "Test Losses  - Early: 0.933, Mid: 3.063, Mid Late: 8.073, Final Four: 26.906\n"
     ]
    },
    {
     "name": "stderr",
     "output_type": "stream",
     "text": [
      " 50%|█████     | 50/100 [08:42<08:43, 10.46s/it]"
     ]
    },
    {
     "name": "stdout",
     "output_type": "stream",
     "text": [
      "\n",
      "Epoch 50\n",
      "Train Losses - Early: 0.071, Mid: 0.321, Mid Late: 1.119, Final Four: 12.502\n",
      "Test Losses  - Early: 0.919, Mid: 2.975, Mid Late: 7.873, Final Four: 25.949\n"
     ]
    },
    {
     "name": "stderr",
     "output_type": "stream",
     "text": [
      " 60%|██████    | 60/100 [10:27<07:00, 10.51s/it]"
     ]
    },
    {
     "name": "stdout",
     "output_type": "stream",
     "text": [
      "\n",
      "Epoch 60\n",
      "Train Losses - Early: 0.058, Mid: 0.281, Mid Late: 0.956, Final Four: 12.052\n",
      "Test Losses  - Early: 0.911, Mid: 2.917, Mid Late: 7.522, Final Four: 25.232\n"
     ]
    },
    {
     "name": "stderr",
     "output_type": "stream",
     "text": [
      " 70%|███████   | 70/100 [12:12<05:16, 10.57s/it]"
     ]
    },
    {
     "name": "stdout",
     "output_type": "stream",
     "text": [
      "\n",
      "Epoch 70\n",
      "Train Losses - Early: 0.050, Mid: 0.254, Mid Late: 0.859, Final Four: 11.712\n",
      "Test Losses  - Early: 0.909, Mid: 2.889, Mid Late: 7.401, Final Four: 24.776\n"
     ]
    },
    {
     "name": "stderr",
     "output_type": "stream",
     "text": [
      " 80%|████████  | 80/100 [13:57<03:30, 10.52s/it]"
     ]
    },
    {
     "name": "stdout",
     "output_type": "stream",
     "text": [
      "\n",
      "Epoch 80\n",
      "Train Losses - Early: 0.044, Mid: 0.231, Mid Late: 0.774, Final Four: 11.380\n",
      "Test Losses  - Early: 0.913, Mid: 2.861, Mid Late: 7.252, Final Four: 24.326\n"
     ]
    },
    {
     "name": "stderr",
     "output_type": "stream",
     "text": [
      " 90%|█████████ | 90/100 [15:42<01:45, 10.53s/it]"
     ]
    },
    {
     "name": "stdout",
     "output_type": "stream",
     "text": [
      "\n",
      "Epoch 90\n",
      "Train Losses - Early: 0.040, Mid: 0.216, Mid Late: 0.748, Final Four: 11.102\n",
      "Test Losses  - Early: 0.910, Mid: 2.831, Mid Late: 7.415, Final Four: 24.130\n"
     ]
    },
    {
     "name": "stderr",
     "output_type": "stream",
     "text": [
      "100%|██████████| 100/100 [17:26<00:00, 10.47s/it]"
     ]
    },
    {
     "name": "stdout",
     "output_type": "stream",
     "text": [
      "\n",
      "Epoch 100\n",
      "Train Losses - Early: 0.038, Mid: 0.202, Mid Late: 0.650, Final Four: 10.862\n",
      "Test Losses  - Early: 0.916, Mid: 2.823, Mid Late: 7.113, Final Four: 23.709\n"
     ]
    },
    {
     "name": "stderr",
     "output_type": "stream",
     "text": [
      "\n"
     ]
    },
    {
     "data": {
      "image/png": "[encoded data removed]",
      "text/plain": [
       "<Figure size 1200x400 with 1 Axes>"
      ]
     },
     "metadata": {},
     "output_type": "display_data"
    }
   ],
   "source": [
    "# We probably need to scale the hidden dimension based on how deep you are\n",
    "def get_hidden(i):\n",
    "    if i <= 8:\n",
    "        return 1\n",
    "    elif i <= 16:\n",
    "        return 2\n",
    "    elif i <= 20:\n",
    "        return 3\n",
    "    else:\n",
    "        return 4\n",
    "\n",
    "class Autoencoder(nn.Module):\n",
    "    def __init__(self, layer_idx, d_in=1024, base_width=256, dropout_prob = 0.3):\n",
    "        super().__init__()\n",
    "        # Scale hidden dim based on layer position\n",
    "        # Later layers get progressively larger capacity\n",
    "        hidden_mult = get_hidden(layer_idx)\n",
    "        d_hidden = int(base_width * hidden_mult)\n",
    "        \n",
    "        # Gradual dimension reduction for early and middle layers\n",
    "        d_mid = (d_in + d_hidden) // 2\n",
    "\n",
    "        \n",
    "        # This is a modest enhancement of complexity\n",
    "        if layer_idx >= 20:\n",
    "            self.encode = nn.Sequential(\n",
    "                nn.Linear(d_in, d_mid),\n",
    "                nn.LayerNorm(d_mid),\n",
    "                nn.GELU(),\n",
    "                nn.Dropout(dropout_prob), # DROPOUT\n",
    "                nn.Linear(d_mid, d_hidden),\n",
    "                nn.LayerNorm(d_hidden),\n",
    "                nn.GELU(),\n",
    "                nn.Dropout(dropout_prob) # DROPOUT\n",
    "            )\n",
    "            \n",
    "            self.decode = nn.Sequential(\n",
    "                nn.Linear(d_hidden, d_mid),\n",
    "                nn.LayerNorm(d_mid),\n",
    "                nn.GELU(),\n",
    "                nn.Dropout(dropout_prob), # DROPOUT\n",
    "                nn.Linear(d_mid, d_in)\n",
    "            )\n",
    "        # For early and mid keep the original architecture\n",
    "        else:\n",
    "            self.encode = nn.Sequential(\n",
    "                nn.Linear(d_in, d_mid),\n",
    "                nn.LayerNorm(d_mid),\n",
    "                nn.GELU(),\n",
    "                nn.Linear(d_mid, d_hidden),\n",
    "                nn.LayerNorm(d_hidden),\n",
    "                nn.GELU()\n",
    "            )\n",
    "            \n",
    "            self.decode = nn.Sequential(\n",
    "                nn.Linear(d_hidden, d_mid),\n",
    "                nn.LayerNorm(d_mid),\n",
    "                nn.GELU(),\n",
    "                nn.Linear(d_mid, d_in)\n",
    "            )\n",
    "        \n",
    "        # Initialize with smaller weights for stability\n",
    "        for m in self.modules():\n",
    "            if isinstance(m, nn.Linear):\n",
    "                nn.init.xavier_uniform_(m.weight, gain=0.5)\n",
    "                \n",
    "    def forward(self, x):\n",
    "        h = self.encode(x)\n",
    "        # Add residual connection for easier learning\n",
    "        return self.decode(h) + 0.1 * x  # Scaled residual to start mostly from identity\n",
    "\n",
    "n_layers = 24\n",
    "# Create layer-specific autoencoders\n",
    "encoders = [Autoencoder(i).cuda() for i in range(n_layers)]\n",
    "\n",
    "# Use different learning rates for different layers\n",
    "lrs = [3e-4 * (1 + i/24) for i in range(n_layers)]  # Higher lr for harder layers. From 3e-4 -> 3e-4*3\n",
    "optimizers = [torch.optim.AdamW(ae.parameters(), lr=lr, weight_decay=0.01) for ae, lr in zip(encoders, lrs)]\n",
    "\n",
    "# Modified training loop with layer-specific logging\n",
    "def train_epoch(models, acts, optimizers, batch_size=64):\n",
    "    losses = []\n",
    "    n_batches = acts.shape[0] // batch_size\n",
    "    \n",
    "    for batch in range(n_batches):\n",
    "        start_idx = batch * batch_size\n",
    "        end_idx = (batch + 1) * batch_size\n",
    "        \n",
    "        batch_losses = []\n",
    "        for i, (model, optimizer) in enumerate(zip(models, optimizers)):\n",
    "            model.train()\n",
    "            batch_i = acts[start_idx:end_idx, i].cuda()\n",
    "            \n",
    "            optimizer.zero_grad()\n",
    "            loss = F.mse_loss(model(batch_i), batch_i)\n",
    "            loss.backward()\n",
    "            optimizer.step()\n",
    "            \n",
    "            batch_losses.append(loss.item())\n",
    "        \n",
    "        losses.append(batch_losses)\n",
    "    \n",
    "    return np.mean(losses, axis=0)\n",
    "\n",
    "# Training with more detailed monitoring\n",
    "early_layers_history = []\n",
    "mid_layers_history = []\n",
    "mid_late_layers_history = []\n",
    "final_four_layers_history = []\n",
    "\n",
    "all_acts = wikitext_acts\n",
    "all_test_acts = torch.concat((first_test, second_test), axis=0)\n",
    "\n",
    "for epoch in tqdm(range(100)):\n",
    "    losses = train_epoch(encoders, all_acts, optimizers)\n",
    "    \n",
    "    # Track different layer groups\n",
    "    early_layers_history.append(np.mean(losses[:8]))\n",
    "    mid_layers_history.append(np.mean(losses[8:16]))\n",
    "    mid_late_layers_history.append(np.mean(losses[16:20]))\n",
    "    final_four_layers_history.append(np.mean(losses[20:]))\n",
    "    \n",
    "    if (epoch+1) % 10 == 0:\n",
    "        with torch.no_grad():\n",
    "            [model.eval() for model in encoders]\n",
    "            \n",
    "            # Test losses by layer group\n",
    "            test_preds = [encoders[i](all_test_acts[:, i].cuda()).cpu() for i in range(n_layers)]\n",
    "            test_losses = [F.mse_loss(pred, all_test_acts[:, i]).item() for i, pred in enumerate(test_preds)]\n",
    "            \n",
    "            print(f\"\\nEpoch {epoch+1}\")\n",
    "            print(f\"Train Losses - Early: {early_layers_history[-1]:.3f}, \"\n",
    "                  f\"Mid: {mid_layers_history[-1]:.3f}, \"\n",
    "                  f\"Mid Late: {mid_late_layers_history[-1]:.3f}, \"\n",
    "                  f\"Final Four: {final_four_layers_history[-1]:.3f}\")\n",
    "            print(f\"Test Losses  - Early: {np.mean(test_losses[:8]):.3f}, \"\n",
    "                  f\"Mid: {np.mean(test_losses[8:16]):.3f}, \"\n",
    "                  f\"Mid Late: {np.mean(test_losses[16:20]):.3f}, \"\n",
    "                  f\"Final Four: {np.mean(test_losses[20:]):.3f}\")\n",
    "\n",
    "# Plot training curves\n",
    "plt.figure(figsize=(12, 4))\n",
    "plt.plot(early_layers_history, label='Early Layers (0-7)')\n",
    "plt.plot(mid_layers_history, label='Mid Layers (8-15)')\n",
    "plt.plot(mid_late_layers_history, label='Mid Late Layers (16-19)')\n",
    "plt.plot(final_four_layers_history, label='Final Four Layers (20-23)')\n",
    "plt.title('Reconstruction Loss by Layer Group')\n",
    "plt.xlabel('Epoch')\n",
    "plt.ylabel('MSE Loss')\n",
    "plt.legend()\n",
    "plt.yscale('log')\n",
    "plt.grid(True)\n",
    "plt.show()"
   ]
  },
  {
   "cell_type": "markdown",
   "id": "55b14bbb",
   "metadata": {},
   "source": [
    "### Result: Significantly worse"
   ]
  },
  {
   "cell_type": "markdown",
   "id": "da946c98",
   "metadata": {},
   "source": [
    "## Residual Connections with Larger Scaling"
   ]
  },
  {
   "cell_type": "markdown",
   "id": "8c5eecb1",
   "metadata": {},
   "source": [
    "The change here is in the forward function of Autoencoder, also had to initialize layer_idx in init"
   ]
  },
  {
   "cell_type": "code",
   "execution_count": 5,
   "id": "0e1f1943",
   "metadata": {},
   "outputs": [
    {
     "name": "stderr",
     "output_type": "stream",
     "text": [
      " 10%|█         | 10/100 [01:39<14:59,  9.99s/it]"
     ]
    },
    {
     "name": "stdout",
     "output_type": "stream",
     "text": [
      "\n",
      "Epoch 10\n",
      "Train Losses - Early: 0.214, Mid: 0.853, Mid Late: 2.979, Final Four: 3.115\n",
      "Test Losses  - Early: 1.163, Mid: 4.037, Mid Late: 11.082, Final Four: 8.660\n"
     ]
    },
    {
     "name": "stderr",
     "output_type": "stream",
     "text": [
      " 20%|██        | 20/100 [03:20<13:25, 10.07s/it]"
     ]
    },
    {
     "name": "stdout",
     "output_type": "stream",
     "text": [
      "\n",
      "Epoch 20\n",
      "Train Losses - Early: 0.150, Mid: 0.583, Mid Late: 1.957, Final Four: 1.930\n",
      "Test Losses  - Early: 1.037, Mid: 3.477, Mid Late: 9.405, Final Four: 6.625\n"
     ]
    },
    {
     "name": "stderr",
     "output_type": "stream",
     "text": [
      " 30%|███       | 30/100 [05:01<11:46, 10.10s/it]"
     ]
    },
    {
     "name": "stdout",
     "output_type": "stream",
     "text": [
      "\n",
      "Epoch 30\n",
      "Train Losses - Early: 0.115, Mid: 0.458, Mid Late: 1.543, Final Four: 1.455\n",
      "Test Losses  - Early: 0.964, Mid: 3.198, Mid Late: 8.584, Final Four: 5.894\n"
     ]
    },
    {
     "name": "stderr",
     "output_type": "stream",
     "text": [
      " 40%|████      | 40/100 [06:40<09:57,  9.96s/it]"
     ]
    },
    {
     "name": "stdout",
     "output_type": "stream",
     "text": [
      "\n",
      "Epoch 40\n",
      "Train Losses - Early: 0.090, Mid: 0.375, Mid Late: 1.274, Final Four: 1.175\n",
      "Test Losses  - Early: 0.936, Mid: 3.050, Mid Late: 8.087, Final Four: 5.525\n"
     ]
    },
    {
     "name": "stderr",
     "output_type": "stream",
     "text": [
      " 50%|█████     | 50/100 [08:20<08:21, 10.02s/it]"
     ]
    },
    {
     "name": "stdout",
     "output_type": "stream",
     "text": [
      "\n",
      "Epoch 50\n",
      "Train Losses - Early: 0.071, Mid: 0.314, Mid Late: 1.100, Final Four: 1.061\n",
      "Test Losses  - Early: 0.919, Mid: 2.961, Mid Late: 7.807, Final Four: 5.342\n"
     ]
    },
    {
     "name": "stderr",
     "output_type": "stream",
     "text": [
      " 60%|██████    | 60/100 [10:01<06:47, 10.20s/it]"
     ]
    },
    {
     "name": "stdout",
     "output_type": "stream",
     "text": [
      "\n",
      "Epoch 60\n",
      "Train Losses - Early: 0.059, Mid: 0.280, Mid Late: 0.958, Final Four: 0.871\n",
      "Test Losses  - Early: 0.915, Mid: 2.915, Mid Late: 7.587, Final Four: 5.109\n"
     ]
    },
    {
     "name": "stderr",
     "output_type": "stream",
     "text": [
      " 70%|███████   | 70/100 [11:43<05:04, 10.13s/it]"
     ]
    },
    {
     "name": "stdout",
     "output_type": "stream",
     "text": [
      "\n",
      "Epoch 70\n",
      "Train Losses - Early: 0.050, Mid: 0.247, Mid Late: 0.874, Final Four: 0.784\n",
      "Test Losses  - Early: 0.914, Mid: 2.875, Mid Late: 7.495, Final Four: 4.939\n"
     ]
    },
    {
     "name": "stderr",
     "output_type": "stream",
     "text": [
      " 80%|████████  | 80/100 [13:25<03:23, 10.17s/it]"
     ]
    },
    {
     "name": "stdout",
     "output_type": "stream",
     "text": [
      "\n",
      "Epoch 80\n",
      "Train Losses - Early: 0.045, Mid: 0.230, Mid Late: 0.775, Final Four: 0.710\n",
      "Test Losses  - Early: 0.913, Mid: 2.866, Mid Late: 7.368, Final Four: 4.988\n"
     ]
    },
    {
     "name": "stderr",
     "output_type": "stream",
     "text": [
      " 90%|█████████ | 90/100 [15:05<01:40, 10.02s/it]"
     ]
    },
    {
     "name": "stdout",
     "output_type": "stream",
     "text": [
      "\n",
      "Epoch 90\n",
      "Train Losses - Early: 0.041, Mid: 0.213, Mid Late: 0.724, Final Four: 0.672\n",
      "Test Losses  - Early: 0.915, Mid: 2.836, Mid Late: 7.317, Final Four: 4.958\n"
     ]
    },
    {
     "name": "stderr",
     "output_type": "stream",
     "text": [
      "100%|██████████| 100/100 [16:45<00:00, 10.05s/it]"
     ]
    },
    {
     "name": "stdout",
     "output_type": "stream",
     "text": [
      "\n",
      "Epoch 100\n",
      "Train Losses - Early: 0.038, Mid: 0.202, Mid Late: 0.667, Final Four: 0.590\n",
      "Test Losses  - Early: 0.913, Mid: 2.833, Mid Late: 7.277, Final Four: 4.644\n"
     ]
    },
    {
     "name": "stderr",
     "output_type": "stream",
     "text": [
      "\n"
     ]
    },
    {
     "data": {
      "image/png": "[encoded data removed]",
      "text/plain": [
       "<Figure size 1200x400 with 1 Axes>"
      ]
     },
     "metadata": {},
     "output_type": "display_data"
    }
   ],
   "source": [
    "# We probably need to scale the hidden dimension based on how deep you are\n",
    "def get_hidden(i):\n",
    "    if i <= 8:\n",
    "        return 1\n",
    "    elif i <= 16:\n",
    "        return 2\n",
    "    elif i <= 20:\n",
    "        return 3\n",
    "    else:\n",
    "        return 4\n",
    "\n",
    "class Autoencoder(nn.Module):\n",
    "    def __init__(self, layer_idx, d_in=1024, base_width=256):\n",
    "        super().__init__()\n",
    "        # need to init layer id\n",
    "        self.layer_idx = layer_idx\n",
    "\n",
    "        # Scale hidden dim based on layer position\n",
    "        # Later layers get progressively larger capacity\n",
    "        hidden_mult = get_hidden(layer_idx)\n",
    "        d_hidden = int(base_width * hidden_mult)\n",
    "        \n",
    "        # Gradual dimension reduction\n",
    "        d_mid = (d_in + d_hidden) // 2\n",
    "        \n",
    "        self.encode = nn.Sequential(\n",
    "            nn.Linear(d_in, d_mid),\n",
    "            nn.LayerNorm(d_mid),\n",
    "            nn.GELU(),\n",
    "            nn.Linear(d_mid, d_hidden),\n",
    "            nn.LayerNorm(d_hidden),\n",
    "            nn.GELU(),\n",
    "        )\n",
    "        \n",
    "        self.decode = nn.Sequential(\n",
    "            nn.Linear(d_hidden, d_mid),\n",
    "            nn.LayerNorm(d_mid),\n",
    "            nn.GELU(),\n",
    "            nn.Linear(d_mid, d_in),\n",
    "        )\n",
    "        \n",
    "        # Initialize with smaller weights for stability\n",
    "        for m in self.modules():\n",
    "            if isinstance(m, nn.Linear):\n",
    "                nn.init.xavier_uniform_(m.weight, gain=0.5)\n",
    "                \n",
    "    def forward(self, x):\n",
    "        h = self.encode(x)\n",
    "        # Add residual connection for easier learning\n",
    "        # keep the normal scaling for all but the final four\n",
    "        if self.layer_idx >= 20:\n",
    "            residual_scale = 0.5\n",
    "        else:\n",
    "            residual_scale = 0.1\n",
    "\n",
    "        return self.decode(h) + residual_scale * x  # Scaled residual to start mostly from identity\n",
    "\n",
    "n_layers = 24\n",
    "# Create layer-specific autoencoders\n",
    "encoders = [Autoencoder(i).cuda() for i in range(n_layers)]\n",
    "\n",
    "# Use different learning rates for different layers\n",
    "lrs = [3e-4 * (1 + i/24) for i in range(n_layers)]  # Higher lr for harder layers. From 3e-4 -> 3e-4*3\n",
    "optimizers = [torch.optim.AdamW(ae.parameters(), lr=lr, weight_decay=0.01) for ae, lr in zip(encoders, lrs)]\n",
    "\n",
    "# Modified training loop with layer-specific logging\n",
    "def train_epoch(models, acts, optimizers, batch_size=64):\n",
    "    losses = []\n",
    "    n_batches = acts.shape[0] // batch_size\n",
    "    \n",
    "    for batch in range(n_batches):\n",
    "        start_idx = batch * batch_size\n",
    "        end_idx = (batch + 1) * batch_size\n",
    "        \n",
    "        batch_losses = []\n",
    "        for i, (model, optimizer) in enumerate(zip(models, optimizers)):\n",
    "            model.train()\n",
    "            batch_i = acts[start_idx:end_idx, i].cuda()\n",
    "            \n",
    "            optimizer.zero_grad()\n",
    "            loss = F.mse_loss(model(batch_i), batch_i)\n",
    "            loss.backward()\n",
    "            optimizer.step()\n",
    "            \n",
    "            batch_losses.append(loss.item())\n",
    "        \n",
    "        losses.append(batch_losses)\n",
    "    \n",
    "    return np.mean(losses, axis=0)\n",
    "\n",
    "# Training with more detailed monitoring\n",
    "early_layers_history = []\n",
    "mid_layers_history = []\n",
    "mid_late_layers_history = []\n",
    "final_four_layers_history = []\n",
    "\n",
    "all_acts = wikitext_acts\n",
    "all_test_acts = torch.concat((first_test, second_test), axis=0)\n",
    "\n",
    "for epoch in tqdm(range(100)):\n",
    "    losses = train_epoch(encoders, all_acts, optimizers)\n",
    "    \n",
    "    # Track different layer groups\n",
    "    early_layers_history.append(np.mean(losses[:8]))\n",
    "    mid_layers_history.append(np.mean(losses[8:16]))\n",
    "    mid_late_layers_history.append(np.mean(losses[16:20]))\n",
    "    final_four_layers_history.append(np.mean(losses[20:]))\n",
    "    \n",
    "    if (epoch+1) % 10 == 0:\n",
    "        with torch.no_grad():\n",
    "            [model.eval() for model in encoders]\n",
    "            \n",
    "            # Test losses by layer group\n",
    "            test_preds = [encoders[i](all_test_acts[:, i].cuda()).cpu() for i in range(n_layers)]\n",
    "            test_losses = [F.mse_loss(pred, all_test_acts[:, i]).item() for i, pred in enumerate(test_preds)]\n",
    "            \n",
    "            print(f\"\\nEpoch {epoch+1}\")\n",
    "            print(f\"Train Losses - Early: {early_layers_history[-1]:.3f}, \"\n",
    "                  f\"Mid: {mid_layers_history[-1]:.3f}, \"\n",
    "                  f\"Mid Late: {mid_late_layers_history[-1]:.3f}, \"\n",
    "                  f\"Final Four: {final_four_layers_history[-1]:.3f}\")\n",
    "            print(f\"Test Losses  - Early: {np.mean(test_losses[:8]):.3f}, \"\n",
    "                  f\"Mid: {np.mean(test_losses[8:16]):.3f}, \"\n",
    "                  f\"Mid Late: {np.mean(test_losses[16:20]):.3f}, \"\n",
    "                  f\"Final Four: {np.mean(test_losses[20:]):.3f}\")\n",
    "\n",
    "# Plot training curves\n",
    "plt.figure(figsize=(12, 4))\n",
    "plt.plot(early_layers_history, label='Early Layers (0-7)')\n",
    "plt.plot(mid_layers_history, label='Mid Layers (8-15)')\n",
    "plt.plot(mid_late_layers_history, label='Mid Late Layers (16-19)')\n",
    "plt.plot(final_four_layers_history, label='Final Four Layers (20-23)')\n",
    "plt.title('Reconstruction Loss by Layer Group')\n",
    "plt.xlabel('Epoch')\n",
    "plt.ylabel('MSE Loss')\n",
    "plt.legend()\n",
    "plt.yscale('log')\n",
    "plt.grid(True)\n",
    "plt.show()"
   ]
  },
  {
   "cell_type": "markdown",
   "id": "a6fdcb41",
   "metadata": {},
   "source": [
    "### Result: Significantly better, HOWEVER:"
   ]
  },
  {
   "cell_type": "markdown",
   "id": "83baaf1b",
   "metadata": {},
   "source": [
    "While this is interesting, it violates the purpose of this project. We are trying to learn a good representation, so having a residual connection is like telling the encoder to compress the input, but know that it'll get half of it later. Which, in this case, is essentially cheating."
   ]
  },
  {
   "cell_type": "markdown",
   "id": "c2544167",
   "metadata": {},
   "source": [
    "## Best of Experiments: Enhanced Learning Rate and More Hidden Layers"
   ]
  },
  {
   "cell_type": "markdown",
   "id": "4bbb2171",
   "metadata": {},
   "source": [
    "Removed the residual connection in forward since it is technically cheating. Since all prior experiments had the same level of cheating, their results are still considered the same for what experiments rendered improvements."
   ]
  },
  {
   "cell_type": "markdown",
   "id": "b5bc8b4f",
   "metadata": {},
   "source": [
    "### Baseline without residual connection"
   ]
  },
  {
   "cell_type": "code",
   "execution_count": 8,
   "id": "dff7f7d2",
   "metadata": {},
   "outputs": [
    {
     "name": "stderr",
     "output_type": "stream",
     "text": [
      " 10%|█         | 10/100 [01:43<16:01, 10.68s/it]"
     ]
    },
    {
     "name": "stdout",
     "output_type": "stream",
     "text": [
      "\n",
      "Epoch 10\n",
      "Train Losses - Early: 0.273, Mid: 1.098, Mid Late: 3.850, Final Four: 17.935\n",
      "Test Losses  - Early: 1.452, Mid: 5.061, Mid Late: 13.907, Final Four: 44.005\n"
     ]
    },
    {
     "name": "stderr",
     "output_type": "stream",
     "text": [
      " 20%|██        | 20/100 [03:23<13:14,  9.93s/it]"
     ]
    },
    {
     "name": "stdout",
     "output_type": "stream",
     "text": [
      "\n",
      "Epoch 20\n",
      "Train Losses - Early: 0.192, Mid: 0.745, Mid Late: 2.546, Final Four: 10.132\n",
      "Test Losses  - Early: 1.292, Mid: 4.363, Mid Late: 11.838, Final Four: 30.850\n"
     ]
    },
    {
     "name": "stderr",
     "output_type": "stream",
     "text": [
      " 30%|███       | 30/100 [05:02<11:30,  9.87s/it]"
     ]
    },
    {
     "name": "stdout",
     "output_type": "stream",
     "text": [
      "\n",
      "Epoch 30\n",
      "Train Losses - Early: 0.149, Mid: 0.594, Mid Late: 1.986, Final Four: 7.730\n",
      "Test Losses  - Early: 1.200, Mid: 4.006, Mid Late: 10.682, Final Four: 26.794\n"
     ]
    },
    {
     "name": "stderr",
     "output_type": "stream",
     "text": [
      " 40%|████      | 40/100 [06:41<09:54,  9.91s/it]"
     ]
    },
    {
     "name": "stdout",
     "output_type": "stream",
     "text": [
      "\n",
      "Epoch 40\n",
      "Train Losses - Early: 0.118, Mid: 0.494, Mid Late: 1.664, Final Four: 6.333\n",
      "Test Losses  - Early: 1.154, Mid: 3.822, Mid Late: 10.167, Final Four: 24.699\n"
     ]
    },
    {
     "name": "stderr",
     "output_type": "stream",
     "text": [
      " 50%|█████     | 50/100 [08:20<08:13,  9.87s/it]"
     ]
    },
    {
     "name": "stdout",
     "output_type": "stream",
     "text": [
      "\n",
      "Epoch 50\n",
      "Train Losses - Early: 0.095, Mid: 0.416, Mid Late: 1.428, Final Four: 5.444\n",
      "Test Losses  - Early: 1.128, Mid: 3.702, Mid Late: 9.680, Final Four: 23.169\n"
     ]
    },
    {
     "name": "stderr",
     "output_type": "stream",
     "text": [
      " 60%|██████    | 60/100 [09:58<06:38,  9.95s/it]"
     ]
    },
    {
     "name": "stdout",
     "output_type": "stream",
     "text": [
      "\n",
      "Epoch 60\n",
      "Train Losses - Early: 0.078, Mid: 0.365, Mid Late: 1.259, Final Four: 4.706\n",
      "Test Losses  - Early: 1.123, Mid: 3.622, Mid Late: 9.417, Final Four: 21.909\n"
     ]
    },
    {
     "name": "stderr",
     "output_type": "stream",
     "text": [
      " 70%|███████   | 70/100 [11:37<04:55,  9.86s/it]"
     ]
    },
    {
     "name": "stdout",
     "output_type": "stream",
     "text": [
      "\n",
      "Epoch 70\n",
      "Train Losses - Early: 0.066, Mid: 0.323, Mid Late: 1.114, Final Four: 4.202\n",
      "Test Losses  - Early: 1.121, Mid: 3.583, Mid Late: 9.198, Final Four: 20.783\n"
     ]
    },
    {
     "name": "stderr",
     "output_type": "stream",
     "text": [
      " 80%|████████  | 80/100 [13:17<03:19,  9.98s/it]"
     ]
    },
    {
     "name": "stdout",
     "output_type": "stream",
     "text": [
      "\n",
      "Epoch 80\n",
      "Train Losses - Early: 0.058, Mid: 0.298, Mid Late: 1.041, Final Four: 3.812\n",
      "Test Losses  - Early: 1.117, Mid: 3.546, Mid Late: 9.082, Final Four: 20.391\n"
     ]
    },
    {
     "name": "stderr",
     "output_type": "stream",
     "text": [
      " 90%|█████████ | 90/100 [14:55<01:38,  9.88s/it]"
     ]
    },
    {
     "name": "stdout",
     "output_type": "stream",
     "text": [
      "\n",
      "Epoch 90\n",
      "Train Losses - Early: 0.053, Mid: 0.276, Mid Late: 0.917, Final Four: 3.290\n",
      "Test Losses  - Early: 1.120, Mid: 3.517, Mid Late: 8.971, Final Four: 19.536\n"
     ]
    },
    {
     "name": "stderr",
     "output_type": "stream",
     "text": [
      "100%|██████████| 100/100 [16:33<00:00,  9.94s/it]"
     ]
    },
    {
     "name": "stdout",
     "output_type": "stream",
     "text": [
      "\n",
      "Epoch 100\n",
      "Train Losses - Early: 0.049, Mid: 0.259, Mid Late: 0.877, Final Four: 3.069\n",
      "Test Losses  - Early: 1.118, Mid: 3.503, Mid Late: 8.928, Final Four: 19.207\n"
     ]
    },
    {
     "name": "stderr",
     "output_type": "stream",
     "text": [
      "\n"
     ]
    },
    {
     "data": {
      "image/png": "[encoded data removed]",
      "text/plain": [
       "<Figure size 1200x400 with 1 Axes>"
      ]
     },
     "metadata": {},
     "output_type": "display_data"
    }
   ],
   "source": [
    "# We probably need to scale the hidden dimension based on how deep you are\n",
    "def get_hidden(i):\n",
    "    if i <= 8:\n",
    "        return 1\n",
    "    elif i <= 16:\n",
    "        return 2\n",
    "    elif i <= 20:\n",
    "        return 3\n",
    "    else:\n",
    "        return 4\n",
    "\n",
    "class Autoencoder(nn.Module):\n",
    "    def __init__(self, layer_idx, d_in=1024, base_width=256):\n",
    "        super().__init__()\n",
    "        # Scale hidden dim based on layer position\n",
    "        # Later layers get progressively larger capacity\n",
    "        hidden_mult = get_hidden(layer_idx)\n",
    "        d_hidden = int(base_width * hidden_mult)\n",
    "        \n",
    "        # Gradual dimension reduction\n",
    "        d_mid = (d_in + d_hidden) // 2\n",
    "        \n",
    "        self.encode = nn.Sequential(\n",
    "            nn.Linear(d_in, d_mid),\n",
    "            nn.LayerNorm(d_mid),\n",
    "            nn.GELU(),\n",
    "            nn.Linear(d_mid, d_hidden),\n",
    "            nn.LayerNorm(d_hidden),\n",
    "            nn.GELU(),\n",
    "        )\n",
    "        \n",
    "        self.decode = nn.Sequential(\n",
    "            nn.Linear(d_hidden, d_mid),\n",
    "            nn.LayerNorm(d_mid),\n",
    "            nn.GELU(),\n",
    "            nn.Linear(d_mid, d_in),\n",
    "        )\n",
    "        \n",
    "        # Initialize with smaller weights for stability\n",
    "        for m in self.modules():\n",
    "            if isinstance(m, nn.Linear):\n",
    "                nn.init.xavier_uniform_(m.weight, gain=0.5)\n",
    "                \n",
    "    def forward(self, x):\n",
    "        h = self.encode(x)\n",
    "        return self.decode(h)\n",
    "\n",
    "n_layers = 24\n",
    "# Create layer-specific autoencoders\n",
    "encoders = [Autoencoder(i).cuda() for i in range(n_layers)]\n",
    "\n",
    "# Use different learning rates for different layers\n",
    "lrs = [3e-4 * (1 + i/24) for i in range(n_layers)]  # Higher lr for harder layers. From 3e-4 -> 3e-4*3\n",
    "optimizers = [torch.optim.AdamW(ae.parameters(), lr=lr, weight_decay=0.01) for ae, lr in zip(encoders, lrs)]\n",
    "\n",
    "# Modified training loop with layer-specific logging\n",
    "def train_epoch(models, acts, optimizers, batch_size=64):\n",
    "    losses = []\n",
    "    n_batches = acts.shape[0] // batch_size\n",
    "    \n",
    "    for batch in range(n_batches):\n",
    "        start_idx = batch * batch_size\n",
    "        end_idx = (batch + 1) * batch_size\n",
    "        \n",
    "        batch_losses = []\n",
    "        for i, (model, optimizer) in enumerate(zip(models, optimizers)):\n",
    "            model.train()\n",
    "            batch_i = acts[start_idx:end_idx, i].cuda()\n",
    "            \n",
    "            optimizer.zero_grad()\n",
    "            loss = F.mse_loss(model(batch_i), batch_i)\n",
    "            loss.backward()\n",
    "            optimizer.step()\n",
    "            \n",
    "            batch_losses.append(loss.item())\n",
    "        \n",
    "        losses.append(batch_losses)\n",
    "    \n",
    "    return np.mean(losses, axis=0)\n",
    "\n",
    "# Training with more detailed monitoring\n",
    "early_layers_history = []\n",
    "mid_layers_history = []\n",
    "mid_late_layers_history = []\n",
    "final_four_layers_history = []\n",
    "\n",
    "all_acts = wikitext_acts\n",
    "all_test_acts = torch.concat((first_test, second_test), axis=0)\n",
    "\n",
    "for epoch in tqdm(range(100)):\n",
    "    losses = train_epoch(encoders, all_acts, optimizers)\n",
    "    \n",
    "    # Track different layer groups\n",
    "    early_layers_history.append(np.mean(losses[:8]))\n",
    "    mid_layers_history.append(np.mean(losses[8:16]))\n",
    "    mid_late_layers_history.append(np.mean(losses[16:20]))\n",
    "    final_four_layers_history.append(np.mean(losses[20:]))\n",
    "    \n",
    "    if (epoch+1) % 10 == 0:\n",
    "        with torch.no_grad():\n",
    "            [model.eval() for model in encoders]\n",
    "            \n",
    "            # Test losses by layer group\n",
    "            test_preds = [encoders[i](all_test_acts[:, i].cuda()).cpu() for i in range(n_layers)]\n",
    "            test_losses = [F.mse_loss(pred, all_test_acts[:, i]).item() for i, pred in enumerate(test_preds)]\n",
    "            \n",
    "            print(f\"\\nEpoch {epoch+1}\")\n",
    "            print(f\"Train Losses - Early: {early_layers_history[-1]:.3f}, \"\n",
    "                  f\"Mid: {mid_layers_history[-1]:.3f}, \"\n",
    "                  f\"Mid Late: {mid_late_layers_history[-1]:.3f}, \"\n",
    "                  f\"Final Four: {final_four_layers_history[-1]:.3f}\")\n",
    "            print(f\"Test Losses  - Early: {np.mean(test_losses[:8]):.3f}, \"\n",
    "                  f\"Mid: {np.mean(test_losses[8:16]):.3f}, \"\n",
    "                  f\"Mid Late: {np.mean(test_losses[16:20]):.3f}, \"\n",
    "                  f\"Final Four: {np.mean(test_losses[20:]):.3f}\")\n",
    "\n",
    "# Plot training curves\n",
    "plt.figure(figsize=(12, 4))\n",
    "plt.plot(early_layers_history, label='Early Layers (0-7)')\n",
    "plt.plot(mid_layers_history, label='Mid Layers (8-15)')\n",
    "plt.plot(mid_late_layers_history, label='Mid Late Layers (16-19)')\n",
    "plt.plot(final_four_layers_history, label='Final Four Layers (20-23)')\n",
    "plt.title('Reconstruction Loss by Layer Group')\n",
    "plt.xlabel('Epoch')\n",
    "plt.ylabel('MSE Loss')\n",
    "plt.legend()\n",
    "plt.yscale('log')\n",
    "plt.grid(True)\n",
    "plt.show()"
   ]
  },
  {
   "cell_type": "markdown",
   "id": "a5899d2f",
   "metadata": {},
   "source": [
    "### Compared to experimental combinations"
   ]
  },
  {
   "cell_type": "code",
   "execution_count": 9,
   "id": "2762af7c",
   "metadata": {},
   "outputs": [
    {
     "name": "stderr",
     "output_type": "stream",
     "text": [
      " 10%|█         | 10/100 [01:42<15:16, 10.18s/it]"
     ]
    },
    {
     "name": "stdout",
     "output_type": "stream",
     "text": [
      "\n",
      "Epoch 10\n",
      "Train Losses - Early: 0.273, Mid: 1.093, Mid Late: 3.871, Final Four: 12.774\n",
      "Test Losses  - Early: 1.452, Mid: 5.061, Mid Late: 13.968, Final Four: 33.161\n"
     ]
    },
    {
     "name": "stderr",
     "output_type": "stream",
     "text": [
      " 20%|██        | 20/100 [03:24<13:39, 10.24s/it]"
     ]
    },
    {
     "name": "stdout",
     "output_type": "stream",
     "text": [
      "\n",
      "Epoch 20\n",
      "Train Losses - Early: 0.192, Mid: 0.745, Mid Late: 2.546, Final Four: 8.145\n",
      "Test Losses  - Early: 1.291, Mid: 4.341, Mid Late: 11.866, Final Four: 27.127\n"
     ]
    },
    {
     "name": "stderr",
     "output_type": "stream",
     "text": [
      " 30%|███       | 30/100 [05:07<12:06, 10.38s/it]"
     ]
    },
    {
     "name": "stdout",
     "output_type": "stream",
     "text": [
      "\n",
      "Epoch 30\n",
      "Train Losses - Early: 0.149, Mid: 0.594, Mid Late: 1.988, Final Four: 6.066\n",
      "Test Losses  - Early: 1.202, Mid: 4.000, Mid Late: 10.726, Final Four: 24.090\n"
     ]
    },
    {
     "name": "stderr",
     "output_type": "stream",
     "text": [
      " 40%|████      | 40/100 [06:49<10:09, 10.16s/it]"
     ]
    },
    {
     "name": "stdout",
     "output_type": "stream",
     "text": [
      "\n",
      "Epoch 40\n",
      "Train Losses - Early: 0.118, Mid: 0.491, Mid Late: 1.648, Final Four: 4.763\n",
      "Test Losses  - Early: 1.152, Mid: 3.821, Mid Late: 10.051, Final Four: 21.822\n"
     ]
    },
    {
     "name": "stderr",
     "output_type": "stream",
     "text": [
      " 50%|█████     | 50/100 [08:29<08:26, 10.12s/it]"
     ]
    },
    {
     "name": "stdout",
     "output_type": "stream",
     "text": [
      "\n",
      "Epoch 50\n",
      "Train Losses - Early: 0.094, Mid: 0.417, Mid Late: 1.489, Final Four: 3.961\n",
      "Test Losses  - Early: 1.133, Mid: 3.708, Mid Late: 9.945, Final Four: 21.246\n"
     ]
    },
    {
     "name": "stderr",
     "output_type": "stream",
     "text": [
      " 60%|██████    | 60/100 [10:10<06:44, 10.11s/it]"
     ]
    },
    {
     "name": "stdout",
     "output_type": "stream",
     "text": [
      "\n",
      "Epoch 60\n",
      "Train Losses - Early: 0.078, Mid: 0.370, Mid Late: 1.246, Final Four: 3.345\n",
      "Test Losses  - Early: 1.121, Mid: 3.625, Mid Late: 9.430, Final Four: 20.306\n"
     ]
    },
    {
     "name": "stderr",
     "output_type": "stream",
     "text": [
      " 70%|███████   | 70/100 [11:51<05:01, 10.06s/it]"
     ]
    },
    {
     "name": "stdout",
     "output_type": "stream",
     "text": [
      "\n",
      "Epoch 70\n",
      "Train Losses - Early: 0.066, Mid: 0.323, Mid Late: 1.149, Final Four: 2.828\n",
      "Test Losses  - Early: 1.124, Mid: 3.561, Mid Late: 9.328, Final Four: 19.089\n"
     ]
    },
    {
     "name": "stderr",
     "output_type": "stream",
     "text": [
      " 80%|████████  | 80/100 [13:32<03:22, 10.13s/it]"
     ]
    },
    {
     "name": "stdout",
     "output_type": "stream",
     "text": [
      "\n",
      "Epoch 80\n",
      "Train Losses - Early: 0.058, Mid: 0.303, Mid Late: 1.024, Final Four: 2.468\n",
      "Test Losses  - Early: 1.121, Mid: 3.559, Mid Late: 9.200, Final Four: 18.521\n"
     ]
    },
    {
     "name": "stderr",
     "output_type": "stream",
     "text": [
      " 90%|█████████ | 90/100 [15:14<01:41, 10.17s/it]"
     ]
    },
    {
     "name": "stdout",
     "output_type": "stream",
     "text": [
      "\n",
      "Epoch 90\n",
      "Train Losses - Early: 0.053, Mid: 0.275, Mid Late: 0.950, Final Four: 2.229\n",
      "Test Losses  - Early: 1.123, Mid: 3.502, Mid Late: 9.012, Final Four: 18.941\n"
     ]
    },
    {
     "name": "stderr",
     "output_type": "stream",
     "text": [
      "100%|██████████| 100/100 [16:55<00:00, 10.16s/it]"
     ]
    },
    {
     "name": "stdout",
     "output_type": "stream",
     "text": [
      "\n",
      "Epoch 100\n",
      "Train Losses - Early: 0.049, Mid: 0.263, Mid Late: 0.865, Final Four: 1.995\n",
      "Test Losses  - Early: 1.123, Mid: 3.497, Mid Late: 8.956, Final Four: 17.937\n"
     ]
    },
    {
     "name": "stderr",
     "output_type": "stream",
     "text": [
      "\n"
     ]
    },
    {
     "data": {
      "image/png": "[encoded data removed]",
      "text/plain": [
       "<Figure size 1200x400 with 1 Axes>"
      ]
     },
     "metadata": {},
     "output_type": "display_data"
    }
   ],
   "source": [
    "# We probably need to scale the hidden dimension based on how deep you are\n",
    "def get_hidden(i):\n",
    "    if i <= 8:\n",
    "        return 1\n",
    "    elif i <= 16:\n",
    "        return 2\n",
    "    elif i <= 19:\n",
    "        return 3\n",
    "    elif i == 20:\n",
    "        return 4\n",
    "    elif i == 21:\n",
    "        return 5\n",
    "    elif i == 22:\n",
    "        return 6\n",
    "    else:\n",
    "        return 7\n",
    "\n",
    "class Autoencoder(nn.Module):\n",
    "    def __init__(self, layer_idx, d_in=1024, base_width=256):\n",
    "        super().__init__()\n",
    "        # Scale hidden dim based on layer position\n",
    "        # Later layers get progressively larger capacity\n",
    "        hidden_mult = get_hidden(layer_idx)\n",
    "        d_hidden = int(base_width * hidden_mult)\n",
    "        \n",
    "        # Gradual dimension reduction\n",
    "        d_mid = (d_in + d_hidden) // 2\n",
    "        \n",
    "        self.encode = nn.Sequential(\n",
    "            nn.Linear(d_in, d_mid),\n",
    "            nn.LayerNorm(d_mid),\n",
    "            nn.GELU(),\n",
    "            nn.Linear(d_mid, d_hidden),\n",
    "            nn.LayerNorm(d_hidden),\n",
    "            nn.GELU(),\n",
    "        )\n",
    "        \n",
    "        self.decode = nn.Sequential(\n",
    "            nn.Linear(d_hidden, d_mid),\n",
    "            nn.LayerNorm(d_mid),\n",
    "            nn.GELU(),\n",
    "            nn.Linear(d_mid, d_in),\n",
    "        )\n",
    "        \n",
    "        # Initialize with smaller weights for stability\n",
    "        for m in self.modules():\n",
    "            if isinstance(m, nn.Linear):\n",
    "                nn.init.xavier_uniform_(m.weight, gain=0.5)\n",
    "                \n",
    "    def forward(self, x):\n",
    "        h = self.encode(x)\n",
    "        return self.decode(h) \n",
    "\n",
    "n_layers = 24\n",
    "# Create layer-specific autoencoders\n",
    "encoders = [Autoencoder(i).cuda() for i in range(n_layers)]\n",
    "\n",
    "# Use different learning rates for different layers\n",
    "lrs = [3e-4 * (1 + i / 24) for i in range(n_layers)]\n",
    "lrs[20:] = [lr * 2 for lr in lrs[20:]]  # Double the learning rate for the final four layers\n",
    "optimizers = [torch.optim.AdamW(ae.parameters(), lr=lr, weight_decay=0.01) for ae, lr in zip(encoders, lrs)]\n",
    "\n",
    "# Modified training loop with layer-specific logging\n",
    "def train_epoch(models, acts, optimizers, batch_size=64):\n",
    "    losses = []\n",
    "    n_batches = acts.shape[0] // batch_size\n",
    "    \n",
    "    for batch in range(n_batches):\n",
    "        start_idx = batch * batch_size\n",
    "        end_idx = (batch + 1) * batch_size\n",
    "        \n",
    "        batch_losses = []\n",
    "        for i, (model, optimizer) in enumerate(zip(models, optimizers)):\n",
    "            model.train()\n",
    "            batch_i = acts[start_idx:end_idx, i].cuda()\n",
    "            \n",
    "            optimizer.zero_grad()\n",
    "            loss = F.mse_loss(model(batch_i), batch_i)\n",
    "            loss.backward()\n",
    "            optimizer.step()\n",
    "            \n",
    "            batch_losses.append(loss.item())\n",
    "        \n",
    "        losses.append(batch_losses)\n",
    "    \n",
    "    return np.mean(losses, axis=0)\n",
    "\n",
    "# Training with more detailed monitoring\n",
    "early_layers_history = []\n",
    "mid_layers_history = []\n",
    "mid_late_layers_history = []\n",
    "final_four_layers_history = []\n",
    "\n",
    "all_acts = wikitext_acts\n",
    "all_test_acts = torch.concat((first_test, second_test), axis=0)\n",
    "\n",
    "for epoch in tqdm(range(100)):\n",
    "    losses = train_epoch(encoders, all_acts, optimizers)\n",
    "    \n",
    "    # Track different layer groups\n",
    "    early_layers_history.append(np.mean(losses[:8]))\n",
    "    mid_layers_history.append(np.mean(losses[8:16]))\n",
    "    mid_late_layers_history.append(np.mean(losses[16:20]))\n",
    "    final_four_layers_history.append(np.mean(losses[20:]))\n",
    "    \n",
    "    if (epoch+1) % 10 == 0:\n",
    "        with torch.no_grad():\n",
    "            [model.eval() for model in encoders]\n",
    "            \n",
    "            # Test losses by layer group\n",
    "            test_preds = [encoders[i](all_test_acts[:, i].cuda()).cpu() for i in range(n_layers)]\n",
    "            test_losses = [F.mse_loss(pred, all_test_acts[:, i]).item() for i, pred in enumerate(test_preds)]\n",
    "            \n",
    "            print(f\"\\nEpoch {epoch+1}\")\n",
    "            print(f\"Train Losses - Early: {early_layers_history[-1]:.3f}, \"\n",
    "                  f\"Mid: {mid_layers_history[-1]:.3f}, \"\n",
    "                  f\"Mid Late: {mid_late_layers_history[-1]:.3f}, \"\n",
    "                  f\"Final Four: {final_four_layers_history[-1]:.3f}\")\n",
    "            print(f\"Test Losses  - Early: {np.mean(test_losses[:8]):.3f}, \"\n",
    "                  f\"Mid: {np.mean(test_losses[8:16]):.3f}, \"\n",
    "                  f\"Mid Late: {np.mean(test_losses[16:20]):.3f}, \"\n",
    "                  f\"Final Four: {np.mean(test_losses[20:]):.3f}\")\n",
    "\n",
    "# Plot training curves\n",
    "plt.figure(figsize=(12, 4))\n",
    "plt.plot(early_layers_history, label='Early Layers (0-7)')\n",
    "plt.plot(mid_layers_history, label='Mid Layers (8-15)')\n",
    "plt.plot(mid_late_layers_history, label='Mid Late Layers (16-19)')\n",
    "plt.plot(final_four_layers_history, label='Final Four Layers (20-23)')\n",
    "plt.title('Reconstruction Loss by Layer Group')\n",
    "plt.xlabel('Epoch')\n",
    "plt.ylabel('MSE Loss')\n",
    "plt.legend()\n",
    "plt.yscale('log')\n",
    "plt.grid(True)\n",
    "plt.show()"
   ]
  },
  {
   "cell_type": "markdown",
   "id": "216a8e75",
   "metadata": {},
   "source": [
    "### Result: Roughly 5% improvement over baseline"
   ]
  },
  {
   "cell_type": "markdown",
   "id": "88de3494",
   "metadata": {},
   "source": [
    "# Incorporating Improvements in Downstream Results"
   ]
  },
  {
   "cell_type": "code",
   "execution_count": 10,
   "id": "2d589c0c-05f9-48ef-8058-58082132e0b2",
   "metadata": {},
   "outputs": [],
   "source": [
    "class SiameseNetwork(nn.Module):\n",
    "    def __init__(self, mlp):\n",
    "        super().__init__()\n",
    "        self.mlp = mlp\n",
    "\n",
    "    def forward(self, x1, x2):\n",
    "        h1 = self.mlp(x1)\n",
    "        h2 = self.mlp(x2)\n",
    "        return F.cosine_similarity(h1, h2, dim=-1)\n",
    "\n",
    "class LayerwiseSiameseNetworks(nn.Module):\n",
    "    def __init__(self, encoders, n_layers=24, d_in=1024, d_hidden=256):\n",
    "        super().__init__()\n",
    "        self.n_layers = n_layers\n",
    "        self.layer_nets = nn.ModuleList([SiameseNetwork(encoders[i]) for i in range(n_layers)])\n",
    "\n",
    "    def forward(self, x1, x2):\n",
    "        similarities = []\n",
    "        for layer in range(self.n_layers):\n",
    "            net_at_layer = self.layer_nets[layer].cuda()\n",
    "            # Get the activations at the given layer\n",
    "            x1_l = x1[:, layer].cuda()\n",
    "            x2_l = x2[:, layer].cuda()\n",
    "\n",
    "            sim_at_layer = net_at_layer(x1_l, x2_l)\n",
    "            # print(sim_at_layer.shape)\n",
    "            similarities.append(sim_at_layer)\n",
    "\n",
    "        return torch.stack(similarities, dim=-1)\n",
    "\n",
    "class SimilarityLearner(nn.Module):\n",
    "    def __init__(self, encoders, n_layers=24, d_in=1024, d_hidden=256, d_out_hidden=512, dropout=0.1):\n",
    "        super().__init__()\n",
    "        self.layer_nets = LayerwiseSiameseNetworks(encoders, n_layers, d_in, d_hidden)\n",
    "\n",
    "        self.mlp = nn.Sequential(\n",
    "            nn.Linear(n_layers, d_out_hidden),\n",
    "            nn.LayerNorm(d_out_hidden),\n",
    "            nn.Dropout(dropout),  # Add dropout after normalization\n",
    "            nn.GELU(),\n",
    "            nn.Linear(d_out_hidden, d_out_hidden),\n",
    "            nn.LayerNorm(d_out_hidden),\n",
    "            nn.Dropout(dropout),  # Add dropout after normalization\n",
    "            nn.GELU(),\n",
    "            nn.Linear(d_out_hidden, d_out_hidden),\n",
    "            nn.LayerNorm(d_out_hidden),\n",
    "            nn.Dropout(dropout),  # Add dropout after normalization\n",
    "            nn.GELU(),\n",
    "            nn.Linear(d_out_hidden, 1),\n",
    "            nn.Hardsigmoid()\n",
    "        )\n",
    "\n",
    "    def forward(self, x1, x2, training=True):\n",
    "        layerwise_similarities = self.layer_nets(x1, x2)\n",
    "        similarity = self.mlp(layerwise_similarities)\n",
    "        return similarity.squeeze()"
   ]
  },
  {
   "cell_type": "code",
   "execution_count": 11,
   "id": "a063e5c1-9a3b-4e26-a27a-19b54a6c1adf",
   "metadata": {},
   "outputs": [
    {
     "name": "stderr",
     "output_type": "stream",
     "text": [
      " 10%|█         | 10/100 [02:12<19:54, 13.27s/it]"
     ]
    },
    {
     "name": "stdout",
     "output_type": "stream",
     "text": [
      "Epoch 10\n",
      "Loss: 0.0163\n",
      "Train correlation: 0.8855\n",
      "Test correlation: 0.6955\n",
      "\n"
     ]
    },
    {
     "name": "stderr",
     "output_type": "stream",
     "text": [
      " 20%|██        | 20/100 [04:23<17:42, 13.28s/it]"
     ]
    },
    {
     "name": "stdout",
     "output_type": "stream",
     "text": [
      "Epoch 20\n",
      "Loss: 0.0079\n",
      "Train correlation: 0.9366\n",
      "Test correlation: 0.7117\n",
      "\n"
     ]
    },
    {
     "name": "stderr",
     "output_type": "stream",
     "text": [
      " 30%|███       | 30/100 [06:35<15:31, 13.31s/it]"
     ]
    },
    {
     "name": "stdout",
     "output_type": "stream",
     "text": [
      "Epoch 30\n",
      "Loss: 0.0076\n",
      "Train correlation: 0.9469\n",
      "Test correlation: 0.6900\n",
      "\n"
     ]
    },
    {
     "name": "stderr",
     "output_type": "stream",
     "text": [
      " 40%|████      | 40/100 [08:45<13:04, 13.08s/it]"
     ]
    },
    {
     "name": "stdout",
     "output_type": "stream",
     "text": [
      "Epoch 40\n",
      "Loss: 0.0034\n",
      "Train correlation: 0.9604\n",
      "Test correlation: 0.7260\n",
      "\n"
     ]
    },
    {
     "name": "stderr",
     "output_type": "stream",
     "text": [
      " 50%|█████     | 50/100 [10:56<10:56, 13.12s/it]"
     ]
    },
    {
     "name": "stdout",
     "output_type": "stream",
     "text": [
      "Epoch 50\n",
      "Loss: 0.0030\n",
      "Train correlation: 0.9563\n",
      "Test correlation: 0.7131\n",
      "\n"
     ]
    },
    {
     "name": "stderr",
     "output_type": "stream",
     "text": [
      " 60%|██████    | 60/100 [13:09<08:51, 13.28s/it]"
     ]
    },
    {
     "name": "stdout",
     "output_type": "stream",
     "text": [
      "Epoch 60\n",
      "Loss: 0.0025\n",
      "Train correlation: 0.9550\n",
      "Test correlation: 0.6845\n",
      "\n"
     ]
    },
    {
     "name": "stderr",
     "output_type": "stream",
     "text": [
      " 70%|███████   | 70/100 [15:20<06:39, 13.30s/it]"
     ]
    },
    {
     "name": "stdout",
     "output_type": "stream",
     "text": [
      "Epoch 70\n",
      "Loss: 0.0033\n",
      "Train correlation: 0.9781\n",
      "Test correlation: 0.7368\n",
      "\n"
     ]
    },
    {
     "name": "stderr",
     "output_type": "stream",
     "text": [
      " 80%|████████  | 80/100 [17:30<04:20, 13.01s/it]"
     ]
    },
    {
     "name": "stdout",
     "output_type": "stream",
     "text": [
      "Epoch 80\n",
      "Loss: 0.0013\n",
      "Train correlation: 0.9774\n",
      "Test correlation: 0.7081\n",
      "\n"
     ]
    },
    {
     "name": "stderr",
     "output_type": "stream",
     "text": [
      " 90%|█████████ | 90/100 [19:39<02:10, 13.01s/it]"
     ]
    },
    {
     "name": "stdout",
     "output_type": "stream",
     "text": [
      "Epoch 90\n",
      "Loss: 0.0009\n",
      "Train correlation: 0.9877\n",
      "Test correlation: 0.7266\n",
      "\n"
     ]
    },
    {
     "name": "stderr",
     "output_type": "stream",
     "text": [
      "100%|██████████| 100/100 [21:48<00:00, 13.08s/it]"
     ]
    },
    {
     "name": "stdout",
     "output_type": "stream",
     "text": [
      "Epoch 100\n",
      "Loss: 0.0011\n",
      "Train correlation: 0.9871\n",
      "Test correlation: 0.7406\n",
      "\n"
     ]
    },
    {
     "name": "stderr",
     "output_type": "stream",
     "text": [
      "\n"
     ]
    }
   ],
   "source": [
    "from copy import deepcopy\n",
    "cloned_encoders = [deepcopy(e).encode for e in encoders]\n",
    "\n",
    "similarity_learner = SimilarityLearner(cloned_encoders, d_hidden=512).to('cuda:0')\n",
    "# similarity_learner = SimilarityLearner([Autoencoder(i) for i in range(24)], d_hidden=512).to('cuda:0')\n",
    "optimizer = torch.optim.Adam(similarity_learner.parameters(), lr=3e-5)\n",
    "\n",
    "def train_epoch(model, first_acts, second_acts, scores, optimizer, batch_size=32):\n",
    "    model.train()\n",
    "    total_loss = 0\n",
    "    n_batches = first_acts.shape[0] // batch_size\n",
    "    \n",
    "    for batch in range(n_batches):\n",
    "        start_idx = batch * batch_size\n",
    "        end_idx = (batch + 1) * batch_size\n",
    "        \n",
    "        x1_batch = first_acts[start_idx:end_idx].cuda()\n",
    "        x2_batch = second_acts[start_idx:end_idx].cuda()\n",
    "        scores_batch = scores[start_idx:end_idx].cuda()\n",
    "        \n",
    "        optimizer.zero_grad()\n",
    "        \n",
    "        sims = model(x1_batch, x2_batch)\n",
    "        \n",
    "        loss = F.mse_loss(sims, scores_batch)        \n",
    "        \n",
    "        loss.backward()\n",
    "        optimizer.step()\n",
    "        \n",
    "        total_loss += loss.item()\n",
    "    \n",
    "    return total_loss / n_batches\n",
    "\n",
    "best_test_corr = 0\n",
    "best_model = None\n",
    "\n",
    "for epoch in tqdm(range(100)):\n",
    "    # Training\n",
    "    loss = train_epoch(similarity_learner, first_train, second_train, train_scores, optimizer)\n",
    "    \n",
    "    # Evaluation\n",
    "    similarity_learner.eval()\n",
    "    with torch.no_grad():\n",
    "        # Print progress every 10 epochs\n",
    "        if (epoch + 1) % 10 == 0:\n",
    "            # Get training correlations\n",
    "            train_preds = similarity_learner(first_train.cuda(), second_train.cuda(), training=False)\n",
    "            train_corr = torch.corrcoef(torch.stack([train_preds.cpu(), train_scores]))[0,1]\n",
    "            \n",
    "            # Get test correlations\n",
    "            test_preds = similarity_learner(first_test.cuda(), second_test.cuda(), training=False)\n",
    "            test_corr = torch.corrcoef(torch.stack([test_preds.cpu(), test_scores]))[0,1]\n",
    "\n",
    "            if test_corr > best_test_corr:\n",
    "                best_test_corr = test_corr\n",
    "                best_model = deepcopy(similarity_learner)\n",
    "\n",
    "            print(f\"Epoch {epoch+1}\")\n",
    "            print(f\"Loss: {loss:.4f}\")\n",
    "            print(f\"Train correlation: {train_corr:.4f}\")\n",
    "            print(f\"Test correlation: {test_corr:.4f}\\n\")"
   ]
  },
  {
   "cell_type": "code",
   "execution_count": 12,
   "id": "65e39a24-e14a-41b2-a421-d79971788a4a",
   "metadata": {},
   "outputs": [
    {
     "name": "stdout",
     "output_type": "stream",
     "text": [
      "tensor(0.7406, grad_fn=<SelectBackward0>)\n"
     ]
    }
   ],
   "source": [
    "test_preds = best_model(first_test.cuda(), second_test.cuda(), training=False)\n",
    "test_corr = torch.corrcoef(torch.stack([test_preds.cpu(), test_scores]))[0,1]\n",
    "print(test_corr)"
   ]
  },
  {
   "cell_type": "code",
   "execution_count": 14,
   "id": "f260b692-7a26-42cd-8782-8c8ab09e0f07",
   "metadata": {},
   "outputs": [
    {
     "data": {
      "text/plain": [
       "'This model has 34263041 parameters!'"
      ]
     },
     "execution_count": 14,
     "metadata": {},
     "output_type": "execute_result"
    }
   ],
   "source": [
    "param_count = sum([w.numel() for w in similarity_learner.parameters()])\n",
    "f\"This model has {param_count} parameters!\""
   ]
  },
  {
   "cell_type": "markdown",
   "id": "c158e74f",
   "metadata": {},
   "source": [
    "### End result: 4 million more parameters and no significant difference in downstream performance improvement. Overall, hyperparameter tweaking yields no significant downstream performance improvement."
   ]
  }
 ],
 "metadata": {
  "kernelspec": {
   "display_name": "Python 3 (ipykernel)",
   "language": "python",
   "name": "python3"
  },
  "language_info": {
   "codemirror_mode": {
    "name": "ipython",
    "version": 3
   },
   "file_extension": ".py",
   "mimetype": "text/x-python",
   "name": "python",
   "nbconvert_exporter": "python",
   "pygments_lexer": "ipython3",
   "version": "3.11.9"
  }
 },
 "nbformat": 4,
 "nbformat_minor": 5
}
