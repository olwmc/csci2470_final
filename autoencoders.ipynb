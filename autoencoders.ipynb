{
 "cells": [
  {
   "cell_type": "markdown",
   "id": "ea55baec-0cab-4dbc-8958-7c43c287f470",
   "metadata": {},
   "source": [
    "Hypothesis: We might be representation bottlenecked and that might be contributing to our less than ideal performance. What if we start by pretraining our network to do autoencoding, chop off the decoder, and then do our metric learning on that"
   ]
  },
  {
   "cell_type": "code",
   "execution_count": 1,
   "id": "4219dad1-3960-4a7c-a817-8cbae0a95aae",
   "metadata": {},
   "outputs": [],
   "source": [
    "import transformer_lens\n",
    "from datasets import load_dataset\n",
    "import torch\n",
    "import matplotlib.pyplot as plt\n",
    "import pandas as pd\n",
    "import torch.nn as nn\n",
    "from sklearn.decomposition import PCA\n",
    "import numpy as np\n",
    "\n",
    "import torch.nn.functional as F\n",
    "\n",
    "from tqdm import tqdm\n",
    "\n",
    "import random"
   ]
  },
  {
   "cell_type": "code",
   "execution_count": 2,
   "id": "6df28cd2-1819-4efa-a7dc-7170952551e4",
   "metadata": {},
   "outputs": [],
   "source": [
    "seed = 42\n",
    "torch.manual_seed(42)\n",
    "random.seed(42)\n",
    "np.random.seed(42)"
   ]
  },
  {
   "cell_type": "code",
   "execution_count": 3,
   "id": "5f3a0b97-4219-4ed2-b83c-568c7e6d77aa",
   "metadata": {},
   "outputs": [
    {
     "name": "stderr",
     "output_type": "stream",
     "text": [
      "C:\\Users\\hayde\\AppData\\Local\\Temp\\ipykernel_11532\\167593289.py:6: FutureWarning: You are using `torch.load` with `weights_only=False` (the current default value), which uses the default pickle module implicitly. It is possible to construct malicious pickle data which will execute arbitrary code during unpickling (See https://github.com/pytorch/pytorch/blob/main/SECURITY.md#untrusted-models for more details). In a future release, the default value for `weights_only` will be flipped to `True`. This limits the functions that could be executed during unpickling. Arbitrary objects will no longer be allowed to be loaded via this mode unless they are explicitly allowlisted by the user via `torch.serialization.add_safe_globals`. We recommend you start setting `weights_only=True` for any use case where you don't have full control of the loaded file. Please open an issue on GitHub for any issues related to this experimental feature.\n",
      "  first_train  = torch.load('gpt2_medium_train_acts_1.npy')\n",
      "C:\\Users\\hayde\\AppData\\Local\\Temp\\ipykernel_11532\\167593289.py:7: FutureWarning: You are using `torch.load` with `weights_only=False` (the current default value), which uses the default pickle module implicitly. It is possible to construct malicious pickle data which will execute arbitrary code during unpickling (See https://github.com/pytorch/pytorch/blob/main/SECURITY.md#untrusted-models for more details). In a future release, the default value for `weights_only` will be flipped to `True`. This limits the functions that could be executed during unpickling. Arbitrary objects will no longer be allowed to be loaded via this mode unless they are explicitly allowlisted by the user via `torch.serialization.add_safe_globals`. We recommend you start setting `weights_only=True` for any use case where you don't have full control of the loaded file. Please open an issue on GitHub for any issues related to this experimental feature.\n",
      "  second_train = torch.load('gpt2_medium_train_acts_2.npy')\n",
      "C:\\Users\\hayde\\AppData\\Local\\Temp\\ipykernel_11532\\167593289.py:9: FutureWarning: You are using `torch.load` with `weights_only=False` (the current default value), which uses the default pickle module implicitly. It is possible to construct malicious pickle data which will execute arbitrary code during unpickling (See https://github.com/pytorch/pytorch/blob/main/SECURITY.md#untrusted-models for more details). In a future release, the default value for `weights_only` will be flipped to `True`. This limits the functions that could be executed during unpickling. Arbitrary objects will no longer be allowed to be loaded via this mode unless they are explicitly allowlisted by the user via `torch.serialization.add_safe_globals`. We recommend you start setting `weights_only=True` for any use case where you don't have full control of the loaded file. Please open an issue on GitHub for any issues related to this experimental feature.\n",
      "  first_test = torch.load('gpt2_medium_test_acts_1.npy')\n",
      "C:\\Users\\hayde\\AppData\\Local\\Temp\\ipykernel_11532\\167593289.py:10: FutureWarning: You are using `torch.load` with `weights_only=False` (the current default value), which uses the default pickle module implicitly. It is possible to construct malicious pickle data which will execute arbitrary code during unpickling (See https://github.com/pytorch/pytorch/blob/main/SECURITY.md#untrusted-models for more details). In a future release, the default value for `weights_only` will be flipped to `True`. This limits the functions that could be executed during unpickling. Arbitrary objects will no longer be allowed to be loaded via this mode unless they are explicitly allowlisted by the user via `torch.serialization.add_safe_globals`. We recommend you start setting `weights_only=True` for any use case where you don't have full control of the loaded file. Please open an issue on GitHub for any issues related to this experimental feature.\n",
      "  second_test = torch.load('gpt2_medium_test_acts_2.npy')\n",
      "C:\\Users\\hayde\\AppData\\Local\\Temp\\ipykernel_11532\\167593289.py:12: FutureWarning: You are using `torch.load` with `weights_only=False` (the current default value), which uses the default pickle module implicitly. It is possible to construct malicious pickle data which will execute arbitrary code during unpickling (See https://github.com/pytorch/pytorch/blob/main/SECURITY.md#untrusted-models for more details). In a future release, the default value for `weights_only` will be flipped to `True`. This limits the functions that could be executed during unpickling. Arbitrary objects will no longer be allowed to be loaded via this mode unless they are explicitly allowlisted by the user via `torch.serialization.add_safe_globals`. We recommend you start setting `weights_only=True` for any use case where you don't have full control of the loaded file. Please open an issue on GitHub for any issues related to this experimental feature.\n",
      "  wikitext_acts = torch.load('generics_kb_10k_10272024.npy')\n"
     ]
    }
   ],
   "source": [
    "# Load datasets\n",
    "train_set = load_dataset(\"sentence-transformers/stsb\", split=\"train\")\n",
    "val_set   = load_dataset(\"sentence-transformers/stsb\", split=\"validation\")\n",
    "test_set  = load_dataset(\"sentence-transformers/stsb\", split=\"test\")\n",
    "\n",
    "first_train  = torch.load('gpt2_medium_train_acts_1.npy')\n",
    "second_train = torch.load('gpt2_medium_train_acts_2.npy')\n",
    "\n",
    "first_test = torch.load('gpt2_medium_test_acts_1.npy')\n",
    "second_test = torch.load('gpt2_medium_test_acts_2.npy')\n",
    "\n",
    "wikitext_acts = torch.load('generics_kb_10k_10272024.npy')\n",
    "\n",
    "train_scores = torch.Tensor(train_set['score'])\n",
    "test_scores = torch.Tensor(test_set['score'])"
   ]
  },
  {
   "cell_type": "code",
   "execution_count": 4,
   "id": "cee80f3b-034e-4c1b-99fc-cbec4583920e",
   "metadata": {},
   "outputs": [
    {
     "name": "stderr",
     "output_type": "stream",
     "text": [
      " 10%|██████▊                                                             | 10/100 [01:02<09:29,  6.32s/it]"
     ]
    },
    {
     "name": "stdout",
     "output_type": "stream",
     "text": [
      "\n",
      "Epoch 10\n",
      "Train Losses - Early: 0.214, Mid: 0.853, Late: 8.338\n",
      "Test Losses  - Early: 1.163, Mid: 4.034, Late: 22.649\n"
     ]
    },
    {
     "name": "stderr",
     "output_type": "stream",
     "text": [
      " 20%|█████████████▌                                                      | 20/100 [02:06<08:37,  6.47s/it]"
     ]
    },
    {
     "name": "stdout",
     "output_type": "stream",
     "text": [
      "\n",
      "Epoch 20\n",
      "Train Losses - Early: 0.150, Mid: 0.580, Late: 4.964\n",
      "Test Losses  - Early: 1.034, Mid: 3.464, Late: 16.784\n"
     ]
    },
    {
     "name": "stderr",
     "output_type": "stream",
     "text": [
      " 30%|████████████████████▍                                               | 30/100 [03:10<07:29,  6.43s/it]"
     ]
    },
    {
     "name": "stdout",
     "output_type": "stream",
     "text": [
      "\n",
      "Epoch 30\n",
      "Train Losses - Early: 0.115, Mid: 0.459, Late: 3.769\n",
      "Test Losses  - Early: 0.966, Mid: 3.196, Late: 14.704\n"
     ]
    },
    {
     "name": "stderr",
     "output_type": "stream",
     "text": [
      " 40%|███████████████████████████▏                                        | 40/100 [04:15<06:28,  6.47s/it]"
     ]
    },
    {
     "name": "stdout",
     "output_type": "stream",
     "text": [
      "\n",
      "Epoch 40\n",
      "Train Losses - Early: 0.089, Mid: 0.374, Late: 3.151\n",
      "Test Losses  - Early: 0.933, Mid: 3.050, Late: 13.833\n"
     ]
    },
    {
     "name": "stderr",
     "output_type": "stream",
     "text": [
      " 50%|██████████████████████████████████                                  | 50/100 [05:19<05:20,  6.42s/it]"
     ]
    },
    {
     "name": "stdout",
     "output_type": "stream",
     "text": [
      "\n",
      "Epoch 50\n",
      "Train Losses - Early: 0.071, Mid: 0.319, Late: 2.604\n",
      "Test Losses  - Early: 0.922, Mid: 2.971, Late: 12.995\n"
     ]
    },
    {
     "name": "stderr",
     "output_type": "stream",
     "text": [
      " 60%|████████████████████████████████████████▊                           | 60/100 [06:22<04:14,  6.37s/it]"
     ]
    },
    {
     "name": "stdout",
     "output_type": "stream",
     "text": [
      "\n",
      "Epoch 60\n",
      "Train Losses - Early: 0.058, Mid: 0.276, Late: 2.341\n",
      "Test Losses  - Early: 0.912, Mid: 2.915, Late: 12.481\n"
     ]
    },
    {
     "name": "stderr",
     "output_type": "stream",
     "text": [
      " 70%|███████████████████████████████████████████████▌                    | 70/100 [07:26<03:09,  6.30s/it]"
     ]
    },
    {
     "name": "stdout",
     "output_type": "stream",
     "text": [
      "\n",
      "Epoch 70\n",
      "Train Losses - Early: 0.049, Mid: 0.248, Late: 2.023\n",
      "Test Losses  - Early: 0.912, Mid: 2.883, Late: 11.994\n"
     ]
    },
    {
     "name": "stderr",
     "output_type": "stream",
     "text": [
      " 80%|██████████████████████████████████████████████████████▍             | 80/100 [08:28<02:07,  6.38s/it]"
     ]
    },
    {
     "name": "stdout",
     "output_type": "stream",
     "text": [
      "\n",
      "Epoch 80\n",
      "Train Losses - Early: 0.044, Mid: 0.231, Late: 1.835\n",
      "Test Losses  - Early: 0.913, Mid: 2.867, Late: 11.715\n"
     ]
    },
    {
     "name": "stderr",
     "output_type": "stream",
     "text": [
      " 90%|█████████████████████████████████████████████████████████████▏      | 90/100 [09:31<01:04,  6.43s/it]"
     ]
    },
    {
     "name": "stdout",
     "output_type": "stream",
     "text": [
      "\n",
      "Epoch 90\n",
      "Train Losses - Early: 0.040, Mid: 0.218, Late: 1.710\n",
      "Test Losses  - Early: 0.917, Mid: 2.854, Late: 11.548\n"
     ]
    },
    {
     "name": "stderr",
     "output_type": "stream",
     "text": [
      "100%|███████████████████████████████████████████████████████████████████| 100/100 [10:34<00:00,  6.35s/it]"
     ]
    },
    {
     "name": "stdout",
     "output_type": "stream",
     "text": [
      "\n",
      "Epoch 100\n",
      "Train Losses - Early: 0.037, Mid: 0.200, Late: 1.496\n",
      "Test Losses  - Early: 0.917, Mid: 2.821, Late: 11.178\n"
     ]
    },
    {
     "name": "stderr",
     "output_type": "stream",
     "text": [
      "\n"
     ]
    },
    {
     "data": {
      "image/png": "[encoded data removed]",
      "text/plain": [
       "<Figure size 1200x400 with 1 Axes>"
      ]
     },
     "metadata": {},
     "output_type": "display_data"
    }
   ],
   "source": [
    "# We probably need to scale the hidden dimension based on how deep you are\n",
    "def get_hidden(i):\n",
    "    if i <= 8:\n",
    "        return 1\n",
    "    elif i <= 16:\n",
    "        return 2\n",
    "    elif i <= 20:\n",
    "        return 3\n",
    "    else:\n",
    "        return 4\n",
    "\n",
    "class Autoencoder(nn.Module):\n",
    "    def __init__(self, layer_idx, d_in=1024, base_width=256):\n",
    "        super().__init__()\n",
    "        # Scale hidden dim based on layer position\n",
    "        # Later layers get progressively larger capacity\n",
    "        hidden_mult = get_hidden(layer_idx)\n",
    "        d_hidden = int(base_width * hidden_mult)\n",
    "        \n",
    "        # Gradual dimension reduction\n",
    "        d_mid = (d_in + d_hidden) // 2\n",
    "        \n",
    "        self.encode = nn.Sequential(\n",
    "            nn.Linear(d_in, d_mid),\n",
    "            nn.LayerNorm(d_mid),\n",
    "            nn.GELU(),\n",
    "            nn.Linear(d_mid, d_hidden),\n",
    "            nn.LayerNorm(d_hidden),\n",
    "            nn.GELU(),\n",
    "        )\n",
    "        \n",
    "        self.decode = nn.Sequential(\n",
    "            nn.Linear(d_hidden, d_mid),\n",
    "            nn.LayerNorm(d_mid),\n",
    "            nn.GELU(),\n",
    "            nn.Linear(d_mid, d_in),\n",
    "        )\n",
    "        \n",
    "        # Initialize with smaller weights for stability\n",
    "        for m in self.modules():\n",
    "            if isinstance(m, nn.Linear):\n",
    "                nn.init.xavier_uniform_(m.weight, gain=0.5)\n",
    "                \n",
    "    def forward(self, x):\n",
    "        h = self.encode(x)\n",
    "        # Add residual connection for easier learning\n",
    "        return self.decode(h) + 0.1 * x  # Scaled residual to start mostly from identity\n",
    "\n",
    "n_layers = 24\n",
    "# Create layer-specific autoencoders\n",
    "encoders = [Autoencoder(i).cuda() for i in range(n_layers)]\n",
    "\n",
    "# Use different learning rates for different layers\n",
    "lrs = [3e-4 * (1 + i/24) for i in range(n_layers)]  # Higher lr for harder layers. From 3e-4 -> 3e-4*3\n",
    "optimizers = [torch.optim.AdamW(ae.parameters(), lr=lr, weight_decay=0.01) for ae, lr in zip(encoders, lrs)]\n",
    "\n",
    "# Modified training loop with layer-specific logging\n",
    "def train_epoch(models, acts, optimizers, batch_size=64):\n",
    "    losses = []\n",
    "    n_batches = acts.shape[0] // batch_size\n",
    "    \n",
    "    for batch in range(n_batches):\n",
    "        start_idx = batch * batch_size\n",
    "        end_idx = (batch + 1) * batch_size\n",
    "        \n",
    "        batch_losses = []\n",
    "        for i, (model, optimizer) in enumerate(zip(models, optimizers)):\n",
    "            model.train()\n",
    "            batch_i = acts[start_idx:end_idx, i].cuda()\n",
    "            \n",
    "            optimizer.zero_grad()\n",
    "            loss = F.mse_loss(model(batch_i), batch_i)\n",
    "            loss.backward()\n",
    "            optimizer.step()\n",
    "            \n",
    "            batch_losses.append(loss.item())\n",
    "        \n",
    "        losses.append(batch_losses)\n",
    "    \n",
    "    return np.mean(losses, axis=0)\n",
    "\n",
    "# Training with more detailed monitoring\n",
    "early_layers_history = []\n",
    "mid_layers_history = []\n",
    "late_layers_history = []\n",
    "\n",
    "all_acts = wikitext_acts\n",
    "all_test_acts = torch.concat((first_test, second_test), axis=0)\n",
    "\n",
    "for epoch in tqdm(range(100)):\n",
    "    losses = train_epoch(encoders, all_acts, optimizers)\n",
    "    \n",
    "    # Track different layer groups\n",
    "    early_layers_history.append(np.mean(losses[:8]))\n",
    "    mid_layers_history.append(np.mean(losses[8:16]))\n",
    "    late_layers_history.append(np.mean(losses[16:]))\n",
    "    \n",
    "    if (epoch+1) % 10 == 0:\n",
    "        with torch.no_grad():\n",
    "            [model.eval() for model in encoders]\n",
    "            \n",
    "            # Test losses by layer group\n",
    "            test_preds = [encoders[i](all_test_acts[:, i].cuda()).cpu() for i in range(n_layers)]\n",
    "            test_losses = [F.mse_loss(pred, all_test_acts[:, i]).item() for i, pred in enumerate(test_preds)]\n",
    "            \n",
    "            print(f\"\\nEpoch {epoch+1}\")\n",
    "            print(f\"Train Losses - Early: {early_layers_history[-1]:.3f}, \"\n",
    "                  f\"Mid: {mid_layers_history[-1]:.3f}, \"\n",
    "                  f\"Late: {late_layers_history[-1]:.3f}\")\n",
    "            print(f\"Test Losses  - Early: {np.mean(test_losses[:8]):.3f}, \"\n",
    "                  f\"Mid: {np.mean(test_losses[8:16]):.3f}, \"\n",
    "                  f\"Late: {np.mean(test_losses[16:]):.3f}\")\n",
    "\n",
    "# Plot training curves\n",
    "plt.figure(figsize=(12, 4))\n",
    "plt.plot(early_layers_history, label='Early Layers (0-7)')\n",
    "plt.plot(mid_layers_history, label='Mid Layers (8-15)')\n",
    "plt.plot(late_layers_history, label='Late Layers (16-23)')\n",
    "plt.title('Reconstruction Loss by Layer Group')\n",
    "plt.xlabel('Epoch')\n",
    "plt.ylabel('MSE Loss')\n",
    "plt.legend()\n",
    "plt.yscale('log')\n",
    "plt.grid(True)\n",
    "plt.show()"
   ]
  },
  {
   "cell_type": "markdown",
   "id": "4b39d3b6",
   "metadata": {},
   "source": [
    "# CONSTRUCTION ZONE START"
   ]
  },
  {
   "cell_type": "markdown",
   "id": "053b3d27",
   "metadata": {},
   "source": [
    "The experiment here is to see if creating a more complex architecture for later layers can help decrease the major loss discrepany we are currently seeing. First off, this will require a simple modification to the init for Autoencoder to create a more complex architecture for late layers. Second, if that shows promise, the complexity of late can be \"hand me downed\" to the mid layers and the late layers become even more complex. If either situations look like they need even more help, in the get_hidden function the return of the scaling of how many hidden layers to use can be amped to be even larger for later ones. Also, the learning rate is being increase naively for each layer, we could instead introduce a system of a learning rate scheduler, eg. ReduceLROnPlateau, which would decrease the learning rate upon plateaued loss. Or, in general the starting point and alteration of learning rate between layers should be explored, stored, and analyzed in isolation after trying the architecture changes."
   ]
  },
  {
   "cell_type": "markdown",
   "id": "b0e5a40f",
   "metadata": {},
   "source": [
    "There is also the possibility that GELU is not appropriate for later layers since some activation functions might have better feature represenations at deeper layers. A potential thought here is to replace the Gaussian Error Linear Unit (GELU) for later layers with ReLU or LeakyReLU."
   ]
  },
  {
   "cell_type": "markdown",
   "id": "464d15f6",
   "metadata": {},
   "source": [
    "## Example of hidden layer increase"
   ]
  },
  {
   "cell_type": "code",
   "execution_count": null,
   "id": "dcd28cea",
   "metadata": {},
   "outputs": [],
   "source": [
    "def get_hidden(i):\n",
    "    if i <= 8:\n",
    "        return 1\n",
    "    elif i <= 16:\n",
    "        return 2\n",
    "    elif i <= 20:\n",
    "        return 5  # Increased from 3 to 5\n",
    "    else:\n",
    "        return 6  # Increased from 4 to 6"
   ]
  },
  {
   "cell_type": "markdown",
   "id": "ae8a61cc",
   "metadata": {},
   "source": [
    "## Increasingly complex architecture implementation and results"
   ]
  },
  {
   "cell_type": "markdown",
   "id": "b0fde744",
   "metadata": {},
   "source": [
    "The only difference here is in the init of the Autoencoder class"
   ]
  },
  {
   "cell_type": "code",
   "execution_count": 6,
   "id": "212507d4",
   "metadata": {},
   "outputs": [
    {
     "name": "stderr",
     "output_type": "stream",
     "text": [
      " 10%|█         | 10/100 [01:57<17:56, 11.96s/it]"
     ]
    },
    {
     "name": "stdout",
     "output_type": "stream",
     "text": [
      "\n",
      "Epoch 10\n",
      "Train Losses - Early: 0.215, Mid: 0.852, Late: 10.183\n",
      "Test Losses  - Early: 1.165, Mid: 4.037, Late: 24.971\n"
     ]
    },
    {
     "name": "stderr",
     "output_type": "stream",
     "text": [
      " 20%|██        | 20/100 [03:52<15:20, 11.51s/it]"
     ]
    },
    {
     "name": "stdout",
     "output_type": "stream",
     "text": [
      "\n",
      "Epoch 20\n",
      "Train Losses - Early: 0.151, Mid: 0.578, Late: 6.229\n",
      "Test Losses  - Early: 1.037, Mid: 3.463, Late: 19.165\n"
     ]
    },
    {
     "name": "stderr",
     "output_type": "stream",
     "text": [
      " 30%|███       | 30/100 [05:48<13:29, 11.56s/it]"
     ]
    },
    {
     "name": "stdout",
     "output_type": "stream",
     "text": [
      "\n",
      "Epoch 30\n",
      "Train Losses - Early: 0.116, Mid: 0.454, Late: 4.890\n",
      "Test Losses  - Early: 0.967, Mid: 3.194, Late: 17.540\n"
     ]
    },
    {
     "name": "stderr",
     "output_type": "stream",
     "text": [
      " 40%|████      | 40/100 [07:43<11:28, 11.48s/it]"
     ]
    },
    {
     "name": "stdout",
     "output_type": "stream",
     "text": [
      "\n",
      "Epoch 40\n",
      "Train Losses - Early: 0.090, Mid: 0.375, Late: 4.116\n",
      "Test Losses  - Early: 0.932, Mid: 3.062, Late: 16.564\n"
     ]
    },
    {
     "name": "stderr",
     "output_type": "stream",
     "text": [
      " 50%|█████     | 50/100 [09:37<09:32, 11.44s/it]"
     ]
    },
    {
     "name": "stdout",
     "output_type": "stream",
     "text": [
      "\n",
      "Epoch 50\n",
      "Train Losses - Early: 0.071, Mid: 0.314, Late: 3.588\n",
      "Test Losses  - Early: 0.913, Mid: 2.967, Late: 16.852\n"
     ]
    },
    {
     "name": "stderr",
     "output_type": "stream",
     "text": [
      " 60%|██████    | 60/100 [11:31<07:39, 11.50s/it]"
     ]
    },
    {
     "name": "stdout",
     "output_type": "stream",
     "text": [
      "\n",
      "Epoch 60\n",
      "Train Losses - Early: 0.058, Mid: 0.280, Late: 3.226\n",
      "Test Losses  - Early: 0.910, Mid: 2.940, Late: 15.874\n"
     ]
    },
    {
     "name": "stderr",
     "output_type": "stream",
     "text": [
      " 70%|███████   | 70/100 [13:25<05:43, 11.46s/it]"
     ]
    },
    {
     "name": "stdout",
     "output_type": "stream",
     "text": [
      "\n",
      "Epoch 70\n",
      "Train Losses - Early: 0.050, Mid: 0.248, Late: 2.939\n",
      "Test Losses  - Early: 0.913, Mid: 2.895, Late: 16.096\n"
     ]
    },
    {
     "name": "stderr",
     "output_type": "stream",
     "text": [
      " 80%|████████  | 80/100 [15:19<03:49, 11.45s/it]"
     ]
    },
    {
     "name": "stdout",
     "output_type": "stream",
     "text": [
      "\n",
      "Epoch 80\n",
      "Train Losses - Early: 0.044, Mid: 0.228, Late: 2.686\n",
      "Test Losses  - Early: 0.908, Mid: 2.871, Late: 15.818\n"
     ]
    },
    {
     "name": "stderr",
     "output_type": "stream",
     "text": [
      " 90%|█████████ | 90/100 [17:16<01:59, 11.99s/it]"
     ]
    },
    {
     "name": "stdout",
     "output_type": "stream",
     "text": [
      "\n",
      "Epoch 90\n",
      "Train Losses - Early: 0.040, Mid: 0.215, Late: 2.454\n",
      "Test Losses  - Early: 0.912, Mid: 2.867, Late: 16.603\n"
     ]
    },
    {
     "name": "stderr",
     "output_type": "stream",
     "text": [
      "100%|██████████| 100/100 [19:11<00:00, 11.51s/it]"
     ]
    },
    {
     "name": "stdout",
     "output_type": "stream",
     "text": [
      "\n",
      "Epoch 100\n",
      "Train Losses - Early: 0.038, Mid: 0.202, Late: 2.312\n",
      "Test Losses  - Early: 0.918, Mid: 2.859, Late: 15.784\n"
     ]
    },
    {
     "name": "stderr",
     "output_type": "stream",
     "text": [
      "\n"
     ]
    },
    {
     "data": {
      "image/png": "[encoded data removed]",
      "text/plain": [
       "<Figure size 1200x400 with 1 Axes>"
      ]
     },
     "metadata": {},
     "output_type": "display_data"
    }
   ],
   "source": [
    "# We probably need to scale the hidden dimension based on how deep you are\n",
    "def get_hidden(i):\n",
    "    if i <= 8:\n",
    "        return 1\n",
    "    elif i <= 16:\n",
    "        return 2\n",
    "    elif i <= 20:\n",
    "        return 3\n",
    "    else:\n",
    "        return 4\n",
    "\n",
    "class Autoencoder(nn.Module):\n",
    "    def __init__(self, layer_idx, d_in=1024, base_width=256):\n",
    "        super().__init__()\n",
    "        # Scale hidden dim based on layer position\n",
    "        # Later layers get progressively larger capacity\n",
    "        hidden_mult = get_hidden(layer_idx)\n",
    "        d_hidden = int(base_width * hidden_mult)\n",
    "        \n",
    "        # Gradual dimension reduction for early and middle layers\n",
    "        d_mid = (d_in + d_hidden) // 2\n",
    "\n",
    "        # More gradual dimension reduction for late layers, also affords more layers\n",
    "        # this is the one third point, this is closer to d_in\n",
    "        d_onethird_to_hidden = (2 * d_in + d_hidden) // 3 \n",
    "        # this is the two third point, this is closer to d_hidden\n",
    "        d_twothird_to_hidden = (d_in + 2 * d_hidden) // 3\n",
    "        \n",
    "        # This is a modest enhancement of complexity\n",
    "        if layer_idx >= 16:\n",
    "            self.encode = nn.Sequential(\n",
    "                nn.Linear(d_in, d_onethird_to_hidden),\n",
    "                nn.LayerNorm(d_onethird_to_hidden),\n",
    "                nn.GELU(),\n",
    "                nn.Linear(d_onethird_to_hidden, d_twothird_to_hidden),\n",
    "                nn.LayerNorm(d_twothird_to_hidden),\n",
    "                nn.GELU(),\n",
    "                nn.Linear(d_twothird_to_hidden, d_hidden),\n",
    "                nn.LayerNorm(d_hidden),\n",
    "                nn.GELU()\n",
    "            )\n",
    "            \n",
    "            self.decode = nn.Sequential(\n",
    "                nn.Linear(d_hidden, d_twothird_to_hidden),\n",
    "                nn.LayerNorm(d_twothird_to_hidden),\n",
    "                nn.GELU(),\n",
    "                nn.Linear(d_twothird_to_hidden, d_onethird_to_hidden),\n",
    "                nn.LayerNorm(d_onethird_to_hidden),\n",
    "                nn.GELU(),\n",
    "                nn.Linear(d_onethird_to_hidden, d_in)\n",
    "            )\n",
    "        # For early and mid keep the original architecture\n",
    "        else:\n",
    "            self.encode = nn.Sequential(\n",
    "                nn.Linear(d_in, d_mid),\n",
    "                nn.LayerNorm(d_mid),\n",
    "                nn.GELU(),\n",
    "                nn.Linear(d_mid, d_hidden),\n",
    "                nn.LayerNorm(d_hidden),\n",
    "                nn.GELU()\n",
    "            )\n",
    "            \n",
    "            self.decode = nn.Sequential(\n",
    "                nn.Linear(d_hidden, d_mid),\n",
    "                nn.LayerNorm(d_mid),\n",
    "                nn.GELU(),\n",
    "                nn.Linear(d_mid, d_in)\n",
    "            )\n",
    "        \n",
    "        # Initialize with smaller weights for stability\n",
    "        for m in self.modules():\n",
    "            if isinstance(m, nn.Linear):\n",
    "                nn.init.xavier_uniform_(m.weight, gain=0.5)\n",
    "                \n",
    "    def forward(self, x):\n",
    "        h = self.encode(x)\n",
    "        # Add residual connection for easier learning\n",
    "        return self.decode(h) + 0.1 * x  # Scaled residual to start mostly from identity\n",
    "\n",
    "n_layers = 24\n",
    "# Create layer-specific autoencoders\n",
    "encoders = [Autoencoder(i).cuda() for i in range(n_layers)]\n",
    "\n",
    "# Use different learning rates for different layers\n",
    "lrs = [3e-4 * (1 + i/24) for i in range(n_layers)]  # Higher lr for harder layers. From 3e-4 -> 3e-4*3\n",
    "optimizers = [torch.optim.AdamW(ae.parameters(), lr=lr, weight_decay=0.01) for ae, lr in zip(encoders, lrs)]\n",
    "\n",
    "# Modified training loop with layer-specific logging\n",
    "def train_epoch(models, acts, optimizers, batch_size=64):\n",
    "    losses = []\n",
    "    n_batches = acts.shape[0] // batch_size\n",
    "    \n",
    "    for batch in range(n_batches):\n",
    "        start_idx = batch * batch_size\n",
    "        end_idx = (batch + 1) * batch_size\n",
    "        \n",
    "        batch_losses = []\n",
    "        for i, (model, optimizer) in enumerate(zip(models, optimizers)):\n",
    "            model.train()\n",
    "            batch_i = acts[start_idx:end_idx, i].cuda()\n",
    "            \n",
    "            optimizer.zero_grad()\n",
    "            loss = F.mse_loss(model(batch_i), batch_i)\n",
    "            loss.backward()\n",
    "            optimizer.step()\n",
    "            \n",
    "            batch_losses.append(loss.item())\n",
    "        \n",
    "        losses.append(batch_losses)\n",
    "    \n",
    "    return np.mean(losses, axis=0)\n",
    "\n",
    "# Training with more detailed monitoring\n",
    "early_layers_history = []\n",
    "mid_layers_history = []\n",
    "late_layers_history = []\n",
    "\n",
    "all_acts = wikitext_acts\n",
    "all_test_acts = torch.concat((first_test, second_test), axis=0)\n",
    "\n",
    "for epoch in tqdm(range(100)):\n",
    "    losses = train_epoch(encoders, all_acts, optimizers)\n",
    "    \n",
    "    # Track different layer groups\n",
    "    early_layers_history.append(np.mean(losses[:8]))\n",
    "    mid_layers_history.append(np.mean(losses[8:16]))\n",
    "    late_layers_history.append(np.mean(losses[16:]))\n",
    "    \n",
    "    if (epoch+1) % 10 == 0:\n",
    "        with torch.no_grad():\n",
    "            [model.eval() for model in encoders]\n",
    "            \n",
    "            # Test losses by layer group\n",
    "            test_preds = [encoders[i](all_test_acts[:, i].cuda()).cpu() for i in range(n_layers)]\n",
    "            test_losses = [F.mse_loss(pred, all_test_acts[:, i]).item() for i, pred in enumerate(test_preds)]\n",
    "            \n",
    "            print(f\"\\nEpoch {epoch+1}\")\n",
    "            print(f\"Train Losses - Early: {early_layers_history[-1]:.3f}, \"\n",
    "                  f\"Mid: {mid_layers_history[-1]:.3f}, \"\n",
    "                  f\"Late: {late_layers_history[-1]:.3f}\")\n",
    "            print(f\"Test Losses  - Early: {np.mean(test_losses[:8]):.3f}, \"\n",
    "                  f\"Mid: {np.mean(test_losses[8:16]):.3f}, \"\n",
    "                  f\"Late: {np.mean(test_losses[16:]):.3f}\")\n",
    "\n",
    "# Plot training curves\n",
    "plt.figure(figsize=(12, 4))\n",
    "plt.plot(early_layers_history, label='Early Layers (0-7)')\n",
    "plt.plot(mid_layers_history, label='Mid Layers (8-15)')\n",
    "plt.plot(late_layers_history, label='Late Layers (16-23)')\n",
    "plt.title('Reconstruction Loss by Layer Group')\n",
    "plt.xlabel('Epoch')\n",
    "plt.ylabel('MSE Loss')\n",
    "plt.legend()\n",
    "plt.yscale('log')\n",
    "plt.grid(True)\n",
    "plt.show()"
   ]
  },
  {
   "cell_type": "markdown",
   "id": "8199764a",
   "metadata": {},
   "source": [
    "If this code works, perform an analysis to see if the changes in loss are significant and merit enhanced complexity for even the mid layer and enhanced complexity for the late layer. "
   ]
  },
  {
   "cell_type": "markdown",
   "id": "3bffca00",
   "metadata": {},
   "source": [
    "# CONSTRUCTION ZONE END"
   ]
  },
  {
   "cell_type": "code",
   "execution_count": 5,
   "id": "2d589c0c-05f9-48ef-8058-58082132e0b2",
   "metadata": {},
   "outputs": [],
   "source": [
    "class SiameseNetwork(nn.Module):\n",
    "    def __init__(self, mlp):\n",
    "        super().__init__()\n",
    "        self.mlp = mlp\n",
    "\n",
    "    def forward(self, x1, x2):\n",
    "        h1 = self.mlp(x1)\n",
    "        h2 = self.mlp(x2)\n",
    "        return F.cosine_similarity(h1, h2, dim=-1)\n",
    "\n",
    "class LayerwiseSiameseNetworks(nn.Module):\n",
    "    def __init__(self, encoders, n_layers=24, d_in=1024, d_hidden=256):\n",
    "        super().__init__()\n",
    "        self.n_layers = n_layers\n",
    "        self.layer_nets = nn.ModuleList([SiameseNetwork(encoders[i]) for i in range(n_layers)])\n",
    "\n",
    "    def forward(self, x1, x2):\n",
    "        similarities = []\n",
    "        for layer in range(self.n_layers):\n",
    "            net_at_layer = self.layer_nets[layer].cuda()\n",
    "            # Get the activations at the given layer\n",
    "            x1_l = x1[:, layer].cuda()\n",
    "            x2_l = x2[:, layer].cuda()\n",
    "\n",
    "            sim_at_layer = net_at_layer(x1_l, x2_l)\n",
    "            # print(sim_at_layer.shape)\n",
    "            similarities.append(sim_at_layer)\n",
    "\n",
    "        return torch.stack(similarities, dim=-1)\n",
    "\n",
    "class SimilarityLearner(nn.Module):\n",
    "    def __init__(self, encoders, n_layers=24, d_in=1024, d_hidden=256, d_out_hidden=512, dropout=0.1):\n",
    "        super().__init__()\n",
    "        self.layer_nets = LayerwiseSiameseNetworks(encoders, n_layers, d_in, d_hidden)\n",
    "\n",
    "        self.mlp = nn.Sequential(\n",
    "            nn.Linear(n_layers, d_out_hidden),\n",
    "            nn.LayerNorm(d_out_hidden),\n",
    "            nn.Dropout(dropout),  # Add dropout after normalization\n",
    "            nn.GELU(),\n",
    "            nn.Linear(d_out_hidden, d_out_hidden),\n",
    "            nn.LayerNorm(d_out_hidden),\n",
    "            nn.Dropout(dropout),  # Add dropout after normalization\n",
    "            nn.GELU(),\n",
    "            nn.Linear(d_out_hidden, d_out_hidden),\n",
    "            nn.LayerNorm(d_out_hidden),\n",
    "            nn.Dropout(dropout),  # Add dropout after normalization\n",
    "            nn.GELU(),\n",
    "            nn.Linear(d_out_hidden, 1),\n",
    "            nn.Hardsigmoid()\n",
    "        )\n",
    "\n",
    "    def forward(self, x1, x2, training=True):\n",
    "        layerwise_similarities = self.layer_nets(x1, x2)\n",
    "        similarity = self.mlp(layerwise_similarities)\n",
    "        return similarity.squeeze()"
   ]
  },
  {
   "cell_type": "code",
   "execution_count": 7,
   "id": "a063e5c1-9a3b-4e26-a27a-19b54a6c1adf",
   "metadata": {},
   "outputs": [
    {
     "name": "stderr",
     "output_type": "stream",
     "text": [
      " 10%|██████▊                                                             | 10/100 [00:59<09:08,  6.10s/it]"
     ]
    },
    {
     "name": "stdout",
     "output_type": "stream",
     "text": [
      "Epoch 10\n",
      "Loss: 0.0163\n",
      "Train correlation: 0.9075\n",
      "Test correlation: 0.6731\n",
      "\n"
     ]
    },
    {
     "name": "stderr",
     "output_type": "stream",
     "text": [
      " 20%|█████████████▌                                                      | 20/100 [02:02<08:27,  6.34s/it]"
     ]
    },
    {
     "name": "stdout",
     "output_type": "stream",
     "text": [
      "Epoch 20\n",
      "Loss: 0.0086\n",
      "Train correlation: 0.9433\n",
      "Test correlation: 0.7303\n",
      "\n"
     ]
    },
    {
     "name": "stderr",
     "output_type": "stream",
     "text": [
      " 30%|████████████████████▍                                               | 30/100 [03:06<07:31,  6.45s/it]"
     ]
    },
    {
     "name": "stdout",
     "output_type": "stream",
     "text": [
      "Epoch 30\n",
      "Loss: 0.0064\n",
      "Train correlation: 0.9662\n",
      "Test correlation: 0.7355\n",
      "\n"
     ]
    },
    {
     "name": "stderr",
     "output_type": "stream",
     "text": [
      " 40%|███████████████████████████▏                                        | 40/100 [04:10<06:26,  6.45s/it]"
     ]
    },
    {
     "name": "stdout",
     "output_type": "stream",
     "text": [
      "Epoch 40\n",
      "Loss: 0.0031\n",
      "Train correlation: 0.9483\n",
      "Test correlation: 0.7246\n",
      "\n"
     ]
    },
    {
     "name": "stderr",
     "output_type": "stream",
     "text": [
      " 50%|██████████████████████████████████                                  | 50/100 [05:13<05:07,  6.15s/it]"
     ]
    },
    {
     "name": "stdout",
     "output_type": "stream",
     "text": [
      "Epoch 50\n",
      "Loss: 0.0028\n",
      "Train correlation: 0.9719\n",
      "Test correlation: 0.7291\n",
      "\n"
     ]
    },
    {
     "name": "stderr",
     "output_type": "stream",
     "text": [
      " 60%|████████████████████████████████████████▊                           | 60/100 [06:14<04:13,  6.33s/it]"
     ]
    },
    {
     "name": "stdout",
     "output_type": "stream",
     "text": [
      "Epoch 60\n",
      "Loss: 0.0017\n",
      "Train correlation: 0.9771\n",
      "Test correlation: 0.7410\n",
      "\n"
     ]
    },
    {
     "name": "stderr",
     "output_type": "stream",
     "text": [
      " 70%|███████████████████████████████████████████████▌                    | 70/100 [07:16<03:10,  6.35s/it]"
     ]
    },
    {
     "name": "stdout",
     "output_type": "stream",
     "text": [
      "Epoch 70\n",
      "Loss: 0.0018\n",
      "Train correlation: 0.9765\n",
      "Test correlation: 0.7408\n",
      "\n"
     ]
    },
    {
     "name": "stderr",
     "output_type": "stream",
     "text": [
      " 80%|██████████████████████████████████████████████████████▍             | 80/100 [08:20<02:07,  6.37s/it]"
     ]
    },
    {
     "name": "stdout",
     "output_type": "stream",
     "text": [
      "Epoch 80\n",
      "Loss: 0.0014\n",
      "Train correlation: 0.9841\n",
      "Test correlation: 0.7355\n",
      "\n"
     ]
    },
    {
     "name": "stderr",
     "output_type": "stream",
     "text": [
      " 90%|█████████████████████████████████████████████████████████████▏      | 90/100 [09:24<01:03,  6.38s/it]"
     ]
    },
    {
     "name": "stdout",
     "output_type": "stream",
     "text": [
      "Epoch 90\n",
      "Loss: 0.0011\n",
      "Train correlation: 0.9830\n",
      "Test correlation: 0.7436\n",
      "\n"
     ]
    },
    {
     "name": "stderr",
     "output_type": "stream",
     "text": [
      "100%|███████████████████████████████████████████████████████████████████| 100/100 [10:27<00:00,  6.28s/it]"
     ]
    },
    {
     "name": "stdout",
     "output_type": "stream",
     "text": [
      "Epoch 100\n",
      "Loss: 0.0009\n",
      "Train correlation: 0.9887\n",
      "Test correlation: 0.7434\n",
      "\n"
     ]
    },
    {
     "name": "stderr",
     "output_type": "stream",
     "text": [
      "\n"
     ]
    }
   ],
   "source": [
    "from copy import deepcopy\n",
    "cloned_encoders = [deepcopy(e).encode for e in encoders]\n",
    "\n",
    "similarity_learner = SimilarityLearner(cloned_encoders, d_hidden=512).to('cuda:0')\n",
    "# similarity_learner = SimilarityLearner([Autoencoder(i) for i in range(24)], d_hidden=512).to('cuda:0')\n",
    "optimizer = torch.optim.Adam(similarity_learner.parameters(), lr=3e-5)\n",
    "\n",
    "def train_epoch(model, first_acts, second_acts, scores, optimizer, batch_size=32):\n",
    "    model.train()\n",
    "    total_loss = 0\n",
    "    n_batches = first_acts.shape[0] // batch_size\n",
    "    \n",
    "    for batch in range(n_batches):\n",
    "        start_idx = batch * batch_size\n",
    "        end_idx = (batch + 1) * batch_size\n",
    "        \n",
    "        x1_batch = first_acts[start_idx:end_idx].cuda()\n",
    "        x2_batch = second_acts[start_idx:end_idx].cuda()\n",
    "        scores_batch = scores[start_idx:end_idx].cuda()\n",
    "        \n",
    "        optimizer.zero_grad()\n",
    "        \n",
    "        sims = model(x1_batch, x2_batch)\n",
    "        \n",
    "        loss = F.mse_loss(sims, scores_batch)        \n",
    "        \n",
    "        loss.backward()\n",
    "        optimizer.step()\n",
    "        \n",
    "        total_loss += loss.item()\n",
    "    \n",
    "    return total_loss / n_batches\n",
    "\n",
    "best_test_corr = 0\n",
    "best_model = None\n",
    "\n",
    "for epoch in tqdm(range(100)):\n",
    "    # Training\n",
    "    loss = train_epoch(similarity_learner, first_train, second_train, train_scores, optimizer)\n",
    "    \n",
    "    # Evaluation\n",
    "    similarity_learner.eval()\n",
    "    with torch.no_grad():\n",
    "        # Print progress every 10 epochs\n",
    "        if (epoch + 1) % 10 == 0:\n",
    "            # Get training correlations\n",
    "            train_preds = similarity_learner(first_train.cuda(), second_train.cuda(), training=False)\n",
    "            train_corr = torch.corrcoef(torch.stack([train_preds.cpu(), train_scores]))[0,1]\n",
    "            \n",
    "            # Get test correlations\n",
    "            test_preds = similarity_learner(first_test.cuda(), second_test.cuda(), training=False)\n",
    "            test_corr = torch.corrcoef(torch.stack([test_preds.cpu(), test_scores]))[0,1]\n",
    "\n",
    "            if test_corr > best_test_corr:\n",
    "                best_test_corr = test_corr\n",
    "                best_model = deepcopy(similarity_learner)\n",
    "\n",
    "            print(f\"Epoch {epoch+1}\")\n",
    "            print(f\"Loss: {loss:.4f}\")\n",
    "            print(f\"Train correlation: {train_corr:.4f}\")\n",
    "            print(f\"Test correlation: {test_corr:.4f}\\n\")"
   ]
  },
  {
   "cell_type": "code",
   "execution_count": 8,
   "id": "65e39a24-e14a-41b2-a421-d79971788a4a",
   "metadata": {},
   "outputs": [
    {
     "name": "stdout",
     "output_type": "stream",
     "text": [
      "tensor(0.7436, grad_fn=<SelectBackward0>)\n"
     ]
    }
   ],
   "source": [
    "test_preds = best_model(first_test.cuda(), second_test.cuda(), training=False)\n",
    "test_corr = torch.corrcoef(torch.stack([test_preds.cpu(), test_scores]))[0,1]\n",
    "print(test_corr)"
   ]
  },
  {
   "cell_type": "code",
   "execution_count": 10,
   "id": "f260b692-7a26-42cd-8782-8c8ab09e0f07",
   "metadata": {},
   "outputs": [
    {
     "data": {
      "text/plain": [
       "'This model has 30158977 parameters!'"
      ]
     },
     "execution_count": 10,
     "metadata": {},
     "output_type": "execute_result"
    }
   ],
   "source": [
    "param_count = sum([w.numel() for w in similarity_learner.parameters()])\n",
    "f\"This model has {param_count} parameters!\""
   ]
  }
 ],
 "metadata": {
  "kernelspec": {
   "display_name": "csci1470",
   "language": "python",
   "name": "python3"
  },
  "language_info": {
   "codemirror_mode": {
    "name": "ipython",
    "version": 3
   },
   "file_extension": ".py",
   "mimetype": "text/x-python",
   "name": "python",
   "nbconvert_exporter": "python",
   "pygments_lexer": "ipython3",
   "version": "3.10.15"
  }
 },
 "nbformat": 4,
 "nbformat_minor": 5
}
