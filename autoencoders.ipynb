{
 "cells": [
  {
   "cell_type": "markdown",
   "id": "ea55baec-0cab-4dbc-8958-7c43c287f470",
   "metadata": {},
   "source": [
    "Hypothesis: We might be representation bottlenecked and that might be contributing to our less than ideal performance. What if we start by pretraining our network to do autoencoding, chop off the decoder, and then do our metric learning on that"
   ]
  },
  {
   "cell_type": "code",
   "execution_count": 1,
   "id": "4219dad1-3960-4a7c-a817-8cbae0a95aae",
   "metadata": {},
   "outputs": [],
   "source": [
    "import transformer_lens\n",
    "from datasets import load_dataset\n",
    "import torch\n",
    "import matplotlib.pyplot as plt\n",
    "import pandas as pd\n",
    "import torch.nn as nn\n",
    "import numpy as np\n",
    "\n",
    "import torch.nn.functional as F\n",
    "\n",
    "from tqdm import tqdm\n",
    "\n",
    "import random"
   ]
  },
  {
   "cell_type": "code",
   "execution_count": 2,
   "id": "6df28cd2-1819-4efa-a7dc-7170952551e4",
   "metadata": {},
   "outputs": [],
   "source": [
    "seed = 42\n",
    "torch.manual_seed(seed)\n",
    "random.seed(seed)\n",
    "np.random.seed(seed)"
   ]
  },
  {
   "cell_type": "code",
   "execution_count": 3,
   "id": "5f3a0b97-4219-4ed2-b83c-568c7e6d77aa",
   "metadata": {},
   "outputs": [],
   "source": [
    "# Load datasets\n",
    "train_set = load_dataset(\"sentence-transformers/stsb\", split=\"train\")\n",
    "val_set   = load_dataset(\"sentence-transformers/stsb\", split=\"validation\")\n",
    "test_set  = load_dataset(\"sentence-transformers/stsb\", split=\"test\")\n",
    "\n",
    "first_train  = torch.load('gpt2_medium_train_acts_1.npy')\n",
    "second_train = torch.load('gpt2_medium_train_acts_2.npy')\n",
    "\n",
    "first_test = torch.load('gpt2_medium_test_acts_1.npy')\n",
    "second_test = torch.load('gpt2_medium_test_acts_2.npy')\n",
    "\n",
    "generics_kb = torch.load('generics_kb_20k_10312024.npy')\n",
    "\n",
    "train_scores = torch.Tensor(train_set['score'])\n",
    "test_scores = torch.Tensor(test_set['score'])"
   ]
  },
  {
   "cell_type": "code",
   "execution_count": 4,
   "id": "cee80f3b-034e-4c1b-99fc-cbec4583920e",
   "metadata": {},
   "outputs": [
    {
     "name": "stderr",
     "output_type": "stream",
     "text": [
      "  4%|██▊                                                                    | 10/250 [02:09<51:59, 13.00s/it]"
     ]
    },
    {
     "name": "stdout",
     "output_type": "stream",
     "text": [
      "\n",
      "Epoch 10\n",
      "Train Losses - Early: 0.301, Mid: 1.289, Late: 10.822\n",
      "Test Losses  - Early: 1.417, Mid: 5.092, Late: 26.179\n"
     ]
    },
    {
     "name": "stderr",
     "output_type": "stream",
     "text": [
      "  8%|█████▋                                                                 | 20/250 [04:20<49:52, 13.01s/it]"
     ]
    },
    {
     "name": "stdout",
     "output_type": "stream",
     "text": [
      "\n",
      "Epoch 20\n",
      "Train Losses - Early: 0.249, Mid: 1.065, Late: 8.316\n",
      "Test Losses  - Early: 1.315, Mid: 4.639, Late: 21.923\n"
     ]
    },
    {
     "name": "stderr",
     "output_type": "stream",
     "text": [
      " 12%|████████▌                                                              | 30/250 [06:31<47:59, 13.09s/it]"
     ]
    },
    {
     "name": "stdout",
     "output_type": "stream",
     "text": [
      "\n",
      "Epoch 30\n",
      "Train Losses - Early: 0.220, Mid: 0.959, Late: 7.450\n",
      "Test Losses  - Early: 1.274, Mid: 4.444, Late: 20.402\n"
     ]
    },
    {
     "name": "stderr",
     "output_type": "stream",
     "text": [
      " 16%|███████████▎                                                           | 40/250 [08:43<46:21, 13.25s/it]"
     ]
    },
    {
     "name": "stdout",
     "output_type": "stream",
     "text": [
      "\n",
      "Epoch 40\n",
      "Train Losses - Early: 0.199, Mid: 0.888, Late: 6.928\n",
      "Test Losses  - Early: 1.252, Mid: 4.341, Late: 19.845\n"
     ]
    },
    {
     "name": "stderr",
     "output_type": "stream",
     "text": [
      " 20%|██████████████▏                                                        | 50/250 [10:54<43:41, 13.11s/it]"
     ]
    },
    {
     "name": "stdout",
     "output_type": "stream",
     "text": [
      "\n",
      "Epoch 50\n",
      "Train Losses - Early: 0.185, Mid: 0.834, Late: 6.564\n",
      "Test Losses  - Early: 1.240, Mid: 4.303, Late: 19.632\n"
     ]
    },
    {
     "name": "stderr",
     "output_type": "stream",
     "text": [
      " 24%|█████████████████                                                      | 60/250 [13:07<42:25, 13.40s/it]"
     ]
    },
    {
     "name": "stdout",
     "output_type": "stream",
     "text": [
      "\n",
      "Epoch 60\n",
      "Train Losses - Early: 0.175, Mid: 0.793, Late: 6.275\n",
      "Test Losses  - Early: 1.239, Mid: 4.264, Late: 19.521\n"
     ]
    },
    {
     "name": "stderr",
     "output_type": "stream",
     "text": [
      " 28%|███████████████████▉                                                   | 70/250 [15:17<39:08, 13.05s/it]"
     ]
    },
    {
     "name": "stdout",
     "output_type": "stream",
     "text": [
      "\n",
      "Epoch 70\n",
      "Train Losses - Early: 0.167, Mid: 0.761, Late: 6.050\n",
      "Test Losses  - Early: 1.246, Mid: 4.224, Late: 19.387\n"
     ]
    },
    {
     "name": "stderr",
     "output_type": "stream",
     "text": [
      " 32%|██████████████████████▋                                                | 80/250 [17:27<36:59, 13.06s/it]"
     ]
    },
    {
     "name": "stdout",
     "output_type": "stream",
     "text": [
      "\n",
      "Epoch 80\n",
      "Train Losses - Early: 0.160, Mid: 0.737, Late: 5.867\n",
      "Test Losses  - Early: 1.246, Mid: 4.210, Late: 19.169\n"
     ]
    },
    {
     "name": "stderr",
     "output_type": "stream",
     "text": [
      " 36%|█████████████████████████▌                                             | 90/250 [19:40<34:57, 13.11s/it]"
     ]
    },
    {
     "name": "stdout",
     "output_type": "stream",
     "text": [
      "\n",
      "Epoch 90\n",
      "Train Losses - Early: 0.155, Mid: 0.717, Late: 5.709\n",
      "Test Losses  - Early: 1.257, Mid: 4.199, Late: 19.483\n"
     ]
    },
    {
     "name": "stderr",
     "output_type": "stream",
     "text": [
      " 40%|████████████████████████████                                          | 100/250 [21:50<32:12, 12.89s/it]"
     ]
    },
    {
     "name": "stdout",
     "output_type": "stream",
     "text": [
      "\n",
      "Epoch 100\n",
      "Train Losses - Early: 0.151, Mid: 0.701, Late: 5.567\n",
      "Test Losses  - Early: 1.262, Mid: 4.200, Late: 19.228\n"
     ]
    },
    {
     "name": "stderr",
     "output_type": "stream",
     "text": [
      " 44%|██████████████████████████████▊                                       | 110/250 [23:56<29:21, 12.58s/it]"
     ]
    },
    {
     "name": "stdout",
     "output_type": "stream",
     "text": [
      "\n",
      "Epoch 110\n",
      "Train Losses - Early: 0.147, Mid: 0.687, Late: 5.450\n",
      "Test Losses  - Early: 1.264, Mid: 4.169, Late: 19.229\n"
     ]
    },
    {
     "name": "stderr",
     "output_type": "stream",
     "text": [
      " 48%|█████████████████████████████████▌                                    | 120/250 [26:01<27:07, 12.52s/it]"
     ]
    },
    {
     "name": "stdout",
     "output_type": "stream",
     "text": [
      "\n",
      "Epoch 120\n",
      "Train Losses - Early: 0.144, Mid: 0.675, Late: 5.343\n",
      "Test Losses  - Early: 1.273, Mid: 4.165, Late: 19.110\n"
     ]
    },
    {
     "name": "stderr",
     "output_type": "stream",
     "text": [
      " 52%|████████████████████████████████████▍                                 | 130/250 [28:07<25:04, 12.53s/it]"
     ]
    },
    {
     "name": "stdout",
     "output_type": "stream",
     "text": [
      "\n",
      "Epoch 130\n",
      "Train Losses - Early: 0.141, Mid: 0.665, Late: 5.245\n",
      "Test Losses  - Early: 1.272, Mid: 4.168, Late: 19.221\n"
     ]
    },
    {
     "name": "stderr",
     "output_type": "stream",
     "text": [
      " 56%|███████████████████████████████████████▏                              | 140/250 [30:12<22:55, 12.50s/it]"
     ]
    },
    {
     "name": "stdout",
     "output_type": "stream",
     "text": [
      "\n",
      "Epoch 140\n",
      "Train Losses - Early: 0.139, Mid: 0.656, Late: 5.161\n",
      "Test Losses  - Early: 1.275, Mid: 4.152, Late: 19.316\n"
     ]
    },
    {
     "name": "stderr",
     "output_type": "stream",
     "text": [
      " 60%|██████████████████████████████████████████                            | 150/250 [32:17<20:54, 12.55s/it]"
     ]
    },
    {
     "name": "stdout",
     "output_type": "stream",
     "text": [
      "\n",
      "Epoch 150\n",
      "Train Losses - Early: 0.136, Mid: 0.649, Late: 5.085\n",
      "Test Losses  - Early: 1.285, Mid: 4.128, Late: 19.399\n"
     ]
    },
    {
     "name": "stderr",
     "output_type": "stream",
     "text": [
      " 64%|████████████████████████████████████████████▊                         | 160/250 [34:22<18:39, 12.43s/it]"
     ]
    },
    {
     "name": "stdout",
     "output_type": "stream",
     "text": [
      "\n",
      "Epoch 160\n",
      "Train Losses - Early: 0.134, Mid: 0.642, Late: 5.016\n",
      "Test Losses  - Early: 1.289, Mid: 4.096, Late: 19.125\n"
     ]
    },
    {
     "name": "stderr",
     "output_type": "stream",
     "text": [
      " 68%|███████████████████████████████████████████████▌                      | 170/250 [36:26<16:34, 12.44s/it]"
     ]
    },
    {
     "name": "stdout",
     "output_type": "stream",
     "text": [
      "\n",
      "Epoch 170\n",
      "Train Losses - Early: 0.133, Mid: 0.637, Late: 4.954\n",
      "Test Losses  - Early: 1.280, Mid: 4.103, Late: 19.240\n"
     ]
    },
    {
     "name": "stderr",
     "output_type": "stream",
     "text": [
      " 72%|██████████████████████████████████████████████████▍                   | 180/250 [38:30<14:28, 12.41s/it]"
     ]
    },
    {
     "name": "stdout",
     "output_type": "stream",
     "text": [
      "\n",
      "Epoch 180\n",
      "Train Losses - Early: 0.131, Mid: 0.631, Late: 4.890\n",
      "Test Losses  - Early: 1.292, Mid: 4.078, Late: 19.513\n"
     ]
    },
    {
     "name": "stderr",
     "output_type": "stream",
     "text": [
      " 76%|█████████████████████████████████████████████████████▏                | 190/250 [40:34<12:27, 12.46s/it]"
     ]
    },
    {
     "name": "stdout",
     "output_type": "stream",
     "text": [
      "\n",
      "Epoch 190\n",
      "Train Losses - Early: 0.130, Mid: 0.626, Late: 4.846\n",
      "Test Losses  - Early: 1.287, Mid: 4.096, Late: 19.320\n"
     ]
    },
    {
     "name": "stderr",
     "output_type": "stream",
     "text": [
      " 80%|████████████████████████████████████████████████████████              | 200/250 [42:37<10:17, 12.35s/it]"
     ]
    },
    {
     "name": "stdout",
     "output_type": "stream",
     "text": [
      "\n",
      "Epoch 200\n",
      "Train Losses - Early: 0.129, Mid: 0.622, Late: 4.794\n",
      "Test Losses  - Early: 1.288, Mid: 4.089, Late: 19.433\n"
     ]
    },
    {
     "name": "stderr",
     "output_type": "stream",
     "text": [
      " 84%|██████████████████████████████████████████████████████████▊           | 210/250 [44:41<08:15, 12.40s/it]"
     ]
    },
    {
     "name": "stdout",
     "output_type": "stream",
     "text": [
      "\n",
      "Epoch 210\n",
      "Train Losses - Early: 0.127, Mid: 0.617, Late: 4.742\n",
      "Test Losses  - Early: 1.286, Mid: 4.065, Late: 19.532\n"
     ]
    },
    {
     "name": "stderr",
     "output_type": "stream",
     "text": [
      " 88%|█████████████████████████████████████████████████████████████▌        | 220/250 [46:45<06:13, 12.44s/it]"
     ]
    },
    {
     "name": "stdout",
     "output_type": "stream",
     "text": [
      "\n",
      "Epoch 220\n",
      "Train Losses - Early: 0.126, Mid: 0.614, Late: 4.703\n",
      "Test Losses  - Early: 1.284, Mid: 4.064, Late: 19.630\n"
     ]
    },
    {
     "name": "stderr",
     "output_type": "stream",
     "text": [
      " 92%|████████████████████████████████████████████████████████████████▍     | 230/250 [48:49<04:07, 12.40s/it]"
     ]
    },
    {
     "name": "stdout",
     "output_type": "stream",
     "text": [
      "\n",
      "Epoch 230\n",
      "Train Losses - Early: 0.125, Mid: 0.610, Late: 4.664\n",
      "Test Losses  - Early: 1.286, Mid: 4.040, Late: 19.349\n"
     ]
    },
    {
     "name": "stderr",
     "output_type": "stream",
     "text": [
      " 96%|███████████████████████████████████████████████████████████████████▏  | 240/250 [50:52<02:03, 12.31s/it]"
     ]
    },
    {
     "name": "stdout",
     "output_type": "stream",
     "text": [
      "\n",
      "Epoch 240\n",
      "Train Losses - Early: 0.124, Mid: 0.607, Late: 4.628\n",
      "Test Losses  - Early: 1.288, Mid: 4.045, Late: 19.429\n"
     ]
    },
    {
     "name": "stderr",
     "output_type": "stream",
     "text": [
      "100%|██████████████████████████████████████████████████████████████████████| 250/250 [52:56<00:00, 12.71s/it]"
     ]
    },
    {
     "name": "stdout",
     "output_type": "stream",
     "text": [
      "\n",
      "Epoch 250\n",
      "Train Losses - Early: 0.124, Mid: 0.603, Late: 4.589\n",
      "Test Losses  - Early: 1.287, Mid: 4.024, Late: 19.705\n"
     ]
    },
    {
     "name": "stderr",
     "output_type": "stream",
     "text": [
      "\n"
     ]
    },
    {
     "data": {
      "image/png": "[encoded data removed]",
      "text/plain": [
       "<Figure size 1200x400 with 1 Axes>"
      ]
     },
     "metadata": {},
     "output_type": "display_data"
    }
   ],
   "source": [
    "# We probably need to scale the hidden dimension based on how deep you are\n",
    "def get_hidden(i):\n",
    "    if i < 12:\n",
    "        return 1\n",
    "    else:\n",
    "        return 2\n",
    "\n",
    "class Autoencoder(nn.Module):\n",
    "    def __init__(self, layer_idx, d_in=1024, base_width=256, dropout_rate=0.1):\n",
    "        super().__init__()\n",
    "        # Scale hidden dim based on layer position\n",
    "        # Later layers get progressively larger capacity\n",
    "        hidden_mult = get_hidden(layer_idx)\n",
    "        d_hidden = int(base_width * hidden_mult)\n",
    "        \n",
    "        # Gradual dimension reduction\n",
    "        d_mid = (d_in + d_hidden) // 2\n",
    "        \n",
    "        self.encode = nn.Sequential(\n",
    "            nn.Linear(d_in, d_mid),\n",
    "            nn.LayerNorm(d_mid),\n",
    "            nn.Dropout(dropout_rate),  # After normalization, before activation\n",
    "            nn.GELU(),\n",
    "            nn.Linear(d_mid, d_hidden),\n",
    "            nn.LayerNorm(d_hidden),\n",
    "            nn.Dropout(dropout_rate),  # After normalization, before activation\n",
    "            nn.GELU(),\n",
    "        )\n",
    "        \n",
    "        self.decode = nn.Sequential(\n",
    "            nn.Linear(d_hidden, d_mid),\n",
    "            nn.LayerNorm(d_mid),\n",
    "            nn.Dropout(dropout_rate),  # After normalization, before activation\n",
    "            nn.GELU(),\n",
    "            nn.Linear(d_mid, d_in),\n",
    "            # No dropout before final output layer\n",
    "        )\n",
    "        \n",
    "        # Initialize with smaller weights for stability\n",
    "        for m in self.modules():\n",
    "            if isinstance(m, nn.Linear):\n",
    "                nn.init.xavier_uniform_(m.weight, gain=0.5)\n",
    "                \n",
    "    def forward(self, x):\n",
    "        h = self.encode(x)\n",
    "        return self.decode(h)\n",
    "\n",
    "n_layers = 24\n",
    "# Create layer-specific autoencoders\n",
    "encoders = [Autoencoder(i).cuda() for i in range(n_layers)]\n",
    "\n",
    "# Use different learning rates for different layers\n",
    "lrs = [3e-4 * (1 + i/24) for i in range(n_layers)]  # Higher lr for harder layers. From 3e-4 -> 3e-4*3\n",
    "optimizers = [torch.optim.AdamW(ae.parameters(), lr=lr, weight_decay=0.01) for ae, lr in zip(encoders, lrs)]\n",
    "\n",
    "# Modified training loop with layer-specific logging\n",
    "def train_epoch(models, acts, optimizers, batch_size=64):\n",
    "    indices = torch.randperm(acts.shape[0])\n",
    "    shuffled_acts = acts[indices]\n",
    "    \n",
    "    losses = []\n",
    "    n_batches = shuffled_acts.shape[0] // batch_size\n",
    "    \n",
    "    for batch in range(n_batches):\n",
    "        start_idx = batch * batch_size\n",
    "        end_idx = (batch + 1) * batch_size\n",
    "        \n",
    "        batch_losses = []\n",
    "        for i, (model, optimizer) in enumerate(zip(models, optimizers)):\n",
    "            model.train()\n",
    "            batch_i = shuffled_acts[start_idx:end_idx, i].cuda()\n",
    "            \n",
    "            optimizer.zero_grad()\n",
    "            loss = F.mse_loss(model(batch_i), batch_i)\n",
    "            loss.backward()\n",
    "            optimizer.step()\n",
    "            \n",
    "            batch_losses.append(loss.item())\n",
    "        \n",
    "        losses.append(batch_losses)\n",
    "    \n",
    "    return np.mean(losses, axis=0)\n",
    "\n",
    "# Training with more detailed monitoring\n",
    "early_layers_history = []\n",
    "mid_layers_history = []\n",
    "late_layers_history = []\n",
    "\n",
    "all_acts = generics_kb\n",
    "all_test_acts = torch.concat((first_test, second_test), axis=0)\n",
    "\n",
    "for epoch in tqdm(range(250)):\n",
    "    losses = train_epoch(encoders, all_acts, optimizers)\n",
    "    \n",
    "    # Track different layer groups\n",
    "    early_layers_history.append(np.mean(losses[:8]))\n",
    "    mid_layers_history.append(np.mean(losses[8:16]))\n",
    "    late_layers_history.append(np.mean(losses[16:]))\n",
    "    \n",
    "    if (epoch+1) % 10 == 0:\n",
    "        with torch.no_grad():\n",
    "            [model.eval() for model in encoders]\n",
    "            \n",
    "            # Test losses by layer group\n",
    "            test_preds = [encoders[i](all_test_acts[:, i].cuda()).cpu() for i in range(n_layers)]\n",
    "            test_losses = [F.mse_loss(pred, all_test_acts[:, i]).item() for i, pred in enumerate(test_preds)]\n",
    "            \n",
    "            print(f\"\\nEpoch {epoch+1}\")\n",
    "            print(f\"Train Losses - Early: {early_layers_history[-1]:.3f}, \"\n",
    "                  f\"Mid: {mid_layers_history[-1]:.3f}, \"\n",
    "                  f\"Late: {late_layers_history[-1]:.3f}\")\n",
    "            print(f\"Test Losses  - Early: {np.mean(test_losses[:8]):.3f}, \"\n",
    "                  f\"Mid: {np.mean(test_losses[8:16]):.3f}, \"\n",
    "                  f\"Late: {np.mean(test_losses[16:]):.3f}\")\n",
    "\n",
    "# Plot training curves\n",
    "plt.figure(figsize=(12, 4))\n",
    "plt.plot(early_layers_history, label='Early Layers (0-7)')\n",
    "plt.plot(mid_layers_history, label='Mid Layers (8-15)')\n",
    "plt.plot(late_layers_history, label='Late Layers (16-23)')\n",
    "plt.title('Reconstruction Loss by Layer Group')\n",
    "plt.xlabel('Epoch')\n",
    "plt.ylabel('MSE Loss')\n",
    "plt.legend()\n",
    "plt.yscale('log')\n",
    "plt.grid(True)\n",
    "plt.show()"
   ]
  },
  {
   "cell_type": "code",
   "execution_count": 5,
   "id": "2d589c0c-05f9-48ef-8058-58082132e0b2",
   "metadata": {},
   "outputs": [],
   "source": [
    "class SiameseNetwork(nn.Module):\n",
    "    def __init__(self, mlp):\n",
    "        super().__init__()\n",
    "        self.mlp = mlp\n",
    "\n",
    "    def forward(self, x1, x2):\n",
    "        h1 = self.mlp(x1)\n",
    "        h2 = self.mlp(x2)\n",
    "        return F.cosine_similarity(h1, h2, dim=-1)\n",
    "\n",
    "class LayerwiseSiameseNetworks(nn.Module):\n",
    "    def __init__(self, encoders, n_layers=24, d_in=1024, d_hidden=256):\n",
    "        super().__init__()\n",
    "        self.n_layers = n_layers\n",
    "        self.layer_nets = nn.ModuleList([SiameseNetwork(encoders[i]) for i in range(n_layers)])\n",
    "\n",
    "    def forward(self, x1, x2):\n",
    "        similarities = []\n",
    "        for layer in range(self.n_layers):\n",
    "            net_at_layer = self.layer_nets[layer].cuda()\n",
    "            # Get the activations at the given layer\n",
    "            x1_l = x1[:, layer].cuda()\n",
    "            x2_l = x2[:, layer].cuda()\n",
    "\n",
    "            sim_at_layer = net_at_layer(x1_l, x2_l)\n",
    "            # print(sim_at_layer.shape)\n",
    "            similarities.append(sim_at_layer)\n",
    "\n",
    "        return torch.stack(similarities, dim=-1)\n",
    "\n",
    "class SimilarityLearner(nn.Module):\n",
    "    def __init__(self, encoders, n_layers=24, d_in=1024, d_hidden=256, d_out_hidden=512, dropout=0.1):\n",
    "        super().__init__()\n",
    "        self.layer_nets = LayerwiseSiameseNetworks(encoders, n_layers, d_in, d_hidden)\n",
    "\n",
    "        self.mlp = nn.Sequential(\n",
    "            nn.Linear(n_layers, d_out_hidden),\n",
    "            nn.LayerNorm(d_out_hidden),\n",
    "            nn.Dropout(dropout),  # Add dropout after normalization\n",
    "            nn.GELU(),\n",
    "            nn.Linear(d_out_hidden, d_out_hidden),\n",
    "            nn.LayerNorm(d_out_hidden),\n",
    "            nn.Dropout(dropout),  # Add dropout after normalization\n",
    "            nn.GELU(),\n",
    "            nn.Linear(d_out_hidden, d_out_hidden),\n",
    "            nn.LayerNorm(d_out_hidden),\n",
    "            nn.Dropout(dropout),  # Add dropout after normalization\n",
    "            nn.GELU(),\n",
    "            nn.Linear(d_out_hidden, 1),\n",
    "            nn.Hardsigmoid()\n",
    "        )\n",
    "\n",
    "    def forward(self, x1, x2, training=True):\n",
    "        layerwise_similarities = self.layer_nets(x1, x2)\n",
    "        similarity = self.mlp(layerwise_similarities)\n",
    "        return similarity.squeeze()"
   ]
  },
  {
   "cell_type": "code",
   "execution_count": 6,
   "id": "a063e5c1-9a3b-4e26-a27a-19b54a6c1adf",
   "metadata": {},
   "outputs": [
    {
     "name": "stderr",
     "output_type": "stream",
     "text": [
      "  7%|████▋                                                                  | 10/150 [00:18<04:21,  1.87s/it]"
     ]
    },
    {
     "name": "stdout",
     "output_type": "stream",
     "text": [
      "Epoch 10\n",
      "Loss: -4.5077521638\n",
      "Train correlation: 94.924\n",
      "Test correlation: 73.504\n",
      "\n"
     ]
    },
    {
     "name": "stderr",
     "output_type": "stream",
     "text": [
      " 13%|█████████▍                                                             | 20/150 [00:38<04:20,  2.01s/it]"
     ]
    },
    {
     "name": "stdout",
     "output_type": "stream",
     "text": [
      "Epoch 20\n",
      "Loss: -5.2842579755\n",
      "Train correlation: 97.704\n",
      "Test correlation: 75.241\n",
      "\n"
     ]
    },
    {
     "name": "stderr",
     "output_type": "stream",
     "text": [
      " 20%|██████████████▏                                                        | 30/150 [00:57<04:00,  2.01s/it]"
     ]
    },
    {
     "name": "stdout",
     "output_type": "stream",
     "text": [
      "Epoch 30\n",
      "Loss: -5.7758141648\n",
      "Train correlation: 98.609\n",
      "Test correlation: 76.025\n",
      "\n"
     ]
    },
    {
     "name": "stderr",
     "output_type": "stream",
     "text": [
      " 27%|██████████████████▉                                                    | 40/150 [01:16<03:39,  2.00s/it]"
     ]
    },
    {
     "name": "stdout",
     "output_type": "stream",
     "text": [
      "Epoch 40\n",
      "Loss: -6.0619459152\n",
      "Train correlation: 98.667\n",
      "Test correlation: 76.410\n",
      "\n"
     ]
    },
    {
     "name": "stderr",
     "output_type": "stream",
     "text": [
      " 33%|███████████████████████▋                                               | 50/150 [01:36<03:20,  2.01s/it]"
     ]
    },
    {
     "name": "stdout",
     "output_type": "stream",
     "text": [
      "Epoch 50\n",
      "Loss: -6.2665145072\n",
      "Train correlation: 98.908\n",
      "Test correlation: 76.170\n",
      "\n"
     ]
    },
    {
     "name": "stderr",
     "output_type": "stream",
     "text": [
      " 40%|████████████████████████████▍                                          | 60/150 [01:56<02:59,  2.00s/it]"
     ]
    },
    {
     "name": "stdout",
     "output_type": "stream",
     "text": [
      "Epoch 60\n",
      "Loss: -6.5109481161\n",
      "Train correlation: 98.882\n",
      "Test correlation: 76.488\n",
      "\n"
     ]
    },
    {
     "name": "stderr",
     "output_type": "stream",
     "text": [
      " 47%|█████████████████████████████████▏                                     | 70/150 [02:15<02:42,  2.03s/it]"
     ]
    },
    {
     "name": "stdout",
     "output_type": "stream",
     "text": [
      "Epoch 70\n",
      "Loss: -6.6273105795\n",
      "Train correlation: 99.381\n",
      "Test correlation: 76.816\n",
      "\n"
     ]
    },
    {
     "name": "stderr",
     "output_type": "stream",
     "text": [
      " 53%|█████████████████████████████████████▊                                 | 80/150 [02:35<02:21,  2.02s/it]"
     ]
    },
    {
     "name": "stdout",
     "output_type": "stream",
     "text": [
      "Epoch 80\n",
      "Loss: -6.8305018707\n",
      "Train correlation: 99.099\n",
      "Test correlation: 76.309\n",
      "\n"
     ]
    },
    {
     "name": "stderr",
     "output_type": "stream",
     "text": [
      " 60%|██████████████████████████████████████████▌                            | 90/150 [02:55<02:01,  2.02s/it]"
     ]
    },
    {
     "name": "stdout",
     "output_type": "stream",
     "text": [
      "Epoch 90\n",
      "Loss: -7.0095370574\n",
      "Train correlation: 99.191\n",
      "Test correlation: 76.511\n",
      "\n"
     ]
    },
    {
     "name": "stderr",
     "output_type": "stream",
     "text": [
      " 67%|██████████████████████████████████████████████▋                       | 100/150 [03:14<01:39,  2.00s/it]"
     ]
    },
    {
     "name": "stdout",
     "output_type": "stream",
     "text": [
      "Epoch 100\n",
      "Loss: -7.0299088305\n",
      "Train correlation: 99.326\n",
      "Test correlation: 76.863\n",
      "\n"
     ]
    },
    {
     "name": "stderr",
     "output_type": "stream",
     "text": [
      " 73%|███████████████████████████████████████████████████▎                  | 110/150 [03:33<01:20,  2.00s/it]"
     ]
    },
    {
     "name": "stdout",
     "output_type": "stream",
     "text": [
      "Epoch 110\n",
      "Loss: -7.1466183337\n",
      "Train correlation: 99.449\n",
      "Test correlation: 76.682\n",
      "\n"
     ]
    },
    {
     "name": "stderr",
     "output_type": "stream",
     "text": [
      " 80%|████████████████████████████████████████████████████████              | 120/150 [03:53<01:00,  2.02s/it]"
     ]
    },
    {
     "name": "stdout",
     "output_type": "stream",
     "text": [
      "Epoch 120\n",
      "Loss: -7.2881236618\n",
      "Train correlation: 99.437\n",
      "Test correlation: 76.212\n",
      "\n"
     ]
    },
    {
     "name": "stderr",
     "output_type": "stream",
     "text": [
      " 87%|████████████████████████████████████████████████████████████▋         | 130/150 [04:13<00:40,  2.02s/it]"
     ]
    },
    {
     "name": "stdout",
     "output_type": "stream",
     "text": [
      "Epoch 130\n",
      "Loss: -7.2909176458\n",
      "Train correlation: 99.367\n",
      "Test correlation: 76.086\n",
      "\n"
     ]
    },
    {
     "name": "stderr",
     "output_type": "stream",
     "text": [
      " 93%|█████████████████████████████████████████████████████████████████▎    | 140/150 [04:33<00:20,  2.03s/it]"
     ]
    },
    {
     "name": "stdout",
     "output_type": "stream",
     "text": [
      "Epoch 140\n",
      "Loss: -7.4097536260\n",
      "Train correlation: 99.282\n",
      "Test correlation: 76.098\n",
      "\n"
     ]
    },
    {
     "name": "stderr",
     "output_type": "stream",
     "text": [
      "100%|██████████████████████████████████████████████████████████████████████| 150/150 [04:52<00:00,  1.95s/it]"
     ]
    },
    {
     "name": "stdout",
     "output_type": "stream",
     "text": [
      "Epoch 150\n",
      "Loss: -7.4662285935\n",
      "Train correlation: 99.601\n",
      "Test correlation: 76.001\n",
      "\n"
     ]
    },
    {
     "name": "stderr",
     "output_type": "stream",
     "text": [
      "\n"
     ]
    }
   ],
   "source": [
    "torch.manual_seed(seed)\n",
    "random.seed(seed)\n",
    "np.random.seed(seed)\n",
    "\n",
    "from copy import deepcopy\n",
    "cloned_encoders = [deepcopy(e).encode for e in encoders]\n",
    "\n",
    "similarity_learner = SimilarityLearner(cloned_encoders, d_hidden=512).to('cuda:0')\n",
    "optimizer = torch.optim.Adam(similarity_learner.parameters(), lr=3e-4)\n",
    "\n",
    "def train_epoch(model, first_acts, second_acts, scores, optimizer, batch_size=128):\n",
    "    indices = torch.randperm(first_acts.shape[0])\n",
    "    shuffled_first = first_acts[indices]\n",
    "    shuffled_second = second_acts[indices]\n",
    "    shuffled_scores = scores[indices]\n",
    "\n",
    "    model.train()\n",
    "    total_loss = 0\n",
    "    n_batches = first_acts.shape[0] // batch_size\n",
    "    \n",
    "    for batch in range(n_batches):\n",
    "        start_idx = batch * batch_size\n",
    "        end_idx = (batch + 1) * batch_size\n",
    "        \n",
    "        x1_batch = shuffled_first[start_idx:end_idx].cuda()\n",
    "        x2_batch = shuffled_second[start_idx:end_idx].cuda()\n",
    "        scores_batch = shuffled_scores[start_idx:end_idx].cuda()\n",
    "        \n",
    "        optimizer.zero_grad()\n",
    "        \n",
    "        sims = model(x1_batch, x2_batch)\n",
    "\n",
    "        resids = sims - scores_batch\n",
    "        loss = torch.log((sims - scores_batch).var())\n",
    "        loss.backward()\n",
    "        optimizer.step()\n",
    "        \n",
    "        total_loss += loss.item()\n",
    "    \n",
    "    return total_loss / n_batches\n",
    "\n",
    "best_test_corr = 0\n",
    "best_model = None\n",
    "\n",
    "for epoch in tqdm(range(150)):\n",
    "    # Training\n",
    "    # loss = train_epoch(similarity_learner, first_train_fake, second_train_fake, train_scores_fake, optimizer)\n",
    "    loss = train_epoch(similarity_learner, first_train, second_train, train_scores, optimizer)\n",
    "    \n",
    "    # Evaluation\n",
    "    similarity_learner.eval()\n",
    "    with torch.no_grad():\n",
    "        # Print progress every 10 epochs\n",
    "        if (epoch + 1) % 10 == 0:\n",
    "            # Get training correlations\n",
    "            train_preds = similarity_learner(first_train.cuda(), second_train.cuda(), training=False)\n",
    "            train_corr = torch.corrcoef(torch.stack([train_preds.cpu(), train_scores]))[0,1]\n",
    "            \n",
    "            # Get test correlations\n",
    "            test_preds = similarity_learner(first_test.cuda(), second_test.cuda(), training=False)\n",
    "            test_corr = torch.corrcoef(torch.stack([test_preds.cpu(), test_scores]))[0,1]\n",
    "\n",
    "            if test_corr > best_test_corr:\n",
    "                best_test_corr = test_corr\n",
    "                best_model = deepcopy(similarity_learner)\n",
    "\n",
    "            print(f\"Epoch {epoch+1}\")\n",
    "            print(f\"Loss: {loss:.10f}\")\n",
    "            print(f\"Train correlation: {train_corr*100:.3f}\")\n",
    "            print(f\"Test correlation: {test_corr*100:.3f}\\n\")"
   ]
  },
  {
   "cell_type": "code",
   "execution_count": 7,
   "id": "f260b692-7a26-42cd-8782-8c8ab09e0f07",
   "metadata": {},
   "outputs": [
    {
     "data": {
      "text/plain": [
       "'This model has 24606209 parameters!'"
      ]
     },
     "execution_count": 7,
     "metadata": {},
     "output_type": "execute_result"
    }
   ],
   "source": [
    "param_count = sum([w.numel() for w in similarity_learner.parameters()])\n",
    "f\"This model has {param_count} parameters!\""
   ]
  },
  {
   "cell_type": "code",
   "execution_count": 8,
   "id": "9c337f15-3de8-4690-8e92-d9cb945fb705",
   "metadata": {},
   "outputs": [
    {
     "name": "stdout",
     "output_type": "stream",
     "text": [
      "tensor(0.7686, grad_fn=<SelectBackward0>)\n",
      "SignificanceResult(statistic=0.7530396159538115, pvalue=1.3484450421664223e-252)\n"
     ]
    }
   ],
   "source": [
    "test_preds = best_model(first_test.cuda(), second_test.cuda(), training=False)\n",
    "test_corr = torch.corrcoef(torch.stack([test_preds.cpu(), test_scores]))[0,1]\n",
    "print(test_corr)\n",
    "\n",
    "from scipy.stats import spearmanr\n",
    "print(spearmanr(test_preds.detach().cpu(), test_scores))"
   ]
  },
  {
   "cell_type": "markdown",
   "id": "c6d1e4b7-75c3-41a7-a2b9-8e6eaba415c0",
   "metadata": {},
   "source": [
    "## Residual histogram and qq plot"
   ]
  },
  {
   "cell_type": "code",
   "execution_count": 9,
   "id": "981c829d-8902-4695-8889-d2d04c49e5b0",
   "metadata": {},
   "outputs": [
    {
     "data": {
      "text/plain": [
       "(0.061434872, 0.19719057)"
      ]
     },
     "execution_count": 9,
     "metadata": {},
     "output_type": "execute_result"
    }
   ],
   "source": [
    "residuals = (test_preds.cpu().detach().numpy() - test_scores.numpy())\n",
    "residuals.mean(), residuals.std()"
   ]
  },
  {
   "cell_type": "code",
   "execution_count": 10,
   "id": "f8cb851f-b2ab-457e-b645-e885c5d087b5",
   "metadata": {},
   "outputs": [
    {
     "data": {
      "image/png": "[encoded data removed]",
      "text/plain": [
       "<Figure size 1000x400 with 2 Axes>"
      ]
     },
     "metadata": {},
     "output_type": "display_data"
    },
    {
     "name": "stdout",
     "output_type": "stream",
     "text": [
      "ShapiroResult(statistic=0.9940272538881987, pvalue=2.4393299409365893e-05)\n"
     ]
    }
   ],
   "source": [
    "import matplotlib.pyplot as plt\n",
    "import scipy.stats as stats\n",
    "\n",
    "def plot_qq(residuals):\n",
    "   fig = plt.figure(figsize=(10, 4))\n",
    "   \n",
    "   # Left plot: Histogram of residuals\n",
    "   plt.subplot(121)\n",
    "   plt.hist(residuals, bins=30, density=True, range=[-1,1])\n",
    "   plt.title('Distribution of Residuals')\n",
    "   \n",
    "   # Right plot: Q-Q plot\n",
    "   plt.subplot(122)\n",
    "   stats.probplot(residuals, dist=\"norm\", plot=plt)\n",
    "   plt.title('Q-Q Plot')\n",
    "   \n",
    "   plt.tight_layout()\n",
    "   plt.show()\n",
    "\n",
    "# Usage:\n",
    "plot_qq(residuals)\n",
    "print(stats.shapiro(residuals))"
   ]
  },
  {
   "cell_type": "markdown",
   "id": "5afc8976-28c4-47c0-bbe7-02fcd6e5d199",
   "metadata": {},
   "source": [
    "The Shapiro-Wilk test results (p < 0.05) lead us to reject the null hypothesis of normality, indicating evidence of departure from a normal distribution"
   ]
  },
  {
   "cell_type": "code",
   "execution_count": 11,
   "id": "c4dc3e19-2b7a-460f-8bb7-38364cc2668f",
   "metadata": {},
   "outputs": [],
   "source": [
    "worst_overdone = np.absolute(residuals).argsort()[-25:]"
   ]
  },
  {
   "cell_type": "code",
   "execution_count": 12,
   "id": "ee8f9d53-e111-46ba-b3cd-d084278db832",
   "metadata": {},
   "outputs": [
    {
     "data": {
      "text/plain": [
       "[('MIER ups 2012 growth forecast to 4.2pc',\n",
       "  'CMIE cuts 2012-13 growth forecast to 6.3%',\n",
       "  tensor(0.1600),\n",
       "  tensor(0.6819, device='cuda:0', grad_fn=<UnbindBackward0>)),\n",
       " ('A brown dog is jumping.',\n",
       "  'A brown dog is jumping',\n",
       "  tensor(1.),\n",
       "  tensor(0.4735, device='cuda:0', grad_fn=<UnbindBackward0>)),\n",
       " ('You just have to base your answer on what you do know, which is what you want.',\n",
       "  'You may want it, but the process given to you is what you have to work within.',\n",
       "  tensor(0.),\n",
       "  tensor(0.5331, device='cuda:0', grad_fn=<UnbindBackward0>)),\n",
       " ('Yes, there is a reason for it.',\n",
       "  'Yes, that is exactly what it means.',\n",
       "  tensor(0.2000),\n",
       "  tensor(0.7440, device='cuda:0', grad_fn=<UnbindBackward0>)),\n",
       " ('Some of what you can do:',\n",
       "  'Not much you can do besides:',\n",
       "  tensor(0.2000),\n",
       "  tensor(0.7522, device='cuda:0', grad_fn=<UnbindBackward0>)),\n",
       " ('Romney Wins Nevada Caucus',\n",
       "  'Romney shifts focus to Santorum ahead caucuses',\n",
       "  tensor(0.2000),\n",
       "  tensor(0.7522, device='cuda:0', grad_fn=<UnbindBackward0>)),\n",
       " ('Hawaii passes gay marriage bill',\n",
       "  'US Senate passes gay workers bill',\n",
       "  tensor(0.2000),\n",
       "  tensor(0.7598, device='cuda:0', grad_fn=<UnbindBackward0>)),\n",
       " ('You will want to clean the area first.',\n",
       "  'You will also want to remove the seeds.',\n",
       "  tensor(0.),\n",
       "  tensor(0.5601, device='cuda:0', grad_fn=<UnbindBackward0>)),\n",
       " (\"It depends on how it's used.\",\n",
       "  \"It depends on how long it's been out.\",\n",
       "  tensor(0.2000),\n",
       "  tensor(0.7606, device='cuda:0', grad_fn=<UnbindBackward0>)),\n",
       " ('Two French journalists killed after Mali kidnapping',\n",
       "  'Two French journalists abducted, killed in Northern Mali',\n",
       "  tensor(0.9200),\n",
       "  tensor(0.3578, device='cuda:0', grad_fn=<UnbindBackward0>)),\n",
       " ('No it does not affect your ratings.',\n",
       "  'No it is not.',\n",
       "  tensor(0.),\n",
       "  tensor(0.5860, device='cuda:0', grad_fn=<UnbindBackward0>)),\n",
       " (\"You need to read a lot to know what you like and what you don't.\",\n",
       "  'You should tell a good story and sometimes you have to tweak reality/history to do so.',\n",
       "  tensor(0.),\n",
       "  tensor(0.5877, device='cuda:0', grad_fn=<UnbindBackward0>)),\n",
       " ('The answer to both questions is: Yes.',\n",
       "  'To directly answer the two questions in your title.',\n",
       "  tensor(0.),\n",
       "  tensor(0.5908, device='cuda:0', grad_fn=<UnbindBackward0>)),\n",
       " ('There are a few things I think you should do.',\n",
       "  \"There are a few things I don't understand:\",\n",
       "  tensor(0.),\n",
       "  tensor(0.5928, device='cuda:0', grad_fn=<UnbindBackward0>)),\n",
       " ('KL shares higher at mid-afternoon',\n",
       "  'KL shares lower at mid-morning',\n",
       "  tensor(0.3200),\n",
       "  tensor(0.9225, device='cuda:0', grad_fn=<UnbindBackward0>)),\n",
       " ('CIA chief visits Israel for Syria talks',\n",
       "  'CIA chief in Israel to discuss situation in Syria',\n",
       "  tensor(1.),\n",
       "  tensor(0.3860, device='cuda:0', grad_fn=<UnbindBackward0>)),\n",
       " (\"if you don't want to derail the meeting, but the key is to speak up.\",\n",
       "  'The key thing you need to do in this meeting is listen.',\n",
       "  tensor(0.2000),\n",
       "  tensor(0.8212, device='cuda:0', grad_fn=<UnbindBackward0>)),\n",
       " ('It is more deciding what you should do and what you should get others to do.',\n",
       "  \"Point is: know what you want and don't be afraid to ask for it.\",\n",
       "  tensor(0.),\n",
       "  tensor(0.6485, device='cuda:0', grad_fn=<UnbindBackward0>)),\n",
       " ('Funeral of Ian Paisley to take place in Belfast',\n",
       "  'Funeral of MH17 victim Liam Sweeney takes place in Newcastle',\n",
       "  tensor(0.),\n",
       "  tensor(0.6536, device='cuda:0', grad_fn=<UnbindBackward0>)),\n",
       " ('A woman is talking to her pet bunny as she fondles it.',\n",
       "  'A woman walks her dog onto astro turf.',\n",
       "  tensor(0.0800),\n",
       "  tensor(0.7347, device='cuda:0', grad_fn=<UnbindBackward0>)),\n",
       " (\"Not 'hiding the ball' on Russia: Obama\",\n",
       "  \"Obama says he's not 'hiding the ball' on Russia\",\n",
       "  tensor(0.8800),\n",
       "  tensor(0.2084, device='cuda:0', grad_fn=<UnbindBackward0>)),\n",
       " (\"Taiwan's economy grows 2.27% in April-June quarter\",\n",
       "  \"China's economic growth rebounds to 7.8% in latest quarter\",\n",
       "  tensor(0.2000),\n",
       "  tensor(0.8955, device='cuda:0', grad_fn=<UnbindBackward0>)),\n",
       " ('A man is laughing with a woman',\n",
       "  'A man and a woman laughing.',\n",
       "  tensor(0.9600),\n",
       "  tensor(0.2572, device='cuda:0', grad_fn=<UnbindBackward0>)),\n",
       " ('Supreme Court to Hear Voting Rights Act Case',\n",
       "  'Supreme Court to hear corporate human rights case',\n",
       "  tensor(0.2800),\n",
       "  tensor(0.9893, device='cuda:0', grad_fn=<UnbindBackward0>)),\n",
       " (\"Hassan Rouhani wins Iran's presidential election\",\n",
       "  'Maduro wins Venezuelan presidential vote',\n",
       "  tensor(0.0400),\n",
       "  tensor(0.8193, device='cuda:0', grad_fn=<UnbindBackward0>))]"
      ]
     },
     "execution_count": 12,
     "metadata": {},
     "output_type": "execute_result"
    }
   ],
   "source": [
    "list(zip(test_set.select(worst_overdone)['sentence1'], test_set.select(worst_overdone)['sentence2'], test_scores[worst_overdone], test_preds[worst_overdone]))"
   ]
  }
 ],
 "metadata": {
  "kernelspec": {
   "display_name": "venv",
   "language": "python",
   "name": "venv"
  },
  "language_info": {
   "codemirror_mode": {
    "name": "ipython",
    "version": 3
   },
   "file_extension": ".py",
   "mimetype": "text/x-python",
   "name": "python",
   "nbconvert_exporter": "python",
   "pygments_lexer": "ipython3",
   "version": "3.11.9"
  }
 },
 "nbformat": 4,
 "nbformat_minor": 5
}
