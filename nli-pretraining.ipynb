{
 "cells": [
  {
   "cell_type": "markdown",
   "id": "ea55baec-0cab-4dbc-8958-7c43c287f470",
   "metadata": {},
   "source": [
    "# SNLI Pretraining\n",
    "Seeing if doing Sentence-Bert style pretraining will help our performance"
   ]
  },
  {
   "cell_type": "code",
   "execution_count": 1,
   "id": "4219dad1-3960-4a7c-a817-8cbae0a95aae",
   "metadata": {},
   "outputs": [],
   "source": [
    "import transformer_lens\n",
    "from datasets import load_dataset\n",
    "import torch\n",
    "import matplotlib.pyplot as plt\n",
    "import pandas as pd\n",
    "import torch.nn as nn\n",
    "import numpy as np\n",
    "\n",
    "import torch.nn.functional as F\n",
    "\n",
    "from tqdm import tqdm\n",
    "\n",
    "import random"
   ]
  },
  {
   "cell_type": "code",
   "execution_count": 2,
   "id": "6df28cd2-1819-4efa-a7dc-7170952551e4",
   "metadata": {},
   "outputs": [],
   "source": [
    "seed = 42\n",
    "torch.manual_seed(seed)\n",
    "random.seed(seed)\n",
    "np.random.seed(seed)"
   ]
  },
  {
   "cell_type": "code",
   "execution_count": 3,
   "id": "5f3a0b97-4219-4ed2-b83c-568c7e6d77aa",
   "metadata": {},
   "outputs": [],
   "source": [
    "# Load datasets\n",
    "train_set = load_dataset(\"sentence-transformers/stsb\", split=\"train\")\n",
    "val_set   = load_dataset(\"sentence-transformers/stsb\", split=\"validation\")\n",
    "test_set  = load_dataset(\"sentence-transformers/stsb\", split=\"test\")\n",
    "\n",
    "first_train  = torch.load('gpt2_medium_train_acts_1.npy')\n",
    "second_train = torch.load('gpt2_medium_train_acts_2.npy')\n",
    "\n",
    "first_test = torch.load('gpt2_medium_test_acts_1.npy')\n",
    "second_test = torch.load('gpt2_medium_test_acts_2.npy')\n",
    "\n",
    "train_scores = torch.Tensor(train_set['score'])\n",
    "test_scores = torch.Tensor(test_set['score'])\n",
    "\n",
    "premise_acts = torch.load(\"premise_acts.pt\")\n",
    "hypothesis_acts = torch.load(\"hypothesis_acts.pt\")\n",
    "labels = torch.Tensor(torch.load(\"labels.pt\")).long()"
   ]
  },
  {
   "cell_type": "code",
   "execution_count": 4,
   "id": "36c374e0-6372-4d0e-8d1b-b977e97a62e3",
   "metadata": {},
   "outputs": [],
   "source": [
    "dataset = list(zip(premise_acts, hypothesis_acts, labels))"
   ]
  },
  {
   "cell_type": "code",
   "execution_count": 9,
   "id": "2971baf3-2b6e-405c-9f9b-13f7b7f0d2b6",
   "metadata": {},
   "outputs": [
    {
     "name": "stderr",
     "output_type": "stream",
     "text": [
      "  2%|█▍                                                                       | 1/50 [00:12<10:35, 12.97s/it]"
     ]
    },
    {
     "name": "stdout",
     "output_type": "stream",
     "text": [
      "Epoch 0, Average Loss: 1.0493\n"
     ]
    },
    {
     "name": "stderr",
     "output_type": "stream",
     "text": [
      " 22%|███████████████▊                                                        | 11/50 [02:17<08:05, 12.45s/it]"
     ]
    },
    {
     "name": "stdout",
     "output_type": "stream",
     "text": [
      "Epoch 10, Average Loss: 0.6458\n"
     ]
    },
    {
     "name": "stderr",
     "output_type": "stream",
     "text": [
      " 42%|██████████████████████████████▏                                         | 21/50 [04:21<05:58, 12.37s/it]"
     ]
    },
    {
     "name": "stdout",
     "output_type": "stream",
     "text": [
      "Epoch 20, Average Loss: 0.4103\n"
     ]
    },
    {
     "name": "stderr",
     "output_type": "stream",
     "text": [
      " 62%|████████████████████████████████████████████▋                           | 31/50 [06:25<03:57, 12.48s/it]"
     ]
    },
    {
     "name": "stdout",
     "output_type": "stream",
     "text": [
      "Epoch 30, Average Loss: 0.2879\n"
     ]
    },
    {
     "name": "stderr",
     "output_type": "stream",
     "text": [
      " 82%|███████████████████████████████████████████████████████████             | 41/50 [08:30<01:52, 12.47s/it]"
     ]
    },
    {
     "name": "stdout",
     "output_type": "stream",
     "text": [
      "Epoch 40, Average Loss: 0.2214\n"
     ]
    },
    {
     "name": "stderr",
     "output_type": "stream",
     "text": [
      "100%|████████████████████████████████████████████████████████████████████████| 50/50 [10:21<00:00, 12.43s/it]\n"
     ]
    }
   ],
   "source": [
    "# We probably need to scale the hidden dimension based on how deep you are\n",
    "def get_hidden(i):\n",
    "    if i < 12:\n",
    "        return 1\n",
    "    else:\n",
    "        return 2\n",
    "\n",
    "class NLIModel(nn.Module):\n",
    "    def __init__(self, layer_idx, d_in=1024, base_width=256, dropout_rate=0.1):\n",
    "        super().__init__()\n",
    "        # Scale hidden dim based on layer position\n",
    "        # Later layers get progressively larger capacity\n",
    "        d_hidden = d_in//2\n",
    "        \n",
    "        self.encode = nn.Sequential(\n",
    "            nn.Linear(d_in, d_in),\n",
    "            nn.LayerNorm(d_in),\n",
    "            nn.Dropout(dropout_rate),  # After normalization, before activation\n",
    "            nn.GELU(),\n",
    "            nn.Linear(d_in, d_in),\n",
    "            nn.LayerNorm(d_in),\n",
    "            nn.Dropout(dropout_rate),  # After normalization, before activation\n",
    "            nn.GELU(),\n",
    "            nn.Linear(d_in, d_hidden),\n",
    "            nn.LayerNorm(d_hidden),\n",
    "            nn.Dropout(dropout_rate),  # After normalization, before activation\n",
    "            nn.GELU(),\n",
    "        )\n",
    "        \n",
    "        self.classify = nn.Sequential(\n",
    "            nn.Linear(d_hidden*3, d_hidden*3),\n",
    "            nn.GELU(),\n",
    "            nn.Linear(d_hidden*3, 3)\n",
    "        )\n",
    "        \n",
    "        # Initialize with smaller weights for stability\n",
    "        for m in self.modules():\n",
    "            if isinstance(m, nn.Linear):\n",
    "                nn.init.xavier_uniform_(m.weight, gain=0.5)\n",
    "                \n",
    "    def forward(self, x, y):\n",
    "        x_embed = self.encode(x)\n",
    "        y_embed = self.encode(y)\n",
    "\n",
    "        total = torch.cat([x_embed, y_embed, x_embed - y_embed], dim=-1)\n",
    "        return self.classify(total)\n",
    "\n",
    "def train_epoch(models, premises, hypotheses, labels, optimizers, batch_size=64):\n",
    "    indices = torch.randperm(premises.shape[0])\n",
    "\n",
    "    shuffled_premises = premises[indices]\n",
    "    shuffled_hypotheses = hypotheses[indices]\n",
    "    shuffled_labels = labels[indices]\n",
    "    \n",
    "    losses = []\n",
    "    n_batches = shuffled_premises.shape[0] // batch_size\n",
    "    \n",
    "    for batch in range(n_batches):\n",
    "        start_idx = batch * batch_size\n",
    "        end_idx = (batch + 1) * batch_size\n",
    "        \n",
    "        batch_losses = []\n",
    "        for i, (model, optimizer) in enumerate(zip(models, optimizers)):\n",
    "            model.train()\n",
    "            premise_batch = shuffled_premises[start_idx:end_idx, i].cuda()\n",
    "            hypothesis_batch = shuffled_hypotheses[start_idx:end_idx, i].cuda()\n",
    "            label_batch = shuffled_labels[start_idx:end_idx].cuda()\n",
    "            \n",
    "            optimizer.zero_grad()\n",
    "            \n",
    "            # Forward pass\n",
    "            logits = model(premise_batch, hypothesis_batch)\n",
    "            loss = F.cross_entropy(logits, label_batch)\n",
    "            \n",
    "            # Backward pass and optimization\n",
    "            loss.backward()\n",
    "            optimizer.step()\n",
    "            \n",
    "            batch_losses.append(loss.item())\n",
    "        \n",
    "        losses.append(batch_losses)\n",
    "    \n",
    "    return np.mean(losses, axis=0)\n",
    "\n",
    "# Setup models and optimizers\n",
    "n_layers = 24\n",
    "nli_models = [NLIModel(i).cuda() for i in range(n_layers)]\n",
    "\n",
    "# Learning rates increase linearly from 3e-4 to 9e-4\n",
    "lrs = [3e-4 * (1 + i/24) for i in range(n_layers)]\n",
    "optimizers = [torch.optim.AdamW(model.parameters(), lr=lr, weight_decay=0.01) \n",
    "              for model, lr in zip(nli_models, lrs)]\n",
    "\n",
    "# Training loop\n",
    "n_epochs = 50\n",
    "best_losses = float('inf') * np.ones(n_layers)\n",
    "patience = 10\n",
    "patience_counter = 0\n",
    "\n",
    "for epoch in tqdm(range(n_epochs)):\n",
    "    # Train\n",
    "    train_losses = train_epoch(nli_models, premise_acts, hypothesis_acts, labels, \n",
    "                             optimizers, batch_size=64)\n",
    "    \n",
    "    # Early stopping check\n",
    "    if np.mean(train_losses) < np.mean(best_losses):\n",
    "        best_losses = train_losses\n",
    "        patience_counter = 0\n",
    "    else:\n",
    "        patience_counter += 1\n",
    "        \n",
    "    if patience_counter >= patience:\n",
    "        print(f\"Early stopping at epoch {epoch}\")\n",
    "        break\n",
    "        \n",
    "    if epoch % 10 == 0:\n",
    "        print(f\"Epoch {epoch}, Average Loss: {np.mean(train_losses):.4f}\")"
   ]
  },
  {
   "cell_type": "code",
   "execution_count": 10,
   "id": "3d974cfa-da4a-4dae-bf82-b724f9184aa3",
   "metadata": {},
   "outputs": [
    {
     "data": {
      "text/plain": [
       "[<matplotlib.lines.Line2D at 0x7fc2e02dda90>]"
      ]
     },
     "execution_count": 10,
     "metadata": {},
     "output_type": "execute_result"
    },
    {
     "data": {
      "image/png": "[encoded data removed]",
      "text/plain": [
       "<Figure size 640x480 with 1 Axes>"
      ]
     },
     "metadata": {},
     "output_type": "display_data"
    }
   ],
   "source": [
    "from copy import deepcopy\n",
    "from torch.nn.functional import cosine_similarity\n",
    "\n",
    "encoders = [deepcopy(ae.encode).cuda() for ae in nli_models]\n",
    "[m.eval() for m in encoders]\n",
    "\n",
    "# Do a forward pass on each encoder for each pair of training sentences and collect the cosine distances\n",
    "batch_size = 32\n",
    "n_batches = first_test.shape[0] // batch_size\n",
    "\n",
    "corrs = []\n",
    "for l in range(n_layers):\n",
    "    distances = []\n",
    "    for i in range(n_batches+1):\n",
    "        f = first_test[i*batch_size: (i+1)*batch_size, l,:]\n",
    "        s = second_test[i*batch_size: (i+1)*batch_size, l, :]\n",
    "    \n",
    "        f_embed = encoders[l](f.cuda())\n",
    "        s_embed = encoders[l](s.cuda())\n",
    "    \n",
    "        sims = cosine_similarity(f_embed, s_embed, dim=-1)\n",
    "    \n",
    "        distances.append(sims)\n",
    "\n",
    "    corr = torch.corrcoef(torch.stack([torch.cat(distances).cpu(), test_scores]))[1][0]\n",
    "    corrs.append(corr.item())\n",
    "\n",
    "plt.title(\"Autoencoder distance correlation by layer\")\n",
    "plt.plot(corrs)"
   ]
  },
  {
   "cell_type": "code",
   "execution_count": 11,
   "id": "2d589c0c-05f9-48ef-8058-58082132e0b2",
   "metadata": {},
   "outputs": [],
   "source": [
    "class SiameseNetwork(nn.Module):\n",
    "    def __init__(self, mlp):\n",
    "        super().__init__()\n",
    "        self.mlp = mlp\n",
    "\n",
    "    def forward(self, x1, x2):\n",
    "        h1 = self.mlp(x1)\n",
    "        h2 = self.mlp(x2)\n",
    "        return F.cosine_similarity(h1, h2, dim=-1)\n",
    "\n",
    "class LayerwiseSiameseNetworks(nn.Module):\n",
    "    def __init__(self, encoders, n_layers=24, d_in=1024, d_hidden=256):\n",
    "        super().__init__()\n",
    "        self.n_layers = n_layers\n",
    "        self.layer_nets = nn.ModuleList([SiameseNetwork(encoders[i]) for i in range(n_layers)])\n",
    "\n",
    "    def forward(self, x1, x2):\n",
    "        similarities = []\n",
    "        for layer in range(self.n_layers):\n",
    "            net_at_layer = self.layer_nets[layer].cuda()\n",
    "            # Get the activations at the given layer\n",
    "            x1_l = x1[:, layer].cuda()\n",
    "            x2_l = x2[:, layer].cuda()\n",
    "\n",
    "            sim_at_layer = net_at_layer(x1_l, x2_l)\n",
    "            # print(sim_at_layer.shape)\n",
    "            similarities.append(sim_at_layer)\n",
    "\n",
    "        return torch.stack(similarities, dim=-1)\n",
    "\n",
    "class SimilarityLearner(nn.Module):\n",
    "    def __init__(self, encoders, n_layers=24, d_in=1024, d_hidden=256, d_out_hidden=512, dropout=0.1):\n",
    "        super().__init__()\n",
    "        self.layer_nets = LayerwiseSiameseNetworks(encoders, n_layers, d_in, d_hidden)\n",
    "\n",
    "        self.mlp = nn.Sequential(\n",
    "            nn.Linear(n_layers, d_out_hidden),\n",
    "            nn.LayerNorm(d_out_hidden),\n",
    "            nn.Dropout(dropout),  # Add dropout after normalization\n",
    "            nn.GELU(),\n",
    "            nn.Linear(d_out_hidden, d_out_hidden),\n",
    "            nn.LayerNorm(d_out_hidden),\n",
    "            nn.Dropout(dropout),  # Add dropout after normalization\n",
    "            nn.GELU(),\n",
    "            nn.Linear(d_out_hidden, d_out_hidden),\n",
    "            nn.LayerNorm(d_out_hidden),\n",
    "            nn.Dropout(dropout),  # Add dropout after normalization\n",
    "            nn.GELU(),\n",
    "            nn.Linear(d_out_hidden, 1),\n",
    "            nn.Hardsigmoid()\n",
    "        )\n",
    "\n",
    "    def forward(self, x1, x2, training=True):\n",
    "        layerwise_similarities = self.layer_nets(x1, x2)\n",
    "        similarity = self.mlp(layerwise_similarities)\n",
    "        return similarity.squeeze()"
   ]
  },
  {
   "cell_type": "code",
   "execution_count": 12,
   "id": "a063e5c1-9a3b-4e26-a27a-19b54a6c1adf",
   "metadata": {},
   "outputs": [
    {
     "name": "stderr",
     "output_type": "stream",
     "text": [
      "  7%|████▋                                                                  | 10/150 [00:27<06:42,  2.88s/it]"
     ]
    },
    {
     "name": "stdout",
     "output_type": "stream",
     "text": [
      "Epoch 10\n",
      "Loss: -4.5385008183\n",
      "Train correlation: 94.613\n",
      "Test correlation: 61.291\n",
      "\n"
     ]
    },
    {
     "name": "stderr",
     "output_type": "stream",
     "text": [
      " 13%|█████████▍                                                             | 20/150 [00:54<06:12,  2.87s/it]"
     ]
    },
    {
     "name": "stdout",
     "output_type": "stream",
     "text": [
      "Epoch 20\n",
      "Loss: -5.3568434282\n",
      "Train correlation: 97.937\n",
      "Test correlation: 65.836\n",
      "\n"
     ]
    },
    {
     "name": "stderr",
     "output_type": "stream",
     "text": [
      " 20%|██████████████▏                                                        | 30/150 [01:23<05:57,  2.98s/it]"
     ]
    },
    {
     "name": "stdout",
     "output_type": "stream",
     "text": [
      "Epoch 30\n",
      "Loss: -5.7708309130\n",
      "Train correlation: 98.583\n",
      "Test correlation: 65.855\n",
      "\n"
     ]
    },
    {
     "name": "stderr",
     "output_type": "stream",
     "text": [
      " 27%|██████████████████▉                                                    | 40/150 [01:51<05:18,  2.89s/it]"
     ]
    },
    {
     "name": "stdout",
     "output_type": "stream",
     "text": [
      "Epoch 40\n",
      "Loss: -6.1085568775\n",
      "Train correlation: 99.092\n",
      "Test correlation: 65.988\n",
      "\n"
     ]
    },
    {
     "name": "stderr",
     "output_type": "stream",
     "text": [
      " 33%|███████████████████████▋                                               | 50/150 [02:20<04:55,  2.95s/it]"
     ]
    },
    {
     "name": "stdout",
     "output_type": "stream",
     "text": [
      "Epoch 50\n",
      "Loss: -6.2854198759\n",
      "Train correlation: 99.301\n",
      "Test correlation: 66.009\n",
      "\n"
     ]
    },
    {
     "name": "stderr",
     "output_type": "stream",
     "text": [
      " 40%|████████████████████████████▍                                          | 60/150 [02:48<04:23,  2.93s/it]"
     ]
    },
    {
     "name": "stdout",
     "output_type": "stream",
     "text": [
      "Epoch 60\n",
      "Loss: -6.6220980883\n",
      "Train correlation: 99.342\n",
      "Test correlation: 66.688\n",
      "\n"
     ]
    },
    {
     "name": "stderr",
     "output_type": "stream",
     "text": [
      " 47%|█████████████████████████████████▏                                     | 70/150 [03:16<03:53,  2.91s/it]"
     ]
    },
    {
     "name": "stdout",
     "output_type": "stream",
     "text": [
      "Epoch 70\n",
      "Loss: -6.6681992791\n",
      "Train correlation: 99.389\n",
      "Test correlation: 66.811\n",
      "\n"
     ]
    },
    {
     "name": "stderr",
     "output_type": "stream",
     "text": [
      " 53%|█████████████████████████████████████▊                                 | 80/150 [03:44<03:25,  2.94s/it]"
     ]
    },
    {
     "name": "stdout",
     "output_type": "stream",
     "text": [
      "Epoch 80\n",
      "Loss: -6.9753270149\n",
      "Train correlation: 99.450\n",
      "Test correlation: 68.007\n",
      "\n"
     ]
    },
    {
     "name": "stderr",
     "output_type": "stream",
     "text": [
      " 60%|██████████████████████████████████████████▌                            | 90/150 [04:12<02:52,  2.88s/it]"
     ]
    },
    {
     "name": "stdout",
     "output_type": "stream",
     "text": [
      "Epoch 90\n",
      "Loss: -6.9509721453\n",
      "Train correlation: 99.550\n",
      "Test correlation: 66.721\n",
      "\n"
     ]
    },
    {
     "name": "stderr",
     "output_type": "stream",
     "text": [
      " 67%|██████████████████████████████████████████████▋                       | 100/150 [04:41<02:27,  2.95s/it]"
     ]
    },
    {
     "name": "stdout",
     "output_type": "stream",
     "text": [
      "Epoch 100\n",
      "Loss: -7.1094319495\n",
      "Train correlation: 99.560\n",
      "Test correlation: 67.156\n",
      "\n"
     ]
    },
    {
     "name": "stderr",
     "output_type": "stream",
     "text": [
      " 73%|███████████████████████████████████████████████████▎                  | 110/150 [05:09<01:57,  2.95s/it]"
     ]
    },
    {
     "name": "stdout",
     "output_type": "stream",
     "text": [
      "Epoch 110\n",
      "Loss: -7.2924631726\n",
      "Train correlation: 99.687\n",
      "Test correlation: 67.121\n",
      "\n"
     ]
    },
    {
     "name": "stderr",
     "output_type": "stream",
     "text": [
      " 80%|████████████████████████████████████████████████████████              | 120/150 [05:38<01:29,  2.97s/it]"
     ]
    },
    {
     "name": "stdout",
     "output_type": "stream",
     "text": [
      "Epoch 120\n",
      "Loss: -7.1875042807\n",
      "Train correlation: 99.275\n",
      "Test correlation: 65.696\n",
      "\n"
     ]
    },
    {
     "name": "stderr",
     "output_type": "stream",
     "text": [
      " 87%|████████████████████████████████████████████████████████████▋         | 130/150 [06:07<00:59,  2.98s/it]"
     ]
    },
    {
     "name": "stdout",
     "output_type": "stream",
     "text": [
      "Epoch 130\n",
      "Loss: -7.4206045216\n",
      "Train correlation: 99.737\n",
      "Test correlation: 66.514\n",
      "\n"
     ]
    },
    {
     "name": "stderr",
     "output_type": "stream",
     "text": [
      " 93%|█████████████████████████████████████████████████████████████████▎    | 140/150 [06:36<00:29,  2.98s/it]"
     ]
    },
    {
     "name": "stdout",
     "output_type": "stream",
     "text": [
      "Epoch 140\n",
      "Loss: -7.5391922214\n",
      "Train correlation: 99.791\n",
      "Test correlation: 66.363\n",
      "\n"
     ]
    },
    {
     "name": "stderr",
     "output_type": "stream",
     "text": [
      "100%|██████████████████████████████████████████████████████████████████████| 150/150 [07:05<00:00,  2.84s/it]"
     ]
    },
    {
     "name": "stdout",
     "output_type": "stream",
     "text": [
      "Epoch 150\n",
      "Loss: -7.5373052142\n",
      "Train correlation: 99.712\n",
      "Test correlation: 66.216\n",
      "\n"
     ]
    },
    {
     "name": "stderr",
     "output_type": "stream",
     "text": [
      "\n"
     ]
    }
   ],
   "source": [
    "torch.manual_seed(seed)\n",
    "random.seed(seed)\n",
    "np.random.seed(seed)\n",
    "\n",
    "from copy import deepcopy\n",
    "cloned_encoders = [deepcopy(e).encode for e in nli_models]\n",
    "\n",
    "similarity_learner = SimilarityLearner(cloned_encoders, d_hidden=512).to('cuda:0')\n",
    "# similarity_learner = SimilarityLearner([Autoencoder(i) for i in range(24)], d_hidden=512).to('cuda:0')\n",
    "optimizer = torch.optim.Adam(similarity_learner.parameters(), lr=3e-4)\n",
    "\n",
    "def train_epoch(model, first_acts, second_acts, scores, optimizer, batch_size=128):\n",
    "    indices = torch.randperm(first_acts.shape[0])\n",
    "    shuffled_first = first_acts[indices]\n",
    "    shuffled_second = second_acts[indices]\n",
    "    shuffled_scores = scores[indices]\n",
    "\n",
    "    model.train()\n",
    "    total_loss = 0\n",
    "    n_batches = first_acts.shape[0] // batch_size\n",
    "    \n",
    "    for batch in range(n_batches):\n",
    "        start_idx = batch * batch_size\n",
    "        end_idx = (batch + 1) * batch_size\n",
    "        \n",
    "        x1_batch = shuffled_first[start_idx:end_idx].cuda()\n",
    "        x2_batch = shuffled_second[start_idx:end_idx].cuda()\n",
    "        scores_batch = shuffled_scores[start_idx:end_idx].cuda()\n",
    "        \n",
    "        optimizer.zero_grad()\n",
    "        \n",
    "        sims = model(x1_batch, x2_batch)\n",
    "\n",
    "        resids = sims - scores_batch\n",
    "        loss = torch.log((sims - scores_batch).var())\n",
    "        loss.backward()\n",
    "        optimizer.step()\n",
    "        \n",
    "        total_loss += loss.item()\n",
    "    \n",
    "    return total_loss / n_batches\n",
    "\n",
    "best_test_corr = 0\n",
    "best_model = None\n",
    "\n",
    "for epoch in tqdm(range(150)):\n",
    "    # Training\n",
    "    # loss = train_epoch(similarity_learner, first_train_fake, second_train_fake, train_scores_fake, optimizer)\n",
    "    loss = train_epoch(similarity_learner, first_train, second_train, train_scores, optimizer)\n",
    "    \n",
    "    # Evaluation\n",
    "    similarity_learner.eval()\n",
    "    with torch.no_grad():\n",
    "        # Print progress every 10 epochs\n",
    "        if (epoch + 1) % 10 == 0:\n",
    "            # Get training correlations\n",
    "            train_preds = similarity_learner(first_train.cuda(), second_train.cuda(), training=False)\n",
    "            train_corr = torch.corrcoef(torch.stack([train_preds.cpu(), train_scores]))[0,1]\n",
    "            \n",
    "            # Get test correlations\n",
    "            test_preds = similarity_learner(first_test.cuda(), second_test.cuda(), training=False)\n",
    "            test_corr = torch.corrcoef(torch.stack([test_preds.cpu(), test_scores]))[0,1]\n",
    "\n",
    "            if test_corr > best_test_corr:\n",
    "                best_test_corr = test_corr\n",
    "                best_model = deepcopy(similarity_learner)\n",
    "\n",
    "            print(f\"Epoch {epoch+1}\")\n",
    "            print(f\"Loss: {loss:.10f}\")\n",
    "            print(f\"Train correlation: {train_corr*100:.3f}\")\n",
    "            print(f\"Test correlation: {test_corr*100:.3f}\\n\")"
   ]
  },
  {
   "cell_type": "code",
   "execution_count": 13,
   "id": "f260b692-7a26-42cd-8782-8c8ab09e0f07",
   "metadata": {},
   "outputs": [
    {
     "data": {
      "text/plain": [
       "'This model has 63640577 parameters!'"
      ]
     },
     "execution_count": 13,
     "metadata": {},
     "output_type": "execute_result"
    }
   ],
   "source": [
    "param_count = sum([w.numel() for w in similarity_learner.parameters()])\n",
    "f\"This model has {param_count} parameters!\""
   ]
  },
  {
   "cell_type": "code",
   "execution_count": 14,
   "id": "9c337f15-3de8-4690-8e92-d9cb945fb705",
   "metadata": {},
   "outputs": [],
   "source": [
    "# test_preds = best_model(first_test.cuda(), second_test.cuda(), training=False)\n",
    "# test_corr = torch.corrcoef(torch.stack([test_preds.cpu(), test_scores]))[0,1]\n",
    "# print(test_corr)\n",
    "\n",
    "# from scipy.stats import spearmanr\n",
    "# print(spearmanr(test_preds.detach().cpu(), test_scores))"
   ]
  },
  {
   "cell_type": "markdown",
   "id": "c6d1e4b7-75c3-41a7-a2b9-8e6eaba415c0",
   "metadata": {},
   "source": [
    "## Residual histogram and qq plot"
   ]
  },
  {
   "cell_type": "code",
   "execution_count": null,
   "id": "981c829d-8902-4695-8889-d2d04c49e5b0",
   "metadata": {},
   "outputs": [],
   "source": [
    "# residuals = (test_preds.cpu().detach().numpy() - test_scores.numpy())\n",
    "# residuals.mean(), residuals.std()"
   ]
  },
  {
   "cell_type": "code",
   "execution_count": null,
   "id": "f8cb851f-b2ab-457e-b645-e885c5d087b5",
   "metadata": {},
   "outputs": [],
   "source": [
    "# import matplotlib.pyplot as plt\n",
    "# import scipy.stats as stats\n",
    "\n",
    "# def plot_qq(residuals):\n",
    "#    fig = plt.figure(figsize=(10, 4))\n",
    "   \n",
    "#    # Left plot: Histogram of residuals\n",
    "#    plt.subplot(121)\n",
    "#    plt.hist(residuals, bins=30, density=True, range=[-1,1])\n",
    "#    plt.title('Distribution of Residuals')\n",
    "   \n",
    "#    # Right plot: Q-Q plot\n",
    "#    plt.subplot(122)\n",
    "#    stats.probplot(residuals, dist=\"norm\", plot=plt)\n",
    "#    plt.title('Q-Q Plot')\n",
    "   \n",
    "#    plt.tight_layout()\n",
    "#    plt.show()\n",
    "\n",
    "# # Usage:\n",
    "# plot_qq(residuals)\n",
    "# print(stats.shapiro(residuals))"
   ]
  },
  {
   "cell_type": "markdown",
   "id": "5afc8976-28c4-47c0-bbe7-02fcd6e5d199",
   "metadata": {},
   "source": [
    "The Shapiro-Wilk test results (p < 0.05) lead us to reject the null hypothesis of normality, indicating evidence of departure from a normal distribution"
   ]
  },
  {
   "cell_type": "code",
   "execution_count": null,
   "id": "c4dc3e19-2b7a-460f-8bb7-38364cc2668f",
   "metadata": {},
   "outputs": [],
   "source": [
    "# worst_overdone = np.absolute(residuals).argsort()[-25:]"
   ]
  },
  {
   "cell_type": "code",
   "execution_count": null,
   "id": "ee8f9d53-e111-46ba-b3cd-d084278db832",
   "metadata": {},
   "outputs": [],
   "source": [
    "# list(zip(test_set.select(worst_overdone)['sentence1'], test_set.select(worst_overdone)['sentence2'], test_scores[worst_overdone], test_preds[worst_overdone]))"
   ]
  },
  {
   "cell_type": "code",
   "execution_count": null,
   "id": "a0460998-e8b0-43d8-9ea0-27d944f88f16",
   "metadata": {},
   "outputs": [],
   "source": [
    "# Load in sentence similarity benchmark. Form is (sentence1, sentence2, similarity score)\n",
    "ds = load_dataset(\"mteb/stsbenchmark-sts\")\n",
    "ds_test = ds['test']\n",
    "ds_train = ds['train']\n",
    "\n",
    "# Unique sentences in test set\n",
    "test_unique = set(ds_test['sentence1'] + ds_test['sentence2'])\n",
    "\n",
    "# Unique sentences in train set\n",
    "train_unique = set(ds_train['sentence1'] + ds_train['sentence2'])\n",
    "\n",
    "# % of train set containing sentences common to train and test\n",
    "len(test_unique & train_unique) / len(ds_test)"
   ]
  }
 ],
 "metadata": {
  "kernelspec": {
   "display_name": "venv",
   "language": "python",
   "name": "venv"
  },
  "language_info": {
   "codemirror_mode": {
    "name": "ipython",
    "version": 3
   },
   "file_extension": ".py",
   "mimetype": "text/x-python",
   "name": "python",
   "nbconvert_exporter": "python",
   "pygments_lexer": "ipython3",
   "version": "3.11.9"
  }
 },
 "nbformat": 4,
 "nbformat_minor": 5
}
